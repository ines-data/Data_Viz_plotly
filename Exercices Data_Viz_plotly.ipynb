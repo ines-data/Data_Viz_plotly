{
 "cells": [
  {
   "cell_type": "markdown",
   "metadata": {},
   "source": [
    "# Exercices DataViz"
   ]
  },
  {
   "cell_type": "code",
   "execution_count": 1,
   "metadata": {},
   "outputs": [
    {
     "data": {
      "text/html": [
       "        <script type=\"text/javascript\">\n",
       "        window.PlotlyConfig = {MathJaxConfig: 'local'};\n",
       "        if (window.MathJax) {MathJax.Hub.Config({SVG: {font: \"STIX-Web\"}});}\n",
       "        if (typeof require !== 'undefined') {\n",
       "        require.undef(\"plotly\");\n",
       "        requirejs.config({\n",
       "            paths: {\n",
       "                'plotly': ['https://cdn.plot.ly/plotly-latest.min']\n",
       "            }\n",
       "        });\n",
       "        require(['plotly'], function(Plotly) {\n",
       "            window._Plotly = Plotly;\n",
       "        });\n",
       "        }\n",
       "        </script>\n",
       "        "
      ]
     },
     "metadata": {},
     "output_type": "display_data"
    },
    {
     "name": "stdout",
     "output_type": "stream",
     "text": [
      "['Tutorial_plotly_DataDev_Simplon_L2 (1).ipynb', '.ipynb_checkpoints', 'graph.png', 'timesData.csv', 'Exercices Data_Viz_plotly.ipynb']\n",
      "<class 'pandas.core.frame.DataFrame'>\n",
      "RangeIndex: 2603 entries, 0 to 2602\n",
      "Data columns (total 14 columns):\n",
      " #   Column                  Non-Null Count  Dtype  \n",
      "---  ------                  --------------  -----  \n",
      " 0   world_rank              2603 non-null   object \n",
      " 1   university_name         2603 non-null   object \n",
      " 2   country                 2603 non-null   object \n",
      " 3   teaching                2603 non-null   float64\n",
      " 4   international           2603 non-null   object \n",
      " 5   research                2603 non-null   float64\n",
      " 6   citations               2603 non-null   float64\n",
      " 7   income                  2603 non-null   object \n",
      " 8   total_score             2603 non-null   object \n",
      " 9   num_students            2544 non-null   object \n",
      " 10  student_staff_ratio     2544 non-null   float64\n",
      " 11  international_students  2536 non-null   object \n",
      " 12  female_male_ratio       2370 non-null   object \n",
      " 13  year                    2603 non-null   int64  \n",
      "dtypes: float64(4), int64(1), object(9)\n",
      "memory usage: 284.8+ KB\n"
     ]
    }
   ],
   "source": [
    "import numpy as np # algèbre linéaire\n",
    "import pandas as pd # procès de données, CSV file I/O (e.g. pd.read_csv)\n",
    "\n",
    "# plotly\n",
    "# import plotly.plotly as py\n",
    "from plotly.offline import init_notebook_mode, iplot, plot\n",
    "import plotly as py\n",
    "init_notebook_mode(connected=True)\n",
    "import plotly.graph_objs as go\n",
    "\n",
    "# librairie word cloud\n",
    "from wordcloud import WordCloud\n",
    "\n",
    "# librairie matplotlib\n",
    "import matplotlib.pyplot as plt\n",
    "\n",
    "# Permet d'afficher les données disponibles dans le répertoire data\n",
    "import os\n",
    "print(os.listdir(\".\")) \n",
    "# Chargement des données qui seront utilisées.\n",
    "timeData = pd.read_csv(\"timesData.csv\")\n",
    "timeData.head(100)\n",
    "timeData.info()"
   ]
  },
  {
   "cell_type": "markdown",
   "metadata": {},
   "source": [
    "## 1- Quels sont les pays dans lesquels le score universitaire pour le transfert de connaissances se démarque ? Utiliser un ou plusieurs graphique pour justifier votre réponse."
   ]
  },
  {
   "cell_type": "code",
   "execution_count": 2,
   "metadata": {},
   "outputs": [
    {
     "name": "stdout",
     "output_type": "stream",
     "text": [
      "United States of America    659\n",
      "United Kingdom              300\n",
      "Germany                     152\n",
      "Australia                   117\n",
      "Canada                      108\n",
      "                           ... \n",
      "Ghana                         1\n",
      "Latvia                        1\n",
      "Unted Kingdom                 1\n",
      "Kenya                         1\n",
      "Luxembourg                    1\n",
      "Name: country, Length: 72, dtype: int64\n"
     ]
    }
   ],
   "source": [
    "# Show country \n",
    "print(timeData.country.value_counts())"
   ]
  },
  {
   "cell_type": "code",
   "execution_count": 3,
   "metadata": {},
   "outputs": [
    {
     "data": {
      "text/plain": [
       "United States of America    660\n",
       "United Kingdom              301\n",
       "Germany                     152\n",
       "Australia                   148\n",
       "Canada                      108\n",
       "                           ... \n",
       "Nigeria                       1\n",
       "Ghana                         1\n",
       "Latvia                        1\n",
       "Kenya                         1\n",
       "Luxembourg                    1\n",
       "Name: country, Length: 69, dtype: int64"
      ]
     },
     "execution_count": 3,
     "metadata": {},
     "output_type": "execute_result"
    }
   ],
   "source": [
    "# clean country names\n",
    "df = timeData\n",
    "df.country = df['country'].replace(['Unisted States of America', 'Unted Kingdom', 'Austria'],\n",
    "                                   ['United States of America','United Kingdom', 'Australia'])\n",
    "df.country.value_counts()"
   ]
  },
  {
   "cell_type": "code",
   "execution_count": 4,
   "metadata": {},
   "outputs": [
    {
     "data": {
      "text/plain": [
       "True"
      ]
     },
     "execution_count": 4,
     "metadata": {},
     "output_type": "execute_result"
    }
   ],
   "source": [
    "# check if there are null values\n",
    "df.isnull().values.any()"
   ]
  },
  {
   "cell_type": "code",
   "execution_count": 5,
   "metadata": {},
   "outputs": [
    {
     "data": {
      "text/plain": [
       "dtype('float64')"
      ]
     },
     "execution_count": 5,
     "metadata": {},
     "output_type": "execute_result"
    }
   ],
   "source": [
    "# change the object column type to float and change the \"-\" to \"NaN\"\n",
    "df.income = [float(each.replace('-', 'NaN')) for each in df.income]\n",
    "df.income.dtype"
   ]
  },
  {
   "cell_type": "code",
   "execution_count": 6,
   "metadata": {},
   "outputs": [
    {
     "data": {
      "text/plain": [
       "1       83.7\n",
       "2       87.5\n",
       "3       64.3\n",
       "5       57.0\n",
       "6       73.5\n",
       "        ... \n",
       "2597    83.7\n",
       "2598    35.4\n",
       "2599    44.0\n",
       "2601    40.4\n",
       "2602    39.8\n",
       "Name: income, Length: 2178, dtype: float64"
      ]
     },
     "execution_count": 6,
     "metadata": {},
     "output_type": "execute_result"
    }
   ],
   "source": [
    "# remove lines that contain \"NaN\" \n",
    "df = df.dropna()\n",
    "df.income"
   ]
  },
  {
   "cell_type": "code",
   "execution_count": 7,
   "metadata": {},
   "outputs": [
    {
     "data": {
      "text/html": [
       "<div>\n",
       "<style scoped>\n",
       "    .dataframe tbody tr th:only-of-type {\n",
       "        vertical-align: middle;\n",
       "    }\n",
       "\n",
       "    .dataframe tbody tr th {\n",
       "        vertical-align: top;\n",
       "    }\n",
       "\n",
       "    .dataframe thead th {\n",
       "        text-align: right;\n",
       "    }\n",
       "</style>\n",
       "<table border=\"1\" class=\"dataframe\">\n",
       "  <thead>\n",
       "    <tr style=\"text-align: right;\">\n",
       "      <th></th>\n",
       "      <th>income</th>\n",
       "    </tr>\n",
       "    <tr>\n",
       "      <th>country</th>\n",
       "      <th></th>\n",
       "    </tr>\n",
       "  </thead>\n",
       "  <tbody>\n",
       "    <tr>\n",
       "      <th>Argentina</th>\n",
       "      <td>28.600000</td>\n",
       "    </tr>\n",
       "    <tr>\n",
       "      <th>Australia</th>\n",
       "      <td>49.615972</td>\n",
       "    </tr>\n",
       "    <tr>\n",
       "      <th>Belarus</th>\n",
       "      <td>28.000000</td>\n",
       "    </tr>\n",
       "    <tr>\n",
       "      <th>Belgium</th>\n",
       "      <td>72.536111</td>\n",
       "    </tr>\n",
       "    <tr>\n",
       "      <th>Brazil</th>\n",
       "      <td>44.300000</td>\n",
       "    </tr>\n",
       "    <tr>\n",
       "      <th>...</th>\n",
       "      <td>...</td>\n",
       "    </tr>\n",
       "    <tr>\n",
       "      <th>Uganda</th>\n",
       "      <td>28.000000</td>\n",
       "    </tr>\n",
       "    <tr>\n",
       "      <th>Ukraine</th>\n",
       "      <td>28.400000</td>\n",
       "    </tr>\n",
       "    <tr>\n",
       "      <th>United Arab Emirates</th>\n",
       "      <td>31.700000</td>\n",
       "    </tr>\n",
       "    <tr>\n",
       "      <th>United Kingdom</th>\n",
       "      <td>37.847018</td>\n",
       "    </tr>\n",
       "    <tr>\n",
       "      <th>United States of America</th>\n",
       "      <td>47.281895</td>\n",
       "    </tr>\n",
       "  </tbody>\n",
       "</table>\n",
       "<p>66 rows × 1 columns</p>\n",
       "</div>"
      ],
      "text/plain": [
       "                             income\n",
       "country                            \n",
       "Argentina                 28.600000\n",
       "Australia                 49.615972\n",
       "Belarus                   28.000000\n",
       "Belgium                   72.536111\n",
       "Brazil                    44.300000\n",
       "...                             ...\n",
       "Uganda                    28.000000\n",
       "Ukraine                   28.400000\n",
       "United Arab Emirates      31.700000\n",
       "United Kingdom            37.847018\n",
       "United States of America  47.281895\n",
       "\n",
       "[66 rows x 1 columns]"
      ]
     },
     "execution_count": 7,
     "metadata": {},
     "output_type": "execute_result"
    }
   ],
   "source": [
    "df1 = df[['country', 'income']]\n",
    "#calculate the average (mean()) income per country\n",
    "g = df1.groupby(['country']).mean()\n",
    "g\n"
   ]
  },
  {
   "cell_type": "code",
   "execution_count": 8,
   "metadata": {},
   "outputs": [
    {
     "data": {
      "text/html": [
       "<div>\n",
       "<style scoped>\n",
       "    .dataframe tbody tr th:only-of-type {\n",
       "        vertical-align: middle;\n",
       "    }\n",
       "\n",
       "    .dataframe tbody tr th {\n",
       "        vertical-align: top;\n",
       "    }\n",
       "\n",
       "    .dataframe thead th {\n",
       "        text-align: right;\n",
       "    }\n",
       "</style>\n",
       "<table border=\"1\" class=\"dataframe\">\n",
       "  <thead>\n",
       "    <tr style=\"text-align: right;\">\n",
       "      <th></th>\n",
       "      <th>income</th>\n",
       "    </tr>\n",
       "    <tr>\n",
       "      <th>country</th>\n",
       "      <th></th>\n",
       "    </tr>\n",
       "  </thead>\n",
       "  <tbody>\n",
       "    <tr>\n",
       "      <th>South Africa</th>\n",
       "      <td>83.036842</td>\n",
       "    </tr>\n",
       "    <tr>\n",
       "      <th>Iran</th>\n",
       "      <td>74.441667</td>\n",
       "    </tr>\n",
       "    <tr>\n",
       "      <th>South Korea</th>\n",
       "      <td>72.924242</td>\n",
       "    </tr>\n",
       "    <tr>\n",
       "      <th>Belgium</th>\n",
       "      <td>72.536111</td>\n",
       "    </tr>\n",
       "    <tr>\n",
       "      <th>Netherlands</th>\n",
       "      <td>71.840278</td>\n",
       "    </tr>\n",
       "    <tr>\n",
       "      <th>...</th>\n",
       "      <td>...</td>\n",
       "    </tr>\n",
       "    <tr>\n",
       "      <th>Ukraine</th>\n",
       "      <td>28.400000</td>\n",
       "    </tr>\n",
       "    <tr>\n",
       "      <th>Latvia</th>\n",
       "      <td>28.300000</td>\n",
       "    </tr>\n",
       "    <tr>\n",
       "      <th>Kenya</th>\n",
       "      <td>28.000000</td>\n",
       "    </tr>\n",
       "    <tr>\n",
       "      <th>Uganda</th>\n",
       "      <td>28.000000</td>\n",
       "    </tr>\n",
       "    <tr>\n",
       "      <th>Belarus</th>\n",
       "      <td>28.000000</td>\n",
       "    </tr>\n",
       "  </tbody>\n",
       "</table>\n",
       "<p>66 rows × 1 columns</p>\n",
       "</div>"
      ],
      "text/plain": [
       "                 income\n",
       "country                \n",
       "South Africa  83.036842\n",
       "Iran          74.441667\n",
       "South Korea   72.924242\n",
       "Belgium       72.536111\n",
       "Netherlands   71.840278\n",
       "...                 ...\n",
       "Ukraine       28.400000\n",
       "Latvia        28.300000\n",
       "Kenya         28.000000\n",
       "Uganda        28.000000\n",
       "Belarus       28.000000\n",
       "\n",
       "[66 rows x 1 columns]"
      ]
     },
     "execution_count": 8,
     "metadata": {},
     "output_type": "execute_result"
    }
   ],
   "source": [
    "# sort the dataframe against the income column in descending order\n",
    "df1 = g.sort_values(by='income', ascending = False)\n",
    "df1"
   ]
  },
  {
   "cell_type": "code",
   "execution_count": 9,
   "metadata": {},
   "outputs": [
    {
     "data": {
      "application/vnd.plotly.v1+json": {
       "config": {
        "linkText": "Export to plot.ly",
        "plotlyServerURL": "https://plot.ly",
        "showLink": false
       },
       "data": [
        {
         "marker": {
          "color": "rgba(16, 112, 2, 0.8)"
         },
         "mode": "lines+markers",
         "name": "score",
         "text": [
          "California Institute of Technology",
          "Massachusetts Institute of Technology",
          "Stanford University",
          "University of Cambridge",
          "University of Oxford",
          "Imperial College London",
          "Johns Hopkins University",
          "Cornell University",
          "University of Michigan",
          "University of Pennsylvania",
          "Carnegie Mellon University",
          "University of Hong Kong",
          "University College London",
          "University of Washington",
          "Duke University",
          "Georgia Institute of Technology",
          "Pohang University of Science and Technology",
          "University of California, Santa Barbara",
          "University of British Columbia",
          "University of North Carolina at Chapel Hill",
          "University of California, San Diego",
          "National University of Singapore",
          "University of Melbourne",
          "University of Edinburgh",
          "École Normale Supérieure",
          "Karolinska Institute",
          "University of Göttingen",
          "Rice University",
          "École Polytechnique Fédérale de Lausanne",
          "Vanderbilt University",
          "University of California, Davis",
          "University of Massachusetts",
          "Tsinghua University",
          "Boston University",
          "LMU Munich",
          "University of Pittsburgh",
          "University of Bristol",
          "University of Sydney",
          "University of Adelaide",
          "Trinity College Dublin",
          "King’s College London",
          "Korea Advanced Institute of Science and Technology (KAIST)",
          "University of Sussex",
          "The University of Queensland",
          "Heidelberg University",
          "Durham University",
          "University of Manchester",
          "Royal Holloway, University of London",
          "University of Southampton",
          "University of Zurich",
          "University of Arizona",
          "University of Basel",
          "École Normale Supérieure de Lyon",
          "University of Helsinki",
          "University of St Andrews",
          "National Tsing Hua University",
          "Pennsylvania State University",
          "Hong Kong Baptist University",
          "Tokyo Institute of Technology",
          "Eindhoven University of Technology",
          "National Taiwan University",
          "University of California, Riverside",
          "University of Geneva",
          "KU Leuven",
          "Nanjing University",
          "Queen Mary University of London",
          "Technical University of Denmark",
          "Ghent University",
          "Lancaster University",
          "Leiden University",
          "University of Alberta",
          "University of Glasgow",
          "Stockholm University",
          "Osaka University",
          "University of Victoria",
          "Tohoku University",
          "University of Freiburg",
          "University of Bergen",
          "University of Sheffield",
          "VU University Amsterdam",
          "Pierre and Marie Curie University",
          "University of Dundee",
          "University of Barcelona",
          "Utrecht University",
          "University of Auckland",
          "University of Birmingham",
          "Alexandria University",
          "Uppsala University",
          "Hong Kong Polytechnic University",
          "University of Aberdeen",
          "Delft University of Technology",
          "Birkbeck, University of London",
          "Newcastle University",
          "University of New South Wales",
          "Pompeu Fabra University",
          "Iowa State University",
          "University of Delaware",
          "National Sun Yat-Sen University",
          "University of Amsterdam",
          "University of Liverpool",
          "Aarhus University",
          "University of Leeds",
          "University of Groningen",
          "Sun Yat-sen University",
          "Goethe University Frankfurt",
          "Nanyang Technological University",
          "University of East Anglia",
          "University of Nottingham",
          "University of Copenhagen",
          "Monash University",
          "University of Bonn",
          "National Chiao Tung University",
          "RWTH Aachen University",
          "Middle East Technical University",
          "University of Exeter",
          "University of Twente",
          "Karlsruhe Institute of Technology",
          "University of Innsbruck",
          "University of Tübingen",
          "Drexel University",
          "University of Cincinnati",
          "KTH Royal Institute of Technology",
          "University of Vienna",
          "Kent State University",
          "Zhejiang University",
          "Simon Fraser University",
          "California Institute of Technology",
          "Stanford University",
          "University of Oxford",
          "Princeton University",
          "University of Cambridge",
          "Massachusetts Institute of Technology",
          "Imperial College London",
          "University of California, Berkeley",
          "Yale University",
          "Johns Hopkins University",
          "University of Pennsylvania",
          "University College London",
          "University of Michigan",
          "Carnegie Mellon University",
          "Duke University",
          "University of British Columbia",
          "Georgia Institute of Technology",
          "University of Washington",
          "Northwestern University",
          "University of Wisconsin-Madison",
          "McGill University",
          "University of Texas at Austin",
          "Karolinska Institute",
          "University of California, San Diego",
          "University of Hong Kong",
          "University of California, Santa Barbara",
          "University of Edinburgh",
          "University of Melbourne",
          "Australian National University",
          "University of California, Davis",
          "National University of Singapore",
          "University of North Carolina at Chapel Hill",
          "New York University",
          "LMU Munich",
          "École Polytechnique Fédérale de Lausanne",
          "University of Manchester",
          "Pennsylvania State University",
          "Pohang University of Science and Technology",
          "Boston University",
          "University of Southern California",
          "King’s College London",
          "Ohio State University",
          "University of Sydney",
          "University of Pittsburgh",
          "École Normale Supérieure",
          "University of Zurich",
          "École Polytechnique",
          "University of Massachusetts",
          "McMaster University",
          "University of Bristol",
          "KU Leuven",
          "Utrecht University",
          "University of Göttingen",
          "Vanderbilt University",
          "Tsinghua University",
          "Rice University",
          "Heidelberg University",
          "The University of Queensland",
          "Emory University",
          "Wageningen University and Research Center",
          "Tufts University",
          "Leiden University",
          "University of Rochester",
          "Durham University",
          "Pierre and Marie Curie University",
          "University of St Andrews",
          "University of California, Irvine",
          "Uppsala University",
          "Technical University of Munich",
          "University of Notre Dame",
          "University of Helsinki",
          "University of Amsterdam",
          "Korea Advanced Institute of Science and Technology (KAIST)",
          "University of Maryland, College Park",
          "Michigan State University",
          "University of Arizona",
          "University of Sussex",
          "University of Alberta",
          "University of Sheffield",
          "University of Glasgow",
          "University of Cape Town",
          "Delft University of Technology",
          "University of Montreal",
          "Ghent University",
          "Royal Holloway, University of London",
          "Tokyo Institute of Technology",
          "University of California, Santa Cruz",
          "University of Basel",
          "University of Bern",
          "Stony Brook University",
          "Eindhoven University of Technology",
          "Monash University",
          "Trinity College Dublin",
          "Osaka University",
          "Tohoku University",
          "Hebrew University of Jerusalem",
          "Aarhus University",
          "Arizona State University",
          "Queen Mary University of London",
          "University of Southampton",
          "University of Geneva",
          "Lancaster University",
          "Stockholm University",
          "University of Leeds",
          "University of Groningen",
          "University of Copenhagen",
          "University of Virginia",
          "University of Vienna",
          "University of Nottingham",
          "École Normale Supérieure de Lyon",
          "University of California, Riverside",
          "Rensselaer Polytechnic Institute",
          "University of East Anglia",
          "Newcastle University",
          "William & Mary",
          "University of Birmingham",
          "Birkbeck, University of London",
          "Brandeis University",
          "Chinese University of Hong Kong",
          "Free University of Berlin",
          "University of Aberdeen",
          "National Taiwan University",
          "University of Exeter",
          "Erasmus University Rotterdam",
          "University of Warwick",
          "Radboud University Nijmegen",
          "VU University Amsterdam",
          "Wake Forest University",
          "Texas A&M University",
          "University of Reading",
          "University of Illinois at Chicago",
          "RWTH Aachen University",
          "Nanyang Technological University",
          "Université Catholique de Louvain",
          "Queen’s University",
          "University of Auckland",
          "University of New South Wales",
          "University of Dundee",
          "University of Victoria",
          "Technical University of Denmark",
          "University of São Paulo",
          "University of Delaware",
          "Goethe University Frankfurt",
          "University of Liverpool",
          "Iowa State University",
          "University of Ottawa",
          "Pompeu Fabra University",
          "KTH Royal Institute of Technology",
          "University of Tübingen",
          "University of Freiburg",
          "University of Western Australia",
          "University of Bergen",
          "City University of Hong Kong",
          "University of Konstanz",
          "Boston College",
          "Karlsruhe Institute of Technology",
          "University of Leicester",
          "University of Twente",
          "Autonomous University of Barcelona",
          "Cardiff University",
          "Colorado School of Mines",
          "Nagoya University",
          "National Tsing Hua University",
          "Northeastern University",
          "Technion Israel Institute of Technology",
          "Ulm University",
          "Umeå University",
          "University at Buffalo",
          "University of Adelaide",
          "University of Barcelona",
          "University of Cincinnati",
          "University of Essex",
          "University of Georgia",
          "University of Innsbruck",
          "University of Otago",
          "University of South Carolina",
          "University of Strasbourg",
          "University of Waterloo",
          "University of Western Ontario",
          "University of Würzburg",
          "Université Libre de Bruxelles",
          "Chalmers University of Technology",
          "Creighton University",
          "Dalhousie University",
          "Drexel University",
          "Fudan University",
          "Macquarie University",
          "National Chiao Tung University",
          "Simon Fraser University",
          "State University of New York Albany",
          "Tokyo Metropolitan University",
          "University of Bologna",
          "University of Calgary",
          "University of Milan",
          "University of Milan-Bicocca",
          "University of Missouri",
          "University of Padua",
          "University of Trieste",
          "Bangor University",
          "Bielefeld University",
          "Brunel University London",
          "Hong Kong Polytechnic University",
          "Johannes Kepler University of Linz",
          "Kyushu University",
          "Nanjing University",
          "National Sun Yat-Sen University",
          "Norwegian University of Science and Technology",
          "Queen’s University Belfast",
          "Ruhr University Bochum",
          "Stellenbosch University",
          "Tilburg University",
          "TU Dresden",
          "University of Bath",
          "University of Graz",
          "University of Kiel",
          "University of Southern Denmark",
          "University of Texas at Dallas",
          "University of the Witwatersrand",
          "University of Tsukuba",
          "University of Wollongong",
          "Victoria University of Wellington",
          "Virginia Polytechnic Institute and State University",
          "Aberystwyth University",
          "Autonomous University of Madrid",
          "Hokkaido University",
          "Hong Kong Baptist University",
          "Istanbul Technical University",
          "Lomonosov Moscow State University",
          "Middle East Technical University",
          "Montpellier University",
          "Queensland University of Technology",
          "State University of Campinas",
          "Sun Yat-sen University",
          "Technical University of Darmstadt",
          "Tokyo Medical and Dental University (TMDU)",
          "UiT The Arctic University of Norway",
          "University of Antwerp",
          "University of Crete",
          "University of Guelph",
          "University of Iceland",
          "University of Münster",
          "University of Newcastle",
          "University of Texas at San Antonio",
          "University of Trento",
          "York University",
          "Aalborg University",
          "Aalto University",
          "Alexandria University",
          "Bar-Ilan University",
          "Binghamton University, State University of New York",
          "Boğaziçi University",
          "Charles Darwin University",
          "Charles University in Prague",
          "George Mason University",
          "Indian Institute of Technology Bombay",
          "Jagiellonian University",
          "Keele University",
          "Keio University",
          "Kent State University",
          "Lehigh University",
          "Linköping University",
          "National Taiwan University of Science and Technology (Taiwan Tech)",
          "Plymouth University",
          "Polytechnic University of Milan",
          "Sapienza University of Rome",
          "Shanghai Jiao Tong University",
          "Sharif University of Technology",
          "Sungkyunkwan University (SKKU)",
          "University College Cork",
          "University of Aveiro",
          "University of Canterbury",
          "University of Eastern Finland",
          "University of Ferrara",
          "University of Hertfordshire",
          "University of Houston",
          "University of Hull",
          "University of Liège",
          "University of Manitoba",
          "University of Maryland, Baltimore County",
          "University of Modena and Reggio Emilia",
          "University of Pisa",
          "University of Porto",
          "University of Stirling",
          "University of Surrey",
          "University of Tampere",
          "University of Tasmania",
          "University of Valencia",
          "University of Waikato",
          "Vienna University of Technology",
          "Vrije Universiteit Brussel",
          "Washington State University",
          "Zhejiang University",
          "Auburn University",
          "Clemson University",
          "Curtin University",
          "Deakin University",
          "Flinders University",
          "Georgia State University",
          "Harbin Institute of Technology",
          "Heriot-Watt University",
          "Hiroshima University",
          "Kansas State University",
          "Kobe University",
          "La Trobe University",
          "Leibniz University of Hanover",
          "Liverpool John Moores University",
          "Loughborough University",
          "Mahidol University",
          "National Central University",
          "National Taiwan Ocean University",
          "National University of Ireland, Galway",
          "National University of Ireland, Maynooth",
          "New Jersey Institute of Technology",
          "New University of Lisbon",
          "Polytechnic University of Catalonia",
          "Polytechnic University of Turin",
          "Polytechnic University of Valencia",
          "Saint Petersburg State University",
          "Swansea University",
          "Swinburne University of Technology",
          "Tokyo University of Agriculture and Technology",
          "University of Bari Aldo Moro",
          "University of Coimbra",
          "University of Idaho",
          "University of Kent",
          "University of Paris North – Paris 13",
          "University of Salento",
          "University of South Australia",
          "University of Strathclyde",
          "University of Tartu",
          "University of Turku",
          "University of Zaragoza",
          "Waseda University",
          "Yuan Ze University",
          "California Institute of Technology",
          "Stanford University",
          "University of Oxford",
          "Massachusetts Institute of Technology",
          "Princeton University",
          "University of Cambridge",
          "Imperial College London",
          "University of California, Berkeley",
          "Yale University",
          "University of Pennsylvania",
          "Johns Hopkins University",
          "University College London",
          "Cornell University",
          "Northwestern University",
          "University of Michigan",
          "Carnegie Mellon University",
          "Duke University",
          "University of Washington",
          "Georgia Institute of Technology",
          "University of Texas at Austin",
          "University of Melbourne",
          "National University of Singapore",
          "University of British Columbia",
          "University of Wisconsin-Madison",
          "University of Edinburgh",
          "McGill University",
          "University of California, Santa Barbara",
          "University of Hong Kong",
          "Australian National University",
          "University of California, San Diego",
          "École Polytechnique Fédérale de Lausanne",
          "New York University",
          "Karolinska Institute",
          "University of North Carolina at Chapel Hill",
          "University of California, Davis",
          "LMU Munich",
          "University of Manchester",
          "Pohang University of Science and Technology",
          "Tsinghua University",
          "Ohio State University",
          "Boston University",
          "University of Southern California",
          "King’s College London",
          "KU Leuven",
          "École Normale Supérieure",
          "Pennsylvania State University",
          "University of Sydney",
          "École Polytechnique",
          "Leiden University",
          "The University of Queensland",
          "Utrecht University",
          "Korea Advanced Institute of Science and Technology (KAIST)",
          "University of Göttingen",
          "Wageningen University and Research Center",
          "Erasmus University Rotterdam",
          "University of Massachusetts",
          "University of Bristol",
          "Rice University",
          "University of Pittsburgh",
          "Delft University of Technology",
          "Heidelberg University",
          "Emory University",
          "Durham University",
          "Pierre and Marie Curie University",
          "University of Amsterdam",
          "University of Montreal",
          "University of New South Wales",
          "Nanyang Technological University",
          "Tufts University",
          "McMaster University",
          "University of Groningen",
          "University of Zurich",
          "Ghent University",
          "Michigan State University",
          "University of Notre Dame",
          "University of California, Irvine",
          "University of Maryland, College Park",
          "University of Arizona",
          "Monash University",
          "Rutgers, the State University of New Jersey",
          "University of Rochester",
          "Technical University of Munich",
          "Uppsala University",
          "Vanderbilt University",
          "University of St Andrews",
          "University of Helsinki",
          "Trinity College Dublin",
          "University of Sheffield",
          "University of Sussex",
          "University of Cape Town",
          "Eindhoven University of Technology",
          "Maastricht University",
          "Aarhus University",
          "Stockholm University",
          "University of Virginia",
          "Royal Holloway, University of London",
          "University of Nottingham",
          "University of Alberta",
          "Chinese University of Hong Kong",
          "Dartmouth College",
          "University of Warwick",
          "Radboud University Nijmegen",
          "Free University of Berlin",
          "Tokyo Institute of Technology",
          "University of Copenhagen",
          "University of Southampton",
          "University of Geneva",
          "National Taiwan University",
          "University of Utah",
          "Hebrew University of Jerusalem",
          "Tohoku University",
          "University of Glasgow",
          "KTH Royal Institute of Technology",
          "VU University Amsterdam",
          "University of Basel",
          "University of Leeds",
          "University of Freiburg",
          "Lancaster University",
          "Queen Mary University of London",
          "Osaka University",
          "Arizona State University",
          "Technical University of Denmark",
          "Karlsruhe Institute of Technology",
          "University of Bern",
          "University of Exeter",
          "RWTH Aachen University",
          "University of California, Riverside",
          "Texas A&M University",
          "University of Birmingham",
          "University of São Paulo",
          "University of Auckland",
          "Stony Brook University",
          "University of Vienna",
          "Université Catholique de Louvain",
          "University of Delaware",
          "University of Texas at Dallas",
          "George Washington University",
          "École Normale Supérieure de Lyon",
          "University of Liverpool",
          "University of Ottawa",
          "Rensselaer Polytechnic Institute",
          "University of Aberdeen",
          "University of Adelaide",
          "University of East Anglia",
          "University of Reading",
          "Newcastle University",
          "City University of Hong Kong",
          "Colorado School of Mines",
          "University of Illinois at Chicago",
          "William & Mary",
          "University of Twente",
          "University of Western Australia",
          "Wake Forest University",
          "University of Antwerp",
          "Iowa State University",
          "Technion Israel Institute of Technology",
          "University of Leicester",
          "University of Victoria",
          "University at Buffalo",
          "Goethe University Frankfurt",
          "Birkbeck, University of London",
          "Autonomous University of Barcelona",
          "Brandeis University",
          "Cardiff University",
          "Fudan University",
          "Lomonosov Moscow State University",
          "Middle East Technical University",
          "Nagoya University",
          "Northeastern University",
          "Pompeu Fabra University",
          "Queen’s University",
          "St George’s, University of London",
          "Sungkyunkwan University (SKKU)",
          "Tilburg University",
          "University of Barcelona",
          "University of Dundee",
          "University of Erlangen-Nuremberg",
          "University of Georgia",
          "University of Innsbruck",
          "University of Konstanz",
          "University of Strasbourg",
          "University of Tübingen",
          "Chalmers University of Technology",
          "Florida Institute of Technology",
          "Indian Institute of Technology Kharagpur",
          "Koç University",
          "Mines ParisTech",
          "National Research Nuclear University MePhI",
          "National Tsing Hua University",
          "Simon Fraser University",
          "Technical University of Darmstadt",
          "University of Bergen",
          "University of Calgary",
          "University of Cincinnati",
          "University of Missouri",
          "University of Otago",
          "University of the Witwatersrand",
          "University of Waterloo",
          "University of Western Ontario",
          "University of Würzburg",
          "Université Libre de Bruxelles",
          "Aalto University",
          "Dalhousie University",
          "Hong Kong Polytechnic University",
          "Indian Institute of Technology Bombay",
          "Macquarie University",
          "Nanjing University",
          "National Chiao Tung University",
          "Norwegian University of Science and Technology",
          "Queensland University of Technology",
          "State University of Campinas",
          "Stellenbosch University",
          "Tokyo Metropolitan University",
          "Umeå University",
          "University of Connecticut",
          "University of Essex",
          "University of Iceland",
          "University of Kiel",
          "University of Milan",
          "University of Milan-Bicocca",
          "University of Münster",
          "University of Trieste",
          "Victoria University of Wellington",
          "Vienna University of Technology",
          "Aberystwyth University",
          "Bangor University",
          "Bayreuth University",
          "Bielefeld University",
          "Boğaziçi University",
          "Drexel University",
          "Istanbul Technical University",
          "Montpellier University",
          "Oregon State University",
          "Queen’s University Belfast",
          "Ruhr University Bochum",
          "Shanghai Jiao Tong University",
          "Tokyo Medical and Dental University (TMDU)",
          "TU Dresden",
          "University of Bath",
          "University of Bologna",
          "University of Montana",
          "University of Newcastle",
          "University of South Carolina",
          "University of Southern Denmark",
          "University of Trento",
          "University of Turin",
          "Virginia Polytechnic Institute and State University",
          "Autonomous University of Madrid",
          "Brunel University London",
          "Charles University in Prague",
          "Hokkaido University",
          "Hong Kong Baptist University",
          "King Abdulaziz University",
          "Kyushu University",
          "Linköping University",
          "Medical University of Vienna",
          "Murdoch University",
          "National Cheng Kung University",
          "National Sun Yat-Sen University",
          "National University of Ireland, Galway",
          "North Carolina State University",
          "Polytechnic University of Milan",
          "Sapienza University of Rome",
          "Sharif University of Technology",
          "Sun Yat-sen University",
          "UiT The Arctic University of Norway",
          "University College Cork",
          "University of Canterbury",
          "University of Crete",
          "University of Eastern Finland",
          "University of Graz",
          "University of Guelph",
          "University of Manitoba",
          "University of Maryland, Baltimore County",
          "University of Padua",
          "University of Pavia",
          "University of Pisa",
          "University of Portsmouth",
          "University of South Australia",
          "University of Tampere",
          "University of Tsukuba",
          "University of Waikato",
          "University of Wollongong",
          "Vrije Universiteit Brussel",
          "Washington State University",
          "York University",
          "Zhejiang University",
          "Aalborg University",
          "Binghamton University, State University of New York",
          "Charles Darwin University",
          "Deakin University",
          "Flinders University",
          "George Mason University",
          "Heriot-Watt University",
          "Indian Institute of Technology Roorkee",
          "Jagiellonian University",
          "Keele University",
          "Keio University",
          "King Mongkut’s University of Technology Thonburi",
          "Lehigh University",
          "Leibniz University of Hanover",
          "Loughborough University",
          "Massey University",
          "National Autonomous University of Mexico",
          "National Central University",
          "National Taiwan University of Science and Technology (Taiwan Tech)",
          "National University of Ireland, Maynooth",
          "Paris Dauphine University",
          "Polytechnic University of Valencia",
          "University of Aveiro",
          "University of Duisburg-Essen",
          "University of Ferrara",
          "University of Hertfordshire",
          "University of Houston",
          "University of Jyväskylä",
          "University of KwaZulu-Natal",
          "University of Liège",
          "University of Minho",
          "University of Modena and Reggio Emilia",
          "University of Porto",
          "University of Salento",
          "University of Stirling",
          "University of Strathclyde",
          "University of Surrey",
          "University of Tartu",
          "University of Tasmania",
          "University of Technology Sydney",
          "University of Texas at San Antonio",
          "University of the Andes, Colombia",
          "University of Valencia",
          "University of Vigo",
          "University of Warsaw",
          "Waseda University",
          "California Institute of Technology",
          "University of Oxford",
          "Stanford University",
          "Massachusetts Institute of Technology",
          "Princeton University",
          "University of Cambridge",
          "University of California, Berkeley",
          "Imperial College London",
          "Yale University",
          "ETH Zurich – Swiss Federal Institute of Technology Zurich",
          "Johns Hopkins University",
          "University of Pennsylvania",
          "Duke University",
          "University of Michigan",
          "Cornell University",
          "University College London",
          "Northwestern University",
          "Carnegie Mellon University",
          "University of Washington",
          "National University of Singapore",
          "University of Texas at Austin",
          "Georgia Institute of Technology",
          "University of Wisconsin-Madison",
          "University of British Columbia",
          "University of California, Santa Barbara",
          "University of Melbourne",
          "McGill University",
          "Karolinska Institute",
          "École Polytechnique Fédérale de Lausanne",
          "King’s College London",
          "University of Edinburgh",
          "New York University",
          "University of California, San Diego",
          "University of Hong Kong",
          "University of North Carolina at Chapel Hill",
          "Australian National University",
          "Pennsylvania State University",
          "Boston University",
          "Tsinghua University",
          "University of California, Davis",
          "LMU Munich",
          "Korea Advanced Institute of Science and Technology (KAIST)",
          "University of Manchester",
          "Ohio State University",
          "Pohang University of Science and Technology",
          "KU Leuven",
          "The University of Queensland",
          "University of Göttingen",
          "Rice University",
          "École Normale Supérieure",
          "Leiden University",
          "Heidelberg University",
          "Delft University of Technology",
          "University of Southern California",
          "École Polytechnique",
          "University of Sydney",
          "Erasmus University Rotterdam",
          "University of Basel",
          "Utrecht University",
          "Nanyang Technological University",
          "Wageningen University and Research Center",
          "University of Pittsburgh",
          "University of Bristol",
          "Durham University",
          "Emory University",
          "Tufts University",
          "Michigan State University",
          "University of Amsterdam",
          "Ghent University",
          "Free University of Berlin",
          "Technical University of Munich",
          "Vanderbilt University",
          "University of Notre Dame",
          "Monash University",
          "McMaster University",
          "University of California, Irvine",
          "University of Rochester",
          "Pierre and Marie Curie University",
          "Maastricht University",
          "University of Groningen",
          "University of Helsinki",
          "Royal Holloway, University of London",
          "Rutgers, the State University of New Jersey",
          "Stockholm University",
          "University of Arizona",
          "Eindhoven University of Technology",
          "University of Montreal",
          "University of Maryland, College Park",
          "Chinese University of Hong Kong",
          "University of Alberta",
          "Uppsala University",
          "University of Sheffield",
          "University of Virginia",
          "Queen Mary University of London",
          "University of New South Wales",
          "KTH Royal Institute of Technology",
          "Technical University of Denmark",
          "University of Glasgow",
          "University of St Andrews",
          "University of Sussex",
          "University of Zurich",
          "University of Geneva",
          "Tokyo Institute of Technology",
          "Dartmouth College",
          "University of Cape Town",
          "RWTH Aachen University",
          "Trinity College Dublin",
          "Radboud University Nijmegen",
          "University of Massachusetts",
          "Boston College",
          "Lancaster University",
          "Aarhus University",
          "Colorado School of Mines",
          "University of Leeds",
          "University of Warwick",
          "National Taiwan University",
          "University of Utah",
          "Osaka University",
          "VU University Amsterdam",
          "Arizona State University",
          "University of Southampton",
          "University of California, Riverside",
          "University of Exeter",
          "Tohoku University",
          "University of Copenhagen",
          "University of Freiburg",
          "University of Birmingham",
          "Karlsruhe Institute of Technology",
          "École Normale Supérieure de Lyon",
          "University of Bern",
          "University of Nottingham",
          "Texas A&M University",
          "Georgetown University",
          "University of Leicester",
          "Brandeis University",
          "Pompeu Fabra University",
          "University of Antwerp",
          "University of Auckland",
          "University of Western Australia",
          "University of Liverpool",
          "University of Twente",
          "University of Vienna",
          "Université Catholique de Louvain",
          "University of Delaware",
          "University of East Anglia",
          "University at Buffalo",
          "Paris Diderot University – Paris 7",
          "Stony Brook University",
          "Wake Forest University",
          "Rensselaer Polytechnic Institute",
          "Iowa State University",
          "Northeastern University",
          "University of Ottawa",
          "University of Aberdeen",
          "University of Texas at Dallas",
          "Hebrew University of Jerusalem",
          "University of Illinois at Chicago",
          "Mines ParisTech",
          "George Washington University",
          "University of Reading",
          "University of Dundee",
          "Florida Institute of Technology",
          "Newcastle University",
          "Boğaziçi University",
          "Birkbeck, University of London",
          "Cardiff University",
          "City University of Hong Kong",
          "Fudan University",
          "Goethe University Frankfurt",
          "Istanbul Technical University",
          "Middle East Technical University",
          "Nagoya University",
          "St George’s, University of London",
          "Sungkyunkwan University (SKKU)",
          "Technion Israel Institute of Technology",
          "Tokyo Metropolitan University",
          "Ulm University",
          "University of Adelaide",
          "University of Bergen",
          "University of Calgary",
          "University of Innsbruck",
          "University of Strasbourg",
          "University of Trento",
          "University of Tübingen",
          "University of Victoria",
          "William & Mary",
          "Autonomous University of Barcelona",
          "Lomonosov Moscow State University",
          "Panjab University",
          "Queen’s University",
          "Simon Fraser University",
          "Technical University of Darmstadt",
          "Tilburg University",
          "University of Barcelona",
          "University of Cincinnati",
          "University of Erlangen-Nuremberg",
          "University of Kiel",
          "University of Konstanz",
          "University of Milan-Bicocca",
          "University of Münster",
          "University of Otago",
          "University of São Paulo",
          "University of the Witwatersrand",
          "University of Trieste",
          "University of Turin",
          "University of Waterloo",
          "University of Western Ontario",
          "University of Würzburg",
          "Vienna University of Technology",
          "Brunel University London",
          "Dalhousie University",
          "Hong Kong Polytechnic University",
          "Medical University of Vienna",
          "Montpellier University",
          "Nanjing University",
          "National Chiao Tung University",
          "National Tsing Hua University",
          "Norwegian University of Science and Technology",
          "Queen’s University Belfast",
          "Sharif University of Technology",
          "TU Dresden",
          "University of Essex",
          "University of Iceland",
          "University of Nebraska-Lincoln",
          "University of Newcastle",
          "University of Pavia",
          "University of South Carolina",
          "University of the Andes, Colombia",
          "Vrije Universiteit Brussel",
          "Chalmers University of Technology",
          "Colorado State University",
          "Koç University",
          "Macquarie University",
          "Plymouth University",
          "Polytechnic University of Milan",
          "Queensland University of Technology",
          "Tokyo Medical and Dental University (TMDU)",
          "University College Cork",
          "University of Alaska Fairbanks",
          "University of Bath",
          "University of Bologna",
          "University of Fribourg",
          "University of Georgia",
          "University of Milan",
          "University of Montana",
          "University of Southern Denmark",
          "University of Wollongong",
          "Victoria University of Wellington",
          "Virginia Polytechnic Institute and State University",
          "York University",
          "Aalborg University",
          "Aalto University",
          "Aberystwyth University",
          "Autonomous University of Madrid",
          "Bangor University",
          "Bielefeld University",
          "Claude Bernard University Lyon 1",
          "Deakin University",
          "Drexel University",
          "Heriot-Watt University",
          "Hokkaido University",
          "Hong Kong Baptist University",
          "Kansas State University",
          "Keele University",
          "King Mongkut’s University of Technology Thonburi",
          "Kyushu University",
          "Lehigh University",
          "Murdoch University",
          "National Cheng Kung University",
          "National Sun Yat-Sen University",
          "National University of Ireland, Galway",
          "Oregon State University",
          "Sapienza University of Rome",
          "Shanghai Jiao Tong University",
          "State University of Campinas",
          "Stellenbosch University",
          "Umeå University",
          "University of Canterbury",
          "University of Connecticut",
          "University of Crete",
          "University of Eastern Finland",
          "University of Hertfordshire",
          "University of Houston",
          "University of Liège",
          "University of Manitoba",
          "University of Missouri",
          "University of Padua",
          "University of Pisa",
          "University of Salento",
          "University of South Australia",
          "University of Tampere",
          "University of Technology Sydney",
          "University of Tsukuba",
          "University of Waikato",
          "University of Warsaw",
          "Washington State University",
          "Wuhan University of Technology",
          "Zhejiang University",
          "Charles Darwin University",
          "Charles University in Prague",
          "China Medical University, Taiwan",
          "George Mason University",
          "Indian Institute of Technology Kanpur",
          "Indian Institute of Technology Roorkee",
          "Johannes Kepler University of Linz",
          "King Abdulaziz University",
          "Leibniz University of Hanover",
          "Liverpool John Moores University",
          "Loughborough University",
          "National Central University",
          "National Taiwan University of Science and Technology (Taiwan Tech)",
          "National University of Ireland, Maynooth",
          "Polytechnic University of Valencia",
          "Ruhr University Bochum",
          "San Diego State University",
          "Sun Yat-sen University",
          "Swinburne University of Technology",
          "UiT The Arctic University of Norway",
          "University of Bari Aldo Moro",
          "University of Duisburg-Essen",
          "University of Ferrara",
          "University of Florence",
          "University of Graz",
          "University of Guelph",
          "University of Maryland, Baltimore County",
          "University of Minho",
          "University of Navarra",
          "University of Porto",
          "University of Portsmouth",
          "University of Rovira i Virgili",
          "University of Stirling",
          "University of Surrey",
          "University of Tartu",
          "University of Tasmania",
          "University of Valencia",
          "University of Vigo",
          "California Institute of Technology",
          "University of Oxford",
          "Stanford University",
          "University of Cambridge",
          "Massachusetts Institute of Technology",
          "Princeton University",
          "University of California, Berkeley",
          "Imperial College London",
          "Yale University",
          "University of Chicago",
          "ETH Zurich – Swiss Federal Institute of Technology Zurich",
          "Johns Hopkins University",
          "University of Pennsylvania",
          "University of Michigan",
          "Duke University",
          "Cornell University",
          "Northwestern University",
          "University College London",
          "Carnegie Mellon University",
          "National University of Singapore",
          "University of Washington",
          "Georgia Institute of Technology",
          "University of Texas at Austin",
          "LMU Munich",
          "University of Illinois at Urbana-Champaign",
          "University of Wisconsin-Madison",
          "University of British Columbia",
          "University of Melbourne",
          "École Polytechnique Fédérale de Lausanne",
          "University of Edinburgh",
          "University of California, Santa Barbara",
          "New York University",
          "McGill University",
          "King’s College London",
          "University of California, San Diego",
          "University of Hong Kong",
          "Karolinska Institute",
          "Australian National University",
          "University of North Carolina at Chapel Hill",
          "Tsinghua University",
          "Korea Advanced Institute of Science and Technology (KAIST)",
          "University of Manchester",
          "KU Leuven",
          "University of California, Davis",
          "Boston University",
          "Pennsylvania State University",
          "University of Sydney",
          "Nanyang Technological University",
          "École Polytechnique",
          "Scuola Normale Superiore di Pisa",
          "Leiden University",
          "The University of Queensland",
          "Pohang University of Science and Technology",
          "University of Göttingen",
          "Ohio State University",
          "Rice University",
          "Heidelberg University",
          "Delft University of Technology",
          "Erasmus University Rotterdam",
          "Wageningen University and Research Center",
          "University of Bristol",
          "University of Basel",
          "University of Southern California",
          "University of Amsterdam",
          "École Normale Supérieure",
          "Utrecht University",
          "Free University of Berlin",
          "Michigan State University",
          "Durham University",
          "Monash University",
          "Middle East Technical University",
          "University of Arizona",
          "Tufts University",
          "University of California, Irvine",
          "Ghent University",
          "University of Massachusetts",
          "University of Pittsburgh",
          "Emory University",
          "McMaster University",
          "University of Glasgow",
          "Vanderbilt University",
          "Stockholm University",
          "Technical University of Munich",
          "Uppsala University",
          "Maastricht University",
          "Pierre and Marie Curie University",
          "University of Helsinki",
          "University of Warwick",
          "University of Zurich",
          "Queen Mary University of London",
          "University of Geneva",
          "University of California, Santa Cruz",
          "University of New South Wales",
          "University of St Andrews",
          "University of Sussex",
          "University of Montreal",
          "University of Tübingen",
          "University of Groningen",
          "Royal Holloway, University of London",
          "Technical University of Denmark",
          "University of Rochester",
          "University of Sheffield",
          "University of Alberta",
          "University of Cape Town",
          "Boston College",
          "KTH Royal Institute of Technology",
          "Chinese University of Hong Kong",
          "University of Virginia",
          "Lancaster University",
          "University of Bern",
          "University of Maryland, College Park",
          "University of Southampton",
          "TU Dresden",
          "VU University Amsterdam",
          "Trinity College Dublin",
          "Boğaziçi University",
          "Radboud University Nijmegen",
          "Colorado School of Mines",
          "Texas A&M University",
          "Tokyo Institute of Technology",
          "Eindhoven University of Technology",
          "Rutgers, the State University of New Jersey",
          "University of Leeds",
          "Brandeis University",
          "Sungkyunkwan University (SKKU)",
          "University of Birmingham",
          "University of California, Riverside",
          "Dartmouth College",
          "Aarhus University",
          "University of Exeter",
          "National Taiwan University",
          "RWTH Aachen University",
          "Osaka University",
          "University of Liverpool",
          "University of Western Australia",
          "University of Copenhagen",
          "École Normale Supérieure de Lyon",
          "University of Utah",
          "University of Freiburg",
          "University of Adelaide",
          "Istanbul Technical University",
          "Karlsruhe Institute of Technology",
          "Pompeu Fabra University",
          "Tohoku University",
          "University of Antwerp",
          "University of Nottingham",
          "Université Catholique de Louvain",
          "Georgetown University",
          "University of Victoria",
          "University of Auckland",
          "University of Iowa",
          "Syracuse University",
          "University of Aberdeen",
          "Paris Diderot University – Paris 7",
          "University of Delaware",
          "Arizona State University",
          "Sabancı University",
          "University of Vienna",
          "Northeastern University",
          "Stony Brook University",
          "University of Ottawa",
          "University at Buffalo",
          "City University of Hong Kong",
          "Fudan University",
          "Iowa State University",
          "Lomonosov Moscow State University",
          "St George’s, University of London",
          "University of East Anglia",
          "University of Leicester",
          "Florida Institute of Technology",
          "George Washington University",
          "Cardiff University",
          "Goethe University Frankfurt",
          "Hebrew University of Jerusalem",
          "Hong Kong Polytechnic University",
          "Newcastle University",
          "Technion Israel Institute of Technology",
          "Ulm University",
          "University of Barcelona",
          "University of Bergen",
          "University of Dundee",
          "University of Illinois at Chicago",
          "University of Innsbruck",
          "University of Reading",
          "University of Strasbourg",
          "University of São Paulo",
          "University of Texas at Dallas",
          "University of Trieste",
          "University of Twente",
          "Université Libre de Bruxelles",
          "Wake Forest University",
          "William & Mary",
          "Autonomous University of Barcelona",
          "Birkbeck, University of London",
          "Brunel University London",
          "Carleton University",
          "Dalhousie University",
          "Mines ParisTech",
          "Nagoya University",
          "Rensselaer Polytechnic Institute",
          "Simon Fraser University",
          "Tokyo Metropolitan University",
          "University of Calgary",
          "University of Kiel",
          "University of Konstanz",
          "University of Milan-Bicocca",
          "University of Technology Sydney",
          "University of Western Ontario",
          "University of Würzburg",
          "Vienna University of Technology",
          "York University",
          "Aalto University",
          "Federico Santa María Technical University",
          "Medical University of Vienna",
          "Nanjing University",
          "National Tsing Hua University",
          "National University of Ireland, Galway",
          "Queen’s University",
          "Queen’s University Belfast",
          "Technical University of Darmstadt",
          "University of Bremen",
          "University of Iceland",
          "University of Münster",
          "University of Newcastle",
          "University of Otago",
          "University of Pavia",
          "University of Salento",
          "University of the Andes, Colombia",
          "University of the Witwatersrand",
          "University of Trento",
          "University of Turin",
          "University of Waterloo",
          "Chalmers University of Technology",
          "Colorado State University",
          "Indian Institute of Science",
          "Lappeenranta University of Technology",
          "Montpellier University",
          "National Chiao Tung University",
          "Norwegian University of Science and Technology",
          "Panjab University",
          "Plymouth University",
          "Queensland University of Technology",
          "Shanghai Jiao Tong University",
          "Stellenbosch University",
          "Tilburg University",
          "Tokyo Medical and Dental University (TMDU)",
          "University College Cork",
          "University of Bologna",
          "University of Cincinnati",
          "University of Erlangen-Nuremberg",
          "University of Fribourg",
          "University of Georgia",
          "University of Macau",
          "University of Milan",
          "University of Nebraska-Lincoln",
          "University of South Australia",
          "University of South Carolina",
          "University of Wollongong",
          "Victoria University of Wellington",
          "Virginia Polytechnic Institute and State University",
          "Autonomous University of Madrid",
          "Bangor University",
          "Charles Darwin University",
          "Charles University in Prague",
          "Creighton University",
          "Deakin University",
          "Drexel University",
          "Hong Kong Baptist University",
          "Kansas State University",
          "Koç University",
          "Macquarie University",
          "Novosibirsk State University",
          "Oregon State University",
          "Polytechnic University of Milan",
          "San Diego State University",
          "Sapienza University of Rome",
          "Sharif University of Technology",
          "State University of Campinas",
          "Sun Yat-sen University",
          "University of Bath",
          "University of Canterbury",
          "University of Cologne",
          "University of Connecticut",
          "University of Crete",
          "University of Duisburg-Essen",
          "University of Essex",
          "University of Houston",
          "University of Manitoba",
          "University of Marrakech Cadi Ayyad",
          "University of Montana",
          "University of Nebraska Medical Center",
          "University of Padua",
          "University of Pisa",
          "University of Southern Denmark",
          "University of Stirling",
          "University of Stuttgart",
          "University of Tampere",
          "University of Tsukuba",
          "University of Valencia",
          "University of Warsaw",
          "Zhejiang University",
          "Aalborg University",
          "Aberystwyth University",
          "Bayreuth University",
          "Bielefeld University",
          "Claude Bernard University Lyon 1",
          "Curtin University",
          "Ewha Womans University",
          "George Mason University",
          "Hokkaido University",
          "Indian Institute of Technology Bombay",
          "Indian Institute of Technology Roorkee",
          "Isfahan University of Technology",
          "King Mongkut’s University of Technology Thonburi",
          "Kyushu University",
          "Lehigh University",
          "Murdoch University",
          "National Cheng Kung University",
          "National Sun Yat-Sen University",
          "National Taiwan University of Science and Technology (Taiwan Tech)",
          "Royal College of Surgeons in Ireland",
          "Ruhr University Bochum",
          "Swinburne University of Technology",
          "UiT The Arctic University of Norway",
          "Umeå University",
          "University of Bari Aldo Moro",
          "University of Eastern Finland",
          "University of Ferrara",
          "University of Florence",
          "University of Graz",
          "University of Hertfordshire",
          "University of Lisbon",
          "University of Liège",
          "University of Minho",
          "University of Missouri",
          "University of Navarra",
          "University of Portsmouth",
          "University of Rome III",
          "University of Seoul",
          "University of Turku",
          "University of Waikato",
          "Vrije Universiteit Brussel",
          "Waseda University",
          "Washington State University",
          "Western Sydney University",
          "Wuhan University of Technology",
          "California Institute of Technology",
          "University of Oxford",
          "Stanford University",
          "University of Cambridge",
          "Massachusetts Institute of Technology",
          "Princeton University",
          "Imperial College London",
          "ETH Zurich – Swiss Federal Institute of Technology Zurich",
          "University of Chicago",
          "Johns Hopkins University",
          "Yale University",
          "University of California, Berkeley",
          "University College London",
          "University of California, Los Angeles",
          "University of Pennsylvania",
          "Cornell University",
          "Duke University",
          "University of Michigan",
          "Carnegie Mellon University",
          "University of Edinburgh",
          "Northwestern University",
          "National University of Singapore",
          "King’s College London",
          "Karolinska Institute",
          "LMU Munich",
          "New York University",
          "École Polytechnique Fédérale de Lausanne",
          "University of Washington",
          "University of Melbourne",
          "University of British Columbia",
          "KU Leuven",
          "University of Illinois at Urbana-Champaign",
          "Heidelberg University",
          "McGill University",
          "University of California, San Diego",
          "University of California, Santa Barbara",
          "Georgia Institute of Technology",
          "University of California, Davis",
          "University of Hong Kong",
          "University of Texas at Austin",
          "Tsinghua University",
          "Wageningen University and Research Center",
          "University of Wisconsin-Madison",
          "Australian National University",
          "Technical University of Munich",
          "École Normale Supérieure",
          "Nanyang Technological University",
          "University of Manchester",
          "University of Sydney",
          "University of Amsterdam",
          "The University of Queensland",
          "Utrecht University",
          "University of North Carolina at Chapel Hill",
          "Boston University",
          "Delft University of Technology",
          "University of Minnesota",
          "Leiden University",
          "University of Southern California",
          "University of Bristol",
          "Durham University",
          "Erasmus University Rotterdam",
          "Free University of Berlin",
          "Monash University",
          "University of Groningen",
          "Pennsylvania State University",
          "University of Glasgow",
          "University of Helsinki",
          "University of Tübingen",
          "University of Pittsburgh",
          "University of Warwick",
          "Uppsala University",
          "University of Copenhagen",
          "University of New South Wales",
          "University of Freiburg",
          "University of St Andrews",
          "Vanderbilt University",
          "Maastricht University",
          "Emory University",
          "Ohio State University",
          "University of Exeter",
          "Georgetown University",
          "McMaster University",
          "University of Sheffield",
          "Queen Mary University of London",
          "University of Göttingen",
          "Michigan State University",
          "University of Basel",
          "École Polytechnique",
          "Rice University",
          "Dartmouth College",
          "University of Zurich",
          "Aarhus University",
          "University of California, Irvine",
          "University of Mannheim",
          "University of Notre Dame",
          "University of Western Australia",
          "RWTH Aachen University",
          "University of Southampton",
          "Scuola Normale Superiore di Pisa",
          "University of Montreal",
          "Pierre and Marie Curie University",
          "Pohang University of Science and Technology",
          "University of Maryland, College Park",
          "Ghent University",
          "University of Birmingham",
          "University of Bern",
          "University of Cape Town",
          "University of Erlangen-Nuremberg",
          "Rutgers, the State University of New Jersey",
          "University of Münster",
          "Radboud University Nijmegen",
          "University of Colorado Boulder",
          "Tufts University",
          "Royal Holloway, University of London",
          "Lancaster University",
          "University of Geneva",
          "Case Western Reserve University",
          "University of Leeds",
          "Stockholm University",
          "University of Alberta",
          "Chinese University of Hong Kong",
          "Karlsruhe Institute of Technology",
          "University of Sussex",
          "University of Massachusetts",
          "University of Vienna",
          "University of Nottingham",
          "University of California, Santa Cruz",
          "Autonomous University of Barcelona",
          "University of Virginia",
          "Korea Advanced Institute of Science and Technology (KAIST)",
          "University of Adelaide",
          "University of East Anglia",
          "University of Twente",
          "Sungkyunkwan University (SKKU)",
          "VU University Amsterdam",
          "KTH Royal Institute of Technology",
          "University of Cologne",
          "University of Liverpool",
          "TU Dresden",
          "University of Rochester",
          "Trinity College Dublin",
          "Lomonosov Moscow State University",
          "University of Miami",
          "University of Arizona",
          "Pompeu Fabra University",
          "University of Reading",
          "University of California, Riverside",
          "University of Leicester",
          "National Taiwan University",
          "Technical University of Denmark",
          "Université Catholique de Louvain",
          "University of Aberdeen",
          "University of Auckland",
          "University of Barcelona",
          "University of Konstanz",
          "Eindhoven University of Technology",
          "Hebrew University of Jerusalem",
          "University of Waterloo",
          "Scuola Superiore Sant’Anna",
          "University of Bergen",
          "Cardiff University",
          "University of Utah",
          "Brandeis University",
          "University of Dundee",
          "University of Würzburg",
          "Arizona State University",
          "University of Antwerp",
          "Boston College",
          "Ulm University",
          "University of Luxembourg",
          "Texas A&M University",
          "Charité - Universitätsmedizin Berlin",
          "Newcastle University",
          "St George’s, University of London",
          "University of Trento",
          "Paris Diderot University – Paris 7",
          "Queen’s University Belfast",
          "Aalborg University",
          "Birkbeck, University of London",
          "University of Bologna",
          "University at Buffalo",
          "University of Calgary",
          "Chalmers University of Technology",
          "City University of Hong Kong",
          "Copenhagen Business School",
          "Dalhousie University",
          "University of Duisburg-Essen",
          "École Normale Supérieure de Lyon",
          "Florida State University",
          "University of Fribourg",
          "Fudan University",
          "George Washington University",
          "Goethe University Frankfurt",
          "Hong Kong Polytechnic University",
          "University of Illinois at Chicago",
          "University of Iowa",
          "Johannes Gutenberg University of Mainz",
          "Medical University of Vienna",
          "Northeastern University",
          "Oregon Health and Science University",
          "University of Otago",
          "University of Ottawa",
          "Paris Descartes University",
          "Peter the Great St Petersburg Polytechnic University",
          "Polytechnic University of Milan",
          "Royal Veterinary College",
          "Rush University",
          "Sapienza University of Rome",
          "Stony Brook University",
          "University of Stuttgart",
          "Technical University of Darmstadt",
          "University of Technology Sydney",
          "University of Texas at Dallas",
          "Tilburg University",
          "Tohoku University",
          "Tokyo Institute of Technology",
          "University of Victoria",
          "Wake Forest University",
          "University of Western Ontario",
          "William & Mary",
          "University of the Witwatersrand",
          "Aalto University",
          "Aix-Marseille University",
          "University of Bath",
          "Bayreuth University",
          "Bielefeld University",
          "University of Bordeaux",
          "Charles Darwin University",
          "Colorado School of Mines",
          "Colorado State University",
          "University of Delaware",
          "Flinders University",
          "University of Georgia",
          "University of Iceland",
          "Indian Institute of Science",
          "Iowa State University",
          "James Cook University",
          "Justus Liebig University Giessen",
          "King Abdulaziz University",
          "Koç University",
          "University of Liège",
          "Linköping University",
          "Nanjing University",
          "National Tsing Hua University",
          "National University of Ireland, Galway",
          "University of Newcastle",
          "North Carolina State University",
          "Oregon State University",
          "Osaka University",
          "Queen’s University",
          "Queensland University of Technology",
          "Rensselaer Polytechnic Institute",
          "Royal College of Surgeons in Ireland",
          "Ruhr University Bochum",
          "Saint Louis University",
          "University of São Paulo",
          "Simon Fraser University",
          "University of Surrey",
          "Syracuse University",
          "University of Tasmania",
          "Tomsk Polytechnic University",
          "Tulane University",
          "Umeå University",
          "Vienna University of Technology",
          "Virginia Polytechnic Institute and State University",
          "University of Wollongong",
          "Zhejiang University",
          "Aberystwyth University",
          "University of Alaska Fairbanks",
          "Autonomous University of Madrid",
          "Bangor University",
          "University of Bremen",
          "University of Cincinnati",
          "University of Connecticut",
          "Deakin University",
          "University of Essex",
          "George Mason University",
          "University of Greifswald",
          "Gwangju Institute of Science and Technology",
          "University of Hohenheim",
          "University of Innsbruck",
          "Kazan Federal University",
          "University of Kent",
          "Leibniz University of Hanover",
          "Macquarie University",
          "Medical College of Wisconsin",
          "University of Milan",
          "University of Milan-Bicocca",
          "Montpellier University",
          "Nagoya University",
          "National Chiao Tung University",
          "National Research Nuclear University MePhI",
          "National Taiwan University of Science and Technology (Taiwan Tech)",
          "University of Navarra",
          "University of Nebraska-Lincoln",
          "Örebro University",
          "University of Oregon",
          "University of Padua",
          "University of Pavia",
          "Plymouth University",
          "Shanghai Jiao Tong University",
          "University of Southern Denmark",
          "Stellenbosch University",
          "University of Strasbourg",
          "Technical University of Dortmund",
          "Technion Israel Institute of Technology",
          "Toulouse 1 Capitole University",
          "University of Trieste",
          "University of Turin",
          "University of Turku",
          "Vrije Universiteit Brussel",
          "VŠB - Technical University of Ostrava",
          "York University",
          "Binghamton University, State University of New York",
          "University of Crete",
          "University of Cyprus",
          "Drexel University",
          "University of Eastern Finland",
          "University of Florence",
          "University of St Gallen",
          "Graz University of Technology",
          "University of Guelph",
          "Hong Kong Baptist University",
          "University of Houston",
          "Indian Institute of Technology Bombay",
          "Instituto Superior Técnico Lisboa",
          "University of Jyväskylä",
          "La Trobe University",
          "Loughborough University",
          "University of Manitoba",
          "University of Missouri",
          "University of Modena and Reggio Emilia",
          "University of Montana",
          "National University of Ireland, Maynooth",
          "University of Nebraska Medical Center",
          "Norwegian University of Science and Technology",
          "University of Oulu",
          "Panthéon-Sorbonne University – Paris 1",
          "Polytechnic University of Turin",
          "University of Rome III",
          "Sabancı University",
          "San Diego State University",
          "University of South Australia",
          "University of South Carolina",
          "University of South Dakota",
          "State University of Campinas",
          "University of Stirling",
          "Sun Yat-sen University",
          "Swansea University",
          "Swinburne University of Technology",
          "University of Tartu",
          "Temple University",
          "University of Texas at San Antonio",
          "UiT The Arctic University of Norway",
          "Université Libre de Bruxelles",
          "Lille 2 University – Health and Law",
          "University College Cork",
          "Verona University",
          "Victoria University of Wellington",
          "Washington State University",
          "Wayne State University",
          "American University",
          "University of Aveiro",
          "University of Bari Aldo Moro",
          "Bar-Ilan University",
          "Bournemouth University",
          "University of Brescia",
          "Brno University of Technology",
          "Brunel University London",
          "Ca’ Foscari University of Venice",
          "University of Cagliari",
          "University of Canterbury",
          "Charles University in Prague",
          "China Medical University, Taiwan",
          "City University London",
          "Claude Bernard University Lyon 1",
          "University of Coimbra",
          "Complutense University of Madrid",
          "Concordia University",
          "Curtin University",
          "Dublin City University",
          "Ewha Womans University",
          "Federico Santa María Technical University",
          "University of Ferrara",
          "Florida International University",
          "University of Genoa",
          "Georgia State University",
          "University of Graz",
          "Heriot-Watt University",
          "Hokkaido University",
          "University of Hull",
          "University of Idaho",
          "Indian Institute of Technology Delhi",
          "Indian Institute of Technology Kharagpur",
          "Indian Institute of Technology Madras",
          "University of Ioannina",
          "Iran University of Science and Technology",
          "Johannes Kepler University of Linz",
          "University of Kaiserslautern",
          "Keele University",
          "University of KwaZulu-Natal",
          "Kyushu University",
          "Lehigh University",
          "University of Macau",
          "Makerere University",
          "Marche Polytechnic University",
          "University of Maryland, Baltimore County",
          "Murdoch University",
          "National Autonomous University of Mexico",
          "National Cheng Kung University",
          "National Institute of Applied Sciences of Lyon (INSA Lyon)",
          "National Yang-Ming University",
          "New University of Lisbon",
          "University of Nice Sophia Antipolis",
          "Novosibirsk State University",
          "The Open University",
          "Oxford Brookes University",
          "University of Palermo",
          "University of Parma",
          "University of Pisa",
          "Polytechnic University of Catalonia",
          "University of Porto",
          "University of Portsmouth",
          "RMIT University",
          "University of Rome II – Tor Vergata",
          "University of Rovira i Virgili",
          "Saint Petersburg State University",
          "University of Salento",
          "University of San Francisco",
          "University of Saskatchewan",
          "Sharif University of Technology",
          "University of Siena",
          "Southern Cross University",
          "State University of New York Albany",
          "University of Strathclyde",
          "University of Tampere",
          "Tampere University of Technology",
          "Tokyo Medical and Dental University (TMDU)",
          "Tokyo Metropolitan University",
          "University of Tsukuba",
          "Ulster University",
          "Université du Québec à Montréal",
          "Universiti Teknologi Malaysia",
          "University of Urbino Carlo Bo",
          "University of Valencia",
          "University of Waikato",
          "Western Sydney University",
          "Amirkabir University of Technology",
          "University of the Andes, Colombia",
          "University of Arkansas",
          "Auburn University",
          "Babeş-Bolyai University",
          "University of the Basque Country",
          "Bauman Moscow State Technical University",
          "Ben-Gurion University of the Negev",
          "Boğaziçi University",
          "University of Canberra",
          "Carleton University",
          "University of Catania",
          "Central Queensland University",
          "China Agricultural University",
          "Chung-Ang University",
          "De Montfort University",
          "East China Normal University",
          "Edith Cowan University",
          "Federal University of Rio de Janeiro",
          "University of Granada",
          "University of Haifa",
          "Harbin Institute of Technology",
          "University of Hertfordshire",
          "Hiroshima University",
          "Huazhong University of Science and Technology",
          "Indian Institute of Technology Guwahati",
          "Indian Institute of Technology Kanpur",
          "Indian Institute of Technology Roorkee",
          "Isfahan University of Technology",
          "Istanbul Technical University",
          "Jadavpur University",
          "Kanazawa University",
          "Kansas State University",
          "Keio University",
          "Kent State University",
          "King Fahd University of Petroleum and Minerals",
          "University of La Laguna",
          "Lappeenranta University of Technology",
          "University of Limerick",
          "University of Lisbon",
          "Liverpool John Moores University",
          "Mahidol University",
          "Manchester Metropolitan University",
          "Masaryk University",
          "Massey University",
          "Memorial University of Newfoundland",
          "Middle East Technical University",
          "University of Minho",
          "Missouri University of Science and Technology",
          "Montana State University",
          "Monterrey Institute of Technology and Higher Education",
          "National Central University",
          "National Sun Yat-Sen University",
          "National Taiwan Normal University",
          "National Technical University of Athens",
          "New Jersey Institute of Technology",
          "New Mexico State University",
          "University of North Carolina at Greensboro",
          "Oklahoma State University",
          "Osaka City University",
          "Otto von Guericke University of Magdeburg",
          "University of Oviedo",
          "Palacký University in Olomouc",
          "Panjab University",
          "Paris Dauphine University",
          "Pontifical Catholic University of Rio de Janeiro (PUC-Rio)",
          "Portland State University",
          "University of Pretoria",
          "Pusan National University",
          "University of Regina",
          "University of Rennes 1",
          "University of Salamanca",
          "University of Santiago de Compostela",
          "Semmelweis University",
          "University of Seville",
          "Université de Sherbrooke",
          "Soochow University",
          "South China University of Technology",
          "Tallinn University of Technology",
          "Tehran University of Medical Sciences",
          "University of Texas at Arlington",
          "Tokyo University of Agriculture and Technology",
          "University of Toledo",
          "Tongji University",
          "University of Tulsa",
          "United Arab Emirates University",
          "University of Warsaw",
          "University of Wisconsin-Milwaukee",
          "Xi’an Jiaotong University",
          "University of Zaragoza",
          "University of A Coruña",
          "Adam Mickiewicz University",
          "Ajou University",
          "University of Alcalá",
          "Alexandria University",
          "Alexandru Ioan Cuza University",
          "Aligarh Muslim University",
          "American University of Sharjah",
          "Anadolu University",
          "Andhra University",
          "University of Antioquia",
          "Aristotle University of Thessaloniki",
          "Asia University, Taiwan",
          "Athens University of Economics and Business",
          "Auckland University of Technology",
          "Austral University of Chile",
          "Belarusian State University",
          "University of Belgrade",
          "Birla Institute of Technology and Science, Pilani",
          "University of Bradford",
          "University of Brighton",
          "University of Bucharest",
          "Budapest University of Technology and Economics",
          "Cairo University",
          "Capital Medical University",
          "University of Castilla-La Mancha",
          "University of Central Lancashire",
          "University of Cergy-Pontoise",
          "Chang Gung University",
          "Carlos III University of Madrid",
          "Chiang Mai University",
          "Chiba University",
          "Chonbuk National University",
          "Chonnam National University",
          "Chulalongkorn University",
          "Chung Yuan Christian University",
          "Clemson University",
          "Comenius University in Bratislava",
          "Coventry University",
          "Dalian University of Technology",
          "University of Delhi",
          "Dublin Institute of Technology",
          "Ehime University",
          "University of Electronic Science and Technology of China",
          "Erciyes University",
          "Federal University of Minas Gerais",
          "Federal University of Santa Catarina",
          "Federal University of Viçosa",
          "Feng Chia University",
          "Florida Institute of Technology",
          "Fu Jen Catholic University",
          "Gdańsk University of Technology",
          "Gifu University",
          "Glasgow Caledonian University",
          "University of Greenwich",
          "Hacettepe University",
          "University of Huddersfield",
          "Hunan University",
          "University of Ibadan",
          "University of Indonesia",
          "Inha University",
          "I-Shou University",
          "Istanbul University",
          "Jagiellonian University",
          "Jilin University",
          "University of Jordan",
          "Jordan University of Science and Technology",
          "Juntendo University",
          "K.N. Toosi University of Technology",
          "Kaohsiung Medical University",
          "Khon Kaen University",
          "King Mongkut’s University of Technology Thonburi",
          "Kingston University",
          "Kobe University",
          "Konkuk University",
          "Kumamoto University",
          "Kyungpook National University",
          "Kyushu Institute of Technology",
          "University of Latvia",
          "Lille 1 University – Science and Technology",
          "University of Lincoln",
          "University of Ljubljana",
          "University of Marrakech Cadi Ayyad",
          "Miami University",
          "University of Murcia",
          "University of Nairobi",
          "National Chengchi University",
          "National Chung Hsing University",
          "National Taipei University of Technology",
          "National Taiwan Ocean University",
          "National University of Córdoba",
          "National University of Science and Technology (MISiS)",
          "National University of Sciences and Technology",
          "Niigata University",
          "Northumbria University",
          "Northwestern Polytechnical University",
          "Nottingham Trent University",
          "Oakland University",
          "Ocean University of China",
          "Ohio University",
          "Okayama University",
          "Osaka Prefecture University",
          "University of Pardubice",
          "University of Paris North – Paris 13",
          "Paris-Sorbonne University – Paris 4",
          "University of Patras",
          "Polytechnic University of Valencia",
          "Pontifical Catholic University of Paraná",
          "Pontifical Catholic University of Rio Grande do Sul (PUCRS)",
          "Pontifical Catholic University of Valparaíso",
          "Prince of Songkla University",
          "Qatar University",
          "Rio de Janeiro State University (UERJ)",
          "Rochester Institute of Technology",
          "Saitama University",
          "University of Salford",
          "University of Santiago, Chile (USACH)",
          "São Paulo State University (UNESP)",
          "Savitribai Phule Pune University",
          "University of Science and Technology Beijing",
          "Sejong University",
          "University of Seoul",
          "Shahid Beheshti University",
          "Shanghai University",
          "Shantou University",
          "Sheffield Hallam University",
          "Sichuan University",
          "University of Silesia in Katowice",
          "Slovak University of Technology in Bratislava",
          "Sogang University",
          "Sophia University",
          "University of South Africa",
          "Southern Federal University",
          "University of Southern Mississippi",
          "University of Southern Queensland",
          "Sultan Qaboos University",
          "Suranaree University of Technology",
          "University of Szeged",
          "Taipei Medical University",
          "Taras Shevchenko National University of Kyiv",
          "Technical University of Madrid",
          "Tokai University",
          "Tokushima University",
          "Tokyo University of Marine Science and Technology",
          "Tokyo University of Science",
          "Tomsk State University",
          "Tottori University",
          "Toyohashi University of Technology",
          "Universiti Kebangsaan Malaysia",
          "Universiti Putra Malaysia",
          "Universiti Sains Malaysia",
          "Universiti Teknologi MARA",
          "Ural Federal University",
          "V.N. Karazin Kharkiv National University",
          "University of Vigo",
          "Vilnius University",
          "Warsaw University of Technology",
          "Waseda University",
          "University of West Bohemia",
          "University of the West of England",
          "University of Westminster",
          "Xidian University",
          "Yeungnam University",
          "Yıldız Technical University",
          "Yokohama National University",
          "Yuan Ze University"
         ],
         "type": "scatter",
         "x": [
          "South Africa",
          "Iran",
          "South Korea",
          "Belgium",
          "Netherlands",
          "Singapore",
          "China",
          "Iceland",
          "Denmark",
          "Taiwan",
          "Saudi Arabia",
          "Mexico",
          "Turkey",
          "Sweden",
          "Qatar",
          "Switzerland",
          "Germany",
          "Russian Federation",
          "Japan",
          "Australia",
          "Canada",
          "Thailand",
          "United States of America",
          "New Zealand",
          "Hong Kong",
          "Serbia",
          "India",
          "Finland",
          "Brazil",
          "Italy",
          "Lithuania",
          "Norway",
          "Indonesia",
          "Greece",
          "France",
          "Luxembourg",
          "United Kingdom",
          "Portugal",
          "Oman",
          "Spain",
          "Republic of Ireland",
          "Chile",
          "Hungary",
          "Macau",
          "Colombia",
          "Egypt",
          "Estonia",
          "Slovenia",
          "Israel",
          "United Arab Emirates",
          "Pakistan",
          "Malaysia",
          "Poland",
          "Slovakia",
          "Jordan",
          "Cyprus",
          "Czech Republic",
          "Nigeria",
          "Morocco",
          "Romania",
          "Argentina",
          "Ukraine",
          "Latvia",
          "Kenya",
          "Uganda",
          "Belarus"
         ],
         "y": [
          83.03684210526318,
          74.44166666666666,
          72.92424242424244,
          72.53611111111113,
          71.84027777777779,
          69.15833333333332,
          66.48947368421055,
          64.06,
          59.282758620689656,
          59.18035714285717,
          58.55,
          58.5,
          56.592592592592595,
          55.90526315789473,
          55.2,
          54.36666666666668,
          53.393939393939384,
          53.20000000000001,
          51.149382716049374,
          49.61597222222219,
          49.54725274725273,
          47.75454545454546,
          47.28189473684215,
          46.8206896551724,
          45.94642857142856,
          45.6,
          44.99615384615383,
          44.583333333333336,
          44.3,
          41.22934782608696,
          41,
          40.275,
          40,
          39.440000000000005,
          39.072413793103436,
          38.1,
          37.847017543859664,
          37.644444444444446,
          37.6,
          37.16842105263158,
          36.408,
          35.92,
          34.53333333333334,
          34.25,
          33.42,
          32.625,
          32.6,
          32.3,
          31.971428571428568,
          31.7,
          31.3,
          31.28,
          30.681818181818183,
          30.6,
          30.1,
          30,
          29.327272727272728,
          29.2,
          28.9,
          28.766666666666666,
          28.6,
          28.4,
          28.3,
          28,
          28,
          28
         ]
        }
       ],
       "layout": {
        "template": {
         "data": {
          "bar": [
           {
            "error_x": {
             "color": "#2a3f5f"
            },
            "error_y": {
             "color": "#2a3f5f"
            },
            "marker": {
             "line": {
              "color": "#E5ECF6",
              "width": 0.5
             }
            },
            "type": "bar"
           }
          ],
          "barpolar": [
           {
            "marker": {
             "line": {
              "color": "#E5ECF6",
              "width": 0.5
             }
            },
            "type": "barpolar"
           }
          ],
          "carpet": [
           {
            "aaxis": {
             "endlinecolor": "#2a3f5f",
             "gridcolor": "white",
             "linecolor": "white",
             "minorgridcolor": "white",
             "startlinecolor": "#2a3f5f"
            },
            "baxis": {
             "endlinecolor": "#2a3f5f",
             "gridcolor": "white",
             "linecolor": "white",
             "minorgridcolor": "white",
             "startlinecolor": "#2a3f5f"
            },
            "type": "carpet"
           }
          ],
          "choropleth": [
           {
            "colorbar": {
             "outlinewidth": 0,
             "ticks": ""
            },
            "type": "choropleth"
           }
          ],
          "contour": [
           {
            "colorbar": {
             "outlinewidth": 0,
             "ticks": ""
            },
            "colorscale": [
             [
              0,
              "#0d0887"
             ],
             [
              0.1111111111111111,
              "#46039f"
             ],
             [
              0.2222222222222222,
              "#7201a8"
             ],
             [
              0.3333333333333333,
              "#9c179e"
             ],
             [
              0.4444444444444444,
              "#bd3786"
             ],
             [
              0.5555555555555556,
              "#d8576b"
             ],
             [
              0.6666666666666666,
              "#ed7953"
             ],
             [
              0.7777777777777778,
              "#fb9f3a"
             ],
             [
              0.8888888888888888,
              "#fdca26"
             ],
             [
              1,
              "#f0f921"
             ]
            ],
            "type": "contour"
           }
          ],
          "contourcarpet": [
           {
            "colorbar": {
             "outlinewidth": 0,
             "ticks": ""
            },
            "type": "contourcarpet"
           }
          ],
          "heatmap": [
           {
            "colorbar": {
             "outlinewidth": 0,
             "ticks": ""
            },
            "colorscale": [
             [
              0,
              "#0d0887"
             ],
             [
              0.1111111111111111,
              "#46039f"
             ],
             [
              0.2222222222222222,
              "#7201a8"
             ],
             [
              0.3333333333333333,
              "#9c179e"
             ],
             [
              0.4444444444444444,
              "#bd3786"
             ],
             [
              0.5555555555555556,
              "#d8576b"
             ],
             [
              0.6666666666666666,
              "#ed7953"
             ],
             [
              0.7777777777777778,
              "#fb9f3a"
             ],
             [
              0.8888888888888888,
              "#fdca26"
             ],
             [
              1,
              "#f0f921"
             ]
            ],
            "type": "heatmap"
           }
          ],
          "heatmapgl": [
           {
            "colorbar": {
             "outlinewidth": 0,
             "ticks": ""
            },
            "colorscale": [
             [
              0,
              "#0d0887"
             ],
             [
              0.1111111111111111,
              "#46039f"
             ],
             [
              0.2222222222222222,
              "#7201a8"
             ],
             [
              0.3333333333333333,
              "#9c179e"
             ],
             [
              0.4444444444444444,
              "#bd3786"
             ],
             [
              0.5555555555555556,
              "#d8576b"
             ],
             [
              0.6666666666666666,
              "#ed7953"
             ],
             [
              0.7777777777777778,
              "#fb9f3a"
             ],
             [
              0.8888888888888888,
              "#fdca26"
             ],
             [
              1,
              "#f0f921"
             ]
            ],
            "type": "heatmapgl"
           }
          ],
          "histogram": [
           {
            "marker": {
             "colorbar": {
              "outlinewidth": 0,
              "ticks": ""
             }
            },
            "type": "histogram"
           }
          ],
          "histogram2d": [
           {
            "colorbar": {
             "outlinewidth": 0,
             "ticks": ""
            },
            "colorscale": [
             [
              0,
              "#0d0887"
             ],
             [
              0.1111111111111111,
              "#46039f"
             ],
             [
              0.2222222222222222,
              "#7201a8"
             ],
             [
              0.3333333333333333,
              "#9c179e"
             ],
             [
              0.4444444444444444,
              "#bd3786"
             ],
             [
              0.5555555555555556,
              "#d8576b"
             ],
             [
              0.6666666666666666,
              "#ed7953"
             ],
             [
              0.7777777777777778,
              "#fb9f3a"
             ],
             [
              0.8888888888888888,
              "#fdca26"
             ],
             [
              1,
              "#f0f921"
             ]
            ],
            "type": "histogram2d"
           }
          ],
          "histogram2dcontour": [
           {
            "colorbar": {
             "outlinewidth": 0,
             "ticks": ""
            },
            "colorscale": [
             [
              0,
              "#0d0887"
             ],
             [
              0.1111111111111111,
              "#46039f"
             ],
             [
              0.2222222222222222,
              "#7201a8"
             ],
             [
              0.3333333333333333,
              "#9c179e"
             ],
             [
              0.4444444444444444,
              "#bd3786"
             ],
             [
              0.5555555555555556,
              "#d8576b"
             ],
             [
              0.6666666666666666,
              "#ed7953"
             ],
             [
              0.7777777777777778,
              "#fb9f3a"
             ],
             [
              0.8888888888888888,
              "#fdca26"
             ],
             [
              1,
              "#f0f921"
             ]
            ],
            "type": "histogram2dcontour"
           }
          ],
          "mesh3d": [
           {
            "colorbar": {
             "outlinewidth": 0,
             "ticks": ""
            },
            "type": "mesh3d"
           }
          ],
          "parcoords": [
           {
            "line": {
             "colorbar": {
              "outlinewidth": 0,
              "ticks": ""
             }
            },
            "type": "parcoords"
           }
          ],
          "scatter": [
           {
            "marker": {
             "colorbar": {
              "outlinewidth": 0,
              "ticks": ""
             }
            },
            "type": "scatter"
           }
          ],
          "scatter3d": [
           {
            "line": {
             "colorbar": {
              "outlinewidth": 0,
              "ticks": ""
             }
            },
            "marker": {
             "colorbar": {
              "outlinewidth": 0,
              "ticks": ""
             }
            },
            "type": "scatter3d"
           }
          ],
          "scattercarpet": [
           {
            "marker": {
             "colorbar": {
              "outlinewidth": 0,
              "ticks": ""
             }
            },
            "type": "scattercarpet"
           }
          ],
          "scattergeo": [
           {
            "marker": {
             "colorbar": {
              "outlinewidth": 0,
              "ticks": ""
             }
            },
            "type": "scattergeo"
           }
          ],
          "scattergl": [
           {
            "marker": {
             "colorbar": {
              "outlinewidth": 0,
              "ticks": ""
             }
            },
            "type": "scattergl"
           }
          ],
          "scattermapbox": [
           {
            "marker": {
             "colorbar": {
              "outlinewidth": 0,
              "ticks": ""
             }
            },
            "type": "scattermapbox"
           }
          ],
          "scatterpolar": [
           {
            "marker": {
             "colorbar": {
              "outlinewidth": 0,
              "ticks": ""
             }
            },
            "type": "scatterpolar"
           }
          ],
          "scatterpolargl": [
           {
            "marker": {
             "colorbar": {
              "outlinewidth": 0,
              "ticks": ""
             }
            },
            "type": "scatterpolargl"
           }
          ],
          "scatterternary": [
           {
            "marker": {
             "colorbar": {
              "outlinewidth": 0,
              "ticks": ""
             }
            },
            "type": "scatterternary"
           }
          ],
          "surface": [
           {
            "colorbar": {
             "outlinewidth": 0,
             "ticks": ""
            },
            "colorscale": [
             [
              0,
              "#0d0887"
             ],
             [
              0.1111111111111111,
              "#46039f"
             ],
             [
              0.2222222222222222,
              "#7201a8"
             ],
             [
              0.3333333333333333,
              "#9c179e"
             ],
             [
              0.4444444444444444,
              "#bd3786"
             ],
             [
              0.5555555555555556,
              "#d8576b"
             ],
             [
              0.6666666666666666,
              "#ed7953"
             ],
             [
              0.7777777777777778,
              "#fb9f3a"
             ],
             [
              0.8888888888888888,
              "#fdca26"
             ],
             [
              1,
              "#f0f921"
             ]
            ],
            "type": "surface"
           }
          ],
          "table": [
           {
            "cells": {
             "fill": {
              "color": "#EBF0F8"
             },
             "line": {
              "color": "white"
             }
            },
            "header": {
             "fill": {
              "color": "#C8D4E3"
             },
             "line": {
              "color": "white"
             }
            },
            "type": "table"
           }
          ]
         },
         "layout": {
          "annotationdefaults": {
           "arrowcolor": "#2a3f5f",
           "arrowhead": 0,
           "arrowwidth": 1
          },
          "colorscale": {
           "diverging": [
            [
             0,
             "#8e0152"
            ],
            [
             0.1,
             "#c51b7d"
            ],
            [
             0.2,
             "#de77ae"
            ],
            [
             0.3,
             "#f1b6da"
            ],
            [
             0.4,
             "#fde0ef"
            ],
            [
             0.5,
             "#f7f7f7"
            ],
            [
             0.6,
             "#e6f5d0"
            ],
            [
             0.7,
             "#b8e186"
            ],
            [
             0.8,
             "#7fbc41"
            ],
            [
             0.9,
             "#4d9221"
            ],
            [
             1,
             "#276419"
            ]
           ],
           "sequential": [
            [
             0,
             "#0d0887"
            ],
            [
             0.1111111111111111,
             "#46039f"
            ],
            [
             0.2222222222222222,
             "#7201a8"
            ],
            [
             0.3333333333333333,
             "#9c179e"
            ],
            [
             0.4444444444444444,
             "#bd3786"
            ],
            [
             0.5555555555555556,
             "#d8576b"
            ],
            [
             0.6666666666666666,
             "#ed7953"
            ],
            [
             0.7777777777777778,
             "#fb9f3a"
            ],
            [
             0.8888888888888888,
             "#fdca26"
            ],
            [
             1,
             "#f0f921"
            ]
           ],
           "sequentialminus": [
            [
             0,
             "#0d0887"
            ],
            [
             0.1111111111111111,
             "#46039f"
            ],
            [
             0.2222222222222222,
             "#7201a8"
            ],
            [
             0.3333333333333333,
             "#9c179e"
            ],
            [
             0.4444444444444444,
             "#bd3786"
            ],
            [
             0.5555555555555556,
             "#d8576b"
            ],
            [
             0.6666666666666666,
             "#ed7953"
            ],
            [
             0.7777777777777778,
             "#fb9f3a"
            ],
            [
             0.8888888888888888,
             "#fdca26"
            ],
            [
             1,
             "#f0f921"
            ]
           ]
          },
          "colorway": [
           "#636efa",
           "#EF553B",
           "#00cc96",
           "#ab63fa",
           "#FFA15A",
           "#19d3f3",
           "#FF6692",
           "#B6E880",
           "#FF97FF",
           "#FECB52"
          ],
          "font": {
           "color": "#2a3f5f"
          },
          "geo": {
           "bgcolor": "white",
           "lakecolor": "white",
           "landcolor": "#E5ECF6",
           "showlakes": true,
           "showland": true,
           "subunitcolor": "white"
          },
          "hoverlabel": {
           "align": "left"
          },
          "hovermode": "closest",
          "mapbox": {
           "style": "light"
          },
          "paper_bgcolor": "white",
          "plot_bgcolor": "#E5ECF6",
          "polar": {
           "angularaxis": {
            "gridcolor": "white",
            "linecolor": "white",
            "ticks": ""
           },
           "bgcolor": "#E5ECF6",
           "radialaxis": {
            "gridcolor": "white",
            "linecolor": "white",
            "ticks": ""
           }
          },
          "scene": {
           "xaxis": {
            "backgroundcolor": "#E5ECF6",
            "gridcolor": "white",
            "gridwidth": 2,
            "linecolor": "white",
            "showbackground": true,
            "ticks": "",
            "zerolinecolor": "white"
           },
           "yaxis": {
            "backgroundcolor": "#E5ECF6",
            "gridcolor": "white",
            "gridwidth": 2,
            "linecolor": "white",
            "showbackground": true,
            "ticks": "",
            "zerolinecolor": "white"
           },
           "zaxis": {
            "backgroundcolor": "#E5ECF6",
            "gridcolor": "white",
            "gridwidth": 2,
            "linecolor": "white",
            "showbackground": true,
            "ticks": "",
            "zerolinecolor": "white"
           }
          },
          "shapedefaults": {
           "line": {
            "color": "#2a3f5f"
           }
          },
          "ternary": {
           "aaxis": {
            "gridcolor": "white",
            "linecolor": "white",
            "ticks": ""
           },
           "baxis": {
            "gridcolor": "white",
            "linecolor": "white",
            "ticks": ""
           },
           "bgcolor": "#E5ECF6",
           "caxis": {
            "gridcolor": "white",
            "linecolor": "white",
            "ticks": ""
           }
          },
          "title": {
           "x": 0.05
          },
          "xaxis": {
           "automargin": true,
           "gridcolor": "white",
           "linecolor": "white",
           "ticks": "",
           "zerolinecolor": "white",
           "zerolinewidth": 2
          },
          "yaxis": {
           "automargin": true,
           "gridcolor": "white",
           "linecolor": "white",
           "ticks": "",
           "zerolinecolor": "white",
           "zerolinewidth": 2
          }
         }
        },
        "title": {
         "text": "La moyenne du score universitaire pour le revenu de l'industrie  par pays de 2011 à 2016"
        },
        "yaxis": {
         "title": {
          "text": "Score universitaire pour le revenu de l'industrie"
         }
        }
       }
      },
      "text/html": [
       "<div>\n",
       "        \n",
       "        \n",
       "            <div id=\"7b0d045a-e8d7-403c-90f2-68a8f8eb9eea\" class=\"plotly-graph-div\" style=\"height:525px; width:100%;\"></div>\n",
       "            <script type=\"text/javascript\">\n",
       "                require([\"plotly\"], function(Plotly) {\n",
       "                    window.PLOTLYENV=window.PLOTLYENV || {};\n",
       "                    \n",
       "                if (document.getElementById(\"7b0d045a-e8d7-403c-90f2-68a8f8eb9eea\")) {\n",
       "                    Plotly.newPlot(\n",
       "                        '7b0d045a-e8d7-403c-90f2-68a8f8eb9eea',\n",
       "                        [{\"marker\": {\"color\": \"rgba(16, 112, 2, 0.8)\"}, \"mode\": \"lines+markers\", \"name\": \"score\", \"text\": [\"California Institute of Technology\", \"Massachusetts Institute of Technology\", \"Stanford University\", \"University of Cambridge\", \"University of Oxford\", \"Imperial College London\", \"Johns Hopkins University\", \"Cornell University\", \"University of Michigan\", \"University of Pennsylvania\", \"Carnegie Mellon University\", \"University of Hong Kong\", \"University College London\", \"University of Washington\", \"Duke University\", \"Georgia Institute of Technology\", \"Pohang University of Science and Technology\", \"University of California, Santa Barbara\", \"University of British Columbia\", \"University of North Carolina at Chapel Hill\", \"University of California, San Diego\", \"National University of Singapore\", \"University of Melbourne\", \"University of Edinburgh\", \"\\u00c9cole Normale Sup\\u00e9rieure\", \"Karolinska Institute\", \"University of G\\u00f6ttingen\", \"Rice University\", \"\\u00c9cole Polytechnique F\\u00e9d\\u00e9rale de Lausanne\", \"Vanderbilt University\", \"University of California, Davis\", \"University of Massachusetts\", \"Tsinghua University\", \"Boston University\", \"LMU Munich\", \"University of Pittsburgh\", \"University of Bristol\", \"University of Sydney\", \"University of Adelaide\", \"Trinity College Dublin\", \"King\\u2019s College London\", \"Korea Advanced Institute of Science and Technology (KAIST)\", \"University of Sussex\", \"The University of Queensland\", \"Heidelberg University\", \"Durham University\", \"University of Manchester\", \"Royal Holloway, University of London\", \"University of Southampton\", \"University of Zurich\", \"University of Arizona\", \"University of Basel\", \"\\u00c9cole Normale Sup\\u00e9rieure de Lyon\", \"University of Helsinki\", \"University of St Andrews\", \"National Tsing Hua University\", \"Pennsylvania State University\", \"Hong Kong Baptist University\", \"Tokyo Institute of Technology\", \"Eindhoven University of Technology\", \"National Taiwan University\", \"University of California, Riverside\", \"University of Geneva\", \"KU Leuven\", \"Nanjing University\", \"Queen Mary University of London\", \"Technical University of Denmark\", \"Ghent University\", \"Lancaster University\", \"Leiden University\", \"University of Alberta\", \"University of Glasgow\", \"Stockholm University\", \"Osaka University\", \"University of Victoria\", \"Tohoku University\", \"University of Freiburg\", \"University of Bergen\", \"University of Sheffield\", \"VU University Amsterdam\", \"Pierre and Marie Curie University\", \"University of Dundee\", \"University of Barcelona\", \"Utrecht University\", \"University of Auckland\", \"University of Birmingham\", \"Alexandria University\", \"Uppsala University\", \"Hong Kong Polytechnic University\", \"University of Aberdeen\", \"Delft University of Technology\", \"Birkbeck, University of London\", \"Newcastle University\", \"University of New South Wales\", \"Pompeu Fabra University\", \"Iowa State University\", \"University of Delaware\", \"National Sun Yat-Sen University\", \"University of Amsterdam\", \"University of Liverpool\", \"Aarhus University\", \"University of Leeds\", \"University of Groningen\", \"Sun Yat-sen University\", \"Goethe University Frankfurt\", \"Nanyang Technological University\", \"University of East Anglia\", \"University of Nottingham\", \"University of Copenhagen\", \"Monash University\", \"University of Bonn\", \"National Chiao Tung University\", \"RWTH Aachen University\", \"Middle East Technical University\", \"University of Exeter\", \"University of Twente\", \"Karlsruhe Institute of Technology\", \"University of Innsbruck\", \"University of T\\u00fcbingen\", \"Drexel University\", \"University of Cincinnati\", \"KTH Royal Institute of Technology\", \"University of Vienna\", \"Kent State University\", \"Zhejiang University\", \"Simon Fraser University\", \"California Institute of Technology\", \"Stanford University\", \"University of Oxford\", \"Princeton University\", \"University of Cambridge\", \"Massachusetts Institute of Technology\", \"Imperial College London\", \"University of California, Berkeley\", \"Yale University\", \"Johns Hopkins University\", \"University of Pennsylvania\", \"University College London\", \"University of Michigan\", \"Carnegie Mellon University\", \"Duke University\", \"University of British Columbia\", \"Georgia Institute of Technology\", \"University of Washington\", \"Northwestern University\", \"University of Wisconsin-Madison\", \"McGill University\", \"University of Texas at Austin\", \"Karolinska Institute\", \"University of California, San Diego\", \"University of Hong Kong\", \"University of California, Santa Barbara\", \"University of Edinburgh\", \"University of Melbourne\", \"Australian National University\", \"University of California, Davis\", \"National University of Singapore\", \"University of North Carolina at Chapel Hill\", \"New York University\", \"LMU Munich\", \"\\u00c9cole Polytechnique F\\u00e9d\\u00e9rale de Lausanne\", \"University of Manchester\", \"Pennsylvania State University\", \"Pohang University of Science and Technology\", \"Boston University\", \"University of Southern California\", \"King\\u2019s College London\", \"Ohio State University\", \"University of Sydney\", \"University of Pittsburgh\", \"\\u00c9cole Normale Sup\\u00e9rieure\", \"University of Zurich\", \"\\u00c9cole Polytechnique\", \"University of Massachusetts\", \"McMaster University\", \"University of Bristol\", \"KU Leuven\", \"Utrecht University\", \"University of G\\u00f6ttingen\", \"Vanderbilt University\", \"Tsinghua University\", \"Rice University\", \"Heidelberg University\", \"The University of Queensland\", \"Emory University\", \"Wageningen University and Research Center\", \"Tufts University\", \"Leiden University\", \"University of Rochester\", \"Durham University\", \"Pierre and Marie Curie University\", \"University of St Andrews\", \"University of California, Irvine\", \"Uppsala University\", \"Technical University of Munich\", \"University of Notre Dame\", \"University of Helsinki\", \"University of Amsterdam\", \"Korea Advanced Institute of Science and Technology (KAIST)\", \"University of Maryland, College Park\", \"Michigan State University\", \"University of Arizona\", \"University of Sussex\", \"University of Alberta\", \"University of Sheffield\", \"University of Glasgow\", \"University of Cape Town\", \"Delft University of Technology\", \"University of Montreal\", \"Ghent University\", \"Royal Holloway, University of London\", \"Tokyo Institute of Technology\", \"University of California, Santa Cruz\", \"University of Basel\", \"University of Bern\", \"Stony Brook University\", \"Eindhoven University of Technology\", \"Monash University\", \"Trinity College Dublin\", \"Osaka University\", \"Tohoku University\", \"Hebrew University of Jerusalem\", \"Aarhus University\", \"Arizona State University\", \"Queen Mary University of London\", \"University of Southampton\", \"University of Geneva\", \"Lancaster University\", \"Stockholm University\", \"University of Leeds\", \"University of Groningen\", \"University of Copenhagen\", \"University of Virginia\", \"University of Vienna\", \"University of Nottingham\", \"\\u00c9cole Normale Sup\\u00e9rieure de Lyon\", \"University of California, Riverside\", \"Rensselaer Polytechnic Institute\", \"University of East Anglia\", \"Newcastle University\", \"William & Mary\", \"University of Birmingham\", \"Birkbeck, University of London\", \"Brandeis University\", \"Chinese University of Hong Kong\", \"Free University of Berlin\", \"University of Aberdeen\", \"National Taiwan University\", \"University of Exeter\", \"Erasmus University Rotterdam\", \"University of Warwick\", \"Radboud University Nijmegen\", \"VU University Amsterdam\", \"Wake Forest University\", \"Texas A&M University\", \"University of Reading\", \"University of Illinois at Chicago\", \"RWTH Aachen University\", \"Nanyang Technological University\", \"Universit\\u00e9 Catholique de Louvain\", \"Queen\\u2019s University\", \"University of Auckland\", \"University of New South Wales\", \"University of Dundee\", \"University of Victoria\", \"Technical University of Denmark\", \"University of S\\u00e3o Paulo\", \"University of Delaware\", \"Goethe University Frankfurt\", \"University of Liverpool\", \"Iowa State University\", \"University of Ottawa\", \"Pompeu Fabra University\", \"KTH Royal Institute of Technology\", \"University of T\\u00fcbingen\", \"University of Freiburg\", \"University of Western Australia\", \"University of Bergen\", \"City University of Hong Kong\", \"University of Konstanz\", \"Boston College\", \"Karlsruhe Institute of Technology\", \"University of Leicester\", \"University of Twente\", \"Autonomous University of Barcelona\", \"Cardiff University\", \"Colorado School of Mines\", \"Nagoya University\", \"National Tsing Hua University\", \"Northeastern University\", \"Technion Israel Institute of Technology\", \"Ulm University\", \"Ume\\u00e5 University\", \"University at Buffalo\", \"University of Adelaide\", \"University of Barcelona\", \"University of Cincinnati\", \"University of Essex\", \"University of Georgia\", \"University of Innsbruck\", \"University of Otago\", \"University of South Carolina\", \"University of Strasbourg\", \"University of Waterloo\", \"University of Western Ontario\", \"University of W\\u00fcrzburg\", \"Universit\\u00e9 Libre de Bruxelles\", \"Chalmers University of Technology\", \"Creighton University\", \"Dalhousie University\", \"Drexel University\", \"Fudan University\", \"Macquarie University\", \"National Chiao Tung University\", \"Simon Fraser University\", \"State University of New York Albany\", \"Tokyo Metropolitan University\", \"University of Bologna\", \"University of Calgary\", \"University of Milan\", \"University of Milan-Bicocca\", \"University of Missouri\", \"University of Padua\", \"University of Trieste\", \"Bangor University\", \"Bielefeld University\", \"Brunel University London\", \"Hong Kong Polytechnic University\", \"Johannes Kepler University of Linz\", \"Kyushu University\", \"Nanjing University\", \"National Sun Yat-Sen University\", \"Norwegian University of Science and Technology\", \"Queen\\u2019s University Belfast\", \"Ruhr University Bochum\", \"Stellenbosch University\", \"Tilburg University\", \"TU Dresden\", \"University of Bath\", \"University of Graz\", \"University of Kiel\", \"University of Southern Denmark\", \"University of Texas at Dallas\", \"University of the Witwatersrand\", \"University of Tsukuba\", \"University of Wollongong\", \"Victoria University of Wellington\", \"Virginia Polytechnic Institute and State University\", \"Aberystwyth University\", \"Autonomous University of Madrid\", \"Hokkaido University\", \"Hong Kong Baptist University\", \"Istanbul Technical University\", \"Lomonosov Moscow State University\", \"Middle East Technical University\", \"Montpellier University\", \"Queensland University of Technology\", \"State University of Campinas\", \"Sun Yat-sen University\", \"Technical University of Darmstadt\", \"Tokyo Medical and Dental University (TMDU)\", \"UiT The Arctic University of Norway\", \"University of Antwerp\", \"University of Crete\", \"University of Guelph\", \"University of Iceland\", \"University of M\\u00fcnster\", \"University of Newcastle\", \"University of Texas at San Antonio\", \"University of Trento\", \"York University\", \"Aalborg University\", \"Aalto University\", \"Alexandria University\", \"Bar-Ilan University\", \"Binghamton University, State University of New York\", \"Bo\\u011fazi\\u00e7i University\", \"Charles Darwin University\", \"Charles University in Prague\", \"George Mason University\", \"Indian Institute of Technology Bombay\", \"Jagiellonian University\", \"Keele University\", \"Keio University\", \"Kent State University\", \"Lehigh University\", \"Link\\u00f6ping University\", \"National Taiwan University of Science and Technology (Taiwan Tech)\", \"Plymouth University\", \"Polytechnic University of Milan\", \"Sapienza University of Rome\", \"Shanghai Jiao Tong University\", \"Sharif University of Technology\", \"Sungkyunkwan University (SKKU)\", \"University College Cork\", \"University of Aveiro\", \"University of Canterbury\", \"University of Eastern Finland\", \"University of Ferrara\", \"University of Hertfordshire\", \"University of Houston\", \"University of Hull\", \"University of Li\\u00e8ge\", \"University of Manitoba\", \"University of Maryland, Baltimore County\", \"University of Modena and Reggio Emilia\", \"University of Pisa\", \"University of Porto\", \"University of Stirling\", \"University of Surrey\", \"University of Tampere\", \"University of Tasmania\", \"University of Valencia\", \"University of Waikato\", \"Vienna University of Technology\", \"Vrije Universiteit Brussel\", \"Washington State University\", \"Zhejiang University\", \"Auburn University\", \"Clemson University\", \"Curtin University\", \"Deakin University\", \"Flinders University\", \"Georgia State University\", \"Harbin Institute of Technology\", \"Heriot-Watt University\", \"Hiroshima University\", \"Kansas State University\", \"Kobe University\", \"La Trobe University\", \"Leibniz University of Hanover\", \"Liverpool John Moores University\", \"Loughborough University\", \"Mahidol University\", \"National Central University\", \"National Taiwan Ocean University\", \"National University of Ireland, Galway\", \"National University of Ireland, Maynooth\", \"New Jersey Institute of Technology\", \"New University of Lisbon\", \"Polytechnic University of Catalonia\", \"Polytechnic University of Turin\", \"Polytechnic University of Valencia\", \"Saint Petersburg State University\", \"Swansea University\", \"Swinburne University of Technology\", \"Tokyo University of Agriculture and Technology\", \"University of Bari Aldo Moro\", \"University of Coimbra\", \"University of Idaho\", \"University of Kent\", \"University of Paris North \\u2013 Paris 13\", \"University of Salento\", \"University of South Australia\", \"University of Strathclyde\", \"University of Tartu\", \"University of Turku\", \"University of Zaragoza\", \"Waseda University\", \"Yuan Ze University\", \"California Institute of Technology\", \"Stanford University\", \"University of Oxford\", \"Massachusetts Institute of Technology\", \"Princeton University\", \"University of Cambridge\", \"Imperial College London\", \"University of California, Berkeley\", \"Yale University\", \"University of Pennsylvania\", \"Johns Hopkins University\", \"University College London\", \"Cornell University\", \"Northwestern University\", \"University of Michigan\", \"Carnegie Mellon University\", \"Duke University\", \"University of Washington\", \"Georgia Institute of Technology\", \"University of Texas at Austin\", \"University of Melbourne\", \"National University of Singapore\", \"University of British Columbia\", \"University of Wisconsin-Madison\", \"University of Edinburgh\", \"McGill University\", \"University of California, Santa Barbara\", \"University of Hong Kong\", \"Australian National University\", \"University of California, San Diego\", \"\\u00c9cole Polytechnique F\\u00e9d\\u00e9rale de Lausanne\", \"New York University\", \"Karolinska Institute\", \"University of North Carolina at Chapel Hill\", \"University of California, Davis\", \"LMU Munich\", \"University of Manchester\", \"Pohang University of Science and Technology\", \"Tsinghua University\", \"Ohio State University\", \"Boston University\", \"University of Southern California\", \"King\\u2019s College London\", \"KU Leuven\", \"\\u00c9cole Normale Sup\\u00e9rieure\", \"Pennsylvania State University\", \"University of Sydney\", \"\\u00c9cole Polytechnique\", \"Leiden University\", \"The University of Queensland\", \"Utrecht University\", \"Korea Advanced Institute of Science and Technology (KAIST)\", \"University of G\\u00f6ttingen\", \"Wageningen University and Research Center\", \"Erasmus University Rotterdam\", \"University of Massachusetts\", \"University of Bristol\", \"Rice University\", \"University of Pittsburgh\", \"Delft University of Technology\", \"Heidelberg University\", \"Emory University\", \"Durham University\", \"Pierre and Marie Curie University\", \"University of Amsterdam\", \"University of Montreal\", \"University of New South Wales\", \"Nanyang Technological University\", \"Tufts University\", \"McMaster University\", \"University of Groningen\", \"University of Zurich\", \"Ghent University\", \"Michigan State University\", \"University of Notre Dame\", \"University of California, Irvine\", \"University of Maryland, College Park\", \"University of Arizona\", \"Monash University\", \"Rutgers, the State University of New Jersey\", \"University of Rochester\", \"Technical University of Munich\", \"Uppsala University\", \"Vanderbilt University\", \"University of St Andrews\", \"University of Helsinki\", \"Trinity College Dublin\", \"University of Sheffield\", \"University of Sussex\", \"University of Cape Town\", \"Eindhoven University of Technology\", \"Maastricht University\", \"Aarhus University\", \"Stockholm University\", \"University of Virginia\", \"Royal Holloway, University of London\", \"University of Nottingham\", \"University of Alberta\", \"Chinese University of Hong Kong\", \"Dartmouth College\", \"University of Warwick\", \"Radboud University Nijmegen\", \"Free University of Berlin\", \"Tokyo Institute of Technology\", \"University of Copenhagen\", \"University of Southampton\", \"University of Geneva\", \"National Taiwan University\", \"University of Utah\", \"Hebrew University of Jerusalem\", \"Tohoku University\", \"University of Glasgow\", \"KTH Royal Institute of Technology\", \"VU University Amsterdam\", \"University of Basel\", \"University of Leeds\", \"University of Freiburg\", \"Lancaster University\", \"Queen Mary University of London\", \"Osaka University\", \"Arizona State University\", \"Technical University of Denmark\", \"Karlsruhe Institute of Technology\", \"University of Bern\", \"University of Exeter\", \"RWTH Aachen University\", \"University of California, Riverside\", \"Texas A&M University\", \"University of Birmingham\", \"University of S\\u00e3o Paulo\", \"University of Auckland\", \"Stony Brook University\", \"University of Vienna\", \"Universit\\u00e9 Catholique de Louvain\", \"University of Delaware\", \"University of Texas at Dallas\", \"George Washington University\", \"\\u00c9cole Normale Sup\\u00e9rieure de Lyon\", \"University of Liverpool\", \"University of Ottawa\", \"Rensselaer Polytechnic Institute\", \"University of Aberdeen\", \"University of Adelaide\", \"University of East Anglia\", \"University of Reading\", \"Newcastle University\", \"City University of Hong Kong\", \"Colorado School of Mines\", \"University of Illinois at Chicago\", \"William & Mary\", \"University of Twente\", \"University of Western Australia\", \"Wake Forest University\", \"University of Antwerp\", \"Iowa State University\", \"Technion Israel Institute of Technology\", \"University of Leicester\", \"University of Victoria\", \"University at Buffalo\", \"Goethe University Frankfurt\", \"Birkbeck, University of London\", \"Autonomous University of Barcelona\", \"Brandeis University\", \"Cardiff University\", \"Fudan University\", \"Lomonosov Moscow State University\", \"Middle East Technical University\", \"Nagoya University\", \"Northeastern University\", \"Pompeu Fabra University\", \"Queen\\u2019s University\", \"St George\\u2019s, University of London\", \"Sungkyunkwan University (SKKU)\", \"Tilburg University\", \"University of Barcelona\", \"University of Dundee\", \"University of Erlangen-Nuremberg\", \"University of Georgia\", \"University of Innsbruck\", \"University of Konstanz\", \"University of Strasbourg\", \"University of T\\u00fcbingen\", \"Chalmers University of Technology\", \"Florida Institute of Technology\", \"Indian Institute of Technology Kharagpur\", \"Ko\\u00e7 University\", \"Mines ParisTech\", \"National Research Nuclear University MePhI\", \"National Tsing Hua University\", \"Simon Fraser University\", \"Technical University of Darmstadt\", \"University of Bergen\", \"University of Calgary\", \"University of Cincinnati\", \"University of Missouri\", \"University of Otago\", \"University of the Witwatersrand\", \"University of Waterloo\", \"University of Western Ontario\", \"University of W\\u00fcrzburg\", \"Universit\\u00e9 Libre de Bruxelles\", \"Aalto University\", \"Dalhousie University\", \"Hong Kong Polytechnic University\", \"Indian Institute of Technology Bombay\", \"Macquarie University\", \"Nanjing University\", \"National Chiao Tung University\", \"Norwegian University of Science and Technology\", \"Queensland University of Technology\", \"State University of Campinas\", \"Stellenbosch University\", \"Tokyo Metropolitan University\", \"Ume\\u00e5 University\", \"University of Connecticut\", \"University of Essex\", \"University of Iceland\", \"University of Kiel\", \"University of Milan\", \"University of Milan-Bicocca\", \"University of M\\u00fcnster\", \"University of Trieste\", \"Victoria University of Wellington\", \"Vienna University of Technology\", \"Aberystwyth University\", \"Bangor University\", \"Bayreuth University\", \"Bielefeld University\", \"Bo\\u011fazi\\u00e7i University\", \"Drexel University\", \"Istanbul Technical University\", \"Montpellier University\", \"Oregon State University\", \"Queen\\u2019s University Belfast\", \"Ruhr University Bochum\", \"Shanghai Jiao Tong University\", \"Tokyo Medical and Dental University (TMDU)\", \"TU Dresden\", \"University of Bath\", \"University of Bologna\", \"University of Montana\", \"University of Newcastle\", \"University of South Carolina\", \"University of Southern Denmark\", \"University of Trento\", \"University of Turin\", \"Virginia Polytechnic Institute and State University\", \"Autonomous University of Madrid\", \"Brunel University London\", \"Charles University in Prague\", \"Hokkaido University\", \"Hong Kong Baptist University\", \"King Abdulaziz University\", \"Kyushu University\", \"Link\\u00f6ping University\", \"Medical University of Vienna\", \"Murdoch University\", \"National Cheng Kung University\", \"National Sun Yat-Sen University\", \"National University of Ireland, Galway\", \"North Carolina State University\", \"Polytechnic University of Milan\", \"Sapienza University of Rome\", \"Sharif University of Technology\", \"Sun Yat-sen University\", \"UiT The Arctic University of Norway\", \"University College Cork\", \"University of Canterbury\", \"University of Crete\", \"University of Eastern Finland\", \"University of Graz\", \"University of Guelph\", \"University of Manitoba\", \"University of Maryland, Baltimore County\", \"University of Padua\", \"University of Pavia\", \"University of Pisa\", \"University of Portsmouth\", \"University of South Australia\", \"University of Tampere\", \"University of Tsukuba\", \"University of Waikato\", \"University of Wollongong\", \"Vrije Universiteit Brussel\", \"Washington State University\", \"York University\", \"Zhejiang University\", \"Aalborg University\", \"Binghamton University, State University of New York\", \"Charles Darwin University\", \"Deakin University\", \"Flinders University\", \"George Mason University\", \"Heriot-Watt University\", \"Indian Institute of Technology Roorkee\", \"Jagiellonian University\", \"Keele University\", \"Keio University\", \"King Mongkut\\u2019s University of Technology Thonburi\", \"Lehigh University\", \"Leibniz University of Hanover\", \"Loughborough University\", \"Massey University\", \"National Autonomous University of Mexico\", \"National Central University\", \"National Taiwan University of Science and Technology (Taiwan Tech)\", \"National University of Ireland, Maynooth\", \"Paris Dauphine University\", \"Polytechnic University of Valencia\", \"University of Aveiro\", \"University of Duisburg-Essen\", \"University of Ferrara\", \"University of Hertfordshire\", \"University of Houston\", \"University of Jyv\\u00e4skyl\\u00e4\", \"University of KwaZulu-Natal\", \"University of Li\\u00e8ge\", \"University of Minho\", \"University of Modena and Reggio Emilia\", \"University of Porto\", \"University of Salento\", \"University of Stirling\", \"University of Strathclyde\", \"University of Surrey\", \"University of Tartu\", \"University of Tasmania\", \"University of Technology Sydney\", \"University of Texas at San Antonio\", \"University of the Andes, Colombia\", \"University of Valencia\", \"University of Vigo\", \"University of Warsaw\", \"Waseda University\", \"California Institute of Technology\", \"University of Oxford\", \"Stanford University\", \"Massachusetts Institute of Technology\", \"Princeton University\", \"University of Cambridge\", \"University of California, Berkeley\", \"Imperial College London\", \"Yale University\", \"ETH Zurich \\u2013 Swiss Federal Institute of Technology Zurich\", \"Johns Hopkins University\", \"University of Pennsylvania\", \"Duke University\", \"University of Michigan\", \"Cornell University\", \"University College London\", \"Northwestern University\", \"Carnegie Mellon University\", \"University of Washington\", \"National University of Singapore\", \"University of Texas at Austin\", \"Georgia Institute of Technology\", \"University of Wisconsin-Madison\", \"University of British Columbia\", \"University of California, Santa Barbara\", \"University of Melbourne\", \"McGill University\", \"Karolinska Institute\", \"\\u00c9cole Polytechnique F\\u00e9d\\u00e9rale de Lausanne\", \"King\\u2019s College London\", \"University of Edinburgh\", \"New York University\", \"University of California, San Diego\", \"University of Hong Kong\", \"University of North Carolina at Chapel Hill\", \"Australian National University\", \"Pennsylvania State University\", \"Boston University\", \"Tsinghua University\", \"University of California, Davis\", \"LMU Munich\", \"Korea Advanced Institute of Science and Technology (KAIST)\", \"University of Manchester\", \"Ohio State University\", \"Pohang University of Science and Technology\", \"KU Leuven\", \"The University of Queensland\", \"University of G\\u00f6ttingen\", \"Rice University\", \"\\u00c9cole Normale Sup\\u00e9rieure\", \"Leiden University\", \"Heidelberg University\", \"Delft University of Technology\", \"University of Southern California\", \"\\u00c9cole Polytechnique\", \"University of Sydney\", \"Erasmus University Rotterdam\", \"University of Basel\", \"Utrecht University\", \"Nanyang Technological University\", \"Wageningen University and Research Center\", \"University of Pittsburgh\", \"University of Bristol\", \"Durham University\", \"Emory University\", \"Tufts University\", \"Michigan State University\", \"University of Amsterdam\", \"Ghent University\", \"Free University of Berlin\", \"Technical University of Munich\", \"Vanderbilt University\", \"University of Notre Dame\", \"Monash University\", \"McMaster University\", \"University of California, Irvine\", \"University of Rochester\", \"Pierre and Marie Curie University\", \"Maastricht University\", \"University of Groningen\", \"University of Helsinki\", \"Royal Holloway, University of London\", \"Rutgers, the State University of New Jersey\", \"Stockholm University\", \"University of Arizona\", \"Eindhoven University of Technology\", \"University of Montreal\", \"University of Maryland, College Park\", \"Chinese University of Hong Kong\", \"University of Alberta\", \"Uppsala University\", \"University of Sheffield\", \"University of Virginia\", \"Queen Mary University of London\", \"University of New South Wales\", \"KTH Royal Institute of Technology\", \"Technical University of Denmark\", \"University of Glasgow\", \"University of St Andrews\", \"University of Sussex\", \"University of Zurich\", \"University of Geneva\", \"Tokyo Institute of Technology\", \"Dartmouth College\", \"University of Cape Town\", \"RWTH Aachen University\", \"Trinity College Dublin\", \"Radboud University Nijmegen\", \"University of Massachusetts\", \"Boston College\", \"Lancaster University\", \"Aarhus University\", \"Colorado School of Mines\", \"University of Leeds\", \"University of Warwick\", \"National Taiwan University\", \"University of Utah\", \"Osaka University\", \"VU University Amsterdam\", \"Arizona State University\", \"University of Southampton\", \"University of California, Riverside\", \"University of Exeter\", \"Tohoku University\", \"University of Copenhagen\", \"University of Freiburg\", \"University of Birmingham\", \"Karlsruhe Institute of Technology\", \"\\u00c9cole Normale Sup\\u00e9rieure de Lyon\", \"University of Bern\", \"University of Nottingham\", \"Texas A&M University\", \"Georgetown University\", \"University of Leicester\", \"Brandeis University\", \"Pompeu Fabra University\", \"University of Antwerp\", \"University of Auckland\", \"University of Western Australia\", \"University of Liverpool\", \"University of Twente\", \"University of Vienna\", \"Universit\\u00e9 Catholique de Louvain\", \"University of Delaware\", \"University of East Anglia\", \"University at Buffalo\", \"Paris Diderot University \\u2013 Paris 7\", \"Stony Brook University\", \"Wake Forest University\", \"Rensselaer Polytechnic Institute\", \"Iowa State University\", \"Northeastern University\", \"University of Ottawa\", \"University of Aberdeen\", \"University of Texas at Dallas\", \"Hebrew University of Jerusalem\", \"University of Illinois at Chicago\", \"Mines ParisTech\", \"George Washington University\", \"University of Reading\", \"University of Dundee\", \"Florida Institute of Technology\", \"Newcastle University\", \"Bo\\u011fazi\\u00e7i University\", \"Birkbeck, University of London\", \"Cardiff University\", \"City University of Hong Kong\", \"Fudan University\", \"Goethe University Frankfurt\", \"Istanbul Technical University\", \"Middle East Technical University\", \"Nagoya University\", \"St George\\u2019s, University of London\", \"Sungkyunkwan University (SKKU)\", \"Technion Israel Institute of Technology\", \"Tokyo Metropolitan University\", \"Ulm University\", \"University of Adelaide\", \"University of Bergen\", \"University of Calgary\", \"University of Innsbruck\", \"University of Strasbourg\", \"University of Trento\", \"University of T\\u00fcbingen\", \"University of Victoria\", \"William & Mary\", \"Autonomous University of Barcelona\", \"Lomonosov Moscow State University\", \"Panjab University\", \"Queen\\u2019s University\", \"Simon Fraser University\", \"Technical University of Darmstadt\", \"Tilburg University\", \"University of Barcelona\", \"University of Cincinnati\", \"University of Erlangen-Nuremberg\", \"University of Kiel\", \"University of Konstanz\", \"University of Milan-Bicocca\", \"University of M\\u00fcnster\", \"University of Otago\", \"University of S\\u00e3o Paulo\", \"University of the Witwatersrand\", \"University of Trieste\", \"University of Turin\", \"University of Waterloo\", \"University of Western Ontario\", \"University of W\\u00fcrzburg\", \"Vienna University of Technology\", \"Brunel University London\", \"Dalhousie University\", \"Hong Kong Polytechnic University\", \"Medical University of Vienna\", \"Montpellier University\", \"Nanjing University\", \"National Chiao Tung University\", \"National Tsing Hua University\", \"Norwegian University of Science and Technology\", \"Queen\\u2019s University Belfast\", \"Sharif University of Technology\", \"TU Dresden\", \"University of Essex\", \"University of Iceland\", \"University of Nebraska-Lincoln\", \"University of Newcastle\", \"University of Pavia\", \"University of South Carolina\", \"University of the Andes, Colombia\", \"Vrije Universiteit Brussel\", \"Chalmers University of Technology\", \"Colorado State University\", \"Ko\\u00e7 University\", \"Macquarie University\", \"Plymouth University\", \"Polytechnic University of Milan\", \"Queensland University of Technology\", \"Tokyo Medical and Dental University (TMDU)\", \"University College Cork\", \"University of Alaska Fairbanks\", \"University of Bath\", \"University of Bologna\", \"University of Fribourg\", \"University of Georgia\", \"University of Milan\", \"University of Montana\", \"University of Southern Denmark\", \"University of Wollongong\", \"Victoria University of Wellington\", \"Virginia Polytechnic Institute and State University\", \"York University\", \"Aalborg University\", \"Aalto University\", \"Aberystwyth University\", \"Autonomous University of Madrid\", \"Bangor University\", \"Bielefeld University\", \"Claude Bernard University Lyon 1\", \"Deakin University\", \"Drexel University\", \"Heriot-Watt University\", \"Hokkaido University\", \"Hong Kong Baptist University\", \"Kansas State University\", \"Keele University\", \"King Mongkut\\u2019s University of Technology Thonburi\", \"Kyushu University\", \"Lehigh University\", \"Murdoch University\", \"National Cheng Kung University\", \"National Sun Yat-Sen University\", \"National University of Ireland, Galway\", \"Oregon State University\", \"Sapienza University of Rome\", \"Shanghai Jiao Tong University\", \"State University of Campinas\", \"Stellenbosch University\", \"Ume\\u00e5 University\", \"University of Canterbury\", \"University of Connecticut\", \"University of Crete\", \"University of Eastern Finland\", \"University of Hertfordshire\", \"University of Houston\", \"University of Li\\u00e8ge\", \"University of Manitoba\", \"University of Missouri\", \"University of Padua\", \"University of Pisa\", \"University of Salento\", \"University of South Australia\", \"University of Tampere\", \"University of Technology Sydney\", \"University of Tsukuba\", \"University of Waikato\", \"University of Warsaw\", \"Washington State University\", \"Wuhan University of Technology\", \"Zhejiang University\", \"Charles Darwin University\", \"Charles University in Prague\", \"China Medical University, Taiwan\", \"George Mason University\", \"Indian Institute of Technology Kanpur\", \"Indian Institute of Technology Roorkee\", \"Johannes Kepler University of Linz\", \"King Abdulaziz University\", \"Leibniz University of Hanover\", \"Liverpool John Moores University\", \"Loughborough University\", \"National Central University\", \"National Taiwan University of Science and Technology (Taiwan Tech)\", \"National University of Ireland, Maynooth\", \"Polytechnic University of Valencia\", \"Ruhr University Bochum\", \"San Diego State University\", \"Sun Yat-sen University\", \"Swinburne University of Technology\", \"UiT The Arctic University of Norway\", \"University of Bari Aldo Moro\", \"University of Duisburg-Essen\", \"University of Ferrara\", \"University of Florence\", \"University of Graz\", \"University of Guelph\", \"University of Maryland, Baltimore County\", \"University of Minho\", \"University of Navarra\", \"University of Porto\", \"University of Portsmouth\", \"University of Rovira i Virgili\", \"University of Stirling\", \"University of Surrey\", \"University of Tartu\", \"University of Tasmania\", \"University of Valencia\", \"University of Vigo\", \"California Institute of Technology\", \"University of Oxford\", \"Stanford University\", \"University of Cambridge\", \"Massachusetts Institute of Technology\", \"Princeton University\", \"University of California, Berkeley\", \"Imperial College London\", \"Yale University\", \"University of Chicago\", \"ETH Zurich \\u2013 Swiss Federal Institute of Technology Zurich\", \"Johns Hopkins University\", \"University of Pennsylvania\", \"University of Michigan\", \"Duke University\", \"Cornell University\", \"Northwestern University\", \"University College London\", \"Carnegie Mellon University\", \"National University of Singapore\", \"University of Washington\", \"Georgia Institute of Technology\", \"University of Texas at Austin\", \"LMU Munich\", \"University of Illinois at Urbana-Champaign\", \"University of Wisconsin-Madison\", \"University of British Columbia\", \"University of Melbourne\", \"\\u00c9cole Polytechnique F\\u00e9d\\u00e9rale de Lausanne\", \"University of Edinburgh\", \"University of California, Santa Barbara\", \"New York University\", \"McGill University\", \"King\\u2019s College London\", \"University of California, San Diego\", \"University of Hong Kong\", \"Karolinska Institute\", \"Australian National University\", \"University of North Carolina at Chapel Hill\", \"Tsinghua University\", \"Korea Advanced Institute of Science and Technology (KAIST)\", \"University of Manchester\", \"KU Leuven\", \"University of California, Davis\", \"Boston University\", \"Pennsylvania State University\", \"University of Sydney\", \"Nanyang Technological University\", \"\\u00c9cole Polytechnique\", \"Scuola Normale Superiore di Pisa\", \"Leiden University\", \"The University of Queensland\", \"Pohang University of Science and Technology\", \"University of G\\u00f6ttingen\", \"Ohio State University\", \"Rice University\", \"Heidelberg University\", \"Delft University of Technology\", \"Erasmus University Rotterdam\", \"Wageningen University and Research Center\", \"University of Bristol\", \"University of Basel\", \"University of Southern California\", \"University of Amsterdam\", \"\\u00c9cole Normale Sup\\u00e9rieure\", \"Utrecht University\", \"Free University of Berlin\", \"Michigan State University\", \"Durham University\", \"Monash University\", \"Middle East Technical University\", \"University of Arizona\", \"Tufts University\", \"University of California, Irvine\", \"Ghent University\", \"University of Massachusetts\", \"University of Pittsburgh\", \"Emory University\", \"McMaster University\", \"University of Glasgow\", \"Vanderbilt University\", \"Stockholm University\", \"Technical University of Munich\", \"Uppsala University\", \"Maastricht University\", \"Pierre and Marie Curie University\", \"University of Helsinki\", \"University of Warwick\", \"University of Zurich\", \"Queen Mary University of London\", \"University of Geneva\", \"University of California, Santa Cruz\", \"University of New South Wales\", \"University of St Andrews\", \"University of Sussex\", \"University of Montreal\", \"University of T\\u00fcbingen\", \"University of Groningen\", \"Royal Holloway, University of London\", \"Technical University of Denmark\", \"University of Rochester\", \"University of Sheffield\", \"University of Alberta\", \"University of Cape Town\", \"Boston College\", \"KTH Royal Institute of Technology\", \"Chinese University of Hong Kong\", \"University of Virginia\", \"Lancaster University\", \"University of Bern\", \"University of Maryland, College Park\", \"University of Southampton\", \"TU Dresden\", \"VU University Amsterdam\", \"Trinity College Dublin\", \"Bo\\u011fazi\\u00e7i University\", \"Radboud University Nijmegen\", \"Colorado School of Mines\", \"Texas A&M University\", \"Tokyo Institute of Technology\", \"Eindhoven University of Technology\", \"Rutgers, the State University of New Jersey\", \"University of Leeds\", \"Brandeis University\", \"Sungkyunkwan University (SKKU)\", \"University of Birmingham\", \"University of California, Riverside\", \"Dartmouth College\", \"Aarhus University\", \"University of Exeter\", \"National Taiwan University\", \"RWTH Aachen University\", \"Osaka University\", \"University of Liverpool\", \"University of Western Australia\", \"University of Copenhagen\", \"\\u00c9cole Normale Sup\\u00e9rieure de Lyon\", \"University of Utah\", \"University of Freiburg\", \"University of Adelaide\", \"Istanbul Technical University\", \"Karlsruhe Institute of Technology\", \"Pompeu Fabra University\", \"Tohoku University\", \"University of Antwerp\", \"University of Nottingham\", \"Universit\\u00e9 Catholique de Louvain\", \"Georgetown University\", \"University of Victoria\", \"University of Auckland\", \"University of Iowa\", \"Syracuse University\", \"University of Aberdeen\", \"Paris Diderot University \\u2013 Paris 7\", \"University of Delaware\", \"Arizona State University\", \"Sabanc\\u0131 University\", \"University of Vienna\", \"Northeastern University\", \"Stony Brook University\", \"University of Ottawa\", \"University at Buffalo\", \"City University of Hong Kong\", \"Fudan University\", \"Iowa State University\", \"Lomonosov Moscow State University\", \"St George\\u2019s, University of London\", \"University of East Anglia\", \"University of Leicester\", \"Florida Institute of Technology\", \"George Washington University\", \"Cardiff University\", \"Goethe University Frankfurt\", \"Hebrew University of Jerusalem\", \"Hong Kong Polytechnic University\", \"Newcastle University\", \"Technion Israel Institute of Technology\", \"Ulm University\", \"University of Barcelona\", \"University of Bergen\", \"University of Dundee\", \"University of Illinois at Chicago\", \"University of Innsbruck\", \"University of Reading\", \"University of Strasbourg\", \"University of S\\u00e3o Paulo\", \"University of Texas at Dallas\", \"University of Trieste\", \"University of Twente\", \"Universit\\u00e9 Libre de Bruxelles\", \"Wake Forest University\", \"William & Mary\", \"Autonomous University of Barcelona\", \"Birkbeck, University of London\", \"Brunel University London\", \"Carleton University\", \"Dalhousie University\", \"Mines ParisTech\", \"Nagoya University\", \"Rensselaer Polytechnic Institute\", \"Simon Fraser University\", \"Tokyo Metropolitan University\", \"University of Calgary\", \"University of Kiel\", \"University of Konstanz\", \"University of Milan-Bicocca\", \"University of Technology Sydney\", \"University of Western Ontario\", \"University of W\\u00fcrzburg\", \"Vienna University of Technology\", \"York University\", \"Aalto University\", \"Federico Santa Mar\\u00eda Technical University\", \"Medical University of Vienna\", \"Nanjing University\", \"National Tsing Hua University\", \"National University of Ireland, Galway\", \"Queen\\u2019s University\", \"Queen\\u2019s University Belfast\", \"Technical University of Darmstadt\", \"University of Bremen\", \"University of Iceland\", \"University of M\\u00fcnster\", \"University of Newcastle\", \"University of Otago\", \"University of Pavia\", \"University of Salento\", \"University of the Andes, Colombia\", \"University of the Witwatersrand\", \"University of Trento\", \"University of Turin\", \"University of Waterloo\", \"Chalmers University of Technology\", \"Colorado State University\", \"Indian Institute of Science\", \"Lappeenranta University of Technology\", \"Montpellier University\", \"National Chiao Tung University\", \"Norwegian University of Science and Technology\", \"Panjab University\", \"Plymouth University\", \"Queensland University of Technology\", \"Shanghai Jiao Tong University\", \"Stellenbosch University\", \"Tilburg University\", \"Tokyo Medical and Dental University (TMDU)\", \"University College Cork\", \"University of Bologna\", \"University of Cincinnati\", \"University of Erlangen-Nuremberg\", \"University of Fribourg\", \"University of Georgia\", \"University of Macau\", \"University of Milan\", \"University of Nebraska-Lincoln\", \"University of South Australia\", \"University of South Carolina\", \"University of Wollongong\", \"Victoria University of Wellington\", \"Virginia Polytechnic Institute and State University\", \"Autonomous University of Madrid\", \"Bangor University\", \"Charles Darwin University\", \"Charles University in Prague\", \"Creighton University\", \"Deakin University\", \"Drexel University\", \"Hong Kong Baptist University\", \"Kansas State University\", \"Ko\\u00e7 University\", \"Macquarie University\", \"Novosibirsk State University\", \"Oregon State University\", \"Polytechnic University of Milan\", \"San Diego State University\", \"Sapienza University of Rome\", \"Sharif University of Technology\", \"State University of Campinas\", \"Sun Yat-sen University\", \"University of Bath\", \"University of Canterbury\", \"University of Cologne\", \"University of Connecticut\", \"University of Crete\", \"University of Duisburg-Essen\", \"University of Essex\", \"University of Houston\", \"University of Manitoba\", \"University of Marrakech Cadi Ayyad\", \"University of Montana\", \"University of Nebraska Medical Center\", \"University of Padua\", \"University of Pisa\", \"University of Southern Denmark\", \"University of Stirling\", \"University of Stuttgart\", \"University of Tampere\", \"University of Tsukuba\", \"University of Valencia\", \"University of Warsaw\", \"Zhejiang University\", \"Aalborg University\", \"Aberystwyth University\", \"Bayreuth University\", \"Bielefeld University\", \"Claude Bernard University Lyon 1\", \"Curtin University\", \"Ewha Womans University\", \"George Mason University\", \"Hokkaido University\", \"Indian Institute of Technology Bombay\", \"Indian Institute of Technology Roorkee\", \"Isfahan University of Technology\", \"King Mongkut\\u2019s University of Technology Thonburi\", \"Kyushu University\", \"Lehigh University\", \"Murdoch University\", \"National Cheng Kung University\", \"National Sun Yat-Sen University\", \"National Taiwan University of Science and Technology (Taiwan Tech)\", \"Royal College of Surgeons in Ireland\", \"Ruhr University Bochum\", \"Swinburne University of Technology\", \"UiT The Arctic University of Norway\", \"Ume\\u00e5 University\", \"University of Bari Aldo Moro\", \"University of Eastern Finland\", \"University of Ferrara\", \"University of Florence\", \"University of Graz\", \"University of Hertfordshire\", \"University of Lisbon\", \"University of Li\\u00e8ge\", \"University of Minho\", \"University of Missouri\", \"University of Navarra\", \"University of Portsmouth\", \"University of Rome III\", \"University of Seoul\", \"University of Turku\", \"University of Waikato\", \"Vrije Universiteit Brussel\", \"Waseda University\", \"Washington State University\", \"Western Sydney University\", \"Wuhan University of Technology\", \"California Institute of Technology\", \"University of Oxford\", \"Stanford University\", \"University of Cambridge\", \"Massachusetts Institute of Technology\", \"Princeton University\", \"Imperial College London\", \"ETH Zurich \\u2013 Swiss Federal Institute of Technology Zurich\", \"University of Chicago\", \"Johns Hopkins University\", \"Yale University\", \"University of California, Berkeley\", \"University College London\", \"University of California, Los Angeles\", \"University of Pennsylvania\", \"Cornell University\", \"Duke University\", \"University of Michigan\", \"Carnegie Mellon University\", \"University of Edinburgh\", \"Northwestern University\", \"National University of Singapore\", \"King\\u2019s College London\", \"Karolinska Institute\", \"LMU Munich\", \"New York University\", \"\\u00c9cole Polytechnique F\\u00e9d\\u00e9rale de Lausanne\", \"University of Washington\", \"University of Melbourne\", \"University of British Columbia\", \"KU Leuven\", \"University of Illinois at Urbana-Champaign\", \"Heidelberg University\", \"McGill University\", \"University of California, San Diego\", \"University of California, Santa Barbara\", \"Georgia Institute of Technology\", \"University of California, Davis\", \"University of Hong Kong\", \"University of Texas at Austin\", \"Tsinghua University\", \"Wageningen University and Research Center\", \"University of Wisconsin-Madison\", \"Australian National University\", \"Technical University of Munich\", \"\\u00c9cole Normale Sup\\u00e9rieure\", \"Nanyang Technological University\", \"University of Manchester\", \"University of Sydney\", \"University of Amsterdam\", \"The University of Queensland\", \"Utrecht University\", \"University of North Carolina at Chapel Hill\", \"Boston University\", \"Delft University of Technology\", \"University of Minnesota\", \"Leiden University\", \"University of Southern California\", \"University of Bristol\", \"Durham University\", \"Erasmus University Rotterdam\", \"Free University of Berlin\", \"Monash University\", \"University of Groningen\", \"Pennsylvania State University\", \"University of Glasgow\", \"University of Helsinki\", \"University of T\\u00fcbingen\", \"University of Pittsburgh\", \"University of Warwick\", \"Uppsala University\", \"University of Copenhagen\", \"University of New South Wales\", \"University of Freiburg\", \"University of St Andrews\", \"Vanderbilt University\", \"Maastricht University\", \"Emory University\", \"Ohio State University\", \"University of Exeter\", \"Georgetown University\", \"McMaster University\", \"University of Sheffield\", \"Queen Mary University of London\", \"University of G\\u00f6ttingen\", \"Michigan State University\", \"University of Basel\", \"\\u00c9cole Polytechnique\", \"Rice University\", \"Dartmouth College\", \"University of Zurich\", \"Aarhus University\", \"University of California, Irvine\", \"University of Mannheim\", \"University of Notre Dame\", \"University of Western Australia\", \"RWTH Aachen University\", \"University of Southampton\", \"Scuola Normale Superiore di Pisa\", \"University of Montreal\", \"Pierre and Marie Curie University\", \"Pohang University of Science and Technology\", \"University of Maryland, College Park\", \"Ghent University\", \"University of Birmingham\", \"University of Bern\", \"University of Cape Town\", \"University of Erlangen-Nuremberg\", \"Rutgers, the State University of New Jersey\", \"University of M\\u00fcnster\", \"Radboud University Nijmegen\", \"University of Colorado Boulder\", \"Tufts University\", \"Royal Holloway, University of London\", \"Lancaster University\", \"University of Geneva\", \"Case Western Reserve University\", \"University of Leeds\", \"Stockholm University\", \"University of Alberta\", \"Chinese University of Hong Kong\", \"Karlsruhe Institute of Technology\", \"University of Sussex\", \"University of Massachusetts\", \"University of Vienna\", \"University of Nottingham\", \"University of California, Santa Cruz\", \"Autonomous University of Barcelona\", \"University of Virginia\", \"Korea Advanced Institute of Science and Technology (KAIST)\", \"University of Adelaide\", \"University of East Anglia\", \"University of Twente\", \"Sungkyunkwan University (SKKU)\", \"VU University Amsterdam\", \"KTH Royal Institute of Technology\", \"University of Cologne\", \"University of Liverpool\", \"TU Dresden\", \"University of Rochester\", \"Trinity College Dublin\", \"Lomonosov Moscow State University\", \"University of Miami\", \"University of Arizona\", \"Pompeu Fabra University\", \"University of Reading\", \"University of California, Riverside\", \"University of Leicester\", \"National Taiwan University\", \"Technical University of Denmark\", \"Universit\\u00e9 Catholique de Louvain\", \"University of Aberdeen\", \"University of Auckland\", \"University of Barcelona\", \"University of Konstanz\", \"Eindhoven University of Technology\", \"Hebrew University of Jerusalem\", \"University of Waterloo\", \"Scuola Superiore Sant\\u2019Anna\", \"University of Bergen\", \"Cardiff University\", \"University of Utah\", \"Brandeis University\", \"University of Dundee\", \"University of W\\u00fcrzburg\", \"Arizona State University\", \"University of Antwerp\", \"Boston College\", \"Ulm University\", \"University of Luxembourg\", \"Texas A&M University\", \"Charit\\u00e9 - Universit\\u00e4tsmedizin Berlin\", \"Newcastle University\", \"St George\\u2019s, University of London\", \"University of Trento\", \"Paris Diderot University \\u2013 Paris 7\", \"Queen\\u2019s University Belfast\", \"Aalborg University\", \"Birkbeck, University of London\", \"University of Bologna\", \"University at Buffalo\", \"University of Calgary\", \"Chalmers University of Technology\", \"City University of Hong Kong\", \"Copenhagen Business School\", \"Dalhousie University\", \"University of Duisburg-Essen\", \"\\u00c9cole Normale Sup\\u00e9rieure de Lyon\", \"Florida State University\", \"University of Fribourg\", \"Fudan University\", \"George Washington University\", \"Goethe University Frankfurt\", \"Hong Kong Polytechnic University\", \"University of Illinois at Chicago\", \"University of Iowa\", \"Johannes Gutenberg University of Mainz\", \"Medical University of Vienna\", \"Northeastern University\", \"Oregon Health and Science University\", \"University of Otago\", \"University of Ottawa\", \"Paris Descartes University\", \"Peter the Great St Petersburg Polytechnic University\", \"Polytechnic University of Milan\", \"Royal Veterinary College\", \"Rush University\", \"Sapienza University of Rome\", \"Stony Brook University\", \"University of Stuttgart\", \"Technical University of Darmstadt\", \"University of Technology Sydney\", \"University of Texas at Dallas\", \"Tilburg University\", \"Tohoku University\", \"Tokyo Institute of Technology\", \"University of Victoria\", \"Wake Forest University\", \"University of Western Ontario\", \"William & Mary\", \"University of the Witwatersrand\", \"Aalto University\", \"Aix-Marseille University\", \"University of Bath\", \"Bayreuth University\", \"Bielefeld University\", \"University of Bordeaux\", \"Charles Darwin University\", \"Colorado School of Mines\", \"Colorado State University\", \"University of Delaware\", \"Flinders University\", \"University of Georgia\", \"University of Iceland\", \"Indian Institute of Science\", \"Iowa State University\", \"James Cook University\", \"Justus Liebig University Giessen\", \"King Abdulaziz University\", \"Ko\\u00e7 University\", \"University of Li\\u00e8ge\", \"Link\\u00f6ping University\", \"Nanjing University\", \"National Tsing Hua University\", \"National University of Ireland, Galway\", \"University of Newcastle\", \"North Carolina State University\", \"Oregon State University\", \"Osaka University\", \"Queen\\u2019s University\", \"Queensland University of Technology\", \"Rensselaer Polytechnic Institute\", \"Royal College of Surgeons in Ireland\", \"Ruhr University Bochum\", \"Saint Louis University\", \"University of S\\u00e3o Paulo\", \"Simon Fraser University\", \"University of Surrey\", \"Syracuse University\", \"University of Tasmania\", \"Tomsk Polytechnic University\", \"Tulane University\", \"Ume\\u00e5 University\", \"Vienna University of Technology\", \"Virginia Polytechnic Institute and State University\", \"University of Wollongong\", \"Zhejiang University\", \"Aberystwyth University\", \"University of Alaska Fairbanks\", \"Autonomous University of Madrid\", \"Bangor University\", \"University of Bremen\", \"University of Cincinnati\", \"University of Connecticut\", \"Deakin University\", \"University of Essex\", \"George Mason University\", \"University of Greifswald\", \"Gwangju Institute of Science and Technology\", \"University of Hohenheim\", \"University of Innsbruck\", \"Kazan Federal University\", \"University of Kent\", \"Leibniz University of Hanover\", \"Macquarie University\", \"Medical College of Wisconsin\", \"University of Milan\", \"University of Milan-Bicocca\", \"Montpellier University\", \"Nagoya University\", \"National Chiao Tung University\", \"National Research Nuclear University MePhI\", \"National Taiwan University of Science and Technology (Taiwan Tech)\", \"University of Navarra\", \"University of Nebraska-Lincoln\", \"\\u00d6rebro University\", \"University of Oregon\", \"University of Padua\", \"University of Pavia\", \"Plymouth University\", \"Shanghai Jiao Tong University\", \"University of Southern Denmark\", \"Stellenbosch University\", \"University of Strasbourg\", \"Technical University of Dortmund\", \"Technion Israel Institute of Technology\", \"Toulouse 1 Capitole University\", \"University of Trieste\", \"University of Turin\", \"University of Turku\", \"Vrije Universiteit Brussel\", \"V\\u0160B - Technical University of Ostrava\", \"York University\", \"Binghamton University, State University of New York\", \"University of Crete\", \"University of Cyprus\", \"Drexel University\", \"University of Eastern Finland\", \"University of Florence\", \"University of St Gallen\", \"Graz University of Technology\", \"University of Guelph\", \"Hong Kong Baptist University\", \"University of Houston\", \"Indian Institute of Technology Bombay\", \"Instituto Superior T\\u00e9cnico Lisboa\", \"University of Jyv\\u00e4skyl\\u00e4\", \"La Trobe University\", \"Loughborough University\", \"University of Manitoba\", \"University of Missouri\", \"University of Modena and Reggio Emilia\", \"University of Montana\", \"National University of Ireland, Maynooth\", \"University of Nebraska Medical Center\", \"Norwegian University of Science and Technology\", \"University of Oulu\", \"Panth\\u00e9on-Sorbonne University \\u2013 Paris 1\", \"Polytechnic University of Turin\", \"University of Rome III\", \"Sabanc\\u0131 University\", \"San Diego State University\", \"University of South Australia\", \"University of South Carolina\", \"University of South Dakota\", \"State University of Campinas\", \"University of Stirling\", \"Sun Yat-sen University\", \"Swansea University\", \"Swinburne University of Technology\", \"University of Tartu\", \"Temple University\", \"University of Texas at San Antonio\", \"UiT The Arctic University of Norway\", \"Universit\\u00e9 Libre de Bruxelles\", \"Lille 2 University \\u2013 Health and Law\", \"University College Cork\", \"Verona University\", \"Victoria University of Wellington\", \"Washington State University\", \"Wayne State University\", \"American University\", \"University of Aveiro\", \"University of Bari Aldo Moro\", \"Bar-Ilan University\", \"Bournemouth University\", \"University of Brescia\", \"Brno University of Technology\", \"Brunel University London\", \"Ca\\u2019 Foscari University of Venice\", \"University of Cagliari\", \"University of Canterbury\", \"Charles University in Prague\", \"China Medical University, Taiwan\", \"City University London\", \"Claude Bernard University Lyon 1\", \"University of Coimbra\", \"Complutense University of Madrid\", \"Concordia University\", \"Curtin University\", \"Dublin City University\", \"Ewha Womans University\", \"Federico Santa Mar\\u00eda Technical University\", \"University of Ferrara\", \"Florida International University\", \"University of Genoa\", \"Georgia State University\", \"University of Graz\", \"Heriot-Watt University\", \"Hokkaido University\", \"University of Hull\", \"University of Idaho\", \"Indian Institute of Technology Delhi\", \"Indian Institute of Technology Kharagpur\", \"Indian Institute of Technology Madras\", \"University of Ioannina\", \"Iran University of Science and Technology\", \"Johannes Kepler University of Linz\", \"University of Kaiserslautern\", \"Keele University\", \"University of KwaZulu-Natal\", \"Kyushu University\", \"Lehigh University\", \"University of Macau\", \"Makerere University\", \"Marche Polytechnic University\", \"University of Maryland, Baltimore County\", \"Murdoch University\", \"National Autonomous University of Mexico\", \"National Cheng Kung University\", \"National Institute of Applied Sciences of Lyon (INSA Lyon)\", \"National Yang-Ming University\", \"New University of Lisbon\", \"University of Nice Sophia Antipolis\", \"Novosibirsk State University\", \"The Open University\", \"Oxford Brookes University\", \"University of Palermo\", \"University of Parma\", \"University of Pisa\", \"Polytechnic University of Catalonia\", \"University of Porto\", \"University of Portsmouth\", \"RMIT University\", \"University of Rome II \\u2013 Tor Vergata\", \"University of Rovira i Virgili\", \"Saint Petersburg State University\", \"University of Salento\", \"University of San Francisco\", \"University of Saskatchewan\", \"Sharif University of Technology\", \"University of Siena\", \"Southern Cross University\", \"State University of New York Albany\", \"University of Strathclyde\", \"University of Tampere\", \"Tampere University of Technology\", \"Tokyo Medical and Dental University (TMDU)\", \"Tokyo Metropolitan University\", \"University of Tsukuba\", \"Ulster University\", \"Universit\\u00e9 du Qu\\u00e9bec \\u00e0 Montr\\u00e9al\", \"Universiti Teknologi Malaysia\", \"University of Urbino Carlo Bo\", \"University of Valencia\", \"University of Waikato\", \"Western Sydney University\", \"Amirkabir University of Technology\", \"University of the Andes, Colombia\", \"University of Arkansas\", \"Auburn University\", \"Babe\\u015f-Bolyai University\", \"University of the Basque Country\", \"Bauman Moscow State Technical University\", \"Ben-Gurion University of the Negev\", \"Bo\\u011fazi\\u00e7i University\", \"University of Canberra\", \"Carleton University\", \"University of Catania\", \"Central Queensland University\", \"China Agricultural University\", \"Chung-Ang University\", \"De Montfort University\", \"East China Normal University\", \"Edith Cowan University\", \"Federal University of Rio de Janeiro\", \"University of Granada\", \"University of Haifa\", \"Harbin Institute of Technology\", \"University of Hertfordshire\", \"Hiroshima University\", \"Huazhong University of Science and Technology\", \"Indian Institute of Technology Guwahati\", \"Indian Institute of Technology Kanpur\", \"Indian Institute of Technology Roorkee\", \"Isfahan University of Technology\", \"Istanbul Technical University\", \"Jadavpur University\", \"Kanazawa University\", \"Kansas State University\", \"Keio University\", \"Kent State University\", \"King Fahd University of Petroleum and Minerals\", \"University of La Laguna\", \"Lappeenranta University of Technology\", \"University of Limerick\", \"University of Lisbon\", \"Liverpool John Moores University\", \"Mahidol University\", \"Manchester Metropolitan University\", \"Masaryk University\", \"Massey University\", \"Memorial University of Newfoundland\", \"Middle East Technical University\", \"University of Minho\", \"Missouri University of Science and Technology\", \"Montana State University\", \"Monterrey Institute of Technology and Higher Education\", \"National Central University\", \"National Sun Yat-Sen University\", \"National Taiwan Normal University\", \"National Technical University of Athens\", \"New Jersey Institute of Technology\", \"New Mexico State University\", \"University of North Carolina at Greensboro\", \"Oklahoma State University\", \"Osaka City University\", \"Otto von Guericke University of Magdeburg\", \"University of Oviedo\", \"Palack\\u00fd University in Olomouc\", \"Panjab University\", \"Paris Dauphine University\", \"Pontifical Catholic University of Rio de Janeiro (PUC-Rio)\", \"Portland State University\", \"University of Pretoria\", \"Pusan National University\", \"University of Regina\", \"University of Rennes 1\", \"University of Salamanca\", \"University of Santiago de Compostela\", \"Semmelweis University\", \"University of Seville\", \"Universit\\u00e9 de Sherbrooke\", \"Soochow University\", \"South China University of Technology\", \"Tallinn University of Technology\", \"Tehran University of Medical Sciences\", \"University of Texas at Arlington\", \"Tokyo University of Agriculture and Technology\", \"University of Toledo\", \"Tongji University\", \"University of Tulsa\", \"United Arab Emirates University\", \"University of Warsaw\", \"University of Wisconsin-Milwaukee\", \"Xi\\u2019an Jiaotong University\", \"University of Zaragoza\", \"University of A Coru\\u00f1a\", \"Adam Mickiewicz University\", \"Ajou University\", \"University of Alcal\\u00e1\", \"Alexandria University\", \"Alexandru Ioan Cuza University\", \"Aligarh Muslim University\", \"American University of Sharjah\", \"Anadolu University\", \"Andhra University\", \"University of Antioquia\", \"Aristotle University of Thessaloniki\", \"Asia University, Taiwan\", \"Athens University of Economics and Business\", \"Auckland University of Technology\", \"Austral University of Chile\", \"Belarusian State University\", \"University of Belgrade\", \"Birla Institute of Technology and Science, Pilani\", \"University of Bradford\", \"University of Brighton\", \"University of Bucharest\", \"Budapest University of Technology and Economics\", \"Cairo University\", \"Capital Medical University\", \"University of Castilla-La Mancha\", \"University of Central Lancashire\", \"University of Cergy-Pontoise\", \"Chang Gung University\", \"Carlos III University of Madrid\", \"Chiang Mai University\", \"Chiba University\", \"Chonbuk National University\", \"Chonnam National University\", \"Chulalongkorn University\", \"Chung Yuan Christian University\", \"Clemson University\", \"Comenius University in Bratislava\", \"Coventry University\", \"Dalian University of Technology\", \"University of Delhi\", \"Dublin Institute of Technology\", \"Ehime University\", \"University of Electronic Science and Technology of China\", \"Erciyes University\", \"Federal University of Minas Gerais\", \"Federal University of Santa Catarina\", \"Federal University of Vi\\u00e7osa\", \"Feng Chia University\", \"Florida Institute of Technology\", \"Fu Jen Catholic University\", \"Gda\\u0144sk University of Technology\", \"Gifu University\", \"Glasgow Caledonian University\", \"University of Greenwich\", \"Hacettepe University\", \"University of Huddersfield\", \"Hunan University\", \"University of Ibadan\", \"University of Indonesia\", \"Inha University\", \"I-Shou University\", \"Istanbul University\", \"Jagiellonian University\", \"Jilin University\", \"University of Jordan\", \"Jordan University of Science and Technology\", \"Juntendo University\", \"K.N. Toosi University of Technology\", \"Kaohsiung Medical University\", \"Khon Kaen University\", \"King Mongkut\\u2019s University of Technology Thonburi\", \"Kingston University\", \"Kobe University\", \"Konkuk University\", \"Kumamoto University\", \"Kyungpook National University\", \"Kyushu Institute of Technology\", \"University of Latvia\", \"Lille 1 University \\u2013 Science and Technology\", \"University of Lincoln\", \"University of Ljubljana\", \"University of Marrakech Cadi Ayyad\", \"Miami University\", \"University of Murcia\", \"University of Nairobi\", \"National Chengchi University\", \"National Chung Hsing University\", \"National Taipei University of Technology\", \"National Taiwan Ocean University\", \"National University of C\\u00f3rdoba\", \"National University of Science and Technology (MISiS)\", \"National University of Sciences and Technology\", \"Niigata University\", \"Northumbria University\", \"Northwestern Polytechnical University\", \"Nottingham Trent University\", \"Oakland University\", \"Ocean University of China\", \"Ohio University\", \"Okayama University\", \"Osaka Prefecture University\", \"University of Pardubice\", \"University of Paris North \\u2013 Paris 13\", \"Paris-Sorbonne University \\u2013 Paris 4\", \"University of Patras\", \"Polytechnic University of Valencia\", \"Pontifical Catholic University of Paran\\u00e1\", \"Pontifical Catholic University of Rio Grande do Sul (PUCRS)\", \"Pontifical Catholic University of Valpara\\u00edso\", \"Prince of Songkla University\", \"Qatar University\", \"Rio de Janeiro State University (UERJ)\", \"Rochester Institute of Technology\", \"Saitama University\", \"University of Salford\", \"University of Santiago, Chile (USACH)\", \"S\\u00e3o Paulo State University (UNESP)\", \"Savitribai Phule Pune University\", \"University of Science and Technology Beijing\", \"Sejong University\", \"University of Seoul\", \"Shahid Beheshti University\", \"Shanghai University\", \"Shantou University\", \"Sheffield Hallam University\", \"Sichuan University\", \"University of Silesia in Katowice\", \"Slovak University of Technology in Bratislava\", \"Sogang University\", \"Sophia University\", \"University of South Africa\", \"Southern Federal University\", \"University of Southern Mississippi\", \"University of Southern Queensland\", \"Sultan Qaboos University\", \"Suranaree University of Technology\", \"University of Szeged\", \"Taipei Medical University\", \"Taras Shevchenko National University of Kyiv\", \"Technical University of Madrid\", \"Tokai University\", \"Tokushima University\", \"Tokyo University of Marine Science and Technology\", \"Tokyo University of Science\", \"Tomsk State University\", \"Tottori University\", \"Toyohashi University of Technology\", \"Universiti Kebangsaan Malaysia\", \"Universiti Putra Malaysia\", \"Universiti Sains Malaysia\", \"Universiti Teknologi MARA\", \"Ural Federal University\", \"V.N. Karazin Kharkiv National University\", \"University of Vigo\", \"Vilnius University\", \"Warsaw University of Technology\", \"Waseda University\", \"University of West Bohemia\", \"University of the West of England\", \"University of Westminster\", \"Xidian University\", \"Yeungnam University\", \"Y\\u0131ld\\u0131z Technical University\", \"Yokohama National University\", \"Yuan Ze University\"], \"type\": \"scatter\", \"x\": [\"South Africa\", \"Iran\", \"South Korea\", \"Belgium\", \"Netherlands\", \"Singapore\", \"China\", \"Iceland\", \"Denmark\", \"Taiwan\", \"Saudi Arabia\", \"Mexico\", \"Turkey\", \"Sweden\", \"Qatar\", \"Switzerland\", \"Germany\", \"Russian Federation\", \"Japan\", \"Australia\", \"Canada\", \"Thailand\", \"United States of America\", \"New Zealand\", \"Hong Kong\", \"Serbia\", \"India\", \"Finland\", \"Brazil\", \"Italy\", \"Lithuania\", \"Norway\", \"Indonesia\", \"Greece\", \"France\", \"Luxembourg\", \"United Kingdom\", \"Portugal\", \"Oman\", \"Spain\", \"Republic of Ireland\", \"Chile\", \"Hungary\", \"Macau\", \"Colombia\", \"Egypt\", \"Estonia\", \"Slovenia\", \"Israel\", \"United Arab Emirates\", \"Pakistan\", \"Malaysia\", \"Poland\", \"Slovakia\", \"Jordan\", \"Cyprus\", \"Czech Republic\", \"Nigeria\", \"Morocco\", \"Romania\", \"Argentina\", \"Ukraine\", \"Latvia\", \"Kenya\", \"Uganda\", \"Belarus\"], \"y\": [83.03684210526318, 74.44166666666666, 72.92424242424244, 72.53611111111113, 71.84027777777779, 69.15833333333332, 66.48947368421055, 64.06, 59.282758620689656, 59.18035714285717, 58.55, 58.5, 56.592592592592595, 55.90526315789473, 55.2, 54.36666666666668, 53.393939393939384, 53.20000000000001, 51.149382716049374, 49.61597222222219, 49.54725274725273, 47.75454545454546, 47.28189473684215, 46.8206896551724, 45.94642857142856, 45.6, 44.99615384615383, 44.583333333333336, 44.3, 41.22934782608696, 41.0, 40.275, 40.0, 39.440000000000005, 39.072413793103436, 38.1, 37.847017543859664, 37.644444444444446, 37.6, 37.16842105263158, 36.408, 35.92, 34.53333333333334, 34.25, 33.42, 32.625, 32.6, 32.3, 31.971428571428568, 31.7, 31.3, 31.28, 30.681818181818183, 30.6, 30.1, 30.0, 29.327272727272728, 29.2, 28.9, 28.766666666666666, 28.6, 28.4, 28.3, 28.0, 28.0, 28.0]}],\n",
       "                        {\"template\": {\"data\": {\"bar\": [{\"error_x\": {\"color\": \"#2a3f5f\"}, \"error_y\": {\"color\": \"#2a3f5f\"}, \"marker\": {\"line\": {\"color\": \"#E5ECF6\", \"width\": 0.5}}, \"type\": \"bar\"}], \"barpolar\": [{\"marker\": {\"line\": {\"color\": \"#E5ECF6\", \"width\": 0.5}}, \"type\": \"barpolar\"}], \"carpet\": [{\"aaxis\": {\"endlinecolor\": \"#2a3f5f\", \"gridcolor\": \"white\", \"linecolor\": \"white\", \"minorgridcolor\": \"white\", \"startlinecolor\": \"#2a3f5f\"}, \"baxis\": {\"endlinecolor\": \"#2a3f5f\", \"gridcolor\": \"white\", \"linecolor\": \"white\", \"minorgridcolor\": \"white\", \"startlinecolor\": \"#2a3f5f\"}, \"type\": \"carpet\"}], \"choropleth\": [{\"colorbar\": {\"outlinewidth\": 0, \"ticks\": \"\"}, \"type\": \"choropleth\"}], \"contour\": [{\"colorbar\": {\"outlinewidth\": 0, \"ticks\": \"\"}, \"colorscale\": [[0.0, \"#0d0887\"], [0.1111111111111111, \"#46039f\"], [0.2222222222222222, \"#7201a8\"], [0.3333333333333333, \"#9c179e\"], [0.4444444444444444, \"#bd3786\"], [0.5555555555555556, \"#d8576b\"], [0.6666666666666666, \"#ed7953\"], [0.7777777777777778, \"#fb9f3a\"], [0.8888888888888888, \"#fdca26\"], [1.0, \"#f0f921\"]], \"type\": \"contour\"}], \"contourcarpet\": [{\"colorbar\": {\"outlinewidth\": 0, \"ticks\": \"\"}, \"type\": \"contourcarpet\"}], \"heatmap\": [{\"colorbar\": {\"outlinewidth\": 0, \"ticks\": \"\"}, \"colorscale\": [[0.0, \"#0d0887\"], [0.1111111111111111, \"#46039f\"], [0.2222222222222222, \"#7201a8\"], [0.3333333333333333, \"#9c179e\"], [0.4444444444444444, \"#bd3786\"], [0.5555555555555556, \"#d8576b\"], [0.6666666666666666, \"#ed7953\"], [0.7777777777777778, \"#fb9f3a\"], [0.8888888888888888, \"#fdca26\"], [1.0, \"#f0f921\"]], \"type\": \"heatmap\"}], \"heatmapgl\": [{\"colorbar\": {\"outlinewidth\": 0, \"ticks\": \"\"}, \"colorscale\": [[0.0, \"#0d0887\"], [0.1111111111111111, \"#46039f\"], [0.2222222222222222, \"#7201a8\"], [0.3333333333333333, \"#9c179e\"], [0.4444444444444444, \"#bd3786\"], [0.5555555555555556, \"#d8576b\"], [0.6666666666666666, \"#ed7953\"], [0.7777777777777778, \"#fb9f3a\"], [0.8888888888888888, \"#fdca26\"], [1.0, \"#f0f921\"]], \"type\": \"heatmapgl\"}], \"histogram\": [{\"marker\": {\"colorbar\": {\"outlinewidth\": 0, \"ticks\": \"\"}}, \"type\": \"histogram\"}], \"histogram2d\": [{\"colorbar\": {\"outlinewidth\": 0, \"ticks\": \"\"}, \"colorscale\": [[0.0, \"#0d0887\"], [0.1111111111111111, \"#46039f\"], [0.2222222222222222, \"#7201a8\"], [0.3333333333333333, \"#9c179e\"], [0.4444444444444444, \"#bd3786\"], [0.5555555555555556, \"#d8576b\"], [0.6666666666666666, \"#ed7953\"], [0.7777777777777778, \"#fb9f3a\"], [0.8888888888888888, \"#fdca26\"], [1.0, \"#f0f921\"]], \"type\": \"histogram2d\"}], \"histogram2dcontour\": [{\"colorbar\": {\"outlinewidth\": 0, \"ticks\": \"\"}, \"colorscale\": [[0.0, \"#0d0887\"], [0.1111111111111111, \"#46039f\"], [0.2222222222222222, \"#7201a8\"], [0.3333333333333333, \"#9c179e\"], [0.4444444444444444, \"#bd3786\"], [0.5555555555555556, \"#d8576b\"], [0.6666666666666666, \"#ed7953\"], [0.7777777777777778, \"#fb9f3a\"], [0.8888888888888888, \"#fdca26\"], [1.0, \"#f0f921\"]], \"type\": \"histogram2dcontour\"}], \"mesh3d\": [{\"colorbar\": {\"outlinewidth\": 0, \"ticks\": \"\"}, \"type\": \"mesh3d\"}], \"parcoords\": [{\"line\": {\"colorbar\": {\"outlinewidth\": 0, \"ticks\": \"\"}}, \"type\": \"parcoords\"}], \"scatter\": [{\"marker\": {\"colorbar\": {\"outlinewidth\": 0, \"ticks\": \"\"}}, \"type\": \"scatter\"}], \"scatter3d\": [{\"line\": {\"colorbar\": {\"outlinewidth\": 0, \"ticks\": \"\"}}, \"marker\": {\"colorbar\": {\"outlinewidth\": 0, \"ticks\": \"\"}}, \"type\": \"scatter3d\"}], \"scattercarpet\": [{\"marker\": {\"colorbar\": {\"outlinewidth\": 0, \"ticks\": \"\"}}, \"type\": \"scattercarpet\"}], \"scattergeo\": [{\"marker\": {\"colorbar\": {\"outlinewidth\": 0, \"ticks\": \"\"}}, \"type\": \"scattergeo\"}], \"scattergl\": [{\"marker\": {\"colorbar\": {\"outlinewidth\": 0, \"ticks\": \"\"}}, \"type\": \"scattergl\"}], \"scattermapbox\": [{\"marker\": {\"colorbar\": {\"outlinewidth\": 0, \"ticks\": \"\"}}, \"type\": \"scattermapbox\"}], \"scatterpolar\": [{\"marker\": {\"colorbar\": {\"outlinewidth\": 0, \"ticks\": \"\"}}, \"type\": \"scatterpolar\"}], \"scatterpolargl\": [{\"marker\": {\"colorbar\": {\"outlinewidth\": 0, \"ticks\": \"\"}}, \"type\": \"scatterpolargl\"}], \"scatterternary\": [{\"marker\": {\"colorbar\": {\"outlinewidth\": 0, \"ticks\": \"\"}}, \"type\": \"scatterternary\"}], \"surface\": [{\"colorbar\": {\"outlinewidth\": 0, \"ticks\": \"\"}, \"colorscale\": [[0.0, \"#0d0887\"], [0.1111111111111111, \"#46039f\"], [0.2222222222222222, \"#7201a8\"], [0.3333333333333333, \"#9c179e\"], [0.4444444444444444, \"#bd3786\"], [0.5555555555555556, \"#d8576b\"], [0.6666666666666666, \"#ed7953\"], [0.7777777777777778, \"#fb9f3a\"], [0.8888888888888888, \"#fdca26\"], [1.0, \"#f0f921\"]], \"type\": \"surface\"}], \"table\": [{\"cells\": {\"fill\": {\"color\": \"#EBF0F8\"}, \"line\": {\"color\": \"white\"}}, \"header\": {\"fill\": {\"color\": \"#C8D4E3\"}, \"line\": {\"color\": \"white\"}}, \"type\": \"table\"}]}, \"layout\": {\"annotationdefaults\": {\"arrowcolor\": \"#2a3f5f\", \"arrowhead\": 0, \"arrowwidth\": 1}, \"colorscale\": {\"diverging\": [[0, \"#8e0152\"], [0.1, \"#c51b7d\"], [0.2, \"#de77ae\"], [0.3, \"#f1b6da\"], [0.4, \"#fde0ef\"], [0.5, \"#f7f7f7\"], [0.6, \"#e6f5d0\"], [0.7, \"#b8e186\"], [0.8, \"#7fbc41\"], [0.9, \"#4d9221\"], [1, \"#276419\"]], \"sequential\": [[0.0, \"#0d0887\"], [0.1111111111111111, \"#46039f\"], [0.2222222222222222, \"#7201a8\"], [0.3333333333333333, \"#9c179e\"], [0.4444444444444444, \"#bd3786\"], [0.5555555555555556, \"#d8576b\"], [0.6666666666666666, \"#ed7953\"], [0.7777777777777778, \"#fb9f3a\"], [0.8888888888888888, \"#fdca26\"], [1.0, \"#f0f921\"]], \"sequentialminus\": [[0.0, \"#0d0887\"], [0.1111111111111111, \"#46039f\"], [0.2222222222222222, \"#7201a8\"], [0.3333333333333333, \"#9c179e\"], [0.4444444444444444, \"#bd3786\"], [0.5555555555555556, \"#d8576b\"], [0.6666666666666666, \"#ed7953\"], [0.7777777777777778, \"#fb9f3a\"], [0.8888888888888888, \"#fdca26\"], [1.0, \"#f0f921\"]]}, \"colorway\": [\"#636efa\", \"#EF553B\", \"#00cc96\", \"#ab63fa\", \"#FFA15A\", \"#19d3f3\", \"#FF6692\", \"#B6E880\", \"#FF97FF\", \"#FECB52\"], \"font\": {\"color\": \"#2a3f5f\"}, \"geo\": {\"bgcolor\": \"white\", \"lakecolor\": \"white\", \"landcolor\": \"#E5ECF6\", \"showlakes\": true, \"showland\": true, \"subunitcolor\": \"white\"}, \"hoverlabel\": {\"align\": \"left\"}, \"hovermode\": \"closest\", \"mapbox\": {\"style\": \"light\"}, \"paper_bgcolor\": \"white\", \"plot_bgcolor\": \"#E5ECF6\", \"polar\": {\"angularaxis\": {\"gridcolor\": \"white\", \"linecolor\": \"white\", \"ticks\": \"\"}, \"bgcolor\": \"#E5ECF6\", \"radialaxis\": {\"gridcolor\": \"white\", \"linecolor\": \"white\", \"ticks\": \"\"}}, \"scene\": {\"xaxis\": {\"backgroundcolor\": \"#E5ECF6\", \"gridcolor\": \"white\", \"gridwidth\": 2, \"linecolor\": \"white\", \"showbackground\": true, \"ticks\": \"\", \"zerolinecolor\": \"white\"}, \"yaxis\": {\"backgroundcolor\": \"#E5ECF6\", \"gridcolor\": \"white\", \"gridwidth\": 2, \"linecolor\": \"white\", \"showbackground\": true, \"ticks\": \"\", \"zerolinecolor\": \"white\"}, \"zaxis\": {\"backgroundcolor\": \"#E5ECF6\", \"gridcolor\": \"white\", \"gridwidth\": 2, \"linecolor\": \"white\", \"showbackground\": true, \"ticks\": \"\", \"zerolinecolor\": \"white\"}}, \"shapedefaults\": {\"line\": {\"color\": \"#2a3f5f\"}}, \"ternary\": {\"aaxis\": {\"gridcolor\": \"white\", \"linecolor\": \"white\", \"ticks\": \"\"}, \"baxis\": {\"gridcolor\": \"white\", \"linecolor\": \"white\", \"ticks\": \"\"}, \"bgcolor\": \"#E5ECF6\", \"caxis\": {\"gridcolor\": \"white\", \"linecolor\": \"white\", \"ticks\": \"\"}}, \"title\": {\"x\": 0.05}, \"xaxis\": {\"automargin\": true, \"gridcolor\": \"white\", \"linecolor\": \"white\", \"ticks\": \"\", \"zerolinecolor\": \"white\", \"zerolinewidth\": 2}, \"yaxis\": {\"automargin\": true, \"gridcolor\": \"white\", \"linecolor\": \"white\", \"ticks\": \"\", \"zerolinecolor\": \"white\", \"zerolinewidth\": 2}}}, \"title\": {\"text\": \"La moyenne du score universitaire pour le revenu de l'industrie  par pays de 2011 \\u00e0 2016\"}, \"yaxis\": {\"title\": {\"text\": \"Score universitaire pour le revenu de l'industrie\"}}},\n",
       "                        {\"responsive\": true}\n",
       "                    ).then(function(){\n",
       "                            \n",
       "var gd = document.getElementById('7b0d045a-e8d7-403c-90f2-68a8f8eb9eea');\n",
       "var x = new MutationObserver(function (mutations, observer) {{\n",
       "        var display = window.getComputedStyle(gd).display;\n",
       "        if (!display || display === 'none') {{\n",
       "            console.log([gd, 'removed!']);\n",
       "            Plotly.purge(gd);\n",
       "            observer.disconnect();\n",
       "        }}\n",
       "}});\n",
       "\n",
       "// Listen for the removal of the full notebook cells\n",
       "var notebookContainer = gd.closest('#notebook-container');\n",
       "if (notebookContainer) {{\n",
       "    x.observe(notebookContainer, {childList: true});\n",
       "}}\n",
       "\n",
       "// Listen for the clearing of the current output cell\n",
       "var outputEl = gd.closest('.output');\n",
       "if (outputEl) {{\n",
       "    x.observe(outputEl, {childList: true});\n",
       "}}\n",
       "\n",
       "                        })\n",
       "                };\n",
       "                });\n",
       "            </script>\n",
       "        </div>"
      ]
     },
     "metadata": {},
     "output_type": "display_data"
    }
   ],
   "source": [
    "x = df1.index\n",
    "y = df1.income\n",
    "\n",
    "# import graph objects as \"go\"\n",
    "import plotly.graph_objs as go\n",
    "\n",
    "# Création de la trame 1\n",
    "trace = go.Scatter(\n",
    "                    x = x,\n",
    "                    y = y,\n",
    "                    mode = \"lines + markers\",\n",
    "                    name = \"score\",\n",
    "                    marker = dict(color = 'rgba(16, 112, 2, 0.8)'),\n",
    "                    text = df.university_name)\n",
    "\n",
    "layout = dict(title = 'La moyenne du score universitaire pour le revenu de l\\'industrie  par pays de 2011 à 2016',\n",
    "              yaxis = dict(title = 'Score universitaire pour le revenu de l\\'industrie')\n",
    "             )\n",
    "\n",
    "data = [trace]\n",
    "fig = dict(data = data, layout = layout)\n",
    "iplot(fig)"
   ]
  },
  {
   "cell_type": "code",
   "execution_count": 10,
   "metadata": {},
   "outputs": [
    {
     "data": {
      "application/vnd.plotly.v1+json": {
       "config": {
        "linkText": "Export to plot.ly",
        "plotlyServerURL": "https://plot.ly",
        "showLink": false
       },
       "data": [
        {
         "marker": {
          "color": "rgba(255, 128, 255, 0.8)"
         },
         "mode": "markers",
         "name": "score",
         "text": [
          83.03684210526318,
          74.44166666666666,
          72.92424242424244,
          72.53611111111113,
          71.84027777777779,
          69.15833333333332,
          66.48947368421055,
          64.06,
          59.282758620689656,
          59.18035714285717,
          58.55,
          58.5,
          56.592592592592595,
          55.90526315789473,
          55.2,
          54.36666666666668,
          53.393939393939384,
          53.20000000000001,
          51.149382716049374,
          49.61597222222219,
          49.54725274725273,
          47.75454545454546,
          47.28189473684215,
          46.8206896551724,
          45.94642857142856,
          45.6,
          44.99615384615383,
          44.583333333333336,
          44.3,
          41.22934782608696,
          41,
          40.275,
          40,
          39.440000000000005,
          39.072413793103436,
          38.1,
          37.847017543859664,
          37.644444444444446,
          37.6,
          37.16842105263158,
          36.408,
          35.92,
          34.53333333333334,
          34.25,
          33.42,
          32.625,
          32.6,
          32.3,
          31.971428571428568,
          31.7,
          31.3,
          31.28,
          30.681818181818183,
          30.6,
          30.1,
          30,
          29.327272727272728,
          29.2,
          28.9,
          28.766666666666666,
          28.6,
          28.4,
          28.3,
          28,
          28,
          28
         ],
         "type": "scatter",
         "x": [
          "South Africa",
          "Iran",
          "South Korea",
          "Belgium",
          "Netherlands",
          "Singapore",
          "China",
          "Iceland",
          "Denmark",
          "Taiwan",
          "Saudi Arabia",
          "Mexico",
          "Turkey",
          "Sweden",
          "Qatar",
          "Switzerland",
          "Germany",
          "Russian Federation",
          "Japan",
          "Australia",
          "Canada",
          "Thailand",
          "United States of America",
          "New Zealand",
          "Hong Kong",
          "Serbia",
          "India",
          "Finland",
          "Brazil",
          "Italy",
          "Lithuania",
          "Norway",
          "Indonesia",
          "Greece",
          "France",
          "Luxembourg",
          "United Kingdom",
          "Portugal",
          "Oman",
          "Spain",
          "Republic of Ireland",
          "Chile",
          "Hungary",
          "Macau",
          "Colombia",
          "Egypt",
          "Estonia",
          "Slovenia",
          "Israel",
          "United Arab Emirates",
          "Pakistan",
          "Malaysia",
          "Poland",
          "Slovakia",
          "Jordan",
          "Cyprus",
          "Czech Republic",
          "Nigeria",
          "Morocco",
          "Romania",
          "Argentina",
          "Ukraine",
          "Latvia",
          "Kenya",
          "Uganda",
          "Belarus"
         ],
         "y": [
          83.03684210526318,
          74.44166666666666,
          72.92424242424244,
          72.53611111111113,
          71.84027777777779,
          69.15833333333332,
          66.48947368421055,
          64.06,
          59.282758620689656,
          59.18035714285717,
          58.55,
          58.5,
          56.592592592592595,
          55.90526315789473,
          55.2,
          54.36666666666668,
          53.393939393939384,
          53.20000000000001,
          51.149382716049374,
          49.61597222222219,
          49.54725274725273,
          47.75454545454546,
          47.28189473684215,
          46.8206896551724,
          45.94642857142856,
          45.6,
          44.99615384615383,
          44.583333333333336,
          44.3,
          41.22934782608696,
          41,
          40.275,
          40,
          39.440000000000005,
          39.072413793103436,
          38.1,
          37.847017543859664,
          37.644444444444446,
          37.6,
          37.16842105263158,
          36.408,
          35.92,
          34.53333333333334,
          34.25,
          33.42,
          32.625,
          32.6,
          32.3,
          31.971428571428568,
          31.7,
          31.3,
          31.28,
          30.681818181818183,
          30.6,
          30.1,
          30,
          29.327272727272728,
          29.2,
          28.9,
          28.766666666666666,
          28.6,
          28.4,
          28.3,
          28,
          28,
          28
         ]
        }
       ],
       "layout": {
        "template": {
         "data": {
          "bar": [
           {
            "error_x": {
             "color": "#2a3f5f"
            },
            "error_y": {
             "color": "#2a3f5f"
            },
            "marker": {
             "line": {
              "color": "#E5ECF6",
              "width": 0.5
             }
            },
            "type": "bar"
           }
          ],
          "barpolar": [
           {
            "marker": {
             "line": {
              "color": "#E5ECF6",
              "width": 0.5
             }
            },
            "type": "barpolar"
           }
          ],
          "carpet": [
           {
            "aaxis": {
             "endlinecolor": "#2a3f5f",
             "gridcolor": "white",
             "linecolor": "white",
             "minorgridcolor": "white",
             "startlinecolor": "#2a3f5f"
            },
            "baxis": {
             "endlinecolor": "#2a3f5f",
             "gridcolor": "white",
             "linecolor": "white",
             "minorgridcolor": "white",
             "startlinecolor": "#2a3f5f"
            },
            "type": "carpet"
           }
          ],
          "choropleth": [
           {
            "colorbar": {
             "outlinewidth": 0,
             "ticks": ""
            },
            "type": "choropleth"
           }
          ],
          "contour": [
           {
            "colorbar": {
             "outlinewidth": 0,
             "ticks": ""
            },
            "colorscale": [
             [
              0,
              "#0d0887"
             ],
             [
              0.1111111111111111,
              "#46039f"
             ],
             [
              0.2222222222222222,
              "#7201a8"
             ],
             [
              0.3333333333333333,
              "#9c179e"
             ],
             [
              0.4444444444444444,
              "#bd3786"
             ],
             [
              0.5555555555555556,
              "#d8576b"
             ],
             [
              0.6666666666666666,
              "#ed7953"
             ],
             [
              0.7777777777777778,
              "#fb9f3a"
             ],
             [
              0.8888888888888888,
              "#fdca26"
             ],
             [
              1,
              "#f0f921"
             ]
            ],
            "type": "contour"
           }
          ],
          "contourcarpet": [
           {
            "colorbar": {
             "outlinewidth": 0,
             "ticks": ""
            },
            "type": "contourcarpet"
           }
          ],
          "heatmap": [
           {
            "colorbar": {
             "outlinewidth": 0,
             "ticks": ""
            },
            "colorscale": [
             [
              0,
              "#0d0887"
             ],
             [
              0.1111111111111111,
              "#46039f"
             ],
             [
              0.2222222222222222,
              "#7201a8"
             ],
             [
              0.3333333333333333,
              "#9c179e"
             ],
             [
              0.4444444444444444,
              "#bd3786"
             ],
             [
              0.5555555555555556,
              "#d8576b"
             ],
             [
              0.6666666666666666,
              "#ed7953"
             ],
             [
              0.7777777777777778,
              "#fb9f3a"
             ],
             [
              0.8888888888888888,
              "#fdca26"
             ],
             [
              1,
              "#f0f921"
             ]
            ],
            "type": "heatmap"
           }
          ],
          "heatmapgl": [
           {
            "colorbar": {
             "outlinewidth": 0,
             "ticks": ""
            },
            "colorscale": [
             [
              0,
              "#0d0887"
             ],
             [
              0.1111111111111111,
              "#46039f"
             ],
             [
              0.2222222222222222,
              "#7201a8"
             ],
             [
              0.3333333333333333,
              "#9c179e"
             ],
             [
              0.4444444444444444,
              "#bd3786"
             ],
             [
              0.5555555555555556,
              "#d8576b"
             ],
             [
              0.6666666666666666,
              "#ed7953"
             ],
             [
              0.7777777777777778,
              "#fb9f3a"
             ],
             [
              0.8888888888888888,
              "#fdca26"
             ],
             [
              1,
              "#f0f921"
             ]
            ],
            "type": "heatmapgl"
           }
          ],
          "histogram": [
           {
            "marker": {
             "colorbar": {
              "outlinewidth": 0,
              "ticks": ""
             }
            },
            "type": "histogram"
           }
          ],
          "histogram2d": [
           {
            "colorbar": {
             "outlinewidth": 0,
             "ticks": ""
            },
            "colorscale": [
             [
              0,
              "#0d0887"
             ],
             [
              0.1111111111111111,
              "#46039f"
             ],
             [
              0.2222222222222222,
              "#7201a8"
             ],
             [
              0.3333333333333333,
              "#9c179e"
             ],
             [
              0.4444444444444444,
              "#bd3786"
             ],
             [
              0.5555555555555556,
              "#d8576b"
             ],
             [
              0.6666666666666666,
              "#ed7953"
             ],
             [
              0.7777777777777778,
              "#fb9f3a"
             ],
             [
              0.8888888888888888,
              "#fdca26"
             ],
             [
              1,
              "#f0f921"
             ]
            ],
            "type": "histogram2d"
           }
          ],
          "histogram2dcontour": [
           {
            "colorbar": {
             "outlinewidth": 0,
             "ticks": ""
            },
            "colorscale": [
             [
              0,
              "#0d0887"
             ],
             [
              0.1111111111111111,
              "#46039f"
             ],
             [
              0.2222222222222222,
              "#7201a8"
             ],
             [
              0.3333333333333333,
              "#9c179e"
             ],
             [
              0.4444444444444444,
              "#bd3786"
             ],
             [
              0.5555555555555556,
              "#d8576b"
             ],
             [
              0.6666666666666666,
              "#ed7953"
             ],
             [
              0.7777777777777778,
              "#fb9f3a"
             ],
             [
              0.8888888888888888,
              "#fdca26"
             ],
             [
              1,
              "#f0f921"
             ]
            ],
            "type": "histogram2dcontour"
           }
          ],
          "mesh3d": [
           {
            "colorbar": {
             "outlinewidth": 0,
             "ticks": ""
            },
            "type": "mesh3d"
           }
          ],
          "parcoords": [
           {
            "line": {
             "colorbar": {
              "outlinewidth": 0,
              "ticks": ""
             }
            },
            "type": "parcoords"
           }
          ],
          "scatter": [
           {
            "marker": {
             "colorbar": {
              "outlinewidth": 0,
              "ticks": ""
             }
            },
            "type": "scatter"
           }
          ],
          "scatter3d": [
           {
            "line": {
             "colorbar": {
              "outlinewidth": 0,
              "ticks": ""
             }
            },
            "marker": {
             "colorbar": {
              "outlinewidth": 0,
              "ticks": ""
             }
            },
            "type": "scatter3d"
           }
          ],
          "scattercarpet": [
           {
            "marker": {
             "colorbar": {
              "outlinewidth": 0,
              "ticks": ""
             }
            },
            "type": "scattercarpet"
           }
          ],
          "scattergeo": [
           {
            "marker": {
             "colorbar": {
              "outlinewidth": 0,
              "ticks": ""
             }
            },
            "type": "scattergeo"
           }
          ],
          "scattergl": [
           {
            "marker": {
             "colorbar": {
              "outlinewidth": 0,
              "ticks": ""
             }
            },
            "type": "scattergl"
           }
          ],
          "scattermapbox": [
           {
            "marker": {
             "colorbar": {
              "outlinewidth": 0,
              "ticks": ""
             }
            },
            "type": "scattermapbox"
           }
          ],
          "scatterpolar": [
           {
            "marker": {
             "colorbar": {
              "outlinewidth": 0,
              "ticks": ""
             }
            },
            "type": "scatterpolar"
           }
          ],
          "scatterpolargl": [
           {
            "marker": {
             "colorbar": {
              "outlinewidth": 0,
              "ticks": ""
             }
            },
            "type": "scatterpolargl"
           }
          ],
          "scatterternary": [
           {
            "marker": {
             "colorbar": {
              "outlinewidth": 0,
              "ticks": ""
             }
            },
            "type": "scatterternary"
           }
          ],
          "surface": [
           {
            "colorbar": {
             "outlinewidth": 0,
             "ticks": ""
            },
            "colorscale": [
             [
              0,
              "#0d0887"
             ],
             [
              0.1111111111111111,
              "#46039f"
             ],
             [
              0.2222222222222222,
              "#7201a8"
             ],
             [
              0.3333333333333333,
              "#9c179e"
             ],
             [
              0.4444444444444444,
              "#bd3786"
             ],
             [
              0.5555555555555556,
              "#d8576b"
             ],
             [
              0.6666666666666666,
              "#ed7953"
             ],
             [
              0.7777777777777778,
              "#fb9f3a"
             ],
             [
              0.8888888888888888,
              "#fdca26"
             ],
             [
              1,
              "#f0f921"
             ]
            ],
            "type": "surface"
           }
          ],
          "table": [
           {
            "cells": {
             "fill": {
              "color": "#EBF0F8"
             },
             "line": {
              "color": "white"
             }
            },
            "header": {
             "fill": {
              "color": "#C8D4E3"
             },
             "line": {
              "color": "white"
             }
            },
            "type": "table"
           }
          ]
         },
         "layout": {
          "annotationdefaults": {
           "arrowcolor": "#2a3f5f",
           "arrowhead": 0,
           "arrowwidth": 1
          },
          "colorscale": {
           "diverging": [
            [
             0,
             "#8e0152"
            ],
            [
             0.1,
             "#c51b7d"
            ],
            [
             0.2,
             "#de77ae"
            ],
            [
             0.3,
             "#f1b6da"
            ],
            [
             0.4,
             "#fde0ef"
            ],
            [
             0.5,
             "#f7f7f7"
            ],
            [
             0.6,
             "#e6f5d0"
            ],
            [
             0.7,
             "#b8e186"
            ],
            [
             0.8,
             "#7fbc41"
            ],
            [
             0.9,
             "#4d9221"
            ],
            [
             1,
             "#276419"
            ]
           ],
           "sequential": [
            [
             0,
             "#0d0887"
            ],
            [
             0.1111111111111111,
             "#46039f"
            ],
            [
             0.2222222222222222,
             "#7201a8"
            ],
            [
             0.3333333333333333,
             "#9c179e"
            ],
            [
             0.4444444444444444,
             "#bd3786"
            ],
            [
             0.5555555555555556,
             "#d8576b"
            ],
            [
             0.6666666666666666,
             "#ed7953"
            ],
            [
             0.7777777777777778,
             "#fb9f3a"
            ],
            [
             0.8888888888888888,
             "#fdca26"
            ],
            [
             1,
             "#f0f921"
            ]
           ],
           "sequentialminus": [
            [
             0,
             "#0d0887"
            ],
            [
             0.1111111111111111,
             "#46039f"
            ],
            [
             0.2222222222222222,
             "#7201a8"
            ],
            [
             0.3333333333333333,
             "#9c179e"
            ],
            [
             0.4444444444444444,
             "#bd3786"
            ],
            [
             0.5555555555555556,
             "#d8576b"
            ],
            [
             0.6666666666666666,
             "#ed7953"
            ],
            [
             0.7777777777777778,
             "#fb9f3a"
            ],
            [
             0.8888888888888888,
             "#fdca26"
            ],
            [
             1,
             "#f0f921"
            ]
           ]
          },
          "colorway": [
           "#636efa",
           "#EF553B",
           "#00cc96",
           "#ab63fa",
           "#FFA15A",
           "#19d3f3",
           "#FF6692",
           "#B6E880",
           "#FF97FF",
           "#FECB52"
          ],
          "font": {
           "color": "#2a3f5f"
          },
          "geo": {
           "bgcolor": "white",
           "lakecolor": "white",
           "landcolor": "#E5ECF6",
           "showlakes": true,
           "showland": true,
           "subunitcolor": "white"
          },
          "hoverlabel": {
           "align": "left"
          },
          "hovermode": "closest",
          "mapbox": {
           "style": "light"
          },
          "paper_bgcolor": "white",
          "plot_bgcolor": "#E5ECF6",
          "polar": {
           "angularaxis": {
            "gridcolor": "white",
            "linecolor": "white",
            "ticks": ""
           },
           "bgcolor": "#E5ECF6",
           "radialaxis": {
            "gridcolor": "white",
            "linecolor": "white",
            "ticks": ""
           }
          },
          "scene": {
           "xaxis": {
            "backgroundcolor": "#E5ECF6",
            "gridcolor": "white",
            "gridwidth": 2,
            "linecolor": "white",
            "showbackground": true,
            "ticks": "",
            "zerolinecolor": "white"
           },
           "yaxis": {
            "backgroundcolor": "#E5ECF6",
            "gridcolor": "white",
            "gridwidth": 2,
            "linecolor": "white",
            "showbackground": true,
            "ticks": "",
            "zerolinecolor": "white"
           },
           "zaxis": {
            "backgroundcolor": "#E5ECF6",
            "gridcolor": "white",
            "gridwidth": 2,
            "linecolor": "white",
            "showbackground": true,
            "ticks": "",
            "zerolinecolor": "white"
           }
          },
          "shapedefaults": {
           "line": {
            "color": "#2a3f5f"
           }
          },
          "ternary": {
           "aaxis": {
            "gridcolor": "white",
            "linecolor": "white",
            "ticks": ""
           },
           "baxis": {
            "gridcolor": "white",
            "linecolor": "white",
            "ticks": ""
           },
           "bgcolor": "#E5ECF6",
           "caxis": {
            "gridcolor": "white",
            "linecolor": "white",
            "ticks": ""
           }
          },
          "title": {
           "x": 0.05
          },
          "xaxis": {
           "automargin": true,
           "gridcolor": "white",
           "linecolor": "white",
           "ticks": "",
           "zerolinecolor": "white",
           "zerolinewidth": 2
          },
          "yaxis": {
           "automargin": true,
           "gridcolor": "white",
           "linecolor": "white",
           "ticks": "",
           "zerolinecolor": "white",
           "zerolinewidth": 2
          }
         }
        },
        "title": {
         "text": "La moyenne du score universitaire pour le revenu de l'industrie  par pays de 2011 à 2016"
        },
        "yaxis": {
         "title": {
          "text": "Score universitaire pour le revenu de l'industrie"
         }
        }
       }
      },
      "text/html": [
       "<div>\n",
       "        \n",
       "        \n",
       "            <div id=\"c2623ee0-62be-4b60-ab11-40be3f45b766\" class=\"plotly-graph-div\" style=\"height:525px; width:100%;\"></div>\n",
       "            <script type=\"text/javascript\">\n",
       "                require([\"plotly\"], function(Plotly) {\n",
       "                    window.PLOTLYENV=window.PLOTLYENV || {};\n",
       "                    \n",
       "                if (document.getElementById(\"c2623ee0-62be-4b60-ab11-40be3f45b766\")) {\n",
       "                    Plotly.newPlot(\n",
       "                        'c2623ee0-62be-4b60-ab11-40be3f45b766',\n",
       "                        [{\"marker\": {\"color\": \"rgba(255, 128, 255, 0.8)\"}, \"mode\": \"markers\", \"name\": \"score\", \"text\": [83.03684210526318, 74.44166666666666, 72.92424242424244, 72.53611111111113, 71.84027777777779, 69.15833333333332, 66.48947368421055, 64.06, 59.282758620689656, 59.18035714285717, 58.55, 58.5, 56.592592592592595, 55.90526315789473, 55.2, 54.36666666666668, 53.393939393939384, 53.20000000000001, 51.149382716049374, 49.61597222222219, 49.54725274725273, 47.75454545454546, 47.28189473684215, 46.8206896551724, 45.94642857142856, 45.6, 44.99615384615383, 44.583333333333336, 44.3, 41.22934782608696, 41.0, 40.275, 40.0, 39.440000000000005, 39.072413793103436, 38.1, 37.847017543859664, 37.644444444444446, 37.6, 37.16842105263158, 36.408, 35.92, 34.53333333333334, 34.25, 33.42, 32.625, 32.6, 32.3, 31.971428571428568, 31.7, 31.3, 31.28, 30.681818181818183, 30.6, 30.1, 30.0, 29.327272727272728, 29.2, 28.9, 28.766666666666666, 28.6, 28.4, 28.3, 28.0, 28.0, 28.0], \"type\": \"scatter\", \"x\": [\"South Africa\", \"Iran\", \"South Korea\", \"Belgium\", \"Netherlands\", \"Singapore\", \"China\", \"Iceland\", \"Denmark\", \"Taiwan\", \"Saudi Arabia\", \"Mexico\", \"Turkey\", \"Sweden\", \"Qatar\", \"Switzerland\", \"Germany\", \"Russian Federation\", \"Japan\", \"Australia\", \"Canada\", \"Thailand\", \"United States of America\", \"New Zealand\", \"Hong Kong\", \"Serbia\", \"India\", \"Finland\", \"Brazil\", \"Italy\", \"Lithuania\", \"Norway\", \"Indonesia\", \"Greece\", \"France\", \"Luxembourg\", \"United Kingdom\", \"Portugal\", \"Oman\", \"Spain\", \"Republic of Ireland\", \"Chile\", \"Hungary\", \"Macau\", \"Colombia\", \"Egypt\", \"Estonia\", \"Slovenia\", \"Israel\", \"United Arab Emirates\", \"Pakistan\", \"Malaysia\", \"Poland\", \"Slovakia\", \"Jordan\", \"Cyprus\", \"Czech Republic\", \"Nigeria\", \"Morocco\", \"Romania\", \"Argentina\", \"Ukraine\", \"Latvia\", \"Kenya\", \"Uganda\", \"Belarus\"], \"y\": [83.03684210526318, 74.44166666666666, 72.92424242424244, 72.53611111111113, 71.84027777777779, 69.15833333333332, 66.48947368421055, 64.06, 59.282758620689656, 59.18035714285717, 58.55, 58.5, 56.592592592592595, 55.90526315789473, 55.2, 54.36666666666668, 53.393939393939384, 53.20000000000001, 51.149382716049374, 49.61597222222219, 49.54725274725273, 47.75454545454546, 47.28189473684215, 46.8206896551724, 45.94642857142856, 45.6, 44.99615384615383, 44.583333333333336, 44.3, 41.22934782608696, 41.0, 40.275, 40.0, 39.440000000000005, 39.072413793103436, 38.1, 37.847017543859664, 37.644444444444446, 37.6, 37.16842105263158, 36.408, 35.92, 34.53333333333334, 34.25, 33.42, 32.625, 32.6, 32.3, 31.971428571428568, 31.7, 31.3, 31.28, 30.681818181818183, 30.6, 30.1, 30.0, 29.327272727272728, 29.2, 28.9, 28.766666666666666, 28.6, 28.4, 28.3, 28.0, 28.0, 28.0]}],\n",
       "                        {\"template\": {\"data\": {\"bar\": [{\"error_x\": {\"color\": \"#2a3f5f\"}, \"error_y\": {\"color\": \"#2a3f5f\"}, \"marker\": {\"line\": {\"color\": \"#E5ECF6\", \"width\": 0.5}}, \"type\": \"bar\"}], \"barpolar\": [{\"marker\": {\"line\": {\"color\": \"#E5ECF6\", \"width\": 0.5}}, \"type\": \"barpolar\"}], \"carpet\": [{\"aaxis\": {\"endlinecolor\": \"#2a3f5f\", \"gridcolor\": \"white\", \"linecolor\": \"white\", \"minorgridcolor\": \"white\", \"startlinecolor\": \"#2a3f5f\"}, \"baxis\": {\"endlinecolor\": \"#2a3f5f\", \"gridcolor\": \"white\", \"linecolor\": \"white\", \"minorgridcolor\": \"white\", \"startlinecolor\": \"#2a3f5f\"}, \"type\": \"carpet\"}], \"choropleth\": [{\"colorbar\": {\"outlinewidth\": 0, \"ticks\": \"\"}, \"type\": \"choropleth\"}], \"contour\": [{\"colorbar\": {\"outlinewidth\": 0, \"ticks\": \"\"}, \"colorscale\": [[0.0, \"#0d0887\"], [0.1111111111111111, \"#46039f\"], [0.2222222222222222, \"#7201a8\"], [0.3333333333333333, \"#9c179e\"], [0.4444444444444444, \"#bd3786\"], [0.5555555555555556, \"#d8576b\"], [0.6666666666666666, \"#ed7953\"], [0.7777777777777778, \"#fb9f3a\"], [0.8888888888888888, \"#fdca26\"], [1.0, \"#f0f921\"]], \"type\": \"contour\"}], \"contourcarpet\": [{\"colorbar\": {\"outlinewidth\": 0, \"ticks\": \"\"}, \"type\": \"contourcarpet\"}], \"heatmap\": [{\"colorbar\": {\"outlinewidth\": 0, \"ticks\": \"\"}, \"colorscale\": [[0.0, \"#0d0887\"], [0.1111111111111111, \"#46039f\"], [0.2222222222222222, \"#7201a8\"], [0.3333333333333333, \"#9c179e\"], [0.4444444444444444, \"#bd3786\"], [0.5555555555555556, \"#d8576b\"], [0.6666666666666666, \"#ed7953\"], [0.7777777777777778, \"#fb9f3a\"], [0.8888888888888888, \"#fdca26\"], [1.0, \"#f0f921\"]], \"type\": \"heatmap\"}], \"heatmapgl\": [{\"colorbar\": {\"outlinewidth\": 0, \"ticks\": \"\"}, \"colorscale\": [[0.0, \"#0d0887\"], [0.1111111111111111, \"#46039f\"], [0.2222222222222222, \"#7201a8\"], [0.3333333333333333, \"#9c179e\"], [0.4444444444444444, \"#bd3786\"], [0.5555555555555556, \"#d8576b\"], [0.6666666666666666, \"#ed7953\"], [0.7777777777777778, \"#fb9f3a\"], [0.8888888888888888, \"#fdca26\"], [1.0, \"#f0f921\"]], \"type\": \"heatmapgl\"}], \"histogram\": [{\"marker\": {\"colorbar\": {\"outlinewidth\": 0, \"ticks\": \"\"}}, \"type\": \"histogram\"}], \"histogram2d\": [{\"colorbar\": {\"outlinewidth\": 0, \"ticks\": \"\"}, \"colorscale\": [[0.0, \"#0d0887\"], [0.1111111111111111, \"#46039f\"], [0.2222222222222222, \"#7201a8\"], [0.3333333333333333, \"#9c179e\"], [0.4444444444444444, \"#bd3786\"], [0.5555555555555556, \"#d8576b\"], [0.6666666666666666, \"#ed7953\"], [0.7777777777777778, \"#fb9f3a\"], [0.8888888888888888, \"#fdca26\"], [1.0, \"#f0f921\"]], \"type\": \"histogram2d\"}], \"histogram2dcontour\": [{\"colorbar\": {\"outlinewidth\": 0, \"ticks\": \"\"}, \"colorscale\": [[0.0, \"#0d0887\"], [0.1111111111111111, \"#46039f\"], [0.2222222222222222, \"#7201a8\"], [0.3333333333333333, \"#9c179e\"], [0.4444444444444444, \"#bd3786\"], [0.5555555555555556, \"#d8576b\"], [0.6666666666666666, \"#ed7953\"], [0.7777777777777778, \"#fb9f3a\"], [0.8888888888888888, \"#fdca26\"], [1.0, \"#f0f921\"]], \"type\": \"histogram2dcontour\"}], \"mesh3d\": [{\"colorbar\": {\"outlinewidth\": 0, \"ticks\": \"\"}, \"type\": \"mesh3d\"}], \"parcoords\": [{\"line\": {\"colorbar\": {\"outlinewidth\": 0, \"ticks\": \"\"}}, \"type\": \"parcoords\"}], \"scatter\": [{\"marker\": {\"colorbar\": {\"outlinewidth\": 0, \"ticks\": \"\"}}, \"type\": \"scatter\"}], \"scatter3d\": [{\"line\": {\"colorbar\": {\"outlinewidth\": 0, \"ticks\": \"\"}}, \"marker\": {\"colorbar\": {\"outlinewidth\": 0, \"ticks\": \"\"}}, \"type\": \"scatter3d\"}], \"scattercarpet\": [{\"marker\": {\"colorbar\": {\"outlinewidth\": 0, \"ticks\": \"\"}}, \"type\": \"scattercarpet\"}], \"scattergeo\": [{\"marker\": {\"colorbar\": {\"outlinewidth\": 0, \"ticks\": \"\"}}, \"type\": \"scattergeo\"}], \"scattergl\": [{\"marker\": {\"colorbar\": {\"outlinewidth\": 0, \"ticks\": \"\"}}, \"type\": \"scattergl\"}], \"scattermapbox\": [{\"marker\": {\"colorbar\": {\"outlinewidth\": 0, \"ticks\": \"\"}}, \"type\": \"scattermapbox\"}], \"scatterpolar\": [{\"marker\": {\"colorbar\": {\"outlinewidth\": 0, \"ticks\": \"\"}}, \"type\": \"scatterpolar\"}], \"scatterpolargl\": [{\"marker\": {\"colorbar\": {\"outlinewidth\": 0, \"ticks\": \"\"}}, \"type\": \"scatterpolargl\"}], \"scatterternary\": [{\"marker\": {\"colorbar\": {\"outlinewidth\": 0, \"ticks\": \"\"}}, \"type\": \"scatterternary\"}], \"surface\": [{\"colorbar\": {\"outlinewidth\": 0, \"ticks\": \"\"}, \"colorscale\": [[0.0, \"#0d0887\"], [0.1111111111111111, \"#46039f\"], [0.2222222222222222, \"#7201a8\"], [0.3333333333333333, \"#9c179e\"], [0.4444444444444444, \"#bd3786\"], [0.5555555555555556, \"#d8576b\"], [0.6666666666666666, \"#ed7953\"], [0.7777777777777778, \"#fb9f3a\"], [0.8888888888888888, \"#fdca26\"], [1.0, \"#f0f921\"]], \"type\": \"surface\"}], \"table\": [{\"cells\": {\"fill\": {\"color\": \"#EBF0F8\"}, \"line\": {\"color\": \"white\"}}, \"header\": {\"fill\": {\"color\": \"#C8D4E3\"}, \"line\": {\"color\": \"white\"}}, \"type\": \"table\"}]}, \"layout\": {\"annotationdefaults\": {\"arrowcolor\": \"#2a3f5f\", \"arrowhead\": 0, \"arrowwidth\": 1}, \"colorscale\": {\"diverging\": [[0, \"#8e0152\"], [0.1, \"#c51b7d\"], [0.2, \"#de77ae\"], [0.3, \"#f1b6da\"], [0.4, \"#fde0ef\"], [0.5, \"#f7f7f7\"], [0.6, \"#e6f5d0\"], [0.7, \"#b8e186\"], [0.8, \"#7fbc41\"], [0.9, \"#4d9221\"], [1, \"#276419\"]], \"sequential\": [[0.0, \"#0d0887\"], [0.1111111111111111, \"#46039f\"], [0.2222222222222222, \"#7201a8\"], [0.3333333333333333, \"#9c179e\"], [0.4444444444444444, \"#bd3786\"], [0.5555555555555556, \"#d8576b\"], [0.6666666666666666, \"#ed7953\"], [0.7777777777777778, \"#fb9f3a\"], [0.8888888888888888, \"#fdca26\"], [1.0, \"#f0f921\"]], \"sequentialminus\": [[0.0, \"#0d0887\"], [0.1111111111111111, \"#46039f\"], [0.2222222222222222, \"#7201a8\"], [0.3333333333333333, \"#9c179e\"], [0.4444444444444444, \"#bd3786\"], [0.5555555555555556, \"#d8576b\"], [0.6666666666666666, \"#ed7953\"], [0.7777777777777778, \"#fb9f3a\"], [0.8888888888888888, \"#fdca26\"], [1.0, \"#f0f921\"]]}, \"colorway\": [\"#636efa\", \"#EF553B\", \"#00cc96\", \"#ab63fa\", \"#FFA15A\", \"#19d3f3\", \"#FF6692\", \"#B6E880\", \"#FF97FF\", \"#FECB52\"], \"font\": {\"color\": \"#2a3f5f\"}, \"geo\": {\"bgcolor\": \"white\", \"lakecolor\": \"white\", \"landcolor\": \"#E5ECF6\", \"showlakes\": true, \"showland\": true, \"subunitcolor\": \"white\"}, \"hoverlabel\": {\"align\": \"left\"}, \"hovermode\": \"closest\", \"mapbox\": {\"style\": \"light\"}, \"paper_bgcolor\": \"white\", \"plot_bgcolor\": \"#E5ECF6\", \"polar\": {\"angularaxis\": {\"gridcolor\": \"white\", \"linecolor\": \"white\", \"ticks\": \"\"}, \"bgcolor\": \"#E5ECF6\", \"radialaxis\": {\"gridcolor\": \"white\", \"linecolor\": \"white\", \"ticks\": \"\"}}, \"scene\": {\"xaxis\": {\"backgroundcolor\": \"#E5ECF6\", \"gridcolor\": \"white\", \"gridwidth\": 2, \"linecolor\": \"white\", \"showbackground\": true, \"ticks\": \"\", \"zerolinecolor\": \"white\"}, \"yaxis\": {\"backgroundcolor\": \"#E5ECF6\", \"gridcolor\": \"white\", \"gridwidth\": 2, \"linecolor\": \"white\", \"showbackground\": true, \"ticks\": \"\", \"zerolinecolor\": \"white\"}, \"zaxis\": {\"backgroundcolor\": \"#E5ECF6\", \"gridcolor\": \"white\", \"gridwidth\": 2, \"linecolor\": \"white\", \"showbackground\": true, \"ticks\": \"\", \"zerolinecolor\": \"white\"}}, \"shapedefaults\": {\"line\": {\"color\": \"#2a3f5f\"}}, \"ternary\": {\"aaxis\": {\"gridcolor\": \"white\", \"linecolor\": \"white\", \"ticks\": \"\"}, \"baxis\": {\"gridcolor\": \"white\", \"linecolor\": \"white\", \"ticks\": \"\"}, \"bgcolor\": \"#E5ECF6\", \"caxis\": {\"gridcolor\": \"white\", \"linecolor\": \"white\", \"ticks\": \"\"}}, \"title\": {\"x\": 0.05}, \"xaxis\": {\"automargin\": true, \"gridcolor\": \"white\", \"linecolor\": \"white\", \"ticks\": \"\", \"zerolinecolor\": \"white\", \"zerolinewidth\": 2}, \"yaxis\": {\"automargin\": true, \"gridcolor\": \"white\", \"linecolor\": \"white\", \"ticks\": \"\", \"zerolinecolor\": \"white\", \"zerolinewidth\": 2}}}, \"title\": {\"text\": \"La moyenne du score universitaire pour le revenu de l'industrie  par pays de 2011 \\u00e0 2016\"}, \"yaxis\": {\"title\": {\"text\": \"Score universitaire pour le revenu de l'industrie\"}}},\n",
       "                        {\"responsive\": true}\n",
       "                    ).then(function(){\n",
       "                            \n",
       "var gd = document.getElementById('c2623ee0-62be-4b60-ab11-40be3f45b766');\n",
       "var x = new MutationObserver(function (mutations, observer) {{\n",
       "        var display = window.getComputedStyle(gd).display;\n",
       "        if (!display || display === 'none') {{\n",
       "            console.log([gd, 'removed!']);\n",
       "            Plotly.purge(gd);\n",
       "            observer.disconnect();\n",
       "        }}\n",
       "}});\n",
       "\n",
       "// Listen for the removal of the full notebook cells\n",
       "var notebookContainer = gd.closest('#notebook-container');\n",
       "if (notebookContainer) {{\n",
       "    x.observe(notebookContainer, {childList: true});\n",
       "}}\n",
       "\n",
       "// Listen for the clearing of the current output cell\n",
       "var outputEl = gd.closest('.output');\n",
       "if (outputEl) {{\n",
       "    x.observe(outputEl, {childList: true});\n",
       "}}\n",
       "\n",
       "                        })\n",
       "                };\n",
       "                });\n",
       "            </script>\n",
       "        </div>"
      ]
     },
     "metadata": {},
     "output_type": "display_data"
    }
   ],
   "source": [
    "import plotly.graph_objs as go\n",
    "\n",
    "# Création de la trace 1 _ 2014\n",
    "trace =go.Scatter(\n",
    "                    x = x,\n",
    "                    y = y,\n",
    "                    mode = \"markers\",\n",
    "                    name = \"score\",\n",
    "                    marker = dict(color = 'rgba(255, 128, 255, 0.8)'),\n",
    "                    text = y)\n",
    "layout = dict(title = 'La moyenne du score universitaire pour le revenu de l\\'industrie  par pays de 2011 à 2016',\n",
    "              yaxis = dict(title = 'Score universitaire pour le revenu de l\\'industrie')\n",
    "             )\n",
    "\n",
    "data = [trace]\n",
    "fig = dict(data = data, layout = layout)\n",
    "iplot(fig)"
   ]
  },
  {
   "cell_type": "code",
   "execution_count": 11,
   "metadata": {},
   "outputs": [
    {
     "data": {
      "application/vnd.plotly.v1+json": {
       "config": {
        "linkText": "Export to plot.ly",
        "plotlyServerURL": "https://plot.ly",
        "showLink": false
       },
       "data": [
        {
         "marker": {
          "color": "rgba(255, 87, 51, 0.5)",
          "line": {
           "color": "rgb(0,0,0)",
           "width": 1.5
          }
         },
         "name": "Le score universitaire pour le transfert de connaissances par pays",
         "text": [
          "South Africa",
          "Iran",
          "South Korea",
          "Belgium",
          "Netherlands",
          "Singapore",
          "China",
          "Iceland",
          "Denmark",
          "Taiwan",
          "Saudi Arabia",
          "Mexico",
          "Turkey",
          "Sweden",
          "Qatar",
          "Switzerland",
          "Germany",
          "Russian Federation",
          "Japan",
          "Australia",
          "Canada",
          "Thailand",
          "United States of America",
          "New Zealand",
          "Hong Kong",
          "Serbia",
          "India",
          "Finland",
          "Brazil",
          "Italy",
          "Lithuania",
          "Norway",
          "Indonesia",
          "Greece",
          "France",
          "Luxembourg",
          "United Kingdom",
          "Portugal",
          "Oman",
          "Spain",
          "Republic of Ireland",
          "Chile",
          "Hungary",
          "Macau",
          "Colombia",
          "Egypt",
          "Estonia",
          "Slovenia",
          "Israel",
          "United Arab Emirates",
          "Pakistan",
          "Malaysia",
          "Poland",
          "Slovakia",
          "Jordan",
          "Cyprus",
          "Czech Republic",
          "Nigeria",
          "Morocco",
          "Romania",
          "Argentina",
          "Ukraine",
          "Latvia",
          "Kenya",
          "Uganda",
          "Belarus"
         ],
         "type": "bar",
         "x": [
          "South Africa",
          "Iran",
          "South Korea",
          "Belgium",
          "Netherlands",
          "Singapore",
          "China",
          "Iceland",
          "Denmark",
          "Taiwan",
          "Saudi Arabia",
          "Mexico",
          "Turkey",
          "Sweden",
          "Qatar",
          "Switzerland",
          "Germany",
          "Russian Federation",
          "Japan",
          "Australia",
          "Canada",
          "Thailand",
          "United States of America",
          "New Zealand",
          "Hong Kong",
          "Serbia",
          "India",
          "Finland",
          "Brazil",
          "Italy",
          "Lithuania",
          "Norway",
          "Indonesia",
          "Greece",
          "France",
          "Luxembourg",
          "United Kingdom",
          "Portugal",
          "Oman",
          "Spain",
          "Republic of Ireland",
          "Chile",
          "Hungary",
          "Macau",
          "Colombia",
          "Egypt",
          "Estonia",
          "Slovenia",
          "Israel",
          "United Arab Emirates",
          "Pakistan",
          "Malaysia",
          "Poland",
          "Slovakia",
          "Jordan",
          "Cyprus",
          "Czech Republic",
          "Nigeria",
          "Morocco",
          "Romania",
          "Argentina",
          "Ukraine",
          "Latvia",
          "Kenya",
          "Uganda",
          "Belarus"
         ],
         "y": [
          83.03684210526318,
          74.44166666666666,
          72.92424242424244,
          72.53611111111113,
          71.84027777777779,
          69.15833333333332,
          66.48947368421055,
          64.06,
          59.282758620689656,
          59.18035714285717,
          58.55,
          58.5,
          56.592592592592595,
          55.90526315789473,
          55.2,
          54.36666666666668,
          53.393939393939384,
          53.20000000000001,
          51.149382716049374,
          49.61597222222219,
          49.54725274725273,
          47.75454545454546,
          47.28189473684215,
          46.8206896551724,
          45.94642857142856,
          45.6,
          44.99615384615383,
          44.583333333333336,
          44.3,
          41.22934782608696,
          41,
          40.275,
          40,
          39.440000000000005,
          39.072413793103436,
          38.1,
          37.847017543859664,
          37.644444444444446,
          37.6,
          37.16842105263158,
          36.408,
          35.92,
          34.53333333333334,
          34.25,
          33.42,
          32.625,
          32.6,
          32.3,
          31.971428571428568,
          31.7,
          31.3,
          31.28,
          30.681818181818183,
          30.6,
          30.1,
          30,
          29.327272727272728,
          29.2,
          28.9,
          28.766666666666666,
          28.6,
          28.4,
          28.3,
          28,
          28,
          28
         ]
        }
       ],
       "layout": {
        "barmode": "group",
        "template": {
         "data": {
          "bar": [
           {
            "error_x": {
             "color": "#2a3f5f"
            },
            "error_y": {
             "color": "#2a3f5f"
            },
            "marker": {
             "line": {
              "color": "#E5ECF6",
              "width": 0.5
             }
            },
            "type": "bar"
           }
          ],
          "barpolar": [
           {
            "marker": {
             "line": {
              "color": "#E5ECF6",
              "width": 0.5
             }
            },
            "type": "barpolar"
           }
          ],
          "carpet": [
           {
            "aaxis": {
             "endlinecolor": "#2a3f5f",
             "gridcolor": "white",
             "linecolor": "white",
             "minorgridcolor": "white",
             "startlinecolor": "#2a3f5f"
            },
            "baxis": {
             "endlinecolor": "#2a3f5f",
             "gridcolor": "white",
             "linecolor": "white",
             "minorgridcolor": "white",
             "startlinecolor": "#2a3f5f"
            },
            "type": "carpet"
           }
          ],
          "choropleth": [
           {
            "colorbar": {
             "outlinewidth": 0,
             "ticks": ""
            },
            "type": "choropleth"
           }
          ],
          "contour": [
           {
            "colorbar": {
             "outlinewidth": 0,
             "ticks": ""
            },
            "colorscale": [
             [
              0,
              "#0d0887"
             ],
             [
              0.1111111111111111,
              "#46039f"
             ],
             [
              0.2222222222222222,
              "#7201a8"
             ],
             [
              0.3333333333333333,
              "#9c179e"
             ],
             [
              0.4444444444444444,
              "#bd3786"
             ],
             [
              0.5555555555555556,
              "#d8576b"
             ],
             [
              0.6666666666666666,
              "#ed7953"
             ],
             [
              0.7777777777777778,
              "#fb9f3a"
             ],
             [
              0.8888888888888888,
              "#fdca26"
             ],
             [
              1,
              "#f0f921"
             ]
            ],
            "type": "contour"
           }
          ],
          "contourcarpet": [
           {
            "colorbar": {
             "outlinewidth": 0,
             "ticks": ""
            },
            "type": "contourcarpet"
           }
          ],
          "heatmap": [
           {
            "colorbar": {
             "outlinewidth": 0,
             "ticks": ""
            },
            "colorscale": [
             [
              0,
              "#0d0887"
             ],
             [
              0.1111111111111111,
              "#46039f"
             ],
             [
              0.2222222222222222,
              "#7201a8"
             ],
             [
              0.3333333333333333,
              "#9c179e"
             ],
             [
              0.4444444444444444,
              "#bd3786"
             ],
             [
              0.5555555555555556,
              "#d8576b"
             ],
             [
              0.6666666666666666,
              "#ed7953"
             ],
             [
              0.7777777777777778,
              "#fb9f3a"
             ],
             [
              0.8888888888888888,
              "#fdca26"
             ],
             [
              1,
              "#f0f921"
             ]
            ],
            "type": "heatmap"
           }
          ],
          "heatmapgl": [
           {
            "colorbar": {
             "outlinewidth": 0,
             "ticks": ""
            },
            "colorscale": [
             [
              0,
              "#0d0887"
             ],
             [
              0.1111111111111111,
              "#46039f"
             ],
             [
              0.2222222222222222,
              "#7201a8"
             ],
             [
              0.3333333333333333,
              "#9c179e"
             ],
             [
              0.4444444444444444,
              "#bd3786"
             ],
             [
              0.5555555555555556,
              "#d8576b"
             ],
             [
              0.6666666666666666,
              "#ed7953"
             ],
             [
              0.7777777777777778,
              "#fb9f3a"
             ],
             [
              0.8888888888888888,
              "#fdca26"
             ],
             [
              1,
              "#f0f921"
             ]
            ],
            "type": "heatmapgl"
           }
          ],
          "histogram": [
           {
            "marker": {
             "colorbar": {
              "outlinewidth": 0,
              "ticks": ""
             }
            },
            "type": "histogram"
           }
          ],
          "histogram2d": [
           {
            "colorbar": {
             "outlinewidth": 0,
             "ticks": ""
            },
            "colorscale": [
             [
              0,
              "#0d0887"
             ],
             [
              0.1111111111111111,
              "#46039f"
             ],
             [
              0.2222222222222222,
              "#7201a8"
             ],
             [
              0.3333333333333333,
              "#9c179e"
             ],
             [
              0.4444444444444444,
              "#bd3786"
             ],
             [
              0.5555555555555556,
              "#d8576b"
             ],
             [
              0.6666666666666666,
              "#ed7953"
             ],
             [
              0.7777777777777778,
              "#fb9f3a"
             ],
             [
              0.8888888888888888,
              "#fdca26"
             ],
             [
              1,
              "#f0f921"
             ]
            ],
            "type": "histogram2d"
           }
          ],
          "histogram2dcontour": [
           {
            "colorbar": {
             "outlinewidth": 0,
             "ticks": ""
            },
            "colorscale": [
             [
              0,
              "#0d0887"
             ],
             [
              0.1111111111111111,
              "#46039f"
             ],
             [
              0.2222222222222222,
              "#7201a8"
             ],
             [
              0.3333333333333333,
              "#9c179e"
             ],
             [
              0.4444444444444444,
              "#bd3786"
             ],
             [
              0.5555555555555556,
              "#d8576b"
             ],
             [
              0.6666666666666666,
              "#ed7953"
             ],
             [
              0.7777777777777778,
              "#fb9f3a"
             ],
             [
              0.8888888888888888,
              "#fdca26"
             ],
             [
              1,
              "#f0f921"
             ]
            ],
            "type": "histogram2dcontour"
           }
          ],
          "mesh3d": [
           {
            "colorbar": {
             "outlinewidth": 0,
             "ticks": ""
            },
            "type": "mesh3d"
           }
          ],
          "parcoords": [
           {
            "line": {
             "colorbar": {
              "outlinewidth": 0,
              "ticks": ""
             }
            },
            "type": "parcoords"
           }
          ],
          "scatter": [
           {
            "marker": {
             "colorbar": {
              "outlinewidth": 0,
              "ticks": ""
             }
            },
            "type": "scatter"
           }
          ],
          "scatter3d": [
           {
            "line": {
             "colorbar": {
              "outlinewidth": 0,
              "ticks": ""
             }
            },
            "marker": {
             "colorbar": {
              "outlinewidth": 0,
              "ticks": ""
             }
            },
            "type": "scatter3d"
           }
          ],
          "scattercarpet": [
           {
            "marker": {
             "colorbar": {
              "outlinewidth": 0,
              "ticks": ""
             }
            },
            "type": "scattercarpet"
           }
          ],
          "scattergeo": [
           {
            "marker": {
             "colorbar": {
              "outlinewidth": 0,
              "ticks": ""
             }
            },
            "type": "scattergeo"
           }
          ],
          "scattergl": [
           {
            "marker": {
             "colorbar": {
              "outlinewidth": 0,
              "ticks": ""
             }
            },
            "type": "scattergl"
           }
          ],
          "scattermapbox": [
           {
            "marker": {
             "colorbar": {
              "outlinewidth": 0,
              "ticks": ""
             }
            },
            "type": "scattermapbox"
           }
          ],
          "scatterpolar": [
           {
            "marker": {
             "colorbar": {
              "outlinewidth": 0,
              "ticks": ""
             }
            },
            "type": "scatterpolar"
           }
          ],
          "scatterpolargl": [
           {
            "marker": {
             "colorbar": {
              "outlinewidth": 0,
              "ticks": ""
             }
            },
            "type": "scatterpolargl"
           }
          ],
          "scatterternary": [
           {
            "marker": {
             "colorbar": {
              "outlinewidth": 0,
              "ticks": ""
             }
            },
            "type": "scatterternary"
           }
          ],
          "surface": [
           {
            "colorbar": {
             "outlinewidth": 0,
             "ticks": ""
            },
            "colorscale": [
             [
              0,
              "#0d0887"
             ],
             [
              0.1111111111111111,
              "#46039f"
             ],
             [
              0.2222222222222222,
              "#7201a8"
             ],
             [
              0.3333333333333333,
              "#9c179e"
             ],
             [
              0.4444444444444444,
              "#bd3786"
             ],
             [
              0.5555555555555556,
              "#d8576b"
             ],
             [
              0.6666666666666666,
              "#ed7953"
             ],
             [
              0.7777777777777778,
              "#fb9f3a"
             ],
             [
              0.8888888888888888,
              "#fdca26"
             ],
             [
              1,
              "#f0f921"
             ]
            ],
            "type": "surface"
           }
          ],
          "table": [
           {
            "cells": {
             "fill": {
              "color": "#EBF0F8"
             },
             "line": {
              "color": "white"
             }
            },
            "header": {
             "fill": {
              "color": "#C8D4E3"
             },
             "line": {
              "color": "white"
             }
            },
            "type": "table"
           }
          ]
         },
         "layout": {
          "annotationdefaults": {
           "arrowcolor": "#2a3f5f",
           "arrowhead": 0,
           "arrowwidth": 1
          },
          "colorscale": {
           "diverging": [
            [
             0,
             "#8e0152"
            ],
            [
             0.1,
             "#c51b7d"
            ],
            [
             0.2,
             "#de77ae"
            ],
            [
             0.3,
             "#f1b6da"
            ],
            [
             0.4,
             "#fde0ef"
            ],
            [
             0.5,
             "#f7f7f7"
            ],
            [
             0.6,
             "#e6f5d0"
            ],
            [
             0.7,
             "#b8e186"
            ],
            [
             0.8,
             "#7fbc41"
            ],
            [
             0.9,
             "#4d9221"
            ],
            [
             1,
             "#276419"
            ]
           ],
           "sequential": [
            [
             0,
             "#0d0887"
            ],
            [
             0.1111111111111111,
             "#46039f"
            ],
            [
             0.2222222222222222,
             "#7201a8"
            ],
            [
             0.3333333333333333,
             "#9c179e"
            ],
            [
             0.4444444444444444,
             "#bd3786"
            ],
            [
             0.5555555555555556,
             "#d8576b"
            ],
            [
             0.6666666666666666,
             "#ed7953"
            ],
            [
             0.7777777777777778,
             "#fb9f3a"
            ],
            [
             0.8888888888888888,
             "#fdca26"
            ],
            [
             1,
             "#f0f921"
            ]
           ],
           "sequentialminus": [
            [
             0,
             "#0d0887"
            ],
            [
             0.1111111111111111,
             "#46039f"
            ],
            [
             0.2222222222222222,
             "#7201a8"
            ],
            [
             0.3333333333333333,
             "#9c179e"
            ],
            [
             0.4444444444444444,
             "#bd3786"
            ],
            [
             0.5555555555555556,
             "#d8576b"
            ],
            [
             0.6666666666666666,
             "#ed7953"
            ],
            [
             0.7777777777777778,
             "#fb9f3a"
            ],
            [
             0.8888888888888888,
             "#fdca26"
            ],
            [
             1,
             "#f0f921"
            ]
           ]
          },
          "colorway": [
           "#636efa",
           "#EF553B",
           "#00cc96",
           "#ab63fa",
           "#FFA15A",
           "#19d3f3",
           "#FF6692",
           "#B6E880",
           "#FF97FF",
           "#FECB52"
          ],
          "font": {
           "color": "#2a3f5f"
          },
          "geo": {
           "bgcolor": "white",
           "lakecolor": "white",
           "landcolor": "#E5ECF6",
           "showlakes": true,
           "showland": true,
           "subunitcolor": "white"
          },
          "hoverlabel": {
           "align": "left"
          },
          "hovermode": "closest",
          "mapbox": {
           "style": "light"
          },
          "paper_bgcolor": "white",
          "plot_bgcolor": "#E5ECF6",
          "polar": {
           "angularaxis": {
            "gridcolor": "white",
            "linecolor": "white",
            "ticks": ""
           },
           "bgcolor": "#E5ECF6",
           "radialaxis": {
            "gridcolor": "white",
            "linecolor": "white",
            "ticks": ""
           }
          },
          "scene": {
           "xaxis": {
            "backgroundcolor": "#E5ECF6",
            "gridcolor": "white",
            "gridwidth": 2,
            "linecolor": "white",
            "showbackground": true,
            "ticks": "",
            "zerolinecolor": "white"
           },
           "yaxis": {
            "backgroundcolor": "#E5ECF6",
            "gridcolor": "white",
            "gridwidth": 2,
            "linecolor": "white",
            "showbackground": true,
            "ticks": "",
            "zerolinecolor": "white"
           },
           "zaxis": {
            "backgroundcolor": "#E5ECF6",
            "gridcolor": "white",
            "gridwidth": 2,
            "linecolor": "white",
            "showbackground": true,
            "ticks": "",
            "zerolinecolor": "white"
           }
          },
          "shapedefaults": {
           "line": {
            "color": "#2a3f5f"
           }
          },
          "ternary": {
           "aaxis": {
            "gridcolor": "white",
            "linecolor": "white",
            "ticks": ""
           },
           "baxis": {
            "gridcolor": "white",
            "linecolor": "white",
            "ticks": ""
           },
           "bgcolor": "#E5ECF6",
           "caxis": {
            "gridcolor": "white",
            "linecolor": "white",
            "ticks": ""
           }
          },
          "title": {
           "x": 0.05
          },
          "xaxis": {
           "automargin": true,
           "gridcolor": "white",
           "linecolor": "white",
           "ticks": "",
           "zerolinecolor": "white",
           "zerolinewidth": 2
          },
          "yaxis": {
           "automargin": true,
           "gridcolor": "white",
           "linecolor": "white",
           "ticks": "",
           "zerolinecolor": "white",
           "zerolinewidth": 2
          }
         }
        },
        "title": {
         "text": "La moyenne du score universitaire pour le revenu de l'industrie  par pays de 2011 à 2016"
        },
        "yaxis": {
         "title": {
          "text": "Score universitaire pour le revenu de l'industrie"
         }
        }
       }
      },
      "text/html": [
       "<div>\n",
       "        \n",
       "        \n",
       "            <div id=\"7dbd2cf4-6054-4c9d-8e3c-2325479157be\" class=\"plotly-graph-div\" style=\"height:525px; width:100%;\"></div>\n",
       "            <script type=\"text/javascript\">\n",
       "                require([\"plotly\"], function(Plotly) {\n",
       "                    window.PLOTLYENV=window.PLOTLYENV || {};\n",
       "                    \n",
       "                if (document.getElementById(\"7dbd2cf4-6054-4c9d-8e3c-2325479157be\")) {\n",
       "                    Plotly.newPlot(\n",
       "                        '7dbd2cf4-6054-4c9d-8e3c-2325479157be',\n",
       "                        [{\"marker\": {\"color\": \"rgba(255, 87, 51, 0.5)\", \"line\": {\"color\": \"rgb(0,0,0)\", \"width\": 1.5}}, \"name\": \"Le score universitaire pour le transfert de connaissances par pays\", \"text\": [\"South Africa\", \"Iran\", \"South Korea\", \"Belgium\", \"Netherlands\", \"Singapore\", \"China\", \"Iceland\", \"Denmark\", \"Taiwan\", \"Saudi Arabia\", \"Mexico\", \"Turkey\", \"Sweden\", \"Qatar\", \"Switzerland\", \"Germany\", \"Russian Federation\", \"Japan\", \"Australia\", \"Canada\", \"Thailand\", \"United States of America\", \"New Zealand\", \"Hong Kong\", \"Serbia\", \"India\", \"Finland\", \"Brazil\", \"Italy\", \"Lithuania\", \"Norway\", \"Indonesia\", \"Greece\", \"France\", \"Luxembourg\", \"United Kingdom\", \"Portugal\", \"Oman\", \"Spain\", \"Republic of Ireland\", \"Chile\", \"Hungary\", \"Macau\", \"Colombia\", \"Egypt\", \"Estonia\", \"Slovenia\", \"Israel\", \"United Arab Emirates\", \"Pakistan\", \"Malaysia\", \"Poland\", \"Slovakia\", \"Jordan\", \"Cyprus\", \"Czech Republic\", \"Nigeria\", \"Morocco\", \"Romania\", \"Argentina\", \"Ukraine\", \"Latvia\", \"Kenya\", \"Uganda\", \"Belarus\"], \"type\": \"bar\", \"x\": [\"South Africa\", \"Iran\", \"South Korea\", \"Belgium\", \"Netherlands\", \"Singapore\", \"China\", \"Iceland\", \"Denmark\", \"Taiwan\", \"Saudi Arabia\", \"Mexico\", \"Turkey\", \"Sweden\", \"Qatar\", \"Switzerland\", \"Germany\", \"Russian Federation\", \"Japan\", \"Australia\", \"Canada\", \"Thailand\", \"United States of America\", \"New Zealand\", \"Hong Kong\", \"Serbia\", \"India\", \"Finland\", \"Brazil\", \"Italy\", \"Lithuania\", \"Norway\", \"Indonesia\", \"Greece\", \"France\", \"Luxembourg\", \"United Kingdom\", \"Portugal\", \"Oman\", \"Spain\", \"Republic of Ireland\", \"Chile\", \"Hungary\", \"Macau\", \"Colombia\", \"Egypt\", \"Estonia\", \"Slovenia\", \"Israel\", \"United Arab Emirates\", \"Pakistan\", \"Malaysia\", \"Poland\", \"Slovakia\", \"Jordan\", \"Cyprus\", \"Czech Republic\", \"Nigeria\", \"Morocco\", \"Romania\", \"Argentina\", \"Ukraine\", \"Latvia\", \"Kenya\", \"Uganda\", \"Belarus\"], \"y\": [83.03684210526318, 74.44166666666666, 72.92424242424244, 72.53611111111113, 71.84027777777779, 69.15833333333332, 66.48947368421055, 64.06, 59.282758620689656, 59.18035714285717, 58.55, 58.5, 56.592592592592595, 55.90526315789473, 55.2, 54.36666666666668, 53.393939393939384, 53.20000000000001, 51.149382716049374, 49.61597222222219, 49.54725274725273, 47.75454545454546, 47.28189473684215, 46.8206896551724, 45.94642857142856, 45.6, 44.99615384615383, 44.583333333333336, 44.3, 41.22934782608696, 41.0, 40.275, 40.0, 39.440000000000005, 39.072413793103436, 38.1, 37.847017543859664, 37.644444444444446, 37.6, 37.16842105263158, 36.408, 35.92, 34.53333333333334, 34.25, 33.42, 32.625, 32.6, 32.3, 31.971428571428568, 31.7, 31.3, 31.28, 30.681818181818183, 30.6, 30.1, 30.0, 29.327272727272728, 29.2, 28.9, 28.766666666666666, 28.6, 28.4, 28.3, 28.0, 28.0, 28.0]}],\n",
       "                        {\"barmode\": \"group\", \"template\": {\"data\": {\"bar\": [{\"error_x\": {\"color\": \"#2a3f5f\"}, \"error_y\": {\"color\": \"#2a3f5f\"}, \"marker\": {\"line\": {\"color\": \"#E5ECF6\", \"width\": 0.5}}, \"type\": \"bar\"}], \"barpolar\": [{\"marker\": {\"line\": {\"color\": \"#E5ECF6\", \"width\": 0.5}}, \"type\": \"barpolar\"}], \"carpet\": [{\"aaxis\": {\"endlinecolor\": \"#2a3f5f\", \"gridcolor\": \"white\", \"linecolor\": \"white\", \"minorgridcolor\": \"white\", \"startlinecolor\": \"#2a3f5f\"}, \"baxis\": {\"endlinecolor\": \"#2a3f5f\", \"gridcolor\": \"white\", \"linecolor\": \"white\", \"minorgridcolor\": \"white\", \"startlinecolor\": \"#2a3f5f\"}, \"type\": \"carpet\"}], \"choropleth\": [{\"colorbar\": {\"outlinewidth\": 0, \"ticks\": \"\"}, \"type\": \"choropleth\"}], \"contour\": [{\"colorbar\": {\"outlinewidth\": 0, \"ticks\": \"\"}, \"colorscale\": [[0.0, \"#0d0887\"], [0.1111111111111111, \"#46039f\"], [0.2222222222222222, \"#7201a8\"], [0.3333333333333333, \"#9c179e\"], [0.4444444444444444, \"#bd3786\"], [0.5555555555555556, \"#d8576b\"], [0.6666666666666666, \"#ed7953\"], [0.7777777777777778, \"#fb9f3a\"], [0.8888888888888888, \"#fdca26\"], [1.0, \"#f0f921\"]], \"type\": \"contour\"}], \"contourcarpet\": [{\"colorbar\": {\"outlinewidth\": 0, \"ticks\": \"\"}, \"type\": \"contourcarpet\"}], \"heatmap\": [{\"colorbar\": {\"outlinewidth\": 0, \"ticks\": \"\"}, \"colorscale\": [[0.0, \"#0d0887\"], [0.1111111111111111, \"#46039f\"], [0.2222222222222222, \"#7201a8\"], [0.3333333333333333, \"#9c179e\"], [0.4444444444444444, \"#bd3786\"], [0.5555555555555556, \"#d8576b\"], [0.6666666666666666, \"#ed7953\"], [0.7777777777777778, \"#fb9f3a\"], [0.8888888888888888, \"#fdca26\"], [1.0, \"#f0f921\"]], \"type\": \"heatmap\"}], \"heatmapgl\": [{\"colorbar\": {\"outlinewidth\": 0, \"ticks\": \"\"}, \"colorscale\": [[0.0, \"#0d0887\"], [0.1111111111111111, \"#46039f\"], [0.2222222222222222, \"#7201a8\"], [0.3333333333333333, \"#9c179e\"], [0.4444444444444444, \"#bd3786\"], [0.5555555555555556, \"#d8576b\"], [0.6666666666666666, \"#ed7953\"], [0.7777777777777778, \"#fb9f3a\"], [0.8888888888888888, \"#fdca26\"], [1.0, \"#f0f921\"]], \"type\": \"heatmapgl\"}], \"histogram\": [{\"marker\": {\"colorbar\": {\"outlinewidth\": 0, \"ticks\": \"\"}}, \"type\": \"histogram\"}], \"histogram2d\": [{\"colorbar\": {\"outlinewidth\": 0, \"ticks\": \"\"}, \"colorscale\": [[0.0, \"#0d0887\"], [0.1111111111111111, \"#46039f\"], [0.2222222222222222, \"#7201a8\"], [0.3333333333333333, \"#9c179e\"], [0.4444444444444444, \"#bd3786\"], [0.5555555555555556, \"#d8576b\"], [0.6666666666666666, \"#ed7953\"], [0.7777777777777778, \"#fb9f3a\"], [0.8888888888888888, \"#fdca26\"], [1.0, \"#f0f921\"]], \"type\": \"histogram2d\"}], \"histogram2dcontour\": [{\"colorbar\": {\"outlinewidth\": 0, \"ticks\": \"\"}, \"colorscale\": [[0.0, \"#0d0887\"], [0.1111111111111111, \"#46039f\"], [0.2222222222222222, \"#7201a8\"], [0.3333333333333333, \"#9c179e\"], [0.4444444444444444, \"#bd3786\"], [0.5555555555555556, \"#d8576b\"], [0.6666666666666666, \"#ed7953\"], [0.7777777777777778, \"#fb9f3a\"], [0.8888888888888888, \"#fdca26\"], [1.0, \"#f0f921\"]], \"type\": \"histogram2dcontour\"}], \"mesh3d\": [{\"colorbar\": {\"outlinewidth\": 0, \"ticks\": \"\"}, \"type\": \"mesh3d\"}], \"parcoords\": [{\"line\": {\"colorbar\": {\"outlinewidth\": 0, \"ticks\": \"\"}}, \"type\": \"parcoords\"}], \"scatter\": [{\"marker\": {\"colorbar\": {\"outlinewidth\": 0, \"ticks\": \"\"}}, \"type\": \"scatter\"}], \"scatter3d\": [{\"line\": {\"colorbar\": {\"outlinewidth\": 0, \"ticks\": \"\"}}, \"marker\": {\"colorbar\": {\"outlinewidth\": 0, \"ticks\": \"\"}}, \"type\": \"scatter3d\"}], \"scattercarpet\": [{\"marker\": {\"colorbar\": {\"outlinewidth\": 0, \"ticks\": \"\"}}, \"type\": \"scattercarpet\"}], \"scattergeo\": [{\"marker\": {\"colorbar\": {\"outlinewidth\": 0, \"ticks\": \"\"}}, \"type\": \"scattergeo\"}], \"scattergl\": [{\"marker\": {\"colorbar\": {\"outlinewidth\": 0, \"ticks\": \"\"}}, \"type\": \"scattergl\"}], \"scattermapbox\": [{\"marker\": {\"colorbar\": {\"outlinewidth\": 0, \"ticks\": \"\"}}, \"type\": \"scattermapbox\"}], \"scatterpolar\": [{\"marker\": {\"colorbar\": {\"outlinewidth\": 0, \"ticks\": \"\"}}, \"type\": \"scatterpolar\"}], \"scatterpolargl\": [{\"marker\": {\"colorbar\": {\"outlinewidth\": 0, \"ticks\": \"\"}}, \"type\": \"scatterpolargl\"}], \"scatterternary\": [{\"marker\": {\"colorbar\": {\"outlinewidth\": 0, \"ticks\": \"\"}}, \"type\": \"scatterternary\"}], \"surface\": [{\"colorbar\": {\"outlinewidth\": 0, \"ticks\": \"\"}, \"colorscale\": [[0.0, \"#0d0887\"], [0.1111111111111111, \"#46039f\"], [0.2222222222222222, \"#7201a8\"], [0.3333333333333333, \"#9c179e\"], [0.4444444444444444, \"#bd3786\"], [0.5555555555555556, \"#d8576b\"], [0.6666666666666666, \"#ed7953\"], [0.7777777777777778, \"#fb9f3a\"], [0.8888888888888888, \"#fdca26\"], [1.0, \"#f0f921\"]], \"type\": \"surface\"}], \"table\": [{\"cells\": {\"fill\": {\"color\": \"#EBF0F8\"}, \"line\": {\"color\": \"white\"}}, \"header\": {\"fill\": {\"color\": \"#C8D4E3\"}, \"line\": {\"color\": \"white\"}}, \"type\": \"table\"}]}, \"layout\": {\"annotationdefaults\": {\"arrowcolor\": \"#2a3f5f\", \"arrowhead\": 0, \"arrowwidth\": 1}, \"colorscale\": {\"diverging\": [[0, \"#8e0152\"], [0.1, \"#c51b7d\"], [0.2, \"#de77ae\"], [0.3, \"#f1b6da\"], [0.4, \"#fde0ef\"], [0.5, \"#f7f7f7\"], [0.6, \"#e6f5d0\"], [0.7, \"#b8e186\"], [0.8, \"#7fbc41\"], [0.9, \"#4d9221\"], [1, \"#276419\"]], \"sequential\": [[0.0, \"#0d0887\"], [0.1111111111111111, \"#46039f\"], [0.2222222222222222, \"#7201a8\"], [0.3333333333333333, \"#9c179e\"], [0.4444444444444444, \"#bd3786\"], [0.5555555555555556, \"#d8576b\"], [0.6666666666666666, \"#ed7953\"], [0.7777777777777778, \"#fb9f3a\"], [0.8888888888888888, \"#fdca26\"], [1.0, \"#f0f921\"]], \"sequentialminus\": [[0.0, \"#0d0887\"], [0.1111111111111111, \"#46039f\"], [0.2222222222222222, \"#7201a8\"], [0.3333333333333333, \"#9c179e\"], [0.4444444444444444, \"#bd3786\"], [0.5555555555555556, \"#d8576b\"], [0.6666666666666666, \"#ed7953\"], [0.7777777777777778, \"#fb9f3a\"], [0.8888888888888888, \"#fdca26\"], [1.0, \"#f0f921\"]]}, \"colorway\": [\"#636efa\", \"#EF553B\", \"#00cc96\", \"#ab63fa\", \"#FFA15A\", \"#19d3f3\", \"#FF6692\", \"#B6E880\", \"#FF97FF\", \"#FECB52\"], \"font\": {\"color\": \"#2a3f5f\"}, \"geo\": {\"bgcolor\": \"white\", \"lakecolor\": \"white\", \"landcolor\": \"#E5ECF6\", \"showlakes\": true, \"showland\": true, \"subunitcolor\": \"white\"}, \"hoverlabel\": {\"align\": \"left\"}, \"hovermode\": \"closest\", \"mapbox\": {\"style\": \"light\"}, \"paper_bgcolor\": \"white\", \"plot_bgcolor\": \"#E5ECF6\", \"polar\": {\"angularaxis\": {\"gridcolor\": \"white\", \"linecolor\": \"white\", \"ticks\": \"\"}, \"bgcolor\": \"#E5ECF6\", \"radialaxis\": {\"gridcolor\": \"white\", \"linecolor\": \"white\", \"ticks\": \"\"}}, \"scene\": {\"xaxis\": {\"backgroundcolor\": \"#E5ECF6\", \"gridcolor\": \"white\", \"gridwidth\": 2, \"linecolor\": \"white\", \"showbackground\": true, \"ticks\": \"\", \"zerolinecolor\": \"white\"}, \"yaxis\": {\"backgroundcolor\": \"#E5ECF6\", \"gridcolor\": \"white\", \"gridwidth\": 2, \"linecolor\": \"white\", \"showbackground\": true, \"ticks\": \"\", \"zerolinecolor\": \"white\"}, \"zaxis\": {\"backgroundcolor\": \"#E5ECF6\", \"gridcolor\": \"white\", \"gridwidth\": 2, \"linecolor\": \"white\", \"showbackground\": true, \"ticks\": \"\", \"zerolinecolor\": \"white\"}}, \"shapedefaults\": {\"line\": {\"color\": \"#2a3f5f\"}}, \"ternary\": {\"aaxis\": {\"gridcolor\": \"white\", \"linecolor\": \"white\", \"ticks\": \"\"}, \"baxis\": {\"gridcolor\": \"white\", \"linecolor\": \"white\", \"ticks\": \"\"}, \"bgcolor\": \"#E5ECF6\", \"caxis\": {\"gridcolor\": \"white\", \"linecolor\": \"white\", \"ticks\": \"\"}}, \"title\": {\"x\": 0.05}, \"xaxis\": {\"automargin\": true, \"gridcolor\": \"white\", \"linecolor\": \"white\", \"ticks\": \"\", \"zerolinecolor\": \"white\", \"zerolinewidth\": 2}, \"yaxis\": {\"automargin\": true, \"gridcolor\": \"white\", \"linecolor\": \"white\", \"ticks\": \"\", \"zerolinecolor\": \"white\", \"zerolinewidth\": 2}}}, \"title\": {\"text\": \"La moyenne du score universitaire pour le revenu de l'industrie  par pays de 2011 \\u00e0 2016\"}, \"yaxis\": {\"title\": {\"text\": \"Score universitaire pour le revenu de l'industrie\"}}},\n",
       "                        {\"responsive\": true}\n",
       "                    ).then(function(){\n",
       "                            \n",
       "var gd = document.getElementById('7dbd2cf4-6054-4c9d-8e3c-2325479157be');\n",
       "var x = new MutationObserver(function (mutations, observer) {{\n",
       "        var display = window.getComputedStyle(gd).display;\n",
       "        if (!display || display === 'none') {{\n",
       "            console.log([gd, 'removed!']);\n",
       "            Plotly.purge(gd);\n",
       "            observer.disconnect();\n",
       "        }}\n",
       "}});\n",
       "\n",
       "// Listen for the removal of the full notebook cells\n",
       "var notebookContainer = gd.closest('#notebook-container');\n",
       "if (notebookContainer) {{\n",
       "    x.observe(notebookContainer, {childList: true});\n",
       "}}\n",
       "\n",
       "// Listen for the clearing of the current output cell\n",
       "var outputEl = gd.closest('.output');\n",
       "if (outputEl) {{\n",
       "    x.observe(outputEl, {childList: true});\n",
       "}}\n",
       "\n",
       "                        })\n",
       "                };\n",
       "                });\n",
       "            </script>\n",
       "        </div>"
      ]
     },
     "metadata": {},
     "output_type": "display_data"
    }
   ],
   "source": [
    "trace = go.Bar(\n",
    "                x = x,\n",
    "                y = y,\n",
    "                name = \"Le score universitaire pour le transfert de connaissances par pays\",\n",
    "                marker = dict(color = 'rgba(255, 87, 51, 0.5)',\n",
    "                             line = dict(color ='rgb(0,0,0)',width =1.5)),\n",
    "                text = x)\n",
    "\n",
    "layout = go.Layout(barmode = \"group\",\n",
    "                  title = 'La moyenne du score universitaire pour le revenu de l\\'industrie  par pays de 2011 à 2016',\n",
    "                  yaxis = dict(title = 'Score universitaire pour le revenu de l\\'industrie'))\n",
    "fig = go.Figure(data = trace, layout = layout)\n",
    "iplot(fig)"
   ]
  },
  {
   "cell_type": "markdown",
   "metadata": {},
   "source": [
    "## 2- Existe-t-il une corrélation entre le score universitaire pour le transfert de connaissances et le score universitaire des perspectives internationales (personnel, étudiants, recherche) ? Utiliser un ou plusieurs graphique pour justifier votre réponse."
   ]
  },
  {
   "cell_type": "code",
   "execution_count": 12,
   "metadata": {},
   "outputs": [],
   "source": [
    "import warnings\n",
    "warnings.simplefilter('ignore')"
   ]
  },
  {
   "cell_type": "code",
   "execution_count": 13,
   "metadata": {},
   "outputs": [
    {
     "name": "stderr",
     "output_type": "stream",
     "text": [
      "/home/ines/anaconda3/envs/MachineLearning/lib/python3.8/site-packages/pandas/core/generic.py:5168: SettingWithCopyWarning:\n",
      "\n",
      "\n",
      "A value is trying to be set on a copy of a slice from a DataFrame.\n",
      "Try using .loc[row_indexer,col_indexer] = value instead\n",
      "\n",
      "See the caveats in the documentation: https://pandas.pydata.org/pandas-docs/stable/user_guide/indexing.html#returning-a-view-versus-a-copy\n",
      "\n"
     ]
    }
   ],
   "source": [
    "# change the object column type to float and change the \"-\" to \"NaN\"\n",
    "df.international = [float(each.replace('-', 'NaN')) for each in df.international]\n"
   ]
  },
  {
   "cell_type": "code",
   "execution_count": 17,
   "metadata": {},
   "outputs": [
    {
     "data": {
      "text/plain": [
       "1      54.6\n",
       "2      82.3\n",
       "3      29.5\n",
       "5      77.7\n",
       "6      77.2\n",
       "8      90.0\n",
       "12     58.5\n",
       "13     62.4\n",
       "15     53.3\n",
       "18     32.9\n",
       "19     39.1\n",
       "20     91.4\n",
       "21     90.8\n",
       "22     49.0\n",
       "23     49.4\n",
       "26     73.2\n",
       "27     32.6\n",
       "28     64.3\n",
       "29     93.3\n",
       "30     21.5\n",
       "31     31.6\n",
       "33     97.8\n",
       "35     88.0\n",
       "39     67.3\n",
       "41     44.9\n",
       "44     44.5\n",
       "46     31.2\n",
       "47    100.0\n",
       "50     22.1\n",
       "53     60.5\n",
       "Name: international, dtype: float64"
      ]
     },
     "execution_count": 17,
     "metadata": {},
     "output_type": "execute_result"
    }
   ],
   "source": [
    "df = df.dropna()\n",
    "df.international.head(30)"
   ]
  },
  {
   "cell_type": "code",
   "execution_count": 24,
   "metadata": {},
   "outputs": [
    {
     "data": {
      "text/html": [
       "<div>\n",
       "<style scoped>\n",
       "    .dataframe tbody tr th:only-of-type {\n",
       "        vertical-align: middle;\n",
       "    }\n",
       "\n",
       "    .dataframe tbody tr th {\n",
       "        vertical-align: top;\n",
       "    }\n",
       "\n",
       "    .dataframe thead th {\n",
       "        text-align: right;\n",
       "    }\n",
       "</style>\n",
       "<table border=\"1\" class=\"dataframe\">\n",
       "  <thead>\n",
       "    <tr style=\"text-align: right;\">\n",
       "      <th></th>\n",
       "      <th>world_rank</th>\n",
       "      <th>university_name</th>\n",
       "      <th>country</th>\n",
       "      <th>teaching</th>\n",
       "      <th>international</th>\n",
       "      <th>research</th>\n",
       "      <th>citations</th>\n",
       "      <th>income</th>\n",
       "      <th>total_score</th>\n",
       "      <th>num_students</th>\n",
       "      <th>student_staff_ratio</th>\n",
       "      <th>international_students</th>\n",
       "      <th>female_male_ratio</th>\n",
       "      <th>year</th>\n",
       "    </tr>\n",
       "  </thead>\n",
       "  <tbody>\n",
       "    <tr>\n",
       "      <th>1</th>\n",
       "      <td>2</td>\n",
       "      <td>California Institute of Technology</td>\n",
       "      <td>United States of America</td>\n",
       "      <td>97.7</td>\n",
       "      <td>54.6</td>\n",
       "      <td>98.0</td>\n",
       "      <td>99.9</td>\n",
       "      <td>83.7</td>\n",
       "      <td>96.0</td>\n",
       "      <td>2,243</td>\n",
       "      <td>6.9</td>\n",
       "      <td>27%</td>\n",
       "      <td>33 : 67</td>\n",
       "      <td>2011</td>\n",
       "    </tr>\n",
       "    <tr>\n",
       "      <th>2</th>\n",
       "      <td>3</td>\n",
       "      <td>Massachusetts Institute of Technology</td>\n",
       "      <td>United States of America</td>\n",
       "      <td>97.8</td>\n",
       "      <td>82.3</td>\n",
       "      <td>91.4</td>\n",
       "      <td>99.9</td>\n",
       "      <td>87.5</td>\n",
       "      <td>95.6</td>\n",
       "      <td>11,074</td>\n",
       "      <td>9.0</td>\n",
       "      <td>33%</td>\n",
       "      <td>37 : 63</td>\n",
       "      <td>2011</td>\n",
       "    </tr>\n",
       "    <tr>\n",
       "      <th>3</th>\n",
       "      <td>4</td>\n",
       "      <td>Stanford University</td>\n",
       "      <td>United States of America</td>\n",
       "      <td>98.3</td>\n",
       "      <td>29.5</td>\n",
       "      <td>98.1</td>\n",
       "      <td>99.2</td>\n",
       "      <td>64.3</td>\n",
       "      <td>94.3</td>\n",
       "      <td>15,596</td>\n",
       "      <td>7.8</td>\n",
       "      <td>22%</td>\n",
       "      <td>42 : 58</td>\n",
       "      <td>2011</td>\n",
       "    </tr>\n",
       "    <tr>\n",
       "      <th>5</th>\n",
       "      <td>6</td>\n",
       "      <td>University of Cambridge</td>\n",
       "      <td>United Kingdom</td>\n",
       "      <td>90.5</td>\n",
       "      <td>77.7</td>\n",
       "      <td>94.1</td>\n",
       "      <td>94.0</td>\n",
       "      <td>57.0</td>\n",
       "      <td>91.2</td>\n",
       "      <td>18,812</td>\n",
       "      <td>11.8</td>\n",
       "      <td>34%</td>\n",
       "      <td>46 : 54</td>\n",
       "      <td>2011</td>\n",
       "    </tr>\n",
       "    <tr>\n",
       "      <th>6</th>\n",
       "      <td>6</td>\n",
       "      <td>University of Oxford</td>\n",
       "      <td>United Kingdom</td>\n",
       "      <td>88.2</td>\n",
       "      <td>77.2</td>\n",
       "      <td>93.9</td>\n",
       "      <td>95.1</td>\n",
       "      <td>73.5</td>\n",
       "      <td>91.2</td>\n",
       "      <td>19,919</td>\n",
       "      <td>11.6</td>\n",
       "      <td>34%</td>\n",
       "      <td>46 : 54</td>\n",
       "      <td>2011</td>\n",
       "    </tr>\n",
       "  </tbody>\n",
       "</table>\n",
       "</div>"
      ],
      "text/plain": [
       "  world_rank                        university_name                   country  \\\n",
       "1          2     California Institute of Technology  United States of America   \n",
       "2          3  Massachusetts Institute of Technology  United States of America   \n",
       "3          4                    Stanford University  United States of America   \n",
       "5          6                University of Cambridge            United Kingdom   \n",
       "6          6                   University of Oxford            United Kingdom   \n",
       "\n",
       "   teaching  international  research  citations  income total_score  \\\n",
       "1      97.7           54.6      98.0       99.9    83.7        96.0   \n",
       "2      97.8           82.3      91.4       99.9    87.5        95.6   \n",
       "3      98.3           29.5      98.1       99.2    64.3        94.3   \n",
       "5      90.5           77.7      94.1       94.0    57.0        91.2   \n",
       "6      88.2           77.2      93.9       95.1    73.5        91.2   \n",
       "\n",
       "  num_students  student_staff_ratio international_students female_male_ratio  \\\n",
       "1        2,243                  6.9                    27%           33 : 67   \n",
       "2       11,074                  9.0                    33%           37 : 63   \n",
       "3       15,596                  7.8                    22%           42 : 58   \n",
       "5       18,812                 11.8                    34%           46 : 54   \n",
       "6       19,919                 11.6                    34%           46 : 54   \n",
       "\n",
       "   year  \n",
       "1  2011  \n",
       "2  2011  \n",
       "3  2011  \n",
       "5  2011  \n",
       "6  2011  "
      ]
     },
     "execution_count": 24,
     "metadata": {},
     "output_type": "execute_result"
    }
   ],
   "source": [
    "df.head(5)"
   ]
  },
  {
   "cell_type": "code",
   "execution_count": 19,
   "metadata": {},
   "outputs": [
    {
     "data": {
      "text/html": [
       "<div>\n",
       "<style scoped>\n",
       "    .dataframe tbody tr th:only-of-type {\n",
       "        vertical-align: middle;\n",
       "    }\n",
       "\n",
       "    .dataframe tbody tr th {\n",
       "        vertical-align: top;\n",
       "    }\n",
       "\n",
       "    .dataframe thead th {\n",
       "        text-align: right;\n",
       "    }\n",
       "</style>\n",
       "<table border=\"1\" class=\"dataframe\">\n",
       "  <thead>\n",
       "    <tr style=\"text-align: right;\">\n",
       "      <th></th>\n",
       "      <th>year</th>\n",
       "      <th>country</th>\n",
       "      <th>income</th>\n",
       "      <th>international</th>\n",
       "    </tr>\n",
       "  </thead>\n",
       "  <tbody>\n",
       "    <tr>\n",
       "      <th>1</th>\n",
       "      <td>2011</td>\n",
       "      <td>United States of America</td>\n",
       "      <td>83.7</td>\n",
       "      <td>54.6</td>\n",
       "    </tr>\n",
       "    <tr>\n",
       "      <th>2</th>\n",
       "      <td>2011</td>\n",
       "      <td>United States of America</td>\n",
       "      <td>87.5</td>\n",
       "      <td>82.3</td>\n",
       "    </tr>\n",
       "    <tr>\n",
       "      <th>3</th>\n",
       "      <td>2011</td>\n",
       "      <td>United States of America</td>\n",
       "      <td>64.3</td>\n",
       "      <td>29.5</td>\n",
       "    </tr>\n",
       "    <tr>\n",
       "      <th>5</th>\n",
       "      <td>2011</td>\n",
       "      <td>United Kingdom</td>\n",
       "      <td>57.0</td>\n",
       "      <td>77.7</td>\n",
       "    </tr>\n",
       "    <tr>\n",
       "      <th>6</th>\n",
       "      <td>2011</td>\n",
       "      <td>United Kingdom</td>\n",
       "      <td>73.5</td>\n",
       "      <td>77.2</td>\n",
       "    </tr>\n",
       "  </tbody>\n",
       "</table>\n",
       "</div>"
      ],
      "text/plain": [
       "   year                   country  income  international\n",
       "1  2011  United States of America    83.7           54.6\n",
       "2  2011  United States of America    87.5           82.3\n",
       "3  2011  United States of America    64.3           29.5\n",
       "5  2011            United Kingdom    57.0           77.7\n",
       "6  2011            United Kingdom    73.5           77.2"
      ]
     },
     "execution_count": 19,
     "metadata": {},
     "output_type": "execute_result"
    }
   ],
   "source": [
    "data = df[[\"year\",\"country\", \"income\", \"international\"]]\n",
    "#data2011 = data[['year'== 2011]]\n",
    "data.head(5)\n",
    "#data.info()\n"
   ]
  },
  {
   "cell_type": "code",
   "execution_count": 20,
   "metadata": {},
   "outputs": [
    {
     "data": {
      "text/html": [
       "<div>\n",
       "<style scoped>\n",
       "    .dataframe tbody tr th:only-of-type {\n",
       "        vertical-align: middle;\n",
       "    }\n",
       "\n",
       "    .dataframe tbody tr th {\n",
       "        vertical-align: top;\n",
       "    }\n",
       "\n",
       "    .dataframe thead th {\n",
       "        text-align: right;\n",
       "    }\n",
       "</style>\n",
       "<table border=\"1\" class=\"dataframe\">\n",
       "  <thead>\n",
       "    <tr style=\"text-align: right;\">\n",
       "      <th></th>\n",
       "      <th>year</th>\n",
       "      <th>income</th>\n",
       "      <th>international</th>\n",
       "    </tr>\n",
       "    <tr>\n",
       "      <th>country</th>\n",
       "      <th></th>\n",
       "      <th></th>\n",
       "      <th></th>\n",
       "    </tr>\n",
       "  </thead>\n",
       "  <tbody>\n",
       "    <tr>\n",
       "      <th>Australia</th>\n",
       "      <td>2011</td>\n",
       "      <td>51.387500</td>\n",
       "      <td>82.475000</td>\n",
       "    </tr>\n",
       "    <tr>\n",
       "      <th>Belgium</th>\n",
       "      <td>2011</td>\n",
       "      <td>97.400000</td>\n",
       "      <td>27.150000</td>\n",
       "    </tr>\n",
       "    <tr>\n",
       "      <th>Canada</th>\n",
       "      <td>2011</td>\n",
       "      <td>41.666667</td>\n",
       "      <td>72.266667</td>\n",
       "    </tr>\n",
       "    <tr>\n",
       "      <th>China</th>\n",
       "      <td>2011</td>\n",
       "      <td>63.175000</td>\n",
       "      <td>38.025000</td>\n",
       "    </tr>\n",
       "    <tr>\n",
       "      <th>Denmark</th>\n",
       "      <td>2011</td>\n",
       "      <td>61.033333</td>\n",
       "      <td>47.733333</td>\n",
       "    </tr>\n",
       "    <tr>\n",
       "      <th>...</th>\n",
       "      <td>...</td>\n",
       "      <td>...</td>\n",
       "      <td>...</td>\n",
       "    </tr>\n",
       "    <tr>\n",
       "      <th>Uganda</th>\n",
       "      <td>2016</td>\n",
       "      <td>28.000000</td>\n",
       "      <td>58.000000</td>\n",
       "    </tr>\n",
       "    <tr>\n",
       "      <th>Ukraine</th>\n",
       "      <td>2016</td>\n",
       "      <td>28.400000</td>\n",
       "      <td>38.300000</td>\n",
       "    </tr>\n",
       "    <tr>\n",
       "      <th>United Arab Emirates</th>\n",
       "      <td>2016</td>\n",
       "      <td>31.700000</td>\n",
       "      <td>95.300000</td>\n",
       "    </tr>\n",
       "    <tr>\n",
       "      <th>United Kingdom</th>\n",
       "      <td>2016</td>\n",
       "      <td>34.386486</td>\n",
       "      <td>78.224324</td>\n",
       "    </tr>\n",
       "    <tr>\n",
       "      <th>United States of America</th>\n",
       "      <td>2016</td>\n",
       "      <td>44.339231</td>\n",
       "      <td>42.436154</td>\n",
       "    </tr>\n",
       "  </tbody>\n",
       "</table>\n",
       "<p>247 rows × 3 columns</p>\n",
       "</div>"
      ],
      "text/plain": [
       "                          year     income  international\n",
       "country                                                 \n",
       "Australia                 2011  51.387500      82.475000\n",
       "Belgium                   2011  97.400000      27.150000\n",
       "Canada                    2011  41.666667      72.266667\n",
       "China                     2011  63.175000      38.025000\n",
       "Denmark                   2011  61.033333      47.733333\n",
       "...                        ...        ...            ...\n",
       "Uganda                    2016  28.000000      58.000000\n",
       "Ukraine                   2016  28.400000      38.300000\n",
       "United Arab Emirates      2016  31.700000      95.300000\n",
       "United Kingdom            2016  34.386486      78.224324\n",
       "United States of America  2016  44.339231      42.436154\n",
       "\n",
       "[247 rows x 3 columns]"
      ]
     },
     "execution_count": 20,
     "metadata": {},
     "output_type": "execute_result"
    }
   ],
   "source": [
    "df2011 = data[data.year==2011]\n",
    "df2011=df2011.groupby('country').mean()\n",
    "\n",
    "df2012 = data[data.year==2012]\n",
    "df2012=df2012.groupby('country').mean()\n",
    "\n",
    "df2013 = data[data.year==2013]\n",
    "df2013=df2013.groupby('country').mean()\n",
    "\n",
    "df2014 = data[data.year==2014]\n",
    "df2014=df2014.groupby('country').mean()\n",
    "\n",
    "df2015 = data[data.year==2015]\n",
    "df2015=df2015.groupby('country').mean()\n",
    "\n",
    "df2016 = data[data.year==2016]\n",
    "df2016=df2016.groupby('country').mean()\n",
    "\n",
    "df2=pd.concat([df2011,df2012,df2013,df2014,df2015,df2016])\n",
    "df2"
   ]
  },
  {
   "cell_type": "code",
   "execution_count": 27,
   "metadata": {},
   "outputs": [
    {
     "name": "stderr",
     "output_type": "stream",
     "text": [
      "/home/ines/anaconda3/envs/MachineLearning/lib/python3.8/site-packages/plotly/tools.py:461: DeprecationWarning:\n",
      "\n",
      "plotly.tools.make_subplots is deprecated, please use plotly.subplots.make_subplots instead\n",
      "\n"
     ]
    },
    {
     "data": {
      "application/vnd.plotly.v1+json": {
       "config": {
        "linkText": "Export to plot.ly",
        "plotlyServerURL": "https://plot.ly",
        "showLink": false
       },
       "data": [
        {
         "marker": {
          "color": "rgb(12, 51, 131)"
         },
         "showlegend": false,
         "type": "box",
         "xaxis": "x",
         "y": [
          2011,
          2011,
          2011,
          2011,
          2011,
          2011,
          2011,
          2011,
          2011,
          2011,
          2011,
          2011,
          2011,
          2011,
          2011,
          2011,
          2011,
          2011,
          2011,
          2011,
          2011,
          2011,
          2011,
          2011,
          2012,
          2012,
          2012,
          2012,
          2012,
          2012,
          2012,
          2012,
          2012,
          2012,
          2012,
          2012,
          2012,
          2012,
          2012,
          2012,
          2012,
          2012,
          2012,
          2012,
          2012,
          2012,
          2012,
          2012,
          2012,
          2012,
          2012,
          2012,
          2012,
          2012,
          2012,
          2012,
          2012,
          2012,
          2012,
          2012,
          2012,
          2012,
          2013,
          2013,
          2013,
          2013,
          2013,
          2013,
          2013,
          2013,
          2013,
          2013,
          2013,
          2013,
          2013,
          2013,
          2013,
          2013,
          2013,
          2013,
          2013,
          2013,
          2013,
          2013,
          2013,
          2013,
          2013,
          2013,
          2013,
          2013,
          2013,
          2013,
          2013,
          2013,
          2013,
          2013,
          2013,
          2013,
          2013,
          2013,
          2013,
          2013,
          2014,
          2014,
          2014,
          2014,
          2014,
          2014,
          2014,
          2014,
          2014,
          2014,
          2014,
          2014,
          2014,
          2014,
          2014,
          2014,
          2014,
          2014,
          2014,
          2014,
          2014,
          2014,
          2014,
          2014,
          2014,
          2014,
          2014,
          2014,
          2014,
          2014,
          2014,
          2014,
          2014,
          2014,
          2014,
          2014,
          2014,
          2014,
          2014,
          2015,
          2015,
          2015,
          2015,
          2015,
          2015,
          2015,
          2015,
          2015,
          2015,
          2015,
          2015,
          2015,
          2015,
          2015,
          2015,
          2015,
          2015,
          2015,
          2015,
          2015,
          2015,
          2015,
          2015,
          2015,
          2015,
          2015,
          2015,
          2015,
          2015,
          2015,
          2015,
          2015,
          2015,
          2015,
          2015,
          2015,
          2015,
          2015,
          2015,
          2016,
          2016,
          2016,
          2016,
          2016,
          2016,
          2016,
          2016,
          2016,
          2016,
          2016,
          2016,
          2016,
          2016,
          2016,
          2016,
          2016,
          2016,
          2016,
          2016,
          2016,
          2016,
          2016,
          2016,
          2016,
          2016,
          2016,
          2016,
          2016,
          2016,
          2016,
          2016,
          2016,
          2016,
          2016,
          2016,
          2016,
          2016,
          2016,
          2016,
          2016,
          2016,
          2016,
          2016,
          2016,
          2016,
          2016,
          2016,
          2016,
          2016,
          2016,
          2016,
          2016,
          2016,
          2016,
          2016,
          2016,
          2016,
          2016,
          2016,
          2016,
          2016,
          2016,
          2016,
          2016,
          2016
         ],
         "yaxis": "y"
        },
        {
         "marker": {
          "color": [
           1,
           2,
           3,
           4,
           5,
           6,
           7,
           8,
           9,
           10,
           11,
           12,
           13,
           14,
           15,
           16,
           17,
           18,
           19,
           20,
           21,
           22,
           23,
           24,
           25,
           26,
           27,
           28,
           29,
           30,
           31,
           32,
           33,
           34,
           35,
           36,
           37,
           38,
           39,
           40,
           41,
           42,
           43,
           44,
           45,
           46,
           47,
           48,
           49,
           50,
           51,
           52,
           53,
           54,
           55,
           56,
           57,
           58,
           59,
           60,
           61,
           62,
           63,
           64,
           65,
           66,
           67,
           68,
           69,
           70,
           71,
           72,
           73,
           74,
           75,
           76,
           77,
           78,
           79,
           80,
           81,
           82,
           83,
           84,
           85,
           86,
           87,
           88,
           89,
           90,
           91,
           92,
           93,
           94,
           95,
           96,
           97,
           98,
           99,
           100,
           101,
           102,
           103,
           104,
           105,
           106,
           107,
           108,
           109,
           110,
           111,
           112,
           113,
           114,
           115,
           116,
           117,
           118,
           119,
           120,
           121,
           122,
           123,
           124,
           125,
           126,
           127,
           128,
           129,
           130,
           131,
           132,
           133,
           134,
           135,
           136,
           137,
           138,
           139,
           140,
           141,
           142,
           143,
           144,
           145,
           146,
           147,
           148,
           149,
           150,
           151,
           152,
           153,
           154,
           155,
           156,
           157,
           158,
           159,
           160,
           161,
           162,
           163,
           164,
           165,
           166,
           167,
           168,
           169,
           170,
           171,
           172,
           173,
           174,
           175,
           176,
           177,
           178,
           179,
           180,
           181,
           182,
           183,
           184,
           185,
           186,
           187,
           188,
           189,
           190,
           191,
           192,
           193,
           194,
           195,
           196,
           197,
           198,
           199,
           200,
           201,
           202,
           203,
           204,
           205,
           206,
           207,
           208,
           209,
           210,
           211,
           212,
           213,
           214,
           215,
           216,
           217,
           218,
           219,
           220,
           221,
           222,
           223,
           224,
           225,
           226,
           227,
           228,
           229,
           230,
           231,
           232,
           233,
           234,
           235,
           236,
           237,
           238,
           239,
           240,
           241,
           242,
           243,
           244,
           245,
           246,
           247
          ],
          "colorscale": [
           [
            0,
            "rgb(12, 51, 131)"
           ],
           [
            1,
            "rgb(217, 30, 30)"
           ]
          ],
          "showscale": true,
          "size": 6
         },
         "mode": "markers",
         "showlegend": false,
         "type": "scatter",
         "x": [
          51.387499999999996,
          97.4,
          41.666666666666664,
          63.175,
          61.03333333333333,
          36,
          30.2,
          27.73333333333333,
          43.43333333333334,
          46.800000000000004,
          72.06666666666666,
          69.8375,
          61.1,
          41.5,
          31.6,
          40.25,
          100,
          35,
          69.75,
          40.075,
          55.525000000000006,
          43.9,
          41.68518518518518,
          58.00714285714286,
          47.73999999999999,
          66.92857142857143,
          38.25,
          50.931250000000006,
          70.3,
          24.5,
          60.8,
          34.5,
          26.3,
          41.67999999999999,
          34.31428571428571,
          43.095,
          33.2,
          49.739999999999995,
          75.4,
          24.2,
          93.1,
          29.03333333333333,
          41.971428571428575,
          46.37142857142857,
          63.699999999999996,
          36.26,
          41.53333333333334,
          25.8,
          34.025,
          31.575000000000003,
          53,
          52.55,
          99.03333333333335,
          99.8,
          36.599999999999994,
          55.15714285714286,
          41.94,
          55.949999999999996,
          29,
          59,
          36.97551020408162,
          46.82337662337662,
          50.45416666666667,
          68.34285714285714,
          42.45,
          52.75625,
          66.96666666666665,
          28.4,
          28.1,
          64.52000000000001,
          30.1,
          52.4,
          47.112500000000004,
          46.71363636363637,
          34.1,
          46.480000000000004,
          74.4,
          65.16666666666667,
          93,
          37.2,
          42.05,
          49.9,
          36,
          73.73846153846155,
          50.13333333333333,
          38.46666666666667,
          28.7,
          36.1,
          35.875,
          64.85,
          40.2,
          88.45,
          77.69999999999999,
          99.56666666666666,
          35.07142857142858,
          56.24285714285714,
          45.339999999999996,
          66.05714285714285,
          60.2,
          56.225,
          40.81521739130436,
          47.311842105263146,
          50.884000000000015,
          76.28333333333333,
          44.55,
          51.6,
          67.74285714285715,
          30.6,
          29,
          63.980000000000004,
          30.3,
          37.275,
          45.55555555555555,
          49.29090909090908,
          35,
          45.9,
          78.5,
          45.199999999999996,
          98.3,
          34.75,
          42.226666666666674,
          59.699999999999996,
          74.38461538461537,
          51.42,
          40.03333333333334,
          28.3,
          37.05,
          39.875,
          72.2,
          39.7,
          82.15,
          93.5,
          99.53333333333335,
          40.73333333333333,
          58.083333333333336,
          54.24285714285715,
          65.95,
          62.2,
          53.05,
          38.72765957446809,
          47.472500000000004,
          49.772000000000006,
          71.02857142857142,
          42.3,
          49.79375,
          28.1,
          70.64285714285715,
          36.5,
          29.4,
          63.85999999999999,
          46.20000000000001,
          45.13333333333334,
          53.04,
          36,
          44.059999999999995,
          64,
          46.225,
          85.15,
          34,
          41.42941176470589,
          57.56,
          33.6,
          28.6,
          74.96153846153847,
          51.06,
          39.333333333333336,
          28.5,
          39.2,
          37,
          55.95,
          76.7,
          92.5,
          77.78,
          42.449999999999996,
          57.43333333333334,
          61.942857142857136,
          70.06666666666666,
          56.5,
          49.5,
          38.25714285714285,
          48.472619047619034,
          28.6,
          48.9945945945946,
          28,
          73.52857142857144,
          46.054545454545455,
          46.74347826086956,
          37.875,
          64.4076923076923,
          35.8,
          30,
          30.22857142857143,
          45.050000000000004,
          30,
          38.15,
          45.62222222222222,
          34.07727272727273,
          69.3264705882353,
          42.68333333333334,
          43.040000000000006,
          34.53333333333334,
          28,
          41.98000000000001,
          40,
          62.65714285714285,
          29.72,
          39.971875,
          47.52647058823529,
          30.1,
          28,
          28.3,
          41,
          38.1,
          34.9,
          31.28,
          69.75,
          29.2,
          73.02307692307693,
          43.17142857142857,
          29.2,
          41.6,
          37.6,
          31.3,
          32.916666666666664,
          40.1,
          55.2,
          37.6625,
          28.766666666666666,
          49.24999999999999,
          77.15,
          45.6,
          74.85,
          30.6,
          32.3,
          68.63333333333333,
          54.17058823529411,
          35.56,
          50.87500000000001,
          68.4,
          53.65217391304347,
          45.34285714285715,
          62.25,
          28,
          28.4,
          31.7,
          34.386486486486504,
          44.33923076923078
         ],
         "xaxis": "x2",
         "y": [
          2011,
          2011,
          2011,
          2011,
          2011,
          2011,
          2011,
          2011,
          2011,
          2011,
          2011,
          2011,
          2011,
          2011,
          2011,
          2011,
          2011,
          2011,
          2011,
          2011,
          2011,
          2011,
          2011,
          2011,
          2012,
          2012,
          2012,
          2012,
          2012,
          2012,
          2012,
          2012,
          2012,
          2012,
          2012,
          2012,
          2012,
          2012,
          2012,
          2012,
          2012,
          2012,
          2012,
          2012,
          2012,
          2012,
          2012,
          2012,
          2012,
          2012,
          2012,
          2012,
          2012,
          2012,
          2012,
          2012,
          2012,
          2012,
          2012,
          2012,
          2012,
          2012,
          2013,
          2013,
          2013,
          2013,
          2013,
          2013,
          2013,
          2013,
          2013,
          2013,
          2013,
          2013,
          2013,
          2013,
          2013,
          2013,
          2013,
          2013,
          2013,
          2013,
          2013,
          2013,
          2013,
          2013,
          2013,
          2013,
          2013,
          2013,
          2013,
          2013,
          2013,
          2013,
          2013,
          2013,
          2013,
          2013,
          2013,
          2013,
          2013,
          2013,
          2014,
          2014,
          2014,
          2014,
          2014,
          2014,
          2014,
          2014,
          2014,
          2014,
          2014,
          2014,
          2014,
          2014,
          2014,
          2014,
          2014,
          2014,
          2014,
          2014,
          2014,
          2014,
          2014,
          2014,
          2014,
          2014,
          2014,
          2014,
          2014,
          2014,
          2014,
          2014,
          2014,
          2014,
          2014,
          2014,
          2014,
          2014,
          2014,
          2015,
          2015,
          2015,
          2015,
          2015,
          2015,
          2015,
          2015,
          2015,
          2015,
          2015,
          2015,
          2015,
          2015,
          2015,
          2015,
          2015,
          2015,
          2015,
          2015,
          2015,
          2015,
          2015,
          2015,
          2015,
          2015,
          2015,
          2015,
          2015,
          2015,
          2015,
          2015,
          2015,
          2015,
          2015,
          2015,
          2015,
          2015,
          2015,
          2015,
          2016,
          2016,
          2016,
          2016,
          2016,
          2016,
          2016,
          2016,
          2016,
          2016,
          2016,
          2016,
          2016,
          2016,
          2016,
          2016,
          2016,
          2016,
          2016,
          2016,
          2016,
          2016,
          2016,
          2016,
          2016,
          2016,
          2016,
          2016,
          2016,
          2016,
          2016,
          2016,
          2016,
          2016,
          2016,
          2016,
          2016,
          2016,
          2016,
          2016,
          2016,
          2016,
          2016,
          2016,
          2016,
          2016,
          2016,
          2016,
          2016,
          2016,
          2016,
          2016,
          2016,
          2016,
          2016,
          2016,
          2016,
          2016,
          2016,
          2016,
          2016,
          2016,
          2016,
          2016,
          2016,
          2016
         ],
         "yaxis": "y2"
        },
        {
         "marker": {
          "color": [
           1,
           2,
           3,
           4,
           5,
           6,
           7,
           8,
           9,
           10,
           11,
           12,
           13,
           14,
           15,
           16,
           17,
           18,
           19,
           20,
           21,
           22,
           23,
           24,
           25,
           26,
           27,
           28,
           29,
           30,
           31,
           32,
           33,
           34,
           35,
           36,
           37,
           38,
           39,
           40,
           41,
           42,
           43,
           44,
           45,
           46,
           47,
           48,
           49,
           50,
           51,
           52,
           53,
           54,
           55,
           56,
           57,
           58,
           59,
           60,
           61,
           62,
           63,
           64,
           65,
           66,
           67,
           68,
           69,
           70,
           71,
           72,
           73,
           74,
           75,
           76,
           77,
           78,
           79,
           80,
           81,
           82,
           83,
           84,
           85,
           86,
           87,
           88,
           89,
           90,
           91,
           92,
           93,
           94,
           95,
           96,
           97,
           98,
           99,
           100,
           101,
           102,
           103,
           104,
           105,
           106,
           107,
           108,
           109,
           110,
           111,
           112,
           113,
           114,
           115,
           116,
           117,
           118,
           119,
           120,
           121,
           122,
           123,
           124,
           125,
           126,
           127,
           128,
           129,
           130,
           131,
           132,
           133,
           134,
           135,
           136,
           137,
           138,
           139,
           140,
           141,
           142,
           143,
           144,
           145,
           146,
           147,
           148,
           149,
           150,
           151,
           152,
           153,
           154,
           155,
           156,
           157,
           158,
           159,
           160,
           161,
           162,
           163,
           164,
           165,
           166,
           167,
           168,
           169,
           170,
           171,
           172,
           173,
           174,
           175,
           176,
           177,
           178,
           179,
           180,
           181,
           182,
           183,
           184,
           185,
           186,
           187,
           188,
           189,
           190,
           191,
           192,
           193,
           194,
           195,
           196,
           197,
           198,
           199,
           200,
           201,
           202,
           203,
           204,
           205,
           206,
           207,
           208,
           209,
           210,
           211,
           212,
           213,
           214,
           215,
           216,
           217,
           218,
           219,
           220,
           221,
           222,
           223,
           224,
           225,
           226,
           227,
           228,
           229,
           230,
           231,
           232,
           233,
           234,
           235,
           236,
           237,
           238,
           239,
           240,
           241,
           242,
           243,
           244,
           245,
           246,
           247
          ],
          "colorscale": [
           [
            0,
            "rgb(12, 51, 131)"
           ],
           [
            1,
            "rgb(217, 30, 30)"
           ]
          ],
          "showscale": false,
          "size": 6
         },
         "mode": "markers",
         "showlegend": false,
         "type": "scatter",
         "x": [
          82.47500000000001,
          27.15,
          72.26666666666667,
          38.025,
          47.73333333333333,
          19.3,
          24.2,
          37.733333333333334,
          52.111111111111114,
          82.03333333333333,
          21.666666666666668,
          43.949999999999996,
          94.3,
          66.6,
          84.2,
          97.05,
          34.650000000000006,
          33.2,
          71.05000000000001,
          93.725,
          35.625,
          27.2,
          73.97777777777777,
          40.76785714285715,
          77.40800000000002,
          63.671428571428564,
          21,
          61.993750000000006,
          24.37142857142857,
          51.4,
          71.66,
          31.6,
          42,
          41.800000000000004,
          65.85714285714286,
          55.38500000000001,
          42.6,
          67.23999999999998,
          56.9,
          14.3,
          12.7,
          49.63333333333333,
          33.949999999999996,
          21.028571428571432,
          60.10833333333334,
          86.8,
          64.89999999999999,
          39.5,
          48.625,
          78.45,
          45.7,
          91.4,
          63.333333333333336,
          26.96666666666667,
          39.35,
          62.65714285714286,
          90.76000000000002,
          17.9375,
          45,
          26.2,
          76.46734693877549,
          35.66753246753247,
          75.50833333333334,
          60.41428571428571,
          22.7,
          60.243750000000006,
          31.53333333333333,
          53,
          50.3,
          70.28,
          42.4,
          44.9,
          64.775,
          53.3909090909091,
          44.4,
          67.14000000000001,
          59.9,
          17.2,
          16.7,
          53.099999999999994,
          36.971428571428575,
          25.84545454545454,
          33.2,
          60.93846153846154,
          84.18333333333332,
          63.43333333333334,
          40.75,
          45.333333333333336,
          73.625,
          34.55,
          71,
          91.4,
          61.05,
          30.26666666666667,
          40.35714285714285,
          60.642857142857146,
          89.06,
          23.628571428571433,
          23.8,
          34.575,
          76.35652173913041,
          40.039473684210535,
          77.75600000000003,
          59.01666666666667,
          21.95,
          62.775,
          31.35714285714286,
          55.7,
          53.2,
          71.56,
          43.7,
          47.300000000000004,
          64.63333333333334,
          53.88636363636365,
          47.1,
          67.03999999999999,
          59.9,
          20.733333333333334,
          20.7,
          56.3,
          39.89333333333333,
          27.788888888888888,
          63.600000000000016,
          85.22,
          58.9,
          42.8,
          45.4,
          73.2,
          55.7,
          74.3,
          92.65,
          64.03333333333335,
          33.93333333333333,
          40.48888888888889,
          63.699999999999996,
          90.17142857142858,
          25.162499999999998,
          24.4,
          43.625,
          77.09574468085107,
          42.81125,
          78.92399999999999,
          62.15714285714286,
          23,
          66.19375000000002,
          48.7,
          33.714285714285715,
          54.6,
          53.9,
          70.14,
          50.699999999999996,
          67.75555555555555,
          54.11600000000001,
          47,
          69.88000000000001,
          59.1,
          20.875,
          19.7,
          56.95,
          42.670588235294126,
          31.940000000000005,
          73.3,
          45.1,
          65.54615384615386,
          84.3,
          60,
          41.6,
          48.25,
          77.25,
          52.099999999999994,
          93.7,
          63.6,
          35.4,
          49.349999999999994,
          61.35,
          90.77142857142857,
          26.766666666666666,
          22.5,
          44.9,
          79.10476190476192,
          45.029761904761905,
          28.1,
          77.9891891891892,
          48.2,
          68.64285714285714,
          21.2,
          66.14782608695653,
          43.85,
          23.446153846153848,
          46.85,
          74.7,
          36.442857142857136,
          79.41666666666667,
          32.35,
          42,
          53.599999999999994,
          61.14545454545455,
          53.267647058823535,
          36.93333333333333,
          83.24,
          53,
          61,
          14.419999999999998,
          37.2,
          12.57142857142857,
          50.9,
          37.60937499999999,
          22.76470588235294,
          57.95,
          45.5,
          31.5,
          40.8,
          99.8,
          98.4,
          38.1,
          47.75,
          42.7,
          70.39999999999999,
          89.04285714285716,
          26.1,
          65.33333333333333,
          71.5,
          31.3,
          26.016666666666666,
          45.12857142857143,
          99.9,
          78.98750000000001,
          34.53333333333333,
          29.941666666666666,
          88.75,
          30.5,
          95.4,
          38.75,
          34.5,
          55.28333333333334,
          28.39411764705882,
          40.908,
          62.050000000000004,
          93.6,
          23.286956521739135,
          32.67142857142857,
          27.009999999999998,
          58,
          38.3,
          95.3,
          78.22432432432433,
          42.436153846153864
         ],
         "xaxis": "x3",
         "y": [
          2011,
          2011,
          2011,
          2011,
          2011,
          2011,
          2011,
          2011,
          2011,
          2011,
          2011,
          2011,
          2011,
          2011,
          2011,
          2011,
          2011,
          2011,
          2011,
          2011,
          2011,
          2011,
          2011,
          2011,
          2012,
          2012,
          2012,
          2012,
          2012,
          2012,
          2012,
          2012,
          2012,
          2012,
          2012,
          2012,
          2012,
          2012,
          2012,
          2012,
          2012,
          2012,
          2012,
          2012,
          2012,
          2012,
          2012,
          2012,
          2012,
          2012,
          2012,
          2012,
          2012,
          2012,
          2012,
          2012,
          2012,
          2012,
          2012,
          2012,
          2012,
          2012,
          2013,
          2013,
          2013,
          2013,
          2013,
          2013,
          2013,
          2013,
          2013,
          2013,
          2013,
          2013,
          2013,
          2013,
          2013,
          2013,
          2013,
          2013,
          2013,
          2013,
          2013,
          2013,
          2013,
          2013,
          2013,
          2013,
          2013,
          2013,
          2013,
          2013,
          2013,
          2013,
          2013,
          2013,
          2013,
          2013,
          2013,
          2013,
          2013,
          2013,
          2014,
          2014,
          2014,
          2014,
          2014,
          2014,
          2014,
          2014,
          2014,
          2014,
          2014,
          2014,
          2014,
          2014,
          2014,
          2014,
          2014,
          2014,
          2014,
          2014,
          2014,
          2014,
          2014,
          2014,
          2014,
          2014,
          2014,
          2014,
          2014,
          2014,
          2014,
          2014,
          2014,
          2014,
          2014,
          2014,
          2014,
          2014,
          2014,
          2015,
          2015,
          2015,
          2015,
          2015,
          2015,
          2015,
          2015,
          2015,
          2015,
          2015,
          2015,
          2015,
          2015,
          2015,
          2015,
          2015,
          2015,
          2015,
          2015,
          2015,
          2015,
          2015,
          2015,
          2015,
          2015,
          2015,
          2015,
          2015,
          2015,
          2015,
          2015,
          2015,
          2015,
          2015,
          2015,
          2015,
          2015,
          2015,
          2015,
          2016,
          2016,
          2016,
          2016,
          2016,
          2016,
          2016,
          2016,
          2016,
          2016,
          2016,
          2016,
          2016,
          2016,
          2016,
          2016,
          2016,
          2016,
          2016,
          2016,
          2016,
          2016,
          2016,
          2016,
          2016,
          2016,
          2016,
          2016,
          2016,
          2016,
          2016,
          2016,
          2016,
          2016,
          2016,
          2016,
          2016,
          2016,
          2016,
          2016,
          2016,
          2016,
          2016,
          2016,
          2016,
          2016,
          2016,
          2016,
          2016,
          2016,
          2016,
          2016,
          2016,
          2016,
          2016,
          2016,
          2016,
          2016,
          2016,
          2016,
          2016,
          2016,
          2016,
          2016,
          2016,
          2016
         ],
         "yaxis": "y3"
        },
        {
         "marker": {
          "color": [
           1,
           2,
           3,
           4,
           5,
           6,
           7,
           8,
           9,
           10,
           11,
           12,
           13,
           14,
           15,
           16,
           17,
           18,
           19,
           20,
           21,
           22,
           23,
           24,
           25,
           26,
           27,
           28,
           29,
           30,
           31,
           32,
           33,
           34,
           35,
           36,
           37,
           38,
           39,
           40,
           41,
           42,
           43,
           44,
           45,
           46,
           47,
           48,
           49,
           50,
           51,
           52,
           53,
           54,
           55,
           56,
           57,
           58,
           59,
           60,
           61,
           62,
           63,
           64,
           65,
           66,
           67,
           68,
           69,
           70,
           71,
           72,
           73,
           74,
           75,
           76,
           77,
           78,
           79,
           80,
           81,
           82,
           83,
           84,
           85,
           86,
           87,
           88,
           89,
           90,
           91,
           92,
           93,
           94,
           95,
           96,
           97,
           98,
           99,
           100,
           101,
           102,
           103,
           104,
           105,
           106,
           107,
           108,
           109,
           110,
           111,
           112,
           113,
           114,
           115,
           116,
           117,
           118,
           119,
           120,
           121,
           122,
           123,
           124,
           125,
           126,
           127,
           128,
           129,
           130,
           131,
           132,
           133,
           134,
           135,
           136,
           137,
           138,
           139,
           140,
           141,
           142,
           143,
           144,
           145,
           146,
           147,
           148,
           149,
           150,
           151,
           152,
           153,
           154,
           155,
           156,
           157,
           158,
           159,
           160,
           161,
           162,
           163,
           164,
           165,
           166,
           167,
           168,
           169,
           170,
           171,
           172,
           173,
           174,
           175,
           176,
           177,
           178,
           179,
           180,
           181,
           182,
           183,
           184,
           185,
           186,
           187,
           188,
           189,
           190,
           191,
           192,
           193,
           194,
           195,
           196,
           197,
           198,
           199,
           200,
           201,
           202,
           203,
           204,
           205,
           206,
           207,
           208,
           209,
           210,
           211,
           212,
           213,
           214,
           215,
           216,
           217,
           218,
           219,
           220,
           221,
           222,
           223,
           224,
           225,
           226,
           227,
           228,
           229,
           230,
           231,
           232,
           233,
           234,
           235,
           236,
           237,
           238,
           239,
           240,
           241,
           242,
           243,
           244,
           245,
           246,
           247
          ],
          "colorscale": [
           [
            0,
            "rgb(12, 51, 131)"
           ],
           [
            1,
            "rgb(217, 30, 30)"
           ]
          ],
          "showscale": false,
          "size": 6
         },
         "mode": "markers",
         "showlegend": false,
         "type": "scatter",
         "x": [
          2011,
          2011,
          2011,
          2011,
          2011,
          2011,
          2011,
          2011,
          2011,
          2011,
          2011,
          2011,
          2011,
          2011,
          2011,
          2011,
          2011,
          2011,
          2011,
          2011,
          2011,
          2011,
          2011,
          2011,
          2012,
          2012,
          2012,
          2012,
          2012,
          2012,
          2012,
          2012,
          2012,
          2012,
          2012,
          2012,
          2012,
          2012,
          2012,
          2012,
          2012,
          2012,
          2012,
          2012,
          2012,
          2012,
          2012,
          2012,
          2012,
          2012,
          2012,
          2012,
          2012,
          2012,
          2012,
          2012,
          2012,
          2012,
          2012,
          2012,
          2012,
          2012,
          2013,
          2013,
          2013,
          2013,
          2013,
          2013,
          2013,
          2013,
          2013,
          2013,
          2013,
          2013,
          2013,
          2013,
          2013,
          2013,
          2013,
          2013,
          2013,
          2013,
          2013,
          2013,
          2013,
          2013,
          2013,
          2013,
          2013,
          2013,
          2013,
          2013,
          2013,
          2013,
          2013,
          2013,
          2013,
          2013,
          2013,
          2013,
          2013,
          2013,
          2014,
          2014,
          2014,
          2014,
          2014,
          2014,
          2014,
          2014,
          2014,
          2014,
          2014,
          2014,
          2014,
          2014,
          2014,
          2014,
          2014,
          2014,
          2014,
          2014,
          2014,
          2014,
          2014,
          2014,
          2014,
          2014,
          2014,
          2014,
          2014,
          2014,
          2014,
          2014,
          2014,
          2014,
          2014,
          2014,
          2014,
          2014,
          2014,
          2015,
          2015,
          2015,
          2015,
          2015,
          2015,
          2015,
          2015,
          2015,
          2015,
          2015,
          2015,
          2015,
          2015,
          2015,
          2015,
          2015,
          2015,
          2015,
          2015,
          2015,
          2015,
          2015,
          2015,
          2015,
          2015,
          2015,
          2015,
          2015,
          2015,
          2015,
          2015,
          2015,
          2015,
          2015,
          2015,
          2015,
          2015,
          2015,
          2015,
          2016,
          2016,
          2016,
          2016,
          2016,
          2016,
          2016,
          2016,
          2016,
          2016,
          2016,
          2016,
          2016,
          2016,
          2016,
          2016,
          2016,
          2016,
          2016,
          2016,
          2016,
          2016,
          2016,
          2016,
          2016,
          2016,
          2016,
          2016,
          2016,
          2016,
          2016,
          2016,
          2016,
          2016,
          2016,
          2016,
          2016,
          2016,
          2016,
          2016,
          2016,
          2016,
          2016,
          2016,
          2016,
          2016,
          2016,
          2016,
          2016,
          2016,
          2016,
          2016,
          2016,
          2016,
          2016,
          2016,
          2016,
          2016,
          2016,
          2016,
          2016,
          2016,
          2016,
          2016,
          2016,
          2016
         ],
         "xaxis": "x4",
         "y": [
          51.387499999999996,
          97.4,
          41.666666666666664,
          63.175,
          61.03333333333333,
          36,
          30.2,
          27.73333333333333,
          43.43333333333334,
          46.800000000000004,
          72.06666666666666,
          69.8375,
          61.1,
          41.5,
          31.6,
          40.25,
          100,
          35,
          69.75,
          40.075,
          55.525000000000006,
          43.9,
          41.68518518518518,
          58.00714285714286,
          47.73999999999999,
          66.92857142857143,
          38.25,
          50.931250000000006,
          70.3,
          24.5,
          60.8,
          34.5,
          26.3,
          41.67999999999999,
          34.31428571428571,
          43.095,
          33.2,
          49.739999999999995,
          75.4,
          24.2,
          93.1,
          29.03333333333333,
          41.971428571428575,
          46.37142857142857,
          63.699999999999996,
          36.26,
          41.53333333333334,
          25.8,
          34.025,
          31.575000000000003,
          53,
          52.55,
          99.03333333333335,
          99.8,
          36.599999999999994,
          55.15714285714286,
          41.94,
          55.949999999999996,
          29,
          59,
          36.97551020408162,
          46.82337662337662,
          50.45416666666667,
          68.34285714285714,
          42.45,
          52.75625,
          66.96666666666665,
          28.4,
          28.1,
          64.52000000000001,
          30.1,
          52.4,
          47.112500000000004,
          46.71363636363637,
          34.1,
          46.480000000000004,
          74.4,
          65.16666666666667,
          93,
          37.2,
          42.05,
          49.9,
          36,
          73.73846153846155,
          50.13333333333333,
          38.46666666666667,
          28.7,
          36.1,
          35.875,
          64.85,
          40.2,
          88.45,
          77.69999999999999,
          99.56666666666666,
          35.07142857142858,
          56.24285714285714,
          45.339999999999996,
          66.05714285714285,
          60.2,
          56.225,
          40.81521739130436,
          47.311842105263146,
          50.884000000000015,
          76.28333333333333,
          44.55,
          51.6,
          67.74285714285715,
          30.6,
          29,
          63.980000000000004,
          30.3,
          37.275,
          45.55555555555555,
          49.29090909090908,
          35,
          45.9,
          78.5,
          45.199999999999996,
          98.3,
          34.75,
          42.226666666666674,
          59.699999999999996,
          74.38461538461537,
          51.42,
          40.03333333333334,
          28.3,
          37.05,
          39.875,
          72.2,
          39.7,
          82.15,
          93.5,
          99.53333333333335,
          40.73333333333333,
          58.083333333333336,
          54.24285714285715,
          65.95,
          62.2,
          53.05,
          38.72765957446809,
          47.472500000000004,
          49.772000000000006,
          71.02857142857142,
          42.3,
          49.79375,
          28.1,
          70.64285714285715,
          36.5,
          29.4,
          63.85999999999999,
          46.20000000000001,
          45.13333333333334,
          53.04,
          36,
          44.059999999999995,
          64,
          46.225,
          85.15,
          34,
          41.42941176470589,
          57.56,
          33.6,
          28.6,
          74.96153846153847,
          51.06,
          39.333333333333336,
          28.5,
          39.2,
          37,
          55.95,
          76.7,
          92.5,
          77.78,
          42.449999999999996,
          57.43333333333334,
          61.942857142857136,
          70.06666666666666,
          56.5,
          49.5,
          38.25714285714285,
          48.472619047619034,
          28.6,
          48.9945945945946,
          28,
          73.52857142857144,
          46.054545454545455,
          46.74347826086956,
          37.875,
          64.4076923076923,
          35.8,
          30,
          30.22857142857143,
          45.050000000000004,
          30,
          38.15,
          45.62222222222222,
          34.07727272727273,
          69.3264705882353,
          42.68333333333334,
          43.040000000000006,
          34.53333333333334,
          28,
          41.98000000000001,
          40,
          62.65714285714285,
          29.72,
          39.971875,
          47.52647058823529,
          30.1,
          28,
          28.3,
          41,
          38.1,
          34.9,
          31.28,
          69.75,
          29.2,
          73.02307692307693,
          43.17142857142857,
          29.2,
          41.6,
          37.6,
          31.3,
          32.916666666666664,
          40.1,
          55.2,
          37.6625,
          28.766666666666666,
          49.24999999999999,
          77.15,
          45.6,
          74.85,
          30.6,
          32.3,
          68.63333333333333,
          54.17058823529411,
          35.56,
          50.87500000000001,
          68.4,
          53.65217391304347,
          45.34285714285715,
          62.25,
          28,
          28.4,
          31.7,
          34.386486486486504,
          44.33923076923078
         ],
         "yaxis": "y4"
        },
        {
         "marker": {
          "color": "rgb(12, 51, 131)"
         },
         "showlegend": false,
         "type": "box",
         "xaxis": "x5",
         "y": [
          51.387499999999996,
          97.4,
          41.666666666666664,
          63.175,
          61.03333333333333,
          36,
          30.2,
          27.73333333333333,
          43.43333333333334,
          46.800000000000004,
          72.06666666666666,
          69.8375,
          61.1,
          41.5,
          31.6,
          40.25,
          100,
          35,
          69.75,
          40.075,
          55.525000000000006,
          43.9,
          41.68518518518518,
          58.00714285714286,
          47.73999999999999,
          66.92857142857143,
          38.25,
          50.931250000000006,
          70.3,
          24.5,
          60.8,
          34.5,
          26.3,
          41.67999999999999,
          34.31428571428571,
          43.095,
          33.2,
          49.739999999999995,
          75.4,
          24.2,
          93.1,
          29.03333333333333,
          41.971428571428575,
          46.37142857142857,
          63.699999999999996,
          36.26,
          41.53333333333334,
          25.8,
          34.025,
          31.575000000000003,
          53,
          52.55,
          99.03333333333335,
          99.8,
          36.599999999999994,
          55.15714285714286,
          41.94,
          55.949999999999996,
          29,
          59,
          36.97551020408162,
          46.82337662337662,
          50.45416666666667,
          68.34285714285714,
          42.45,
          52.75625,
          66.96666666666665,
          28.4,
          28.1,
          64.52000000000001,
          30.1,
          52.4,
          47.112500000000004,
          46.71363636363637,
          34.1,
          46.480000000000004,
          74.4,
          65.16666666666667,
          93,
          37.2,
          42.05,
          49.9,
          36,
          73.73846153846155,
          50.13333333333333,
          38.46666666666667,
          28.7,
          36.1,
          35.875,
          64.85,
          40.2,
          88.45,
          77.69999999999999,
          99.56666666666666,
          35.07142857142858,
          56.24285714285714,
          45.339999999999996,
          66.05714285714285,
          60.2,
          56.225,
          40.81521739130436,
          47.311842105263146,
          50.884000000000015,
          76.28333333333333,
          44.55,
          51.6,
          67.74285714285715,
          30.6,
          29,
          63.980000000000004,
          30.3,
          37.275,
          45.55555555555555,
          49.29090909090908,
          35,
          45.9,
          78.5,
          45.199999999999996,
          98.3,
          34.75,
          42.226666666666674,
          59.699999999999996,
          74.38461538461537,
          51.42,
          40.03333333333334,
          28.3,
          37.05,
          39.875,
          72.2,
          39.7,
          82.15,
          93.5,
          99.53333333333335,
          40.73333333333333,
          58.083333333333336,
          54.24285714285715,
          65.95,
          62.2,
          53.05,
          38.72765957446809,
          47.472500000000004,
          49.772000000000006,
          71.02857142857142,
          42.3,
          49.79375,
          28.1,
          70.64285714285715,
          36.5,
          29.4,
          63.85999999999999,
          46.20000000000001,
          45.13333333333334,
          53.04,
          36,
          44.059999999999995,
          64,
          46.225,
          85.15,
          34,
          41.42941176470589,
          57.56,
          33.6,
          28.6,
          74.96153846153847,
          51.06,
          39.333333333333336,
          28.5,
          39.2,
          37,
          55.95,
          76.7,
          92.5,
          77.78,
          42.449999999999996,
          57.43333333333334,
          61.942857142857136,
          70.06666666666666,
          56.5,
          49.5,
          38.25714285714285,
          48.472619047619034,
          28.6,
          48.9945945945946,
          28,
          73.52857142857144,
          46.054545454545455,
          46.74347826086956,
          37.875,
          64.4076923076923,
          35.8,
          30,
          30.22857142857143,
          45.050000000000004,
          30,
          38.15,
          45.62222222222222,
          34.07727272727273,
          69.3264705882353,
          42.68333333333334,
          43.040000000000006,
          34.53333333333334,
          28,
          41.98000000000001,
          40,
          62.65714285714285,
          29.72,
          39.971875,
          47.52647058823529,
          30.1,
          28,
          28.3,
          41,
          38.1,
          34.9,
          31.28,
          69.75,
          29.2,
          73.02307692307693,
          43.17142857142857,
          29.2,
          41.6,
          37.6,
          31.3,
          32.916666666666664,
          40.1,
          55.2,
          37.6625,
          28.766666666666666,
          49.24999999999999,
          77.15,
          45.6,
          74.85,
          30.6,
          32.3,
          68.63333333333333,
          54.17058823529411,
          35.56,
          50.87500000000001,
          68.4,
          53.65217391304347,
          45.34285714285715,
          62.25,
          28,
          28.4,
          31.7,
          34.386486486486504,
          44.33923076923078
         ],
         "yaxis": "y5"
        },
        {
         "marker": {
          "color": [
           1,
           2,
           3,
           4,
           5,
           6,
           7,
           8,
           9,
           10,
           11,
           12,
           13,
           14,
           15,
           16,
           17,
           18,
           19,
           20,
           21,
           22,
           23,
           24,
           25,
           26,
           27,
           28,
           29,
           30,
           31,
           32,
           33,
           34,
           35,
           36,
           37,
           38,
           39,
           40,
           41,
           42,
           43,
           44,
           45,
           46,
           47,
           48,
           49,
           50,
           51,
           52,
           53,
           54,
           55,
           56,
           57,
           58,
           59,
           60,
           61,
           62,
           63,
           64,
           65,
           66,
           67,
           68,
           69,
           70,
           71,
           72,
           73,
           74,
           75,
           76,
           77,
           78,
           79,
           80,
           81,
           82,
           83,
           84,
           85,
           86,
           87,
           88,
           89,
           90,
           91,
           92,
           93,
           94,
           95,
           96,
           97,
           98,
           99,
           100,
           101,
           102,
           103,
           104,
           105,
           106,
           107,
           108,
           109,
           110,
           111,
           112,
           113,
           114,
           115,
           116,
           117,
           118,
           119,
           120,
           121,
           122,
           123,
           124,
           125,
           126,
           127,
           128,
           129,
           130,
           131,
           132,
           133,
           134,
           135,
           136,
           137,
           138,
           139,
           140,
           141,
           142,
           143,
           144,
           145,
           146,
           147,
           148,
           149,
           150,
           151,
           152,
           153,
           154,
           155,
           156,
           157,
           158,
           159,
           160,
           161,
           162,
           163,
           164,
           165,
           166,
           167,
           168,
           169,
           170,
           171,
           172,
           173,
           174,
           175,
           176,
           177,
           178,
           179,
           180,
           181,
           182,
           183,
           184,
           185,
           186,
           187,
           188,
           189,
           190,
           191,
           192,
           193,
           194,
           195,
           196,
           197,
           198,
           199,
           200,
           201,
           202,
           203,
           204,
           205,
           206,
           207,
           208,
           209,
           210,
           211,
           212,
           213,
           214,
           215,
           216,
           217,
           218,
           219,
           220,
           221,
           222,
           223,
           224,
           225,
           226,
           227,
           228,
           229,
           230,
           231,
           232,
           233,
           234,
           235,
           236,
           237,
           238,
           239,
           240,
           241,
           242,
           243,
           244,
           245,
           246,
           247
          ],
          "colorscale": [
           [
            0,
            "rgb(12, 51, 131)"
           ],
           [
            1,
            "rgb(217, 30, 30)"
           ]
          ],
          "showscale": false,
          "size": 6
         },
         "mode": "markers",
         "showlegend": false,
         "type": "scatter",
         "x": [
          82.47500000000001,
          27.15,
          72.26666666666667,
          38.025,
          47.73333333333333,
          19.3,
          24.2,
          37.733333333333334,
          52.111111111111114,
          82.03333333333333,
          21.666666666666668,
          43.949999999999996,
          94.3,
          66.6,
          84.2,
          97.05,
          34.650000000000006,
          33.2,
          71.05000000000001,
          93.725,
          35.625,
          27.2,
          73.97777777777777,
          40.76785714285715,
          77.40800000000002,
          63.671428571428564,
          21,
          61.993750000000006,
          24.37142857142857,
          51.4,
          71.66,
          31.6,
          42,
          41.800000000000004,
          65.85714285714286,
          55.38500000000001,
          42.6,
          67.23999999999998,
          56.9,
          14.3,
          12.7,
          49.63333333333333,
          33.949999999999996,
          21.028571428571432,
          60.10833333333334,
          86.8,
          64.89999999999999,
          39.5,
          48.625,
          78.45,
          45.7,
          91.4,
          63.333333333333336,
          26.96666666666667,
          39.35,
          62.65714285714286,
          90.76000000000002,
          17.9375,
          45,
          26.2,
          76.46734693877549,
          35.66753246753247,
          75.50833333333334,
          60.41428571428571,
          22.7,
          60.243750000000006,
          31.53333333333333,
          53,
          50.3,
          70.28,
          42.4,
          44.9,
          64.775,
          53.3909090909091,
          44.4,
          67.14000000000001,
          59.9,
          17.2,
          16.7,
          53.099999999999994,
          36.971428571428575,
          25.84545454545454,
          33.2,
          60.93846153846154,
          84.18333333333332,
          63.43333333333334,
          40.75,
          45.333333333333336,
          73.625,
          34.55,
          71,
          91.4,
          61.05,
          30.26666666666667,
          40.35714285714285,
          60.642857142857146,
          89.06,
          23.628571428571433,
          23.8,
          34.575,
          76.35652173913041,
          40.039473684210535,
          77.75600000000003,
          59.01666666666667,
          21.95,
          62.775,
          31.35714285714286,
          55.7,
          53.2,
          71.56,
          43.7,
          47.300000000000004,
          64.63333333333334,
          53.88636363636365,
          47.1,
          67.03999999999999,
          59.9,
          20.733333333333334,
          20.7,
          56.3,
          39.89333333333333,
          27.788888888888888,
          63.600000000000016,
          85.22,
          58.9,
          42.8,
          45.4,
          73.2,
          55.7,
          74.3,
          92.65,
          64.03333333333335,
          33.93333333333333,
          40.48888888888889,
          63.699999999999996,
          90.17142857142858,
          25.162499999999998,
          24.4,
          43.625,
          77.09574468085107,
          42.81125,
          78.92399999999999,
          62.15714285714286,
          23,
          66.19375000000002,
          48.7,
          33.714285714285715,
          54.6,
          53.9,
          70.14,
          50.699999999999996,
          67.75555555555555,
          54.11600000000001,
          47,
          69.88000000000001,
          59.1,
          20.875,
          19.7,
          56.95,
          42.670588235294126,
          31.940000000000005,
          73.3,
          45.1,
          65.54615384615386,
          84.3,
          60,
          41.6,
          48.25,
          77.25,
          52.099999999999994,
          93.7,
          63.6,
          35.4,
          49.349999999999994,
          61.35,
          90.77142857142857,
          26.766666666666666,
          22.5,
          44.9,
          79.10476190476192,
          45.029761904761905,
          28.1,
          77.9891891891892,
          48.2,
          68.64285714285714,
          21.2,
          66.14782608695653,
          43.85,
          23.446153846153848,
          46.85,
          74.7,
          36.442857142857136,
          79.41666666666667,
          32.35,
          42,
          53.599999999999994,
          61.14545454545455,
          53.267647058823535,
          36.93333333333333,
          83.24,
          53,
          61,
          14.419999999999998,
          37.2,
          12.57142857142857,
          50.9,
          37.60937499999999,
          22.76470588235294,
          57.95,
          45.5,
          31.5,
          40.8,
          99.8,
          98.4,
          38.1,
          47.75,
          42.7,
          70.39999999999999,
          89.04285714285716,
          26.1,
          65.33333333333333,
          71.5,
          31.3,
          26.016666666666666,
          45.12857142857143,
          99.9,
          78.98750000000001,
          34.53333333333333,
          29.941666666666666,
          88.75,
          30.5,
          95.4,
          38.75,
          34.5,
          55.28333333333334,
          28.39411764705882,
          40.908,
          62.050000000000004,
          93.6,
          23.286956521739135,
          32.67142857142857,
          27.009999999999998,
          58,
          38.3,
          95.3,
          78.22432432432433,
          42.436153846153864
         ],
         "xaxis": "x6",
         "y": [
          51.387499999999996,
          97.4,
          41.666666666666664,
          63.175,
          61.03333333333333,
          36,
          30.2,
          27.73333333333333,
          43.43333333333334,
          46.800000000000004,
          72.06666666666666,
          69.8375,
          61.1,
          41.5,
          31.6,
          40.25,
          100,
          35,
          69.75,
          40.075,
          55.525000000000006,
          43.9,
          41.68518518518518,
          58.00714285714286,
          47.73999999999999,
          66.92857142857143,
          38.25,
          50.931250000000006,
          70.3,
          24.5,
          60.8,
          34.5,
          26.3,
          41.67999999999999,
          34.31428571428571,
          43.095,
          33.2,
          49.739999999999995,
          75.4,
          24.2,
          93.1,
          29.03333333333333,
          41.971428571428575,
          46.37142857142857,
          63.699999999999996,
          36.26,
          41.53333333333334,
          25.8,
          34.025,
          31.575000000000003,
          53,
          52.55,
          99.03333333333335,
          99.8,
          36.599999999999994,
          55.15714285714286,
          41.94,
          55.949999999999996,
          29,
          59,
          36.97551020408162,
          46.82337662337662,
          50.45416666666667,
          68.34285714285714,
          42.45,
          52.75625,
          66.96666666666665,
          28.4,
          28.1,
          64.52000000000001,
          30.1,
          52.4,
          47.112500000000004,
          46.71363636363637,
          34.1,
          46.480000000000004,
          74.4,
          65.16666666666667,
          93,
          37.2,
          42.05,
          49.9,
          36,
          73.73846153846155,
          50.13333333333333,
          38.46666666666667,
          28.7,
          36.1,
          35.875,
          64.85,
          40.2,
          88.45,
          77.69999999999999,
          99.56666666666666,
          35.07142857142858,
          56.24285714285714,
          45.339999999999996,
          66.05714285714285,
          60.2,
          56.225,
          40.81521739130436,
          47.311842105263146,
          50.884000000000015,
          76.28333333333333,
          44.55,
          51.6,
          67.74285714285715,
          30.6,
          29,
          63.980000000000004,
          30.3,
          37.275,
          45.55555555555555,
          49.29090909090908,
          35,
          45.9,
          78.5,
          45.199999999999996,
          98.3,
          34.75,
          42.226666666666674,
          59.699999999999996,
          74.38461538461537,
          51.42,
          40.03333333333334,
          28.3,
          37.05,
          39.875,
          72.2,
          39.7,
          82.15,
          93.5,
          99.53333333333335,
          40.73333333333333,
          58.083333333333336,
          54.24285714285715,
          65.95,
          62.2,
          53.05,
          38.72765957446809,
          47.472500000000004,
          49.772000000000006,
          71.02857142857142,
          42.3,
          49.79375,
          28.1,
          70.64285714285715,
          36.5,
          29.4,
          63.85999999999999,
          46.20000000000001,
          45.13333333333334,
          53.04,
          36,
          44.059999999999995,
          64,
          46.225,
          85.15,
          34,
          41.42941176470589,
          57.56,
          33.6,
          28.6,
          74.96153846153847,
          51.06,
          39.333333333333336,
          28.5,
          39.2,
          37,
          55.95,
          76.7,
          92.5,
          77.78,
          42.449999999999996,
          57.43333333333334,
          61.942857142857136,
          70.06666666666666,
          56.5,
          49.5,
          38.25714285714285,
          48.472619047619034,
          28.6,
          48.9945945945946,
          28,
          73.52857142857144,
          46.054545454545455,
          46.74347826086956,
          37.875,
          64.4076923076923,
          35.8,
          30,
          30.22857142857143,
          45.050000000000004,
          30,
          38.15,
          45.62222222222222,
          34.07727272727273,
          69.3264705882353,
          42.68333333333334,
          43.040000000000006,
          34.53333333333334,
          28,
          41.98000000000001,
          40,
          62.65714285714285,
          29.72,
          39.971875,
          47.52647058823529,
          30.1,
          28,
          28.3,
          41,
          38.1,
          34.9,
          31.28,
          69.75,
          29.2,
          73.02307692307693,
          43.17142857142857,
          29.2,
          41.6,
          37.6,
          31.3,
          32.916666666666664,
          40.1,
          55.2,
          37.6625,
          28.766666666666666,
          49.24999999999999,
          77.15,
          45.6,
          74.85,
          30.6,
          32.3,
          68.63333333333333,
          54.17058823529411,
          35.56,
          50.87500000000001,
          68.4,
          53.65217391304347,
          45.34285714285715,
          62.25,
          28,
          28.4,
          31.7,
          34.386486486486504,
          44.33923076923078
         ],
         "yaxis": "y6"
        },
        {
         "marker": {
          "color": [
           1,
           2,
           3,
           4,
           5,
           6,
           7,
           8,
           9,
           10,
           11,
           12,
           13,
           14,
           15,
           16,
           17,
           18,
           19,
           20,
           21,
           22,
           23,
           24,
           25,
           26,
           27,
           28,
           29,
           30,
           31,
           32,
           33,
           34,
           35,
           36,
           37,
           38,
           39,
           40,
           41,
           42,
           43,
           44,
           45,
           46,
           47,
           48,
           49,
           50,
           51,
           52,
           53,
           54,
           55,
           56,
           57,
           58,
           59,
           60,
           61,
           62,
           63,
           64,
           65,
           66,
           67,
           68,
           69,
           70,
           71,
           72,
           73,
           74,
           75,
           76,
           77,
           78,
           79,
           80,
           81,
           82,
           83,
           84,
           85,
           86,
           87,
           88,
           89,
           90,
           91,
           92,
           93,
           94,
           95,
           96,
           97,
           98,
           99,
           100,
           101,
           102,
           103,
           104,
           105,
           106,
           107,
           108,
           109,
           110,
           111,
           112,
           113,
           114,
           115,
           116,
           117,
           118,
           119,
           120,
           121,
           122,
           123,
           124,
           125,
           126,
           127,
           128,
           129,
           130,
           131,
           132,
           133,
           134,
           135,
           136,
           137,
           138,
           139,
           140,
           141,
           142,
           143,
           144,
           145,
           146,
           147,
           148,
           149,
           150,
           151,
           152,
           153,
           154,
           155,
           156,
           157,
           158,
           159,
           160,
           161,
           162,
           163,
           164,
           165,
           166,
           167,
           168,
           169,
           170,
           171,
           172,
           173,
           174,
           175,
           176,
           177,
           178,
           179,
           180,
           181,
           182,
           183,
           184,
           185,
           186,
           187,
           188,
           189,
           190,
           191,
           192,
           193,
           194,
           195,
           196,
           197,
           198,
           199,
           200,
           201,
           202,
           203,
           204,
           205,
           206,
           207,
           208,
           209,
           210,
           211,
           212,
           213,
           214,
           215,
           216,
           217,
           218,
           219,
           220,
           221,
           222,
           223,
           224,
           225,
           226,
           227,
           228,
           229,
           230,
           231,
           232,
           233,
           234,
           235,
           236,
           237,
           238,
           239,
           240,
           241,
           242,
           243,
           244,
           245,
           246,
           247
          ],
          "colorscale": [
           [
            0,
            "rgb(12, 51, 131)"
           ],
           [
            1,
            "rgb(217, 30, 30)"
           ]
          ],
          "showscale": false,
          "size": 6
         },
         "mode": "markers",
         "showlegend": false,
         "type": "scatter",
         "x": [
          2011,
          2011,
          2011,
          2011,
          2011,
          2011,
          2011,
          2011,
          2011,
          2011,
          2011,
          2011,
          2011,
          2011,
          2011,
          2011,
          2011,
          2011,
          2011,
          2011,
          2011,
          2011,
          2011,
          2011,
          2012,
          2012,
          2012,
          2012,
          2012,
          2012,
          2012,
          2012,
          2012,
          2012,
          2012,
          2012,
          2012,
          2012,
          2012,
          2012,
          2012,
          2012,
          2012,
          2012,
          2012,
          2012,
          2012,
          2012,
          2012,
          2012,
          2012,
          2012,
          2012,
          2012,
          2012,
          2012,
          2012,
          2012,
          2012,
          2012,
          2012,
          2012,
          2013,
          2013,
          2013,
          2013,
          2013,
          2013,
          2013,
          2013,
          2013,
          2013,
          2013,
          2013,
          2013,
          2013,
          2013,
          2013,
          2013,
          2013,
          2013,
          2013,
          2013,
          2013,
          2013,
          2013,
          2013,
          2013,
          2013,
          2013,
          2013,
          2013,
          2013,
          2013,
          2013,
          2013,
          2013,
          2013,
          2013,
          2013,
          2013,
          2013,
          2014,
          2014,
          2014,
          2014,
          2014,
          2014,
          2014,
          2014,
          2014,
          2014,
          2014,
          2014,
          2014,
          2014,
          2014,
          2014,
          2014,
          2014,
          2014,
          2014,
          2014,
          2014,
          2014,
          2014,
          2014,
          2014,
          2014,
          2014,
          2014,
          2014,
          2014,
          2014,
          2014,
          2014,
          2014,
          2014,
          2014,
          2014,
          2014,
          2015,
          2015,
          2015,
          2015,
          2015,
          2015,
          2015,
          2015,
          2015,
          2015,
          2015,
          2015,
          2015,
          2015,
          2015,
          2015,
          2015,
          2015,
          2015,
          2015,
          2015,
          2015,
          2015,
          2015,
          2015,
          2015,
          2015,
          2015,
          2015,
          2015,
          2015,
          2015,
          2015,
          2015,
          2015,
          2015,
          2015,
          2015,
          2015,
          2015,
          2016,
          2016,
          2016,
          2016,
          2016,
          2016,
          2016,
          2016,
          2016,
          2016,
          2016,
          2016,
          2016,
          2016,
          2016,
          2016,
          2016,
          2016,
          2016,
          2016,
          2016,
          2016,
          2016,
          2016,
          2016,
          2016,
          2016,
          2016,
          2016,
          2016,
          2016,
          2016,
          2016,
          2016,
          2016,
          2016,
          2016,
          2016,
          2016,
          2016,
          2016,
          2016,
          2016,
          2016,
          2016,
          2016,
          2016,
          2016,
          2016,
          2016,
          2016,
          2016,
          2016,
          2016,
          2016,
          2016,
          2016,
          2016,
          2016,
          2016,
          2016,
          2016,
          2016,
          2016,
          2016,
          2016
         ],
         "xaxis": "x7",
         "y": [
          82.47500000000001,
          27.15,
          72.26666666666667,
          38.025,
          47.73333333333333,
          19.3,
          24.2,
          37.733333333333334,
          52.111111111111114,
          82.03333333333333,
          21.666666666666668,
          43.949999999999996,
          94.3,
          66.6,
          84.2,
          97.05,
          34.650000000000006,
          33.2,
          71.05000000000001,
          93.725,
          35.625,
          27.2,
          73.97777777777777,
          40.76785714285715,
          77.40800000000002,
          63.671428571428564,
          21,
          61.993750000000006,
          24.37142857142857,
          51.4,
          71.66,
          31.6,
          42,
          41.800000000000004,
          65.85714285714286,
          55.38500000000001,
          42.6,
          67.23999999999998,
          56.9,
          14.3,
          12.7,
          49.63333333333333,
          33.949999999999996,
          21.028571428571432,
          60.10833333333334,
          86.8,
          64.89999999999999,
          39.5,
          48.625,
          78.45,
          45.7,
          91.4,
          63.333333333333336,
          26.96666666666667,
          39.35,
          62.65714285714286,
          90.76000000000002,
          17.9375,
          45,
          26.2,
          76.46734693877549,
          35.66753246753247,
          75.50833333333334,
          60.41428571428571,
          22.7,
          60.243750000000006,
          31.53333333333333,
          53,
          50.3,
          70.28,
          42.4,
          44.9,
          64.775,
          53.3909090909091,
          44.4,
          67.14000000000001,
          59.9,
          17.2,
          16.7,
          53.099999999999994,
          36.971428571428575,
          25.84545454545454,
          33.2,
          60.93846153846154,
          84.18333333333332,
          63.43333333333334,
          40.75,
          45.333333333333336,
          73.625,
          34.55,
          71,
          91.4,
          61.05,
          30.26666666666667,
          40.35714285714285,
          60.642857142857146,
          89.06,
          23.628571428571433,
          23.8,
          34.575,
          76.35652173913041,
          40.039473684210535,
          77.75600000000003,
          59.01666666666667,
          21.95,
          62.775,
          31.35714285714286,
          55.7,
          53.2,
          71.56,
          43.7,
          47.300000000000004,
          64.63333333333334,
          53.88636363636365,
          47.1,
          67.03999999999999,
          59.9,
          20.733333333333334,
          20.7,
          56.3,
          39.89333333333333,
          27.788888888888888,
          63.600000000000016,
          85.22,
          58.9,
          42.8,
          45.4,
          73.2,
          55.7,
          74.3,
          92.65,
          64.03333333333335,
          33.93333333333333,
          40.48888888888889,
          63.699999999999996,
          90.17142857142858,
          25.162499999999998,
          24.4,
          43.625,
          77.09574468085107,
          42.81125,
          78.92399999999999,
          62.15714285714286,
          23,
          66.19375000000002,
          48.7,
          33.714285714285715,
          54.6,
          53.9,
          70.14,
          50.699999999999996,
          67.75555555555555,
          54.11600000000001,
          47,
          69.88000000000001,
          59.1,
          20.875,
          19.7,
          56.95,
          42.670588235294126,
          31.940000000000005,
          73.3,
          45.1,
          65.54615384615386,
          84.3,
          60,
          41.6,
          48.25,
          77.25,
          52.099999999999994,
          93.7,
          63.6,
          35.4,
          49.349999999999994,
          61.35,
          90.77142857142857,
          26.766666666666666,
          22.5,
          44.9,
          79.10476190476192,
          45.029761904761905,
          28.1,
          77.9891891891892,
          48.2,
          68.64285714285714,
          21.2,
          66.14782608695653,
          43.85,
          23.446153846153848,
          46.85,
          74.7,
          36.442857142857136,
          79.41666666666667,
          32.35,
          42,
          53.599999999999994,
          61.14545454545455,
          53.267647058823535,
          36.93333333333333,
          83.24,
          53,
          61,
          14.419999999999998,
          37.2,
          12.57142857142857,
          50.9,
          37.60937499999999,
          22.76470588235294,
          57.95,
          45.5,
          31.5,
          40.8,
          99.8,
          98.4,
          38.1,
          47.75,
          42.7,
          70.39999999999999,
          89.04285714285716,
          26.1,
          65.33333333333333,
          71.5,
          31.3,
          26.016666666666666,
          45.12857142857143,
          99.9,
          78.98750000000001,
          34.53333333333333,
          29.941666666666666,
          88.75,
          30.5,
          95.4,
          38.75,
          34.5,
          55.28333333333334,
          28.39411764705882,
          40.908,
          62.050000000000004,
          93.6,
          23.286956521739135,
          32.67142857142857,
          27.009999999999998,
          58,
          38.3,
          95.3,
          78.22432432432433,
          42.436153846153864
         ],
         "yaxis": "y7"
        },
        {
         "marker": {
          "color": [
           1,
           2,
           3,
           4,
           5,
           6,
           7,
           8,
           9,
           10,
           11,
           12,
           13,
           14,
           15,
           16,
           17,
           18,
           19,
           20,
           21,
           22,
           23,
           24,
           25,
           26,
           27,
           28,
           29,
           30,
           31,
           32,
           33,
           34,
           35,
           36,
           37,
           38,
           39,
           40,
           41,
           42,
           43,
           44,
           45,
           46,
           47,
           48,
           49,
           50,
           51,
           52,
           53,
           54,
           55,
           56,
           57,
           58,
           59,
           60,
           61,
           62,
           63,
           64,
           65,
           66,
           67,
           68,
           69,
           70,
           71,
           72,
           73,
           74,
           75,
           76,
           77,
           78,
           79,
           80,
           81,
           82,
           83,
           84,
           85,
           86,
           87,
           88,
           89,
           90,
           91,
           92,
           93,
           94,
           95,
           96,
           97,
           98,
           99,
           100,
           101,
           102,
           103,
           104,
           105,
           106,
           107,
           108,
           109,
           110,
           111,
           112,
           113,
           114,
           115,
           116,
           117,
           118,
           119,
           120,
           121,
           122,
           123,
           124,
           125,
           126,
           127,
           128,
           129,
           130,
           131,
           132,
           133,
           134,
           135,
           136,
           137,
           138,
           139,
           140,
           141,
           142,
           143,
           144,
           145,
           146,
           147,
           148,
           149,
           150,
           151,
           152,
           153,
           154,
           155,
           156,
           157,
           158,
           159,
           160,
           161,
           162,
           163,
           164,
           165,
           166,
           167,
           168,
           169,
           170,
           171,
           172,
           173,
           174,
           175,
           176,
           177,
           178,
           179,
           180,
           181,
           182,
           183,
           184,
           185,
           186,
           187,
           188,
           189,
           190,
           191,
           192,
           193,
           194,
           195,
           196,
           197,
           198,
           199,
           200,
           201,
           202,
           203,
           204,
           205,
           206,
           207,
           208,
           209,
           210,
           211,
           212,
           213,
           214,
           215,
           216,
           217,
           218,
           219,
           220,
           221,
           222,
           223,
           224,
           225,
           226,
           227,
           228,
           229,
           230,
           231,
           232,
           233,
           234,
           235,
           236,
           237,
           238,
           239,
           240,
           241,
           242,
           243,
           244,
           245,
           246,
           247
          ],
          "colorscale": [
           [
            0,
            "rgb(12, 51, 131)"
           ],
           [
            1,
            "rgb(217, 30, 30)"
           ]
          ],
          "showscale": false,
          "size": 6
         },
         "mode": "markers",
         "showlegend": false,
         "type": "scatter",
         "x": [
          51.387499999999996,
          97.4,
          41.666666666666664,
          63.175,
          61.03333333333333,
          36,
          30.2,
          27.73333333333333,
          43.43333333333334,
          46.800000000000004,
          72.06666666666666,
          69.8375,
          61.1,
          41.5,
          31.6,
          40.25,
          100,
          35,
          69.75,
          40.075,
          55.525000000000006,
          43.9,
          41.68518518518518,
          58.00714285714286,
          47.73999999999999,
          66.92857142857143,
          38.25,
          50.931250000000006,
          70.3,
          24.5,
          60.8,
          34.5,
          26.3,
          41.67999999999999,
          34.31428571428571,
          43.095,
          33.2,
          49.739999999999995,
          75.4,
          24.2,
          93.1,
          29.03333333333333,
          41.971428571428575,
          46.37142857142857,
          63.699999999999996,
          36.26,
          41.53333333333334,
          25.8,
          34.025,
          31.575000000000003,
          53,
          52.55,
          99.03333333333335,
          99.8,
          36.599999999999994,
          55.15714285714286,
          41.94,
          55.949999999999996,
          29,
          59,
          36.97551020408162,
          46.82337662337662,
          50.45416666666667,
          68.34285714285714,
          42.45,
          52.75625,
          66.96666666666665,
          28.4,
          28.1,
          64.52000000000001,
          30.1,
          52.4,
          47.112500000000004,
          46.71363636363637,
          34.1,
          46.480000000000004,
          74.4,
          65.16666666666667,
          93,
          37.2,
          42.05,
          49.9,
          36,
          73.73846153846155,
          50.13333333333333,
          38.46666666666667,
          28.7,
          36.1,
          35.875,
          64.85,
          40.2,
          88.45,
          77.69999999999999,
          99.56666666666666,
          35.07142857142858,
          56.24285714285714,
          45.339999999999996,
          66.05714285714285,
          60.2,
          56.225,
          40.81521739130436,
          47.311842105263146,
          50.884000000000015,
          76.28333333333333,
          44.55,
          51.6,
          67.74285714285715,
          30.6,
          29,
          63.980000000000004,
          30.3,
          37.275,
          45.55555555555555,
          49.29090909090908,
          35,
          45.9,
          78.5,
          45.199999999999996,
          98.3,
          34.75,
          42.226666666666674,
          59.699999999999996,
          74.38461538461537,
          51.42,
          40.03333333333334,
          28.3,
          37.05,
          39.875,
          72.2,
          39.7,
          82.15,
          93.5,
          99.53333333333335,
          40.73333333333333,
          58.083333333333336,
          54.24285714285715,
          65.95,
          62.2,
          53.05,
          38.72765957446809,
          47.472500000000004,
          49.772000000000006,
          71.02857142857142,
          42.3,
          49.79375,
          28.1,
          70.64285714285715,
          36.5,
          29.4,
          63.85999999999999,
          46.20000000000001,
          45.13333333333334,
          53.04,
          36,
          44.059999999999995,
          64,
          46.225,
          85.15,
          34,
          41.42941176470589,
          57.56,
          33.6,
          28.6,
          74.96153846153847,
          51.06,
          39.333333333333336,
          28.5,
          39.2,
          37,
          55.95,
          76.7,
          92.5,
          77.78,
          42.449999999999996,
          57.43333333333334,
          61.942857142857136,
          70.06666666666666,
          56.5,
          49.5,
          38.25714285714285,
          48.472619047619034,
          28.6,
          48.9945945945946,
          28,
          73.52857142857144,
          46.054545454545455,
          46.74347826086956,
          37.875,
          64.4076923076923,
          35.8,
          30,
          30.22857142857143,
          45.050000000000004,
          30,
          38.15,
          45.62222222222222,
          34.07727272727273,
          69.3264705882353,
          42.68333333333334,
          43.040000000000006,
          34.53333333333334,
          28,
          41.98000000000001,
          40,
          62.65714285714285,
          29.72,
          39.971875,
          47.52647058823529,
          30.1,
          28,
          28.3,
          41,
          38.1,
          34.9,
          31.28,
          69.75,
          29.2,
          73.02307692307693,
          43.17142857142857,
          29.2,
          41.6,
          37.6,
          31.3,
          32.916666666666664,
          40.1,
          55.2,
          37.6625,
          28.766666666666666,
          49.24999999999999,
          77.15,
          45.6,
          74.85,
          30.6,
          32.3,
          68.63333333333333,
          54.17058823529411,
          35.56,
          50.87500000000001,
          68.4,
          53.65217391304347,
          45.34285714285715,
          62.25,
          28,
          28.4,
          31.7,
          34.386486486486504,
          44.33923076923078
         ],
         "xaxis": "x8",
         "y": [
          82.47500000000001,
          27.15,
          72.26666666666667,
          38.025,
          47.73333333333333,
          19.3,
          24.2,
          37.733333333333334,
          52.111111111111114,
          82.03333333333333,
          21.666666666666668,
          43.949999999999996,
          94.3,
          66.6,
          84.2,
          97.05,
          34.650000000000006,
          33.2,
          71.05000000000001,
          93.725,
          35.625,
          27.2,
          73.97777777777777,
          40.76785714285715,
          77.40800000000002,
          63.671428571428564,
          21,
          61.993750000000006,
          24.37142857142857,
          51.4,
          71.66,
          31.6,
          42,
          41.800000000000004,
          65.85714285714286,
          55.38500000000001,
          42.6,
          67.23999999999998,
          56.9,
          14.3,
          12.7,
          49.63333333333333,
          33.949999999999996,
          21.028571428571432,
          60.10833333333334,
          86.8,
          64.89999999999999,
          39.5,
          48.625,
          78.45,
          45.7,
          91.4,
          63.333333333333336,
          26.96666666666667,
          39.35,
          62.65714285714286,
          90.76000000000002,
          17.9375,
          45,
          26.2,
          76.46734693877549,
          35.66753246753247,
          75.50833333333334,
          60.41428571428571,
          22.7,
          60.243750000000006,
          31.53333333333333,
          53,
          50.3,
          70.28,
          42.4,
          44.9,
          64.775,
          53.3909090909091,
          44.4,
          67.14000000000001,
          59.9,
          17.2,
          16.7,
          53.099999999999994,
          36.971428571428575,
          25.84545454545454,
          33.2,
          60.93846153846154,
          84.18333333333332,
          63.43333333333334,
          40.75,
          45.333333333333336,
          73.625,
          34.55,
          71,
          91.4,
          61.05,
          30.26666666666667,
          40.35714285714285,
          60.642857142857146,
          89.06,
          23.628571428571433,
          23.8,
          34.575,
          76.35652173913041,
          40.039473684210535,
          77.75600000000003,
          59.01666666666667,
          21.95,
          62.775,
          31.35714285714286,
          55.7,
          53.2,
          71.56,
          43.7,
          47.300000000000004,
          64.63333333333334,
          53.88636363636365,
          47.1,
          67.03999999999999,
          59.9,
          20.733333333333334,
          20.7,
          56.3,
          39.89333333333333,
          27.788888888888888,
          63.600000000000016,
          85.22,
          58.9,
          42.8,
          45.4,
          73.2,
          55.7,
          74.3,
          92.65,
          64.03333333333335,
          33.93333333333333,
          40.48888888888889,
          63.699999999999996,
          90.17142857142858,
          25.162499999999998,
          24.4,
          43.625,
          77.09574468085107,
          42.81125,
          78.92399999999999,
          62.15714285714286,
          23,
          66.19375000000002,
          48.7,
          33.714285714285715,
          54.6,
          53.9,
          70.14,
          50.699999999999996,
          67.75555555555555,
          54.11600000000001,
          47,
          69.88000000000001,
          59.1,
          20.875,
          19.7,
          56.95,
          42.670588235294126,
          31.940000000000005,
          73.3,
          45.1,
          65.54615384615386,
          84.3,
          60,
          41.6,
          48.25,
          77.25,
          52.099999999999994,
          93.7,
          63.6,
          35.4,
          49.349999999999994,
          61.35,
          90.77142857142857,
          26.766666666666666,
          22.5,
          44.9,
          79.10476190476192,
          45.029761904761905,
          28.1,
          77.9891891891892,
          48.2,
          68.64285714285714,
          21.2,
          66.14782608695653,
          43.85,
          23.446153846153848,
          46.85,
          74.7,
          36.442857142857136,
          79.41666666666667,
          32.35,
          42,
          53.599999999999994,
          61.14545454545455,
          53.267647058823535,
          36.93333333333333,
          83.24,
          53,
          61,
          14.419999999999998,
          37.2,
          12.57142857142857,
          50.9,
          37.60937499999999,
          22.76470588235294,
          57.95,
          45.5,
          31.5,
          40.8,
          99.8,
          98.4,
          38.1,
          47.75,
          42.7,
          70.39999999999999,
          89.04285714285716,
          26.1,
          65.33333333333333,
          71.5,
          31.3,
          26.016666666666666,
          45.12857142857143,
          99.9,
          78.98750000000001,
          34.53333333333333,
          29.941666666666666,
          88.75,
          30.5,
          95.4,
          38.75,
          34.5,
          55.28333333333334,
          28.39411764705882,
          40.908,
          62.050000000000004,
          93.6,
          23.286956521739135,
          32.67142857142857,
          27.009999999999998,
          58,
          38.3,
          95.3,
          78.22432432432433,
          42.436153846153864
         ],
         "yaxis": "y8"
        },
        {
         "marker": {
          "color": "rgb(12, 51, 131)"
         },
         "showlegend": false,
         "type": "box",
         "xaxis": "x9",
         "y": [
          82.47500000000001,
          27.15,
          72.26666666666667,
          38.025,
          47.73333333333333,
          19.3,
          24.2,
          37.733333333333334,
          52.111111111111114,
          82.03333333333333,
          21.666666666666668,
          43.949999999999996,
          94.3,
          66.6,
          84.2,
          97.05,
          34.650000000000006,
          33.2,
          71.05000000000001,
          93.725,
          35.625,
          27.2,
          73.97777777777777,
          40.76785714285715,
          77.40800000000002,
          63.671428571428564,
          21,
          61.993750000000006,
          24.37142857142857,
          51.4,
          71.66,
          31.6,
          42,
          41.800000000000004,
          65.85714285714286,
          55.38500000000001,
          42.6,
          67.23999999999998,
          56.9,
          14.3,
          12.7,
          49.63333333333333,
          33.949999999999996,
          21.028571428571432,
          60.10833333333334,
          86.8,
          64.89999999999999,
          39.5,
          48.625,
          78.45,
          45.7,
          91.4,
          63.333333333333336,
          26.96666666666667,
          39.35,
          62.65714285714286,
          90.76000000000002,
          17.9375,
          45,
          26.2,
          76.46734693877549,
          35.66753246753247,
          75.50833333333334,
          60.41428571428571,
          22.7,
          60.243750000000006,
          31.53333333333333,
          53,
          50.3,
          70.28,
          42.4,
          44.9,
          64.775,
          53.3909090909091,
          44.4,
          67.14000000000001,
          59.9,
          17.2,
          16.7,
          53.099999999999994,
          36.971428571428575,
          25.84545454545454,
          33.2,
          60.93846153846154,
          84.18333333333332,
          63.43333333333334,
          40.75,
          45.333333333333336,
          73.625,
          34.55,
          71,
          91.4,
          61.05,
          30.26666666666667,
          40.35714285714285,
          60.642857142857146,
          89.06,
          23.628571428571433,
          23.8,
          34.575,
          76.35652173913041,
          40.039473684210535,
          77.75600000000003,
          59.01666666666667,
          21.95,
          62.775,
          31.35714285714286,
          55.7,
          53.2,
          71.56,
          43.7,
          47.300000000000004,
          64.63333333333334,
          53.88636363636365,
          47.1,
          67.03999999999999,
          59.9,
          20.733333333333334,
          20.7,
          56.3,
          39.89333333333333,
          27.788888888888888,
          63.600000000000016,
          85.22,
          58.9,
          42.8,
          45.4,
          73.2,
          55.7,
          74.3,
          92.65,
          64.03333333333335,
          33.93333333333333,
          40.48888888888889,
          63.699999999999996,
          90.17142857142858,
          25.162499999999998,
          24.4,
          43.625,
          77.09574468085107,
          42.81125,
          78.92399999999999,
          62.15714285714286,
          23,
          66.19375000000002,
          48.7,
          33.714285714285715,
          54.6,
          53.9,
          70.14,
          50.699999999999996,
          67.75555555555555,
          54.11600000000001,
          47,
          69.88000000000001,
          59.1,
          20.875,
          19.7,
          56.95,
          42.670588235294126,
          31.940000000000005,
          73.3,
          45.1,
          65.54615384615386,
          84.3,
          60,
          41.6,
          48.25,
          77.25,
          52.099999999999994,
          93.7,
          63.6,
          35.4,
          49.349999999999994,
          61.35,
          90.77142857142857,
          26.766666666666666,
          22.5,
          44.9,
          79.10476190476192,
          45.029761904761905,
          28.1,
          77.9891891891892,
          48.2,
          68.64285714285714,
          21.2,
          66.14782608695653,
          43.85,
          23.446153846153848,
          46.85,
          74.7,
          36.442857142857136,
          79.41666666666667,
          32.35,
          42,
          53.599999999999994,
          61.14545454545455,
          53.267647058823535,
          36.93333333333333,
          83.24,
          53,
          61,
          14.419999999999998,
          37.2,
          12.57142857142857,
          50.9,
          37.60937499999999,
          22.76470588235294,
          57.95,
          45.5,
          31.5,
          40.8,
          99.8,
          98.4,
          38.1,
          47.75,
          42.7,
          70.39999999999999,
          89.04285714285716,
          26.1,
          65.33333333333333,
          71.5,
          31.3,
          26.016666666666666,
          45.12857142857143,
          99.9,
          78.98750000000001,
          34.53333333333333,
          29.941666666666666,
          88.75,
          30.5,
          95.4,
          38.75,
          34.5,
          55.28333333333334,
          28.39411764705882,
          40.908,
          62.050000000000004,
          93.6,
          23.286956521739135,
          32.67142857142857,
          27.009999999999998,
          58,
          38.3,
          95.3,
          78.22432432432433,
          42.436153846153864
         ],
         "yaxis": "y9"
        }
       ],
       "layout": {
        "height": 700,
        "showlegend": true,
        "template": {
         "data": {
          "bar": [
           {
            "error_x": {
             "color": "#2a3f5f"
            },
            "error_y": {
             "color": "#2a3f5f"
            },
            "marker": {
             "line": {
              "color": "#E5ECF6",
              "width": 0.5
             }
            },
            "type": "bar"
           }
          ],
          "barpolar": [
           {
            "marker": {
             "line": {
              "color": "#E5ECF6",
              "width": 0.5
             }
            },
            "type": "barpolar"
           }
          ],
          "carpet": [
           {
            "aaxis": {
             "endlinecolor": "#2a3f5f",
             "gridcolor": "white",
             "linecolor": "white",
             "minorgridcolor": "white",
             "startlinecolor": "#2a3f5f"
            },
            "baxis": {
             "endlinecolor": "#2a3f5f",
             "gridcolor": "white",
             "linecolor": "white",
             "minorgridcolor": "white",
             "startlinecolor": "#2a3f5f"
            },
            "type": "carpet"
           }
          ],
          "choropleth": [
           {
            "colorbar": {
             "outlinewidth": 0,
             "ticks": ""
            },
            "type": "choropleth"
           }
          ],
          "contour": [
           {
            "colorbar": {
             "outlinewidth": 0,
             "ticks": ""
            },
            "colorscale": [
             [
              0,
              "#0d0887"
             ],
             [
              0.1111111111111111,
              "#46039f"
             ],
             [
              0.2222222222222222,
              "#7201a8"
             ],
             [
              0.3333333333333333,
              "#9c179e"
             ],
             [
              0.4444444444444444,
              "#bd3786"
             ],
             [
              0.5555555555555556,
              "#d8576b"
             ],
             [
              0.6666666666666666,
              "#ed7953"
             ],
             [
              0.7777777777777778,
              "#fb9f3a"
             ],
             [
              0.8888888888888888,
              "#fdca26"
             ],
             [
              1,
              "#f0f921"
             ]
            ],
            "type": "contour"
           }
          ],
          "contourcarpet": [
           {
            "colorbar": {
             "outlinewidth": 0,
             "ticks": ""
            },
            "type": "contourcarpet"
           }
          ],
          "heatmap": [
           {
            "colorbar": {
             "outlinewidth": 0,
             "ticks": ""
            },
            "colorscale": [
             [
              0,
              "#0d0887"
             ],
             [
              0.1111111111111111,
              "#46039f"
             ],
             [
              0.2222222222222222,
              "#7201a8"
             ],
             [
              0.3333333333333333,
              "#9c179e"
             ],
             [
              0.4444444444444444,
              "#bd3786"
             ],
             [
              0.5555555555555556,
              "#d8576b"
             ],
             [
              0.6666666666666666,
              "#ed7953"
             ],
             [
              0.7777777777777778,
              "#fb9f3a"
             ],
             [
              0.8888888888888888,
              "#fdca26"
             ],
             [
              1,
              "#f0f921"
             ]
            ],
            "type": "heatmap"
           }
          ],
          "heatmapgl": [
           {
            "colorbar": {
             "outlinewidth": 0,
             "ticks": ""
            },
            "colorscale": [
             [
              0,
              "#0d0887"
             ],
             [
              0.1111111111111111,
              "#46039f"
             ],
             [
              0.2222222222222222,
              "#7201a8"
             ],
             [
              0.3333333333333333,
              "#9c179e"
             ],
             [
              0.4444444444444444,
              "#bd3786"
             ],
             [
              0.5555555555555556,
              "#d8576b"
             ],
             [
              0.6666666666666666,
              "#ed7953"
             ],
             [
              0.7777777777777778,
              "#fb9f3a"
             ],
             [
              0.8888888888888888,
              "#fdca26"
             ],
             [
              1,
              "#f0f921"
             ]
            ],
            "type": "heatmapgl"
           }
          ],
          "histogram": [
           {
            "marker": {
             "colorbar": {
              "outlinewidth": 0,
              "ticks": ""
             }
            },
            "type": "histogram"
           }
          ],
          "histogram2d": [
           {
            "colorbar": {
             "outlinewidth": 0,
             "ticks": ""
            },
            "colorscale": [
             [
              0,
              "#0d0887"
             ],
             [
              0.1111111111111111,
              "#46039f"
             ],
             [
              0.2222222222222222,
              "#7201a8"
             ],
             [
              0.3333333333333333,
              "#9c179e"
             ],
             [
              0.4444444444444444,
              "#bd3786"
             ],
             [
              0.5555555555555556,
              "#d8576b"
             ],
             [
              0.6666666666666666,
              "#ed7953"
             ],
             [
              0.7777777777777778,
              "#fb9f3a"
             ],
             [
              0.8888888888888888,
              "#fdca26"
             ],
             [
              1,
              "#f0f921"
             ]
            ],
            "type": "histogram2d"
           }
          ],
          "histogram2dcontour": [
           {
            "colorbar": {
             "outlinewidth": 0,
             "ticks": ""
            },
            "colorscale": [
             [
              0,
              "#0d0887"
             ],
             [
              0.1111111111111111,
              "#46039f"
             ],
             [
              0.2222222222222222,
              "#7201a8"
             ],
             [
              0.3333333333333333,
              "#9c179e"
             ],
             [
              0.4444444444444444,
              "#bd3786"
             ],
             [
              0.5555555555555556,
              "#d8576b"
             ],
             [
              0.6666666666666666,
              "#ed7953"
             ],
             [
              0.7777777777777778,
              "#fb9f3a"
             ],
             [
              0.8888888888888888,
              "#fdca26"
             ],
             [
              1,
              "#f0f921"
             ]
            ],
            "type": "histogram2dcontour"
           }
          ],
          "mesh3d": [
           {
            "colorbar": {
             "outlinewidth": 0,
             "ticks": ""
            },
            "type": "mesh3d"
           }
          ],
          "parcoords": [
           {
            "line": {
             "colorbar": {
              "outlinewidth": 0,
              "ticks": ""
             }
            },
            "type": "parcoords"
           }
          ],
          "scatter": [
           {
            "marker": {
             "colorbar": {
              "outlinewidth": 0,
              "ticks": ""
             }
            },
            "type": "scatter"
           }
          ],
          "scatter3d": [
           {
            "line": {
             "colorbar": {
              "outlinewidth": 0,
              "ticks": ""
             }
            },
            "marker": {
             "colorbar": {
              "outlinewidth": 0,
              "ticks": ""
             }
            },
            "type": "scatter3d"
           }
          ],
          "scattercarpet": [
           {
            "marker": {
             "colorbar": {
              "outlinewidth": 0,
              "ticks": ""
             }
            },
            "type": "scattercarpet"
           }
          ],
          "scattergeo": [
           {
            "marker": {
             "colorbar": {
              "outlinewidth": 0,
              "ticks": ""
             }
            },
            "type": "scattergeo"
           }
          ],
          "scattergl": [
           {
            "marker": {
             "colorbar": {
              "outlinewidth": 0,
              "ticks": ""
             }
            },
            "type": "scattergl"
           }
          ],
          "scattermapbox": [
           {
            "marker": {
             "colorbar": {
              "outlinewidth": 0,
              "ticks": ""
             }
            },
            "type": "scattermapbox"
           }
          ],
          "scatterpolar": [
           {
            "marker": {
             "colorbar": {
              "outlinewidth": 0,
              "ticks": ""
             }
            },
            "type": "scatterpolar"
           }
          ],
          "scatterpolargl": [
           {
            "marker": {
             "colorbar": {
              "outlinewidth": 0,
              "ticks": ""
             }
            },
            "type": "scatterpolargl"
           }
          ],
          "scatterternary": [
           {
            "marker": {
             "colorbar": {
              "outlinewidth": 0,
              "ticks": ""
             }
            },
            "type": "scatterternary"
           }
          ],
          "surface": [
           {
            "colorbar": {
             "outlinewidth": 0,
             "ticks": ""
            },
            "colorscale": [
             [
              0,
              "#0d0887"
             ],
             [
              0.1111111111111111,
              "#46039f"
             ],
             [
              0.2222222222222222,
              "#7201a8"
             ],
             [
              0.3333333333333333,
              "#9c179e"
             ],
             [
              0.4444444444444444,
              "#bd3786"
             ],
             [
              0.5555555555555556,
              "#d8576b"
             ],
             [
              0.6666666666666666,
              "#ed7953"
             ],
             [
              0.7777777777777778,
              "#fb9f3a"
             ],
             [
              0.8888888888888888,
              "#fdca26"
             ],
             [
              1,
              "#f0f921"
             ]
            ],
            "type": "surface"
           }
          ],
          "table": [
           {
            "cells": {
             "fill": {
              "color": "#EBF0F8"
             },
             "line": {
              "color": "white"
             }
            },
            "header": {
             "fill": {
              "color": "#C8D4E3"
             },
             "line": {
              "color": "white"
             }
            },
            "type": "table"
           }
          ]
         },
         "layout": {
          "annotationdefaults": {
           "arrowcolor": "#2a3f5f",
           "arrowhead": 0,
           "arrowwidth": 1
          },
          "colorscale": {
           "diverging": [
            [
             0,
             "#8e0152"
            ],
            [
             0.1,
             "#c51b7d"
            ],
            [
             0.2,
             "#de77ae"
            ],
            [
             0.3,
             "#f1b6da"
            ],
            [
             0.4,
             "#fde0ef"
            ],
            [
             0.5,
             "#f7f7f7"
            ],
            [
             0.6,
             "#e6f5d0"
            ],
            [
             0.7,
             "#b8e186"
            ],
            [
             0.8,
             "#7fbc41"
            ],
            [
             0.9,
             "#4d9221"
            ],
            [
             1,
             "#276419"
            ]
           ],
           "sequential": [
            [
             0,
             "#0d0887"
            ],
            [
             0.1111111111111111,
             "#46039f"
            ],
            [
             0.2222222222222222,
             "#7201a8"
            ],
            [
             0.3333333333333333,
             "#9c179e"
            ],
            [
             0.4444444444444444,
             "#bd3786"
            ],
            [
             0.5555555555555556,
             "#d8576b"
            ],
            [
             0.6666666666666666,
             "#ed7953"
            ],
            [
             0.7777777777777778,
             "#fb9f3a"
            ],
            [
             0.8888888888888888,
             "#fdca26"
            ],
            [
             1,
             "#f0f921"
            ]
           ],
           "sequentialminus": [
            [
             0,
             "#0d0887"
            ],
            [
             0.1111111111111111,
             "#46039f"
            ],
            [
             0.2222222222222222,
             "#7201a8"
            ],
            [
             0.3333333333333333,
             "#9c179e"
            ],
            [
             0.4444444444444444,
             "#bd3786"
            ],
            [
             0.5555555555555556,
             "#d8576b"
            ],
            [
             0.6666666666666666,
             "#ed7953"
            ],
            [
             0.7777777777777778,
             "#fb9f3a"
            ],
            [
             0.8888888888888888,
             "#fdca26"
            ],
            [
             1,
             "#f0f921"
            ]
           ]
          },
          "colorway": [
           "#636efa",
           "#EF553B",
           "#00cc96",
           "#ab63fa",
           "#FFA15A",
           "#19d3f3",
           "#FF6692",
           "#B6E880",
           "#FF97FF",
           "#FECB52"
          ],
          "font": {
           "color": "#2a3f5f"
          },
          "geo": {
           "bgcolor": "white",
           "lakecolor": "white",
           "landcolor": "#E5ECF6",
           "showlakes": true,
           "showland": true,
           "subunitcolor": "white"
          },
          "hoverlabel": {
           "align": "left"
          },
          "hovermode": "closest",
          "mapbox": {
           "style": "light"
          },
          "paper_bgcolor": "white",
          "plot_bgcolor": "#E5ECF6",
          "polar": {
           "angularaxis": {
            "gridcolor": "white",
            "linecolor": "white",
            "ticks": ""
           },
           "bgcolor": "#E5ECF6",
           "radialaxis": {
            "gridcolor": "white",
            "linecolor": "white",
            "ticks": ""
           }
          },
          "scene": {
           "xaxis": {
            "backgroundcolor": "#E5ECF6",
            "gridcolor": "white",
            "gridwidth": 2,
            "linecolor": "white",
            "showbackground": true,
            "ticks": "",
            "zerolinecolor": "white"
           },
           "yaxis": {
            "backgroundcolor": "#E5ECF6",
            "gridcolor": "white",
            "gridwidth": 2,
            "linecolor": "white",
            "showbackground": true,
            "ticks": "",
            "zerolinecolor": "white"
           },
           "zaxis": {
            "backgroundcolor": "#E5ECF6",
            "gridcolor": "white",
            "gridwidth": 2,
            "linecolor": "white",
            "showbackground": true,
            "ticks": "",
            "zerolinecolor": "white"
           }
          },
          "shapedefaults": {
           "line": {
            "color": "#2a3f5f"
           }
          },
          "ternary": {
           "aaxis": {
            "gridcolor": "white",
            "linecolor": "white",
            "ticks": ""
           },
           "baxis": {
            "gridcolor": "white",
            "linecolor": "white",
            "ticks": ""
           },
           "bgcolor": "#E5ECF6",
           "caxis": {
            "gridcolor": "white",
            "linecolor": "white",
            "ticks": ""
           }
          },
          "title": {
           "x": 0.05
          },
          "xaxis": {
           "automargin": true,
           "gridcolor": "white",
           "linecolor": "white",
           "ticks": "",
           "zerolinecolor": "white",
           "zerolinewidth": 2
          },
          "yaxis": {
           "automargin": true,
           "gridcolor": "white",
           "linecolor": "white",
           "ticks": "",
           "zerolinecolor": "white",
           "zerolinewidth": 2
          }
         }
        },
        "title": {
         "text": "Scatterplot Matrix"
        },
        "width": 700,
        "xaxis": {
         "anchor": "y",
         "domain": [
          0,
          0.2888888888888889
         ],
         "showticklabels": false
        },
        "xaxis2": {
         "anchor": "y2",
         "domain": [
          0.35555555555555557,
          0.6444444444444445
         ]
        },
        "xaxis3": {
         "anchor": "y3",
         "domain": [
          0.7111111111111111,
          1
         ]
        },
        "xaxis4": {
         "anchor": "y4",
         "domain": [
          0,
          0.2888888888888889
         ]
        },
        "xaxis5": {
         "anchor": "y5",
         "domain": [
          0.35555555555555557,
          0.6444444444444445
         ],
         "showticklabels": false
        },
        "xaxis6": {
         "anchor": "y6",
         "domain": [
          0.7111111111111111,
          1
         ]
        },
        "xaxis7": {
         "anchor": "y7",
         "domain": [
          0,
          0.2888888888888889
         ],
         "title": {
          "text": "year"
         }
        },
        "xaxis8": {
         "anchor": "y8",
         "domain": [
          0.35555555555555557,
          0.6444444444444445
         ],
         "title": {
          "text": "income"
         }
        },
        "xaxis9": {
         "anchor": "y9",
         "domain": [
          0.7111111111111111,
          1
         ],
         "showticklabels": false,
         "title": {
          "text": "international"
         }
        },
        "yaxis": {
         "anchor": "x",
         "domain": [
          0.7333333333333333,
          1
         ],
         "title": {
          "text": "year"
         }
        },
        "yaxis2": {
         "anchor": "x2",
         "domain": [
          0.7333333333333333,
          1
         ]
        },
        "yaxis3": {
         "anchor": "x3",
         "domain": [
          0.7333333333333333,
          1
         ]
        },
        "yaxis4": {
         "anchor": "x4",
         "domain": [
          0.36666666666666664,
          0.6333333333333333
         ],
         "title": {
          "text": "income"
         }
        },
        "yaxis5": {
         "anchor": "x5",
         "domain": [
          0.36666666666666664,
          0.6333333333333333
         ]
        },
        "yaxis6": {
         "anchor": "x6",
         "domain": [
          0.36666666666666664,
          0.6333333333333333
         ]
        },
        "yaxis7": {
         "anchor": "x7",
         "domain": [
          0,
          0.26666666666666666
         ],
         "title": {
          "text": "international"
         }
        },
        "yaxis8": {
         "anchor": "x8",
         "domain": [
          0,
          0.26666666666666666
         ]
        },
        "yaxis9": {
         "anchor": "x9",
         "domain": [
          0,
          0.26666666666666666
         ]
        }
       }
      },
      "text/html": [
       "<div>\n",
       "        \n",
       "        \n",
       "            <div id=\"33c56d4b-84cb-427a-bd6c-3d55496b17fe\" class=\"plotly-graph-div\" style=\"height:700px; width:700px;\"></div>\n",
       "            <script type=\"text/javascript\">\n",
       "                require([\"plotly\"], function(Plotly) {\n",
       "                    window.PLOTLYENV=window.PLOTLYENV || {};\n",
       "                    \n",
       "                if (document.getElementById(\"33c56d4b-84cb-427a-bd6c-3d55496b17fe\")) {\n",
       "                    Plotly.newPlot(\n",
       "                        '33c56d4b-84cb-427a-bd6c-3d55496b17fe',\n",
       "                        [{\"marker\": {\"color\": \"rgb(12, 51, 131)\"}, \"showlegend\": false, \"type\": \"box\", \"xaxis\": \"x\", \"y\": [2011, 2011, 2011, 2011, 2011, 2011, 2011, 2011, 2011, 2011, 2011, 2011, 2011, 2011, 2011, 2011, 2011, 2011, 2011, 2011, 2011, 2011, 2011, 2011, 2012, 2012, 2012, 2012, 2012, 2012, 2012, 2012, 2012, 2012, 2012, 2012, 2012, 2012, 2012, 2012, 2012, 2012, 2012, 2012, 2012, 2012, 2012, 2012, 2012, 2012, 2012, 2012, 2012, 2012, 2012, 2012, 2012, 2012, 2012, 2012, 2012, 2012, 2013, 2013, 2013, 2013, 2013, 2013, 2013, 2013, 2013, 2013, 2013, 2013, 2013, 2013, 2013, 2013, 2013, 2013, 2013, 2013, 2013, 2013, 2013, 2013, 2013, 2013, 2013, 2013, 2013, 2013, 2013, 2013, 2013, 2013, 2013, 2013, 2013, 2013, 2013, 2013, 2014, 2014, 2014, 2014, 2014, 2014, 2014, 2014, 2014, 2014, 2014, 2014, 2014, 2014, 2014, 2014, 2014, 2014, 2014, 2014, 2014, 2014, 2014, 2014, 2014, 2014, 2014, 2014, 2014, 2014, 2014, 2014, 2014, 2014, 2014, 2014, 2014, 2014, 2014, 2015, 2015, 2015, 2015, 2015, 2015, 2015, 2015, 2015, 2015, 2015, 2015, 2015, 2015, 2015, 2015, 2015, 2015, 2015, 2015, 2015, 2015, 2015, 2015, 2015, 2015, 2015, 2015, 2015, 2015, 2015, 2015, 2015, 2015, 2015, 2015, 2015, 2015, 2015, 2015, 2016, 2016, 2016, 2016, 2016, 2016, 2016, 2016, 2016, 2016, 2016, 2016, 2016, 2016, 2016, 2016, 2016, 2016, 2016, 2016, 2016, 2016, 2016, 2016, 2016, 2016, 2016, 2016, 2016, 2016, 2016, 2016, 2016, 2016, 2016, 2016, 2016, 2016, 2016, 2016, 2016, 2016, 2016, 2016, 2016, 2016, 2016, 2016, 2016, 2016, 2016, 2016, 2016, 2016, 2016, 2016, 2016, 2016, 2016, 2016, 2016, 2016, 2016, 2016, 2016, 2016], \"yaxis\": \"y\"}, {\"marker\": {\"color\": [1, 2, 3, 4, 5, 6, 7, 8, 9, 10, 11, 12, 13, 14, 15, 16, 17, 18, 19, 20, 21, 22, 23, 24, 25, 26, 27, 28, 29, 30, 31, 32, 33, 34, 35, 36, 37, 38, 39, 40, 41, 42, 43, 44, 45, 46, 47, 48, 49, 50, 51, 52, 53, 54, 55, 56, 57, 58, 59, 60, 61, 62, 63, 64, 65, 66, 67, 68, 69, 70, 71, 72, 73, 74, 75, 76, 77, 78, 79, 80, 81, 82, 83, 84, 85, 86, 87, 88, 89, 90, 91, 92, 93, 94, 95, 96, 97, 98, 99, 100, 101, 102, 103, 104, 105, 106, 107, 108, 109, 110, 111, 112, 113, 114, 115, 116, 117, 118, 119, 120, 121, 122, 123, 124, 125, 126, 127, 128, 129, 130, 131, 132, 133, 134, 135, 136, 137, 138, 139, 140, 141, 142, 143, 144, 145, 146, 147, 148, 149, 150, 151, 152, 153, 154, 155, 156, 157, 158, 159, 160, 161, 162, 163, 164, 165, 166, 167, 168, 169, 170, 171, 172, 173, 174, 175, 176, 177, 178, 179, 180, 181, 182, 183, 184, 185, 186, 187, 188, 189, 190, 191, 192, 193, 194, 195, 196, 197, 198, 199, 200, 201, 202, 203, 204, 205, 206, 207, 208, 209, 210, 211, 212, 213, 214, 215, 216, 217, 218, 219, 220, 221, 222, 223, 224, 225, 226, 227, 228, 229, 230, 231, 232, 233, 234, 235, 236, 237, 238, 239, 240, 241, 242, 243, 244, 245, 246, 247], \"colorscale\": [[0.0, \"rgb(12, 51, 131)\"], [1.0, \"rgb(217, 30, 30)\"]], \"showscale\": true, \"size\": 6}, \"mode\": \"markers\", \"showlegend\": false, \"type\": \"scatter\", \"x\": [51.387499999999996, 97.4, 41.666666666666664, 63.175, 61.03333333333333, 36.0, 30.2, 27.73333333333333, 43.43333333333334, 46.800000000000004, 72.06666666666666, 69.8375, 61.1, 41.5, 31.6, 40.25, 100.0, 35.0, 69.75, 40.075, 55.525000000000006, 43.9, 41.68518518518518, 58.00714285714286, 47.73999999999999, 66.92857142857143, 38.25, 50.931250000000006, 70.3, 24.5, 60.8, 34.5, 26.3, 41.67999999999999, 34.31428571428571, 43.095, 33.2, 49.739999999999995, 75.4, 24.2, 93.1, 29.03333333333333, 41.971428571428575, 46.37142857142857, 63.699999999999996, 36.26, 41.53333333333334, 25.8, 34.025, 31.575000000000003, 53.0, 52.55, 99.03333333333335, 99.8, 36.599999999999994, 55.15714285714286, 41.94, 55.949999999999996, 29.0, 59.0, 36.97551020408162, 46.82337662337662, 50.45416666666667, 68.34285714285714, 42.45, 52.75625, 66.96666666666665, 28.4, 28.1, 64.52000000000001, 30.1, 52.4, 47.112500000000004, 46.71363636363637, 34.1, 46.480000000000004, 74.4, 65.16666666666667, 93.0, 37.2, 42.05, 49.9, 36.0, 73.73846153846155, 50.13333333333333, 38.46666666666667, 28.7, 36.1, 35.875, 64.85, 40.2, 88.45, 77.69999999999999, 99.56666666666666, 35.07142857142858, 56.24285714285714, 45.339999999999996, 66.05714285714285, 60.2, 56.225, 40.81521739130436, 47.311842105263146, 50.884000000000015, 76.28333333333333, 44.55, 51.6, 67.74285714285715, 30.6, 29.0, 63.980000000000004, 30.3, 37.275, 45.55555555555555, 49.29090909090908, 35.0, 45.9, 78.5, 45.199999999999996, 98.3, 34.75, 42.226666666666674, 59.699999999999996, 74.38461538461537, 51.42, 40.03333333333334, 28.3, 37.05, 39.875, 72.2, 39.7, 82.15, 93.5, 99.53333333333335, 40.73333333333333, 58.083333333333336, 54.24285714285715, 65.95, 62.2, 53.05, 38.72765957446809, 47.472500000000004, 49.772000000000006, 71.02857142857142, 42.3, 49.79375, 28.1, 70.64285714285715, 36.5, 29.4, 63.85999999999999, 46.20000000000001, 45.13333333333334, 53.04, 36.0, 44.059999999999995, 64.0, 46.225, 85.15, 34.0, 41.42941176470589, 57.56, 33.6, 28.6, 74.96153846153847, 51.06, 39.333333333333336, 28.5, 39.2, 37.0, 55.95, 76.7, 92.5, 77.78, 42.449999999999996, 57.43333333333334, 61.942857142857136, 70.06666666666666, 56.5, 49.5, 38.25714285714285, 48.472619047619034, 28.6, 48.9945945945946, 28.0, 73.52857142857144, 46.054545454545455, 46.74347826086956, 37.875, 64.4076923076923, 35.8, 30.0, 30.22857142857143, 45.050000000000004, 30.0, 38.15, 45.62222222222222, 34.07727272727273, 69.3264705882353, 42.68333333333334, 43.040000000000006, 34.53333333333334, 28.0, 41.98000000000001, 40.0, 62.65714285714285, 29.72, 39.971875, 47.52647058823529, 30.1, 28.0, 28.3, 41.0, 38.1, 34.9, 31.28, 69.75, 29.2, 73.02307692307693, 43.17142857142857, 29.2, 41.6, 37.6, 31.3, 32.916666666666664, 40.1, 55.2, 37.6625, 28.766666666666666, 49.24999999999999, 77.15, 45.6, 74.85, 30.6, 32.3, 68.63333333333333, 54.17058823529411, 35.56, 50.87500000000001, 68.4, 53.65217391304347, 45.34285714285715, 62.25, 28.0, 28.4, 31.7, 34.386486486486504, 44.33923076923078], \"xaxis\": \"x2\", \"y\": [2011, 2011, 2011, 2011, 2011, 2011, 2011, 2011, 2011, 2011, 2011, 2011, 2011, 2011, 2011, 2011, 2011, 2011, 2011, 2011, 2011, 2011, 2011, 2011, 2012, 2012, 2012, 2012, 2012, 2012, 2012, 2012, 2012, 2012, 2012, 2012, 2012, 2012, 2012, 2012, 2012, 2012, 2012, 2012, 2012, 2012, 2012, 2012, 2012, 2012, 2012, 2012, 2012, 2012, 2012, 2012, 2012, 2012, 2012, 2012, 2012, 2012, 2013, 2013, 2013, 2013, 2013, 2013, 2013, 2013, 2013, 2013, 2013, 2013, 2013, 2013, 2013, 2013, 2013, 2013, 2013, 2013, 2013, 2013, 2013, 2013, 2013, 2013, 2013, 2013, 2013, 2013, 2013, 2013, 2013, 2013, 2013, 2013, 2013, 2013, 2013, 2013, 2014, 2014, 2014, 2014, 2014, 2014, 2014, 2014, 2014, 2014, 2014, 2014, 2014, 2014, 2014, 2014, 2014, 2014, 2014, 2014, 2014, 2014, 2014, 2014, 2014, 2014, 2014, 2014, 2014, 2014, 2014, 2014, 2014, 2014, 2014, 2014, 2014, 2014, 2014, 2015, 2015, 2015, 2015, 2015, 2015, 2015, 2015, 2015, 2015, 2015, 2015, 2015, 2015, 2015, 2015, 2015, 2015, 2015, 2015, 2015, 2015, 2015, 2015, 2015, 2015, 2015, 2015, 2015, 2015, 2015, 2015, 2015, 2015, 2015, 2015, 2015, 2015, 2015, 2015, 2016, 2016, 2016, 2016, 2016, 2016, 2016, 2016, 2016, 2016, 2016, 2016, 2016, 2016, 2016, 2016, 2016, 2016, 2016, 2016, 2016, 2016, 2016, 2016, 2016, 2016, 2016, 2016, 2016, 2016, 2016, 2016, 2016, 2016, 2016, 2016, 2016, 2016, 2016, 2016, 2016, 2016, 2016, 2016, 2016, 2016, 2016, 2016, 2016, 2016, 2016, 2016, 2016, 2016, 2016, 2016, 2016, 2016, 2016, 2016, 2016, 2016, 2016, 2016, 2016, 2016], \"yaxis\": \"y2\"}, {\"marker\": {\"color\": [1, 2, 3, 4, 5, 6, 7, 8, 9, 10, 11, 12, 13, 14, 15, 16, 17, 18, 19, 20, 21, 22, 23, 24, 25, 26, 27, 28, 29, 30, 31, 32, 33, 34, 35, 36, 37, 38, 39, 40, 41, 42, 43, 44, 45, 46, 47, 48, 49, 50, 51, 52, 53, 54, 55, 56, 57, 58, 59, 60, 61, 62, 63, 64, 65, 66, 67, 68, 69, 70, 71, 72, 73, 74, 75, 76, 77, 78, 79, 80, 81, 82, 83, 84, 85, 86, 87, 88, 89, 90, 91, 92, 93, 94, 95, 96, 97, 98, 99, 100, 101, 102, 103, 104, 105, 106, 107, 108, 109, 110, 111, 112, 113, 114, 115, 116, 117, 118, 119, 120, 121, 122, 123, 124, 125, 126, 127, 128, 129, 130, 131, 132, 133, 134, 135, 136, 137, 138, 139, 140, 141, 142, 143, 144, 145, 146, 147, 148, 149, 150, 151, 152, 153, 154, 155, 156, 157, 158, 159, 160, 161, 162, 163, 164, 165, 166, 167, 168, 169, 170, 171, 172, 173, 174, 175, 176, 177, 178, 179, 180, 181, 182, 183, 184, 185, 186, 187, 188, 189, 190, 191, 192, 193, 194, 195, 196, 197, 198, 199, 200, 201, 202, 203, 204, 205, 206, 207, 208, 209, 210, 211, 212, 213, 214, 215, 216, 217, 218, 219, 220, 221, 222, 223, 224, 225, 226, 227, 228, 229, 230, 231, 232, 233, 234, 235, 236, 237, 238, 239, 240, 241, 242, 243, 244, 245, 246, 247], \"colorscale\": [[0.0, \"rgb(12, 51, 131)\"], [1.0, \"rgb(217, 30, 30)\"]], \"showscale\": false, \"size\": 6}, \"mode\": \"markers\", \"showlegend\": false, \"type\": \"scatter\", \"x\": [82.47500000000001, 27.15, 72.26666666666667, 38.025, 47.73333333333333, 19.3, 24.2, 37.733333333333334, 52.111111111111114, 82.03333333333333, 21.666666666666668, 43.949999999999996, 94.3, 66.6, 84.2, 97.05, 34.650000000000006, 33.2, 71.05000000000001, 93.725, 35.625, 27.2, 73.97777777777777, 40.76785714285715, 77.40800000000002, 63.671428571428564, 21.0, 61.993750000000006, 24.37142857142857, 51.4, 71.66, 31.6, 42.0, 41.800000000000004, 65.85714285714286, 55.38500000000001, 42.6, 67.23999999999998, 56.9, 14.3, 12.7, 49.63333333333333, 33.949999999999996, 21.028571428571432, 60.10833333333334, 86.8, 64.89999999999999, 39.5, 48.625, 78.45, 45.7, 91.4, 63.333333333333336, 26.96666666666667, 39.35, 62.65714285714286, 90.76000000000002, 17.9375, 45.0, 26.2, 76.46734693877549, 35.66753246753247, 75.50833333333334, 60.41428571428571, 22.7, 60.243750000000006, 31.53333333333333, 53.0, 50.3, 70.28, 42.4, 44.9, 64.775, 53.3909090909091, 44.4, 67.14000000000001, 59.9, 17.2, 16.7, 53.099999999999994, 36.971428571428575, 25.84545454545454, 33.2, 60.93846153846154, 84.18333333333332, 63.43333333333334, 40.75, 45.333333333333336, 73.625, 34.55, 71.0, 91.4, 61.05, 30.26666666666667, 40.35714285714285, 60.642857142857146, 89.06, 23.628571428571433, 23.8, 34.575, 76.35652173913041, 40.039473684210535, 77.75600000000003, 59.01666666666667, 21.95, 62.775, 31.35714285714286, 55.7, 53.2, 71.56, 43.7, 47.300000000000004, 64.63333333333334, 53.88636363636365, 47.1, 67.03999999999999, 59.9, 20.733333333333334, 20.7, 56.3, 39.89333333333333, 27.788888888888888, 63.600000000000016, 85.22, 58.9, 42.8, 45.4, 73.2, 55.7, 74.3, 92.65, 64.03333333333335, 33.93333333333333, 40.48888888888889, 63.699999999999996, 90.17142857142858, 25.162499999999998, 24.4, 43.625, 77.09574468085107, 42.81125, 78.92399999999999, 62.15714285714286, 23.0, 66.19375000000002, 48.7, 33.714285714285715, 54.6, 53.9, 70.14, 50.699999999999996, 67.75555555555555, 54.11600000000001, 47.0, 69.88000000000001, 59.1, 20.875, 19.7, 56.95, 42.670588235294126, 31.940000000000005, 73.3, 45.1, 65.54615384615386, 84.3, 60.0, 41.6, 48.25, 77.25, 52.099999999999994, 93.7, 63.6, 35.4, 49.349999999999994, 61.35, 90.77142857142857, 26.766666666666666, 22.5, 44.9, 79.10476190476192, 45.029761904761905, 28.1, 77.9891891891892, 48.2, 68.64285714285714, 21.2, 66.14782608695653, 43.85, 23.446153846153848, 46.85, 74.7, 36.442857142857136, 79.41666666666667, 32.35, 42.0, 53.599999999999994, 61.14545454545455, 53.267647058823535, 36.93333333333333, 83.24, 53.0, 61.0, 14.419999999999998, 37.2, 12.57142857142857, 50.9, 37.60937499999999, 22.76470588235294, 57.95, 45.5, 31.5, 40.8, 99.8, 98.4, 38.1, 47.75, 42.7, 70.39999999999999, 89.04285714285716, 26.1, 65.33333333333333, 71.5, 31.3, 26.016666666666666, 45.12857142857143, 99.9, 78.98750000000001, 34.53333333333333, 29.941666666666666, 88.75, 30.5, 95.4, 38.75, 34.5, 55.28333333333334, 28.39411764705882, 40.908, 62.050000000000004, 93.6, 23.286956521739135, 32.67142857142857, 27.009999999999998, 58.0, 38.3, 95.3, 78.22432432432433, 42.436153846153864], \"xaxis\": \"x3\", \"y\": [2011, 2011, 2011, 2011, 2011, 2011, 2011, 2011, 2011, 2011, 2011, 2011, 2011, 2011, 2011, 2011, 2011, 2011, 2011, 2011, 2011, 2011, 2011, 2011, 2012, 2012, 2012, 2012, 2012, 2012, 2012, 2012, 2012, 2012, 2012, 2012, 2012, 2012, 2012, 2012, 2012, 2012, 2012, 2012, 2012, 2012, 2012, 2012, 2012, 2012, 2012, 2012, 2012, 2012, 2012, 2012, 2012, 2012, 2012, 2012, 2012, 2012, 2013, 2013, 2013, 2013, 2013, 2013, 2013, 2013, 2013, 2013, 2013, 2013, 2013, 2013, 2013, 2013, 2013, 2013, 2013, 2013, 2013, 2013, 2013, 2013, 2013, 2013, 2013, 2013, 2013, 2013, 2013, 2013, 2013, 2013, 2013, 2013, 2013, 2013, 2013, 2013, 2014, 2014, 2014, 2014, 2014, 2014, 2014, 2014, 2014, 2014, 2014, 2014, 2014, 2014, 2014, 2014, 2014, 2014, 2014, 2014, 2014, 2014, 2014, 2014, 2014, 2014, 2014, 2014, 2014, 2014, 2014, 2014, 2014, 2014, 2014, 2014, 2014, 2014, 2014, 2015, 2015, 2015, 2015, 2015, 2015, 2015, 2015, 2015, 2015, 2015, 2015, 2015, 2015, 2015, 2015, 2015, 2015, 2015, 2015, 2015, 2015, 2015, 2015, 2015, 2015, 2015, 2015, 2015, 2015, 2015, 2015, 2015, 2015, 2015, 2015, 2015, 2015, 2015, 2015, 2016, 2016, 2016, 2016, 2016, 2016, 2016, 2016, 2016, 2016, 2016, 2016, 2016, 2016, 2016, 2016, 2016, 2016, 2016, 2016, 2016, 2016, 2016, 2016, 2016, 2016, 2016, 2016, 2016, 2016, 2016, 2016, 2016, 2016, 2016, 2016, 2016, 2016, 2016, 2016, 2016, 2016, 2016, 2016, 2016, 2016, 2016, 2016, 2016, 2016, 2016, 2016, 2016, 2016, 2016, 2016, 2016, 2016, 2016, 2016, 2016, 2016, 2016, 2016, 2016, 2016], \"yaxis\": \"y3\"}, {\"marker\": {\"color\": [1, 2, 3, 4, 5, 6, 7, 8, 9, 10, 11, 12, 13, 14, 15, 16, 17, 18, 19, 20, 21, 22, 23, 24, 25, 26, 27, 28, 29, 30, 31, 32, 33, 34, 35, 36, 37, 38, 39, 40, 41, 42, 43, 44, 45, 46, 47, 48, 49, 50, 51, 52, 53, 54, 55, 56, 57, 58, 59, 60, 61, 62, 63, 64, 65, 66, 67, 68, 69, 70, 71, 72, 73, 74, 75, 76, 77, 78, 79, 80, 81, 82, 83, 84, 85, 86, 87, 88, 89, 90, 91, 92, 93, 94, 95, 96, 97, 98, 99, 100, 101, 102, 103, 104, 105, 106, 107, 108, 109, 110, 111, 112, 113, 114, 115, 116, 117, 118, 119, 120, 121, 122, 123, 124, 125, 126, 127, 128, 129, 130, 131, 132, 133, 134, 135, 136, 137, 138, 139, 140, 141, 142, 143, 144, 145, 146, 147, 148, 149, 150, 151, 152, 153, 154, 155, 156, 157, 158, 159, 160, 161, 162, 163, 164, 165, 166, 167, 168, 169, 170, 171, 172, 173, 174, 175, 176, 177, 178, 179, 180, 181, 182, 183, 184, 185, 186, 187, 188, 189, 190, 191, 192, 193, 194, 195, 196, 197, 198, 199, 200, 201, 202, 203, 204, 205, 206, 207, 208, 209, 210, 211, 212, 213, 214, 215, 216, 217, 218, 219, 220, 221, 222, 223, 224, 225, 226, 227, 228, 229, 230, 231, 232, 233, 234, 235, 236, 237, 238, 239, 240, 241, 242, 243, 244, 245, 246, 247], \"colorscale\": [[0.0, \"rgb(12, 51, 131)\"], [1.0, \"rgb(217, 30, 30)\"]], \"showscale\": false, \"size\": 6}, \"mode\": \"markers\", \"showlegend\": false, \"type\": \"scatter\", \"x\": [2011, 2011, 2011, 2011, 2011, 2011, 2011, 2011, 2011, 2011, 2011, 2011, 2011, 2011, 2011, 2011, 2011, 2011, 2011, 2011, 2011, 2011, 2011, 2011, 2012, 2012, 2012, 2012, 2012, 2012, 2012, 2012, 2012, 2012, 2012, 2012, 2012, 2012, 2012, 2012, 2012, 2012, 2012, 2012, 2012, 2012, 2012, 2012, 2012, 2012, 2012, 2012, 2012, 2012, 2012, 2012, 2012, 2012, 2012, 2012, 2012, 2012, 2013, 2013, 2013, 2013, 2013, 2013, 2013, 2013, 2013, 2013, 2013, 2013, 2013, 2013, 2013, 2013, 2013, 2013, 2013, 2013, 2013, 2013, 2013, 2013, 2013, 2013, 2013, 2013, 2013, 2013, 2013, 2013, 2013, 2013, 2013, 2013, 2013, 2013, 2013, 2013, 2014, 2014, 2014, 2014, 2014, 2014, 2014, 2014, 2014, 2014, 2014, 2014, 2014, 2014, 2014, 2014, 2014, 2014, 2014, 2014, 2014, 2014, 2014, 2014, 2014, 2014, 2014, 2014, 2014, 2014, 2014, 2014, 2014, 2014, 2014, 2014, 2014, 2014, 2014, 2015, 2015, 2015, 2015, 2015, 2015, 2015, 2015, 2015, 2015, 2015, 2015, 2015, 2015, 2015, 2015, 2015, 2015, 2015, 2015, 2015, 2015, 2015, 2015, 2015, 2015, 2015, 2015, 2015, 2015, 2015, 2015, 2015, 2015, 2015, 2015, 2015, 2015, 2015, 2015, 2016, 2016, 2016, 2016, 2016, 2016, 2016, 2016, 2016, 2016, 2016, 2016, 2016, 2016, 2016, 2016, 2016, 2016, 2016, 2016, 2016, 2016, 2016, 2016, 2016, 2016, 2016, 2016, 2016, 2016, 2016, 2016, 2016, 2016, 2016, 2016, 2016, 2016, 2016, 2016, 2016, 2016, 2016, 2016, 2016, 2016, 2016, 2016, 2016, 2016, 2016, 2016, 2016, 2016, 2016, 2016, 2016, 2016, 2016, 2016, 2016, 2016, 2016, 2016, 2016, 2016], \"xaxis\": \"x4\", \"y\": [51.387499999999996, 97.4, 41.666666666666664, 63.175, 61.03333333333333, 36.0, 30.2, 27.73333333333333, 43.43333333333334, 46.800000000000004, 72.06666666666666, 69.8375, 61.1, 41.5, 31.6, 40.25, 100.0, 35.0, 69.75, 40.075, 55.525000000000006, 43.9, 41.68518518518518, 58.00714285714286, 47.73999999999999, 66.92857142857143, 38.25, 50.931250000000006, 70.3, 24.5, 60.8, 34.5, 26.3, 41.67999999999999, 34.31428571428571, 43.095, 33.2, 49.739999999999995, 75.4, 24.2, 93.1, 29.03333333333333, 41.971428571428575, 46.37142857142857, 63.699999999999996, 36.26, 41.53333333333334, 25.8, 34.025, 31.575000000000003, 53.0, 52.55, 99.03333333333335, 99.8, 36.599999999999994, 55.15714285714286, 41.94, 55.949999999999996, 29.0, 59.0, 36.97551020408162, 46.82337662337662, 50.45416666666667, 68.34285714285714, 42.45, 52.75625, 66.96666666666665, 28.4, 28.1, 64.52000000000001, 30.1, 52.4, 47.112500000000004, 46.71363636363637, 34.1, 46.480000000000004, 74.4, 65.16666666666667, 93.0, 37.2, 42.05, 49.9, 36.0, 73.73846153846155, 50.13333333333333, 38.46666666666667, 28.7, 36.1, 35.875, 64.85, 40.2, 88.45, 77.69999999999999, 99.56666666666666, 35.07142857142858, 56.24285714285714, 45.339999999999996, 66.05714285714285, 60.2, 56.225, 40.81521739130436, 47.311842105263146, 50.884000000000015, 76.28333333333333, 44.55, 51.6, 67.74285714285715, 30.6, 29.0, 63.980000000000004, 30.3, 37.275, 45.55555555555555, 49.29090909090908, 35.0, 45.9, 78.5, 45.199999999999996, 98.3, 34.75, 42.226666666666674, 59.699999999999996, 74.38461538461537, 51.42, 40.03333333333334, 28.3, 37.05, 39.875, 72.2, 39.7, 82.15, 93.5, 99.53333333333335, 40.73333333333333, 58.083333333333336, 54.24285714285715, 65.95, 62.2, 53.05, 38.72765957446809, 47.472500000000004, 49.772000000000006, 71.02857142857142, 42.3, 49.79375, 28.1, 70.64285714285715, 36.5, 29.4, 63.85999999999999, 46.20000000000001, 45.13333333333334, 53.04, 36.0, 44.059999999999995, 64.0, 46.225, 85.15, 34.0, 41.42941176470589, 57.56, 33.6, 28.6, 74.96153846153847, 51.06, 39.333333333333336, 28.5, 39.2, 37.0, 55.95, 76.7, 92.5, 77.78, 42.449999999999996, 57.43333333333334, 61.942857142857136, 70.06666666666666, 56.5, 49.5, 38.25714285714285, 48.472619047619034, 28.6, 48.9945945945946, 28.0, 73.52857142857144, 46.054545454545455, 46.74347826086956, 37.875, 64.4076923076923, 35.8, 30.0, 30.22857142857143, 45.050000000000004, 30.0, 38.15, 45.62222222222222, 34.07727272727273, 69.3264705882353, 42.68333333333334, 43.040000000000006, 34.53333333333334, 28.0, 41.98000000000001, 40.0, 62.65714285714285, 29.72, 39.971875, 47.52647058823529, 30.1, 28.0, 28.3, 41.0, 38.1, 34.9, 31.28, 69.75, 29.2, 73.02307692307693, 43.17142857142857, 29.2, 41.6, 37.6, 31.3, 32.916666666666664, 40.1, 55.2, 37.6625, 28.766666666666666, 49.24999999999999, 77.15, 45.6, 74.85, 30.6, 32.3, 68.63333333333333, 54.17058823529411, 35.56, 50.87500000000001, 68.4, 53.65217391304347, 45.34285714285715, 62.25, 28.0, 28.4, 31.7, 34.386486486486504, 44.33923076923078], \"yaxis\": \"y4\"}, {\"marker\": {\"color\": \"rgb(12, 51, 131)\"}, \"showlegend\": false, \"type\": \"box\", \"xaxis\": \"x5\", \"y\": [51.387499999999996, 97.4, 41.666666666666664, 63.175, 61.03333333333333, 36.0, 30.2, 27.73333333333333, 43.43333333333334, 46.800000000000004, 72.06666666666666, 69.8375, 61.1, 41.5, 31.6, 40.25, 100.0, 35.0, 69.75, 40.075, 55.525000000000006, 43.9, 41.68518518518518, 58.00714285714286, 47.73999999999999, 66.92857142857143, 38.25, 50.931250000000006, 70.3, 24.5, 60.8, 34.5, 26.3, 41.67999999999999, 34.31428571428571, 43.095, 33.2, 49.739999999999995, 75.4, 24.2, 93.1, 29.03333333333333, 41.971428571428575, 46.37142857142857, 63.699999999999996, 36.26, 41.53333333333334, 25.8, 34.025, 31.575000000000003, 53.0, 52.55, 99.03333333333335, 99.8, 36.599999999999994, 55.15714285714286, 41.94, 55.949999999999996, 29.0, 59.0, 36.97551020408162, 46.82337662337662, 50.45416666666667, 68.34285714285714, 42.45, 52.75625, 66.96666666666665, 28.4, 28.1, 64.52000000000001, 30.1, 52.4, 47.112500000000004, 46.71363636363637, 34.1, 46.480000000000004, 74.4, 65.16666666666667, 93.0, 37.2, 42.05, 49.9, 36.0, 73.73846153846155, 50.13333333333333, 38.46666666666667, 28.7, 36.1, 35.875, 64.85, 40.2, 88.45, 77.69999999999999, 99.56666666666666, 35.07142857142858, 56.24285714285714, 45.339999999999996, 66.05714285714285, 60.2, 56.225, 40.81521739130436, 47.311842105263146, 50.884000000000015, 76.28333333333333, 44.55, 51.6, 67.74285714285715, 30.6, 29.0, 63.980000000000004, 30.3, 37.275, 45.55555555555555, 49.29090909090908, 35.0, 45.9, 78.5, 45.199999999999996, 98.3, 34.75, 42.226666666666674, 59.699999999999996, 74.38461538461537, 51.42, 40.03333333333334, 28.3, 37.05, 39.875, 72.2, 39.7, 82.15, 93.5, 99.53333333333335, 40.73333333333333, 58.083333333333336, 54.24285714285715, 65.95, 62.2, 53.05, 38.72765957446809, 47.472500000000004, 49.772000000000006, 71.02857142857142, 42.3, 49.79375, 28.1, 70.64285714285715, 36.5, 29.4, 63.85999999999999, 46.20000000000001, 45.13333333333334, 53.04, 36.0, 44.059999999999995, 64.0, 46.225, 85.15, 34.0, 41.42941176470589, 57.56, 33.6, 28.6, 74.96153846153847, 51.06, 39.333333333333336, 28.5, 39.2, 37.0, 55.95, 76.7, 92.5, 77.78, 42.449999999999996, 57.43333333333334, 61.942857142857136, 70.06666666666666, 56.5, 49.5, 38.25714285714285, 48.472619047619034, 28.6, 48.9945945945946, 28.0, 73.52857142857144, 46.054545454545455, 46.74347826086956, 37.875, 64.4076923076923, 35.8, 30.0, 30.22857142857143, 45.050000000000004, 30.0, 38.15, 45.62222222222222, 34.07727272727273, 69.3264705882353, 42.68333333333334, 43.040000000000006, 34.53333333333334, 28.0, 41.98000000000001, 40.0, 62.65714285714285, 29.72, 39.971875, 47.52647058823529, 30.1, 28.0, 28.3, 41.0, 38.1, 34.9, 31.28, 69.75, 29.2, 73.02307692307693, 43.17142857142857, 29.2, 41.6, 37.6, 31.3, 32.916666666666664, 40.1, 55.2, 37.6625, 28.766666666666666, 49.24999999999999, 77.15, 45.6, 74.85, 30.6, 32.3, 68.63333333333333, 54.17058823529411, 35.56, 50.87500000000001, 68.4, 53.65217391304347, 45.34285714285715, 62.25, 28.0, 28.4, 31.7, 34.386486486486504, 44.33923076923078], \"yaxis\": \"y5\"}, {\"marker\": {\"color\": [1, 2, 3, 4, 5, 6, 7, 8, 9, 10, 11, 12, 13, 14, 15, 16, 17, 18, 19, 20, 21, 22, 23, 24, 25, 26, 27, 28, 29, 30, 31, 32, 33, 34, 35, 36, 37, 38, 39, 40, 41, 42, 43, 44, 45, 46, 47, 48, 49, 50, 51, 52, 53, 54, 55, 56, 57, 58, 59, 60, 61, 62, 63, 64, 65, 66, 67, 68, 69, 70, 71, 72, 73, 74, 75, 76, 77, 78, 79, 80, 81, 82, 83, 84, 85, 86, 87, 88, 89, 90, 91, 92, 93, 94, 95, 96, 97, 98, 99, 100, 101, 102, 103, 104, 105, 106, 107, 108, 109, 110, 111, 112, 113, 114, 115, 116, 117, 118, 119, 120, 121, 122, 123, 124, 125, 126, 127, 128, 129, 130, 131, 132, 133, 134, 135, 136, 137, 138, 139, 140, 141, 142, 143, 144, 145, 146, 147, 148, 149, 150, 151, 152, 153, 154, 155, 156, 157, 158, 159, 160, 161, 162, 163, 164, 165, 166, 167, 168, 169, 170, 171, 172, 173, 174, 175, 176, 177, 178, 179, 180, 181, 182, 183, 184, 185, 186, 187, 188, 189, 190, 191, 192, 193, 194, 195, 196, 197, 198, 199, 200, 201, 202, 203, 204, 205, 206, 207, 208, 209, 210, 211, 212, 213, 214, 215, 216, 217, 218, 219, 220, 221, 222, 223, 224, 225, 226, 227, 228, 229, 230, 231, 232, 233, 234, 235, 236, 237, 238, 239, 240, 241, 242, 243, 244, 245, 246, 247], \"colorscale\": [[0.0, \"rgb(12, 51, 131)\"], [1.0, \"rgb(217, 30, 30)\"]], \"showscale\": false, \"size\": 6}, \"mode\": \"markers\", \"showlegend\": false, \"type\": \"scatter\", \"x\": [82.47500000000001, 27.15, 72.26666666666667, 38.025, 47.73333333333333, 19.3, 24.2, 37.733333333333334, 52.111111111111114, 82.03333333333333, 21.666666666666668, 43.949999999999996, 94.3, 66.6, 84.2, 97.05, 34.650000000000006, 33.2, 71.05000000000001, 93.725, 35.625, 27.2, 73.97777777777777, 40.76785714285715, 77.40800000000002, 63.671428571428564, 21.0, 61.993750000000006, 24.37142857142857, 51.4, 71.66, 31.6, 42.0, 41.800000000000004, 65.85714285714286, 55.38500000000001, 42.6, 67.23999999999998, 56.9, 14.3, 12.7, 49.63333333333333, 33.949999999999996, 21.028571428571432, 60.10833333333334, 86.8, 64.89999999999999, 39.5, 48.625, 78.45, 45.7, 91.4, 63.333333333333336, 26.96666666666667, 39.35, 62.65714285714286, 90.76000000000002, 17.9375, 45.0, 26.2, 76.46734693877549, 35.66753246753247, 75.50833333333334, 60.41428571428571, 22.7, 60.243750000000006, 31.53333333333333, 53.0, 50.3, 70.28, 42.4, 44.9, 64.775, 53.3909090909091, 44.4, 67.14000000000001, 59.9, 17.2, 16.7, 53.099999999999994, 36.971428571428575, 25.84545454545454, 33.2, 60.93846153846154, 84.18333333333332, 63.43333333333334, 40.75, 45.333333333333336, 73.625, 34.55, 71.0, 91.4, 61.05, 30.26666666666667, 40.35714285714285, 60.642857142857146, 89.06, 23.628571428571433, 23.8, 34.575, 76.35652173913041, 40.039473684210535, 77.75600000000003, 59.01666666666667, 21.95, 62.775, 31.35714285714286, 55.7, 53.2, 71.56, 43.7, 47.300000000000004, 64.63333333333334, 53.88636363636365, 47.1, 67.03999999999999, 59.9, 20.733333333333334, 20.7, 56.3, 39.89333333333333, 27.788888888888888, 63.600000000000016, 85.22, 58.9, 42.8, 45.4, 73.2, 55.7, 74.3, 92.65, 64.03333333333335, 33.93333333333333, 40.48888888888889, 63.699999999999996, 90.17142857142858, 25.162499999999998, 24.4, 43.625, 77.09574468085107, 42.81125, 78.92399999999999, 62.15714285714286, 23.0, 66.19375000000002, 48.7, 33.714285714285715, 54.6, 53.9, 70.14, 50.699999999999996, 67.75555555555555, 54.11600000000001, 47.0, 69.88000000000001, 59.1, 20.875, 19.7, 56.95, 42.670588235294126, 31.940000000000005, 73.3, 45.1, 65.54615384615386, 84.3, 60.0, 41.6, 48.25, 77.25, 52.099999999999994, 93.7, 63.6, 35.4, 49.349999999999994, 61.35, 90.77142857142857, 26.766666666666666, 22.5, 44.9, 79.10476190476192, 45.029761904761905, 28.1, 77.9891891891892, 48.2, 68.64285714285714, 21.2, 66.14782608695653, 43.85, 23.446153846153848, 46.85, 74.7, 36.442857142857136, 79.41666666666667, 32.35, 42.0, 53.599999999999994, 61.14545454545455, 53.267647058823535, 36.93333333333333, 83.24, 53.0, 61.0, 14.419999999999998, 37.2, 12.57142857142857, 50.9, 37.60937499999999, 22.76470588235294, 57.95, 45.5, 31.5, 40.8, 99.8, 98.4, 38.1, 47.75, 42.7, 70.39999999999999, 89.04285714285716, 26.1, 65.33333333333333, 71.5, 31.3, 26.016666666666666, 45.12857142857143, 99.9, 78.98750000000001, 34.53333333333333, 29.941666666666666, 88.75, 30.5, 95.4, 38.75, 34.5, 55.28333333333334, 28.39411764705882, 40.908, 62.050000000000004, 93.6, 23.286956521739135, 32.67142857142857, 27.009999999999998, 58.0, 38.3, 95.3, 78.22432432432433, 42.436153846153864], \"xaxis\": \"x6\", \"y\": [51.387499999999996, 97.4, 41.666666666666664, 63.175, 61.03333333333333, 36.0, 30.2, 27.73333333333333, 43.43333333333334, 46.800000000000004, 72.06666666666666, 69.8375, 61.1, 41.5, 31.6, 40.25, 100.0, 35.0, 69.75, 40.075, 55.525000000000006, 43.9, 41.68518518518518, 58.00714285714286, 47.73999999999999, 66.92857142857143, 38.25, 50.931250000000006, 70.3, 24.5, 60.8, 34.5, 26.3, 41.67999999999999, 34.31428571428571, 43.095, 33.2, 49.739999999999995, 75.4, 24.2, 93.1, 29.03333333333333, 41.971428571428575, 46.37142857142857, 63.699999999999996, 36.26, 41.53333333333334, 25.8, 34.025, 31.575000000000003, 53.0, 52.55, 99.03333333333335, 99.8, 36.599999999999994, 55.15714285714286, 41.94, 55.949999999999996, 29.0, 59.0, 36.97551020408162, 46.82337662337662, 50.45416666666667, 68.34285714285714, 42.45, 52.75625, 66.96666666666665, 28.4, 28.1, 64.52000000000001, 30.1, 52.4, 47.112500000000004, 46.71363636363637, 34.1, 46.480000000000004, 74.4, 65.16666666666667, 93.0, 37.2, 42.05, 49.9, 36.0, 73.73846153846155, 50.13333333333333, 38.46666666666667, 28.7, 36.1, 35.875, 64.85, 40.2, 88.45, 77.69999999999999, 99.56666666666666, 35.07142857142858, 56.24285714285714, 45.339999999999996, 66.05714285714285, 60.2, 56.225, 40.81521739130436, 47.311842105263146, 50.884000000000015, 76.28333333333333, 44.55, 51.6, 67.74285714285715, 30.6, 29.0, 63.980000000000004, 30.3, 37.275, 45.55555555555555, 49.29090909090908, 35.0, 45.9, 78.5, 45.199999999999996, 98.3, 34.75, 42.226666666666674, 59.699999999999996, 74.38461538461537, 51.42, 40.03333333333334, 28.3, 37.05, 39.875, 72.2, 39.7, 82.15, 93.5, 99.53333333333335, 40.73333333333333, 58.083333333333336, 54.24285714285715, 65.95, 62.2, 53.05, 38.72765957446809, 47.472500000000004, 49.772000000000006, 71.02857142857142, 42.3, 49.79375, 28.1, 70.64285714285715, 36.5, 29.4, 63.85999999999999, 46.20000000000001, 45.13333333333334, 53.04, 36.0, 44.059999999999995, 64.0, 46.225, 85.15, 34.0, 41.42941176470589, 57.56, 33.6, 28.6, 74.96153846153847, 51.06, 39.333333333333336, 28.5, 39.2, 37.0, 55.95, 76.7, 92.5, 77.78, 42.449999999999996, 57.43333333333334, 61.942857142857136, 70.06666666666666, 56.5, 49.5, 38.25714285714285, 48.472619047619034, 28.6, 48.9945945945946, 28.0, 73.52857142857144, 46.054545454545455, 46.74347826086956, 37.875, 64.4076923076923, 35.8, 30.0, 30.22857142857143, 45.050000000000004, 30.0, 38.15, 45.62222222222222, 34.07727272727273, 69.3264705882353, 42.68333333333334, 43.040000000000006, 34.53333333333334, 28.0, 41.98000000000001, 40.0, 62.65714285714285, 29.72, 39.971875, 47.52647058823529, 30.1, 28.0, 28.3, 41.0, 38.1, 34.9, 31.28, 69.75, 29.2, 73.02307692307693, 43.17142857142857, 29.2, 41.6, 37.6, 31.3, 32.916666666666664, 40.1, 55.2, 37.6625, 28.766666666666666, 49.24999999999999, 77.15, 45.6, 74.85, 30.6, 32.3, 68.63333333333333, 54.17058823529411, 35.56, 50.87500000000001, 68.4, 53.65217391304347, 45.34285714285715, 62.25, 28.0, 28.4, 31.7, 34.386486486486504, 44.33923076923078], \"yaxis\": \"y6\"}, {\"marker\": {\"color\": [1, 2, 3, 4, 5, 6, 7, 8, 9, 10, 11, 12, 13, 14, 15, 16, 17, 18, 19, 20, 21, 22, 23, 24, 25, 26, 27, 28, 29, 30, 31, 32, 33, 34, 35, 36, 37, 38, 39, 40, 41, 42, 43, 44, 45, 46, 47, 48, 49, 50, 51, 52, 53, 54, 55, 56, 57, 58, 59, 60, 61, 62, 63, 64, 65, 66, 67, 68, 69, 70, 71, 72, 73, 74, 75, 76, 77, 78, 79, 80, 81, 82, 83, 84, 85, 86, 87, 88, 89, 90, 91, 92, 93, 94, 95, 96, 97, 98, 99, 100, 101, 102, 103, 104, 105, 106, 107, 108, 109, 110, 111, 112, 113, 114, 115, 116, 117, 118, 119, 120, 121, 122, 123, 124, 125, 126, 127, 128, 129, 130, 131, 132, 133, 134, 135, 136, 137, 138, 139, 140, 141, 142, 143, 144, 145, 146, 147, 148, 149, 150, 151, 152, 153, 154, 155, 156, 157, 158, 159, 160, 161, 162, 163, 164, 165, 166, 167, 168, 169, 170, 171, 172, 173, 174, 175, 176, 177, 178, 179, 180, 181, 182, 183, 184, 185, 186, 187, 188, 189, 190, 191, 192, 193, 194, 195, 196, 197, 198, 199, 200, 201, 202, 203, 204, 205, 206, 207, 208, 209, 210, 211, 212, 213, 214, 215, 216, 217, 218, 219, 220, 221, 222, 223, 224, 225, 226, 227, 228, 229, 230, 231, 232, 233, 234, 235, 236, 237, 238, 239, 240, 241, 242, 243, 244, 245, 246, 247], \"colorscale\": [[0.0, \"rgb(12, 51, 131)\"], [1.0, \"rgb(217, 30, 30)\"]], \"showscale\": false, \"size\": 6}, \"mode\": \"markers\", \"showlegend\": false, \"type\": \"scatter\", \"x\": [2011, 2011, 2011, 2011, 2011, 2011, 2011, 2011, 2011, 2011, 2011, 2011, 2011, 2011, 2011, 2011, 2011, 2011, 2011, 2011, 2011, 2011, 2011, 2011, 2012, 2012, 2012, 2012, 2012, 2012, 2012, 2012, 2012, 2012, 2012, 2012, 2012, 2012, 2012, 2012, 2012, 2012, 2012, 2012, 2012, 2012, 2012, 2012, 2012, 2012, 2012, 2012, 2012, 2012, 2012, 2012, 2012, 2012, 2012, 2012, 2012, 2012, 2013, 2013, 2013, 2013, 2013, 2013, 2013, 2013, 2013, 2013, 2013, 2013, 2013, 2013, 2013, 2013, 2013, 2013, 2013, 2013, 2013, 2013, 2013, 2013, 2013, 2013, 2013, 2013, 2013, 2013, 2013, 2013, 2013, 2013, 2013, 2013, 2013, 2013, 2013, 2013, 2014, 2014, 2014, 2014, 2014, 2014, 2014, 2014, 2014, 2014, 2014, 2014, 2014, 2014, 2014, 2014, 2014, 2014, 2014, 2014, 2014, 2014, 2014, 2014, 2014, 2014, 2014, 2014, 2014, 2014, 2014, 2014, 2014, 2014, 2014, 2014, 2014, 2014, 2014, 2015, 2015, 2015, 2015, 2015, 2015, 2015, 2015, 2015, 2015, 2015, 2015, 2015, 2015, 2015, 2015, 2015, 2015, 2015, 2015, 2015, 2015, 2015, 2015, 2015, 2015, 2015, 2015, 2015, 2015, 2015, 2015, 2015, 2015, 2015, 2015, 2015, 2015, 2015, 2015, 2016, 2016, 2016, 2016, 2016, 2016, 2016, 2016, 2016, 2016, 2016, 2016, 2016, 2016, 2016, 2016, 2016, 2016, 2016, 2016, 2016, 2016, 2016, 2016, 2016, 2016, 2016, 2016, 2016, 2016, 2016, 2016, 2016, 2016, 2016, 2016, 2016, 2016, 2016, 2016, 2016, 2016, 2016, 2016, 2016, 2016, 2016, 2016, 2016, 2016, 2016, 2016, 2016, 2016, 2016, 2016, 2016, 2016, 2016, 2016, 2016, 2016, 2016, 2016, 2016, 2016], \"xaxis\": \"x7\", \"y\": [82.47500000000001, 27.15, 72.26666666666667, 38.025, 47.73333333333333, 19.3, 24.2, 37.733333333333334, 52.111111111111114, 82.03333333333333, 21.666666666666668, 43.949999999999996, 94.3, 66.6, 84.2, 97.05, 34.650000000000006, 33.2, 71.05000000000001, 93.725, 35.625, 27.2, 73.97777777777777, 40.76785714285715, 77.40800000000002, 63.671428571428564, 21.0, 61.993750000000006, 24.37142857142857, 51.4, 71.66, 31.6, 42.0, 41.800000000000004, 65.85714285714286, 55.38500000000001, 42.6, 67.23999999999998, 56.9, 14.3, 12.7, 49.63333333333333, 33.949999999999996, 21.028571428571432, 60.10833333333334, 86.8, 64.89999999999999, 39.5, 48.625, 78.45, 45.7, 91.4, 63.333333333333336, 26.96666666666667, 39.35, 62.65714285714286, 90.76000000000002, 17.9375, 45.0, 26.2, 76.46734693877549, 35.66753246753247, 75.50833333333334, 60.41428571428571, 22.7, 60.243750000000006, 31.53333333333333, 53.0, 50.3, 70.28, 42.4, 44.9, 64.775, 53.3909090909091, 44.4, 67.14000000000001, 59.9, 17.2, 16.7, 53.099999999999994, 36.971428571428575, 25.84545454545454, 33.2, 60.93846153846154, 84.18333333333332, 63.43333333333334, 40.75, 45.333333333333336, 73.625, 34.55, 71.0, 91.4, 61.05, 30.26666666666667, 40.35714285714285, 60.642857142857146, 89.06, 23.628571428571433, 23.8, 34.575, 76.35652173913041, 40.039473684210535, 77.75600000000003, 59.01666666666667, 21.95, 62.775, 31.35714285714286, 55.7, 53.2, 71.56, 43.7, 47.300000000000004, 64.63333333333334, 53.88636363636365, 47.1, 67.03999999999999, 59.9, 20.733333333333334, 20.7, 56.3, 39.89333333333333, 27.788888888888888, 63.600000000000016, 85.22, 58.9, 42.8, 45.4, 73.2, 55.7, 74.3, 92.65, 64.03333333333335, 33.93333333333333, 40.48888888888889, 63.699999999999996, 90.17142857142858, 25.162499999999998, 24.4, 43.625, 77.09574468085107, 42.81125, 78.92399999999999, 62.15714285714286, 23.0, 66.19375000000002, 48.7, 33.714285714285715, 54.6, 53.9, 70.14, 50.699999999999996, 67.75555555555555, 54.11600000000001, 47.0, 69.88000000000001, 59.1, 20.875, 19.7, 56.95, 42.670588235294126, 31.940000000000005, 73.3, 45.1, 65.54615384615386, 84.3, 60.0, 41.6, 48.25, 77.25, 52.099999999999994, 93.7, 63.6, 35.4, 49.349999999999994, 61.35, 90.77142857142857, 26.766666666666666, 22.5, 44.9, 79.10476190476192, 45.029761904761905, 28.1, 77.9891891891892, 48.2, 68.64285714285714, 21.2, 66.14782608695653, 43.85, 23.446153846153848, 46.85, 74.7, 36.442857142857136, 79.41666666666667, 32.35, 42.0, 53.599999999999994, 61.14545454545455, 53.267647058823535, 36.93333333333333, 83.24, 53.0, 61.0, 14.419999999999998, 37.2, 12.57142857142857, 50.9, 37.60937499999999, 22.76470588235294, 57.95, 45.5, 31.5, 40.8, 99.8, 98.4, 38.1, 47.75, 42.7, 70.39999999999999, 89.04285714285716, 26.1, 65.33333333333333, 71.5, 31.3, 26.016666666666666, 45.12857142857143, 99.9, 78.98750000000001, 34.53333333333333, 29.941666666666666, 88.75, 30.5, 95.4, 38.75, 34.5, 55.28333333333334, 28.39411764705882, 40.908, 62.050000000000004, 93.6, 23.286956521739135, 32.67142857142857, 27.009999999999998, 58.0, 38.3, 95.3, 78.22432432432433, 42.436153846153864], \"yaxis\": \"y7\"}, {\"marker\": {\"color\": [1, 2, 3, 4, 5, 6, 7, 8, 9, 10, 11, 12, 13, 14, 15, 16, 17, 18, 19, 20, 21, 22, 23, 24, 25, 26, 27, 28, 29, 30, 31, 32, 33, 34, 35, 36, 37, 38, 39, 40, 41, 42, 43, 44, 45, 46, 47, 48, 49, 50, 51, 52, 53, 54, 55, 56, 57, 58, 59, 60, 61, 62, 63, 64, 65, 66, 67, 68, 69, 70, 71, 72, 73, 74, 75, 76, 77, 78, 79, 80, 81, 82, 83, 84, 85, 86, 87, 88, 89, 90, 91, 92, 93, 94, 95, 96, 97, 98, 99, 100, 101, 102, 103, 104, 105, 106, 107, 108, 109, 110, 111, 112, 113, 114, 115, 116, 117, 118, 119, 120, 121, 122, 123, 124, 125, 126, 127, 128, 129, 130, 131, 132, 133, 134, 135, 136, 137, 138, 139, 140, 141, 142, 143, 144, 145, 146, 147, 148, 149, 150, 151, 152, 153, 154, 155, 156, 157, 158, 159, 160, 161, 162, 163, 164, 165, 166, 167, 168, 169, 170, 171, 172, 173, 174, 175, 176, 177, 178, 179, 180, 181, 182, 183, 184, 185, 186, 187, 188, 189, 190, 191, 192, 193, 194, 195, 196, 197, 198, 199, 200, 201, 202, 203, 204, 205, 206, 207, 208, 209, 210, 211, 212, 213, 214, 215, 216, 217, 218, 219, 220, 221, 222, 223, 224, 225, 226, 227, 228, 229, 230, 231, 232, 233, 234, 235, 236, 237, 238, 239, 240, 241, 242, 243, 244, 245, 246, 247], \"colorscale\": [[0.0, \"rgb(12, 51, 131)\"], [1.0, \"rgb(217, 30, 30)\"]], \"showscale\": false, \"size\": 6}, \"mode\": \"markers\", \"showlegend\": false, \"type\": \"scatter\", \"x\": [51.387499999999996, 97.4, 41.666666666666664, 63.175, 61.03333333333333, 36.0, 30.2, 27.73333333333333, 43.43333333333334, 46.800000000000004, 72.06666666666666, 69.8375, 61.1, 41.5, 31.6, 40.25, 100.0, 35.0, 69.75, 40.075, 55.525000000000006, 43.9, 41.68518518518518, 58.00714285714286, 47.73999999999999, 66.92857142857143, 38.25, 50.931250000000006, 70.3, 24.5, 60.8, 34.5, 26.3, 41.67999999999999, 34.31428571428571, 43.095, 33.2, 49.739999999999995, 75.4, 24.2, 93.1, 29.03333333333333, 41.971428571428575, 46.37142857142857, 63.699999999999996, 36.26, 41.53333333333334, 25.8, 34.025, 31.575000000000003, 53.0, 52.55, 99.03333333333335, 99.8, 36.599999999999994, 55.15714285714286, 41.94, 55.949999999999996, 29.0, 59.0, 36.97551020408162, 46.82337662337662, 50.45416666666667, 68.34285714285714, 42.45, 52.75625, 66.96666666666665, 28.4, 28.1, 64.52000000000001, 30.1, 52.4, 47.112500000000004, 46.71363636363637, 34.1, 46.480000000000004, 74.4, 65.16666666666667, 93.0, 37.2, 42.05, 49.9, 36.0, 73.73846153846155, 50.13333333333333, 38.46666666666667, 28.7, 36.1, 35.875, 64.85, 40.2, 88.45, 77.69999999999999, 99.56666666666666, 35.07142857142858, 56.24285714285714, 45.339999999999996, 66.05714285714285, 60.2, 56.225, 40.81521739130436, 47.311842105263146, 50.884000000000015, 76.28333333333333, 44.55, 51.6, 67.74285714285715, 30.6, 29.0, 63.980000000000004, 30.3, 37.275, 45.55555555555555, 49.29090909090908, 35.0, 45.9, 78.5, 45.199999999999996, 98.3, 34.75, 42.226666666666674, 59.699999999999996, 74.38461538461537, 51.42, 40.03333333333334, 28.3, 37.05, 39.875, 72.2, 39.7, 82.15, 93.5, 99.53333333333335, 40.73333333333333, 58.083333333333336, 54.24285714285715, 65.95, 62.2, 53.05, 38.72765957446809, 47.472500000000004, 49.772000000000006, 71.02857142857142, 42.3, 49.79375, 28.1, 70.64285714285715, 36.5, 29.4, 63.85999999999999, 46.20000000000001, 45.13333333333334, 53.04, 36.0, 44.059999999999995, 64.0, 46.225, 85.15, 34.0, 41.42941176470589, 57.56, 33.6, 28.6, 74.96153846153847, 51.06, 39.333333333333336, 28.5, 39.2, 37.0, 55.95, 76.7, 92.5, 77.78, 42.449999999999996, 57.43333333333334, 61.942857142857136, 70.06666666666666, 56.5, 49.5, 38.25714285714285, 48.472619047619034, 28.6, 48.9945945945946, 28.0, 73.52857142857144, 46.054545454545455, 46.74347826086956, 37.875, 64.4076923076923, 35.8, 30.0, 30.22857142857143, 45.050000000000004, 30.0, 38.15, 45.62222222222222, 34.07727272727273, 69.3264705882353, 42.68333333333334, 43.040000000000006, 34.53333333333334, 28.0, 41.98000000000001, 40.0, 62.65714285714285, 29.72, 39.971875, 47.52647058823529, 30.1, 28.0, 28.3, 41.0, 38.1, 34.9, 31.28, 69.75, 29.2, 73.02307692307693, 43.17142857142857, 29.2, 41.6, 37.6, 31.3, 32.916666666666664, 40.1, 55.2, 37.6625, 28.766666666666666, 49.24999999999999, 77.15, 45.6, 74.85, 30.6, 32.3, 68.63333333333333, 54.17058823529411, 35.56, 50.87500000000001, 68.4, 53.65217391304347, 45.34285714285715, 62.25, 28.0, 28.4, 31.7, 34.386486486486504, 44.33923076923078], \"xaxis\": \"x8\", \"y\": [82.47500000000001, 27.15, 72.26666666666667, 38.025, 47.73333333333333, 19.3, 24.2, 37.733333333333334, 52.111111111111114, 82.03333333333333, 21.666666666666668, 43.949999999999996, 94.3, 66.6, 84.2, 97.05, 34.650000000000006, 33.2, 71.05000000000001, 93.725, 35.625, 27.2, 73.97777777777777, 40.76785714285715, 77.40800000000002, 63.671428571428564, 21.0, 61.993750000000006, 24.37142857142857, 51.4, 71.66, 31.6, 42.0, 41.800000000000004, 65.85714285714286, 55.38500000000001, 42.6, 67.23999999999998, 56.9, 14.3, 12.7, 49.63333333333333, 33.949999999999996, 21.028571428571432, 60.10833333333334, 86.8, 64.89999999999999, 39.5, 48.625, 78.45, 45.7, 91.4, 63.333333333333336, 26.96666666666667, 39.35, 62.65714285714286, 90.76000000000002, 17.9375, 45.0, 26.2, 76.46734693877549, 35.66753246753247, 75.50833333333334, 60.41428571428571, 22.7, 60.243750000000006, 31.53333333333333, 53.0, 50.3, 70.28, 42.4, 44.9, 64.775, 53.3909090909091, 44.4, 67.14000000000001, 59.9, 17.2, 16.7, 53.099999999999994, 36.971428571428575, 25.84545454545454, 33.2, 60.93846153846154, 84.18333333333332, 63.43333333333334, 40.75, 45.333333333333336, 73.625, 34.55, 71.0, 91.4, 61.05, 30.26666666666667, 40.35714285714285, 60.642857142857146, 89.06, 23.628571428571433, 23.8, 34.575, 76.35652173913041, 40.039473684210535, 77.75600000000003, 59.01666666666667, 21.95, 62.775, 31.35714285714286, 55.7, 53.2, 71.56, 43.7, 47.300000000000004, 64.63333333333334, 53.88636363636365, 47.1, 67.03999999999999, 59.9, 20.733333333333334, 20.7, 56.3, 39.89333333333333, 27.788888888888888, 63.600000000000016, 85.22, 58.9, 42.8, 45.4, 73.2, 55.7, 74.3, 92.65, 64.03333333333335, 33.93333333333333, 40.48888888888889, 63.699999999999996, 90.17142857142858, 25.162499999999998, 24.4, 43.625, 77.09574468085107, 42.81125, 78.92399999999999, 62.15714285714286, 23.0, 66.19375000000002, 48.7, 33.714285714285715, 54.6, 53.9, 70.14, 50.699999999999996, 67.75555555555555, 54.11600000000001, 47.0, 69.88000000000001, 59.1, 20.875, 19.7, 56.95, 42.670588235294126, 31.940000000000005, 73.3, 45.1, 65.54615384615386, 84.3, 60.0, 41.6, 48.25, 77.25, 52.099999999999994, 93.7, 63.6, 35.4, 49.349999999999994, 61.35, 90.77142857142857, 26.766666666666666, 22.5, 44.9, 79.10476190476192, 45.029761904761905, 28.1, 77.9891891891892, 48.2, 68.64285714285714, 21.2, 66.14782608695653, 43.85, 23.446153846153848, 46.85, 74.7, 36.442857142857136, 79.41666666666667, 32.35, 42.0, 53.599999999999994, 61.14545454545455, 53.267647058823535, 36.93333333333333, 83.24, 53.0, 61.0, 14.419999999999998, 37.2, 12.57142857142857, 50.9, 37.60937499999999, 22.76470588235294, 57.95, 45.5, 31.5, 40.8, 99.8, 98.4, 38.1, 47.75, 42.7, 70.39999999999999, 89.04285714285716, 26.1, 65.33333333333333, 71.5, 31.3, 26.016666666666666, 45.12857142857143, 99.9, 78.98750000000001, 34.53333333333333, 29.941666666666666, 88.75, 30.5, 95.4, 38.75, 34.5, 55.28333333333334, 28.39411764705882, 40.908, 62.050000000000004, 93.6, 23.286956521739135, 32.67142857142857, 27.009999999999998, 58.0, 38.3, 95.3, 78.22432432432433, 42.436153846153864], \"yaxis\": \"y8\"}, {\"marker\": {\"color\": \"rgb(12, 51, 131)\"}, \"showlegend\": false, \"type\": \"box\", \"xaxis\": \"x9\", \"y\": [82.47500000000001, 27.15, 72.26666666666667, 38.025, 47.73333333333333, 19.3, 24.2, 37.733333333333334, 52.111111111111114, 82.03333333333333, 21.666666666666668, 43.949999999999996, 94.3, 66.6, 84.2, 97.05, 34.650000000000006, 33.2, 71.05000000000001, 93.725, 35.625, 27.2, 73.97777777777777, 40.76785714285715, 77.40800000000002, 63.671428571428564, 21.0, 61.993750000000006, 24.37142857142857, 51.4, 71.66, 31.6, 42.0, 41.800000000000004, 65.85714285714286, 55.38500000000001, 42.6, 67.23999999999998, 56.9, 14.3, 12.7, 49.63333333333333, 33.949999999999996, 21.028571428571432, 60.10833333333334, 86.8, 64.89999999999999, 39.5, 48.625, 78.45, 45.7, 91.4, 63.333333333333336, 26.96666666666667, 39.35, 62.65714285714286, 90.76000000000002, 17.9375, 45.0, 26.2, 76.46734693877549, 35.66753246753247, 75.50833333333334, 60.41428571428571, 22.7, 60.243750000000006, 31.53333333333333, 53.0, 50.3, 70.28, 42.4, 44.9, 64.775, 53.3909090909091, 44.4, 67.14000000000001, 59.9, 17.2, 16.7, 53.099999999999994, 36.971428571428575, 25.84545454545454, 33.2, 60.93846153846154, 84.18333333333332, 63.43333333333334, 40.75, 45.333333333333336, 73.625, 34.55, 71.0, 91.4, 61.05, 30.26666666666667, 40.35714285714285, 60.642857142857146, 89.06, 23.628571428571433, 23.8, 34.575, 76.35652173913041, 40.039473684210535, 77.75600000000003, 59.01666666666667, 21.95, 62.775, 31.35714285714286, 55.7, 53.2, 71.56, 43.7, 47.300000000000004, 64.63333333333334, 53.88636363636365, 47.1, 67.03999999999999, 59.9, 20.733333333333334, 20.7, 56.3, 39.89333333333333, 27.788888888888888, 63.600000000000016, 85.22, 58.9, 42.8, 45.4, 73.2, 55.7, 74.3, 92.65, 64.03333333333335, 33.93333333333333, 40.48888888888889, 63.699999999999996, 90.17142857142858, 25.162499999999998, 24.4, 43.625, 77.09574468085107, 42.81125, 78.92399999999999, 62.15714285714286, 23.0, 66.19375000000002, 48.7, 33.714285714285715, 54.6, 53.9, 70.14, 50.699999999999996, 67.75555555555555, 54.11600000000001, 47.0, 69.88000000000001, 59.1, 20.875, 19.7, 56.95, 42.670588235294126, 31.940000000000005, 73.3, 45.1, 65.54615384615386, 84.3, 60.0, 41.6, 48.25, 77.25, 52.099999999999994, 93.7, 63.6, 35.4, 49.349999999999994, 61.35, 90.77142857142857, 26.766666666666666, 22.5, 44.9, 79.10476190476192, 45.029761904761905, 28.1, 77.9891891891892, 48.2, 68.64285714285714, 21.2, 66.14782608695653, 43.85, 23.446153846153848, 46.85, 74.7, 36.442857142857136, 79.41666666666667, 32.35, 42.0, 53.599999999999994, 61.14545454545455, 53.267647058823535, 36.93333333333333, 83.24, 53.0, 61.0, 14.419999999999998, 37.2, 12.57142857142857, 50.9, 37.60937499999999, 22.76470588235294, 57.95, 45.5, 31.5, 40.8, 99.8, 98.4, 38.1, 47.75, 42.7, 70.39999999999999, 89.04285714285716, 26.1, 65.33333333333333, 71.5, 31.3, 26.016666666666666, 45.12857142857143, 99.9, 78.98750000000001, 34.53333333333333, 29.941666666666666, 88.75, 30.5, 95.4, 38.75, 34.5, 55.28333333333334, 28.39411764705882, 40.908, 62.050000000000004, 93.6, 23.286956521739135, 32.67142857142857, 27.009999999999998, 58.0, 38.3, 95.3, 78.22432432432433, 42.436153846153864], \"yaxis\": \"y9\"}],\n",
       "                        {\"height\": 700, \"showlegend\": true, \"template\": {\"data\": {\"bar\": [{\"error_x\": {\"color\": \"#2a3f5f\"}, \"error_y\": {\"color\": \"#2a3f5f\"}, \"marker\": {\"line\": {\"color\": \"#E5ECF6\", \"width\": 0.5}}, \"type\": \"bar\"}], \"barpolar\": [{\"marker\": {\"line\": {\"color\": \"#E5ECF6\", \"width\": 0.5}}, \"type\": \"barpolar\"}], \"carpet\": [{\"aaxis\": {\"endlinecolor\": \"#2a3f5f\", \"gridcolor\": \"white\", \"linecolor\": \"white\", \"minorgridcolor\": \"white\", \"startlinecolor\": \"#2a3f5f\"}, \"baxis\": {\"endlinecolor\": \"#2a3f5f\", \"gridcolor\": \"white\", \"linecolor\": \"white\", \"minorgridcolor\": \"white\", \"startlinecolor\": \"#2a3f5f\"}, \"type\": \"carpet\"}], \"choropleth\": [{\"colorbar\": {\"outlinewidth\": 0, \"ticks\": \"\"}, \"type\": \"choropleth\"}], \"contour\": [{\"colorbar\": {\"outlinewidth\": 0, \"ticks\": \"\"}, \"colorscale\": [[0.0, \"#0d0887\"], [0.1111111111111111, \"#46039f\"], [0.2222222222222222, \"#7201a8\"], [0.3333333333333333, \"#9c179e\"], [0.4444444444444444, \"#bd3786\"], [0.5555555555555556, \"#d8576b\"], [0.6666666666666666, \"#ed7953\"], [0.7777777777777778, \"#fb9f3a\"], [0.8888888888888888, \"#fdca26\"], [1.0, \"#f0f921\"]], \"type\": \"contour\"}], \"contourcarpet\": [{\"colorbar\": {\"outlinewidth\": 0, \"ticks\": \"\"}, \"type\": \"contourcarpet\"}], \"heatmap\": [{\"colorbar\": {\"outlinewidth\": 0, \"ticks\": \"\"}, \"colorscale\": [[0.0, \"#0d0887\"], [0.1111111111111111, \"#46039f\"], [0.2222222222222222, \"#7201a8\"], [0.3333333333333333, \"#9c179e\"], [0.4444444444444444, \"#bd3786\"], [0.5555555555555556, \"#d8576b\"], [0.6666666666666666, \"#ed7953\"], [0.7777777777777778, \"#fb9f3a\"], [0.8888888888888888, \"#fdca26\"], [1.0, \"#f0f921\"]], \"type\": \"heatmap\"}], \"heatmapgl\": [{\"colorbar\": {\"outlinewidth\": 0, \"ticks\": \"\"}, \"colorscale\": [[0.0, \"#0d0887\"], [0.1111111111111111, \"#46039f\"], [0.2222222222222222, \"#7201a8\"], [0.3333333333333333, \"#9c179e\"], [0.4444444444444444, \"#bd3786\"], [0.5555555555555556, \"#d8576b\"], [0.6666666666666666, \"#ed7953\"], [0.7777777777777778, \"#fb9f3a\"], [0.8888888888888888, \"#fdca26\"], [1.0, \"#f0f921\"]], \"type\": \"heatmapgl\"}], \"histogram\": [{\"marker\": {\"colorbar\": {\"outlinewidth\": 0, \"ticks\": \"\"}}, \"type\": \"histogram\"}], \"histogram2d\": [{\"colorbar\": {\"outlinewidth\": 0, \"ticks\": \"\"}, \"colorscale\": [[0.0, \"#0d0887\"], [0.1111111111111111, \"#46039f\"], [0.2222222222222222, \"#7201a8\"], [0.3333333333333333, \"#9c179e\"], [0.4444444444444444, \"#bd3786\"], [0.5555555555555556, \"#d8576b\"], [0.6666666666666666, \"#ed7953\"], [0.7777777777777778, \"#fb9f3a\"], [0.8888888888888888, \"#fdca26\"], [1.0, \"#f0f921\"]], \"type\": \"histogram2d\"}], \"histogram2dcontour\": [{\"colorbar\": {\"outlinewidth\": 0, \"ticks\": \"\"}, \"colorscale\": [[0.0, \"#0d0887\"], [0.1111111111111111, \"#46039f\"], [0.2222222222222222, \"#7201a8\"], [0.3333333333333333, \"#9c179e\"], [0.4444444444444444, \"#bd3786\"], [0.5555555555555556, \"#d8576b\"], [0.6666666666666666, \"#ed7953\"], [0.7777777777777778, \"#fb9f3a\"], [0.8888888888888888, \"#fdca26\"], [1.0, \"#f0f921\"]], \"type\": \"histogram2dcontour\"}], \"mesh3d\": [{\"colorbar\": {\"outlinewidth\": 0, \"ticks\": \"\"}, \"type\": \"mesh3d\"}], \"parcoords\": [{\"line\": {\"colorbar\": {\"outlinewidth\": 0, \"ticks\": \"\"}}, \"type\": \"parcoords\"}], \"scatter\": [{\"marker\": {\"colorbar\": {\"outlinewidth\": 0, \"ticks\": \"\"}}, \"type\": \"scatter\"}], \"scatter3d\": [{\"line\": {\"colorbar\": {\"outlinewidth\": 0, \"ticks\": \"\"}}, \"marker\": {\"colorbar\": {\"outlinewidth\": 0, \"ticks\": \"\"}}, \"type\": \"scatter3d\"}], \"scattercarpet\": [{\"marker\": {\"colorbar\": {\"outlinewidth\": 0, \"ticks\": \"\"}}, \"type\": \"scattercarpet\"}], \"scattergeo\": [{\"marker\": {\"colorbar\": {\"outlinewidth\": 0, \"ticks\": \"\"}}, \"type\": \"scattergeo\"}], \"scattergl\": [{\"marker\": {\"colorbar\": {\"outlinewidth\": 0, \"ticks\": \"\"}}, \"type\": \"scattergl\"}], \"scattermapbox\": [{\"marker\": {\"colorbar\": {\"outlinewidth\": 0, \"ticks\": \"\"}}, \"type\": \"scattermapbox\"}], \"scatterpolar\": [{\"marker\": {\"colorbar\": {\"outlinewidth\": 0, \"ticks\": \"\"}}, \"type\": \"scatterpolar\"}], \"scatterpolargl\": [{\"marker\": {\"colorbar\": {\"outlinewidth\": 0, \"ticks\": \"\"}}, \"type\": \"scatterpolargl\"}], \"scatterternary\": [{\"marker\": {\"colorbar\": {\"outlinewidth\": 0, \"ticks\": \"\"}}, \"type\": \"scatterternary\"}], \"surface\": [{\"colorbar\": {\"outlinewidth\": 0, \"ticks\": \"\"}, \"colorscale\": [[0.0, \"#0d0887\"], [0.1111111111111111, \"#46039f\"], [0.2222222222222222, \"#7201a8\"], [0.3333333333333333, \"#9c179e\"], [0.4444444444444444, \"#bd3786\"], [0.5555555555555556, \"#d8576b\"], [0.6666666666666666, \"#ed7953\"], [0.7777777777777778, \"#fb9f3a\"], [0.8888888888888888, \"#fdca26\"], [1.0, \"#f0f921\"]], \"type\": \"surface\"}], \"table\": [{\"cells\": {\"fill\": {\"color\": \"#EBF0F8\"}, \"line\": {\"color\": \"white\"}}, \"header\": {\"fill\": {\"color\": \"#C8D4E3\"}, \"line\": {\"color\": \"white\"}}, \"type\": \"table\"}]}, \"layout\": {\"annotationdefaults\": {\"arrowcolor\": \"#2a3f5f\", \"arrowhead\": 0, \"arrowwidth\": 1}, \"colorscale\": {\"diverging\": [[0, \"#8e0152\"], [0.1, \"#c51b7d\"], [0.2, \"#de77ae\"], [0.3, \"#f1b6da\"], [0.4, \"#fde0ef\"], [0.5, \"#f7f7f7\"], [0.6, \"#e6f5d0\"], [0.7, \"#b8e186\"], [0.8, \"#7fbc41\"], [0.9, \"#4d9221\"], [1, \"#276419\"]], \"sequential\": [[0.0, \"#0d0887\"], [0.1111111111111111, \"#46039f\"], [0.2222222222222222, \"#7201a8\"], [0.3333333333333333, \"#9c179e\"], [0.4444444444444444, \"#bd3786\"], [0.5555555555555556, \"#d8576b\"], [0.6666666666666666, \"#ed7953\"], [0.7777777777777778, \"#fb9f3a\"], [0.8888888888888888, \"#fdca26\"], [1.0, \"#f0f921\"]], \"sequentialminus\": [[0.0, \"#0d0887\"], [0.1111111111111111, \"#46039f\"], [0.2222222222222222, \"#7201a8\"], [0.3333333333333333, \"#9c179e\"], [0.4444444444444444, \"#bd3786\"], [0.5555555555555556, \"#d8576b\"], [0.6666666666666666, \"#ed7953\"], [0.7777777777777778, \"#fb9f3a\"], [0.8888888888888888, \"#fdca26\"], [1.0, \"#f0f921\"]]}, \"colorway\": [\"#636efa\", \"#EF553B\", \"#00cc96\", \"#ab63fa\", \"#FFA15A\", \"#19d3f3\", \"#FF6692\", \"#B6E880\", \"#FF97FF\", \"#FECB52\"], \"font\": {\"color\": \"#2a3f5f\"}, \"geo\": {\"bgcolor\": \"white\", \"lakecolor\": \"white\", \"landcolor\": \"#E5ECF6\", \"showlakes\": true, \"showland\": true, \"subunitcolor\": \"white\"}, \"hoverlabel\": {\"align\": \"left\"}, \"hovermode\": \"closest\", \"mapbox\": {\"style\": \"light\"}, \"paper_bgcolor\": \"white\", \"plot_bgcolor\": \"#E5ECF6\", \"polar\": {\"angularaxis\": {\"gridcolor\": \"white\", \"linecolor\": \"white\", \"ticks\": \"\"}, \"bgcolor\": \"#E5ECF6\", \"radialaxis\": {\"gridcolor\": \"white\", \"linecolor\": \"white\", \"ticks\": \"\"}}, \"scene\": {\"xaxis\": {\"backgroundcolor\": \"#E5ECF6\", \"gridcolor\": \"white\", \"gridwidth\": 2, \"linecolor\": \"white\", \"showbackground\": true, \"ticks\": \"\", \"zerolinecolor\": \"white\"}, \"yaxis\": {\"backgroundcolor\": \"#E5ECF6\", \"gridcolor\": \"white\", \"gridwidth\": 2, \"linecolor\": \"white\", \"showbackground\": true, \"ticks\": \"\", \"zerolinecolor\": \"white\"}, \"zaxis\": {\"backgroundcolor\": \"#E5ECF6\", \"gridcolor\": \"white\", \"gridwidth\": 2, \"linecolor\": \"white\", \"showbackground\": true, \"ticks\": \"\", \"zerolinecolor\": \"white\"}}, \"shapedefaults\": {\"line\": {\"color\": \"#2a3f5f\"}}, \"ternary\": {\"aaxis\": {\"gridcolor\": \"white\", \"linecolor\": \"white\", \"ticks\": \"\"}, \"baxis\": {\"gridcolor\": \"white\", \"linecolor\": \"white\", \"ticks\": \"\"}, \"bgcolor\": \"#E5ECF6\", \"caxis\": {\"gridcolor\": \"white\", \"linecolor\": \"white\", \"ticks\": \"\"}}, \"title\": {\"x\": 0.05}, \"xaxis\": {\"automargin\": true, \"gridcolor\": \"white\", \"linecolor\": \"white\", \"ticks\": \"\", \"zerolinecolor\": \"white\", \"zerolinewidth\": 2}, \"yaxis\": {\"automargin\": true, \"gridcolor\": \"white\", \"linecolor\": \"white\", \"ticks\": \"\", \"zerolinecolor\": \"white\", \"zerolinewidth\": 2}}}, \"title\": {\"text\": \"Scatterplot Matrix\"}, \"width\": 700, \"xaxis\": {\"anchor\": \"y\", \"domain\": [0.0, 0.2888888888888889], \"showticklabels\": false}, \"xaxis2\": {\"anchor\": \"y2\", \"domain\": [0.35555555555555557, 0.6444444444444445]}, \"xaxis3\": {\"anchor\": \"y3\", \"domain\": [0.7111111111111111, 1.0]}, \"xaxis4\": {\"anchor\": \"y4\", \"domain\": [0.0, 0.2888888888888889]}, \"xaxis5\": {\"anchor\": \"y5\", \"domain\": [0.35555555555555557, 0.6444444444444445], \"showticklabels\": false}, \"xaxis6\": {\"anchor\": \"y6\", \"domain\": [0.7111111111111111, 1.0]}, \"xaxis7\": {\"anchor\": \"y7\", \"domain\": [0.0, 0.2888888888888889], \"title\": {\"text\": \"year\"}}, \"xaxis8\": {\"anchor\": \"y8\", \"domain\": [0.35555555555555557, 0.6444444444444445], \"title\": {\"text\": \"income\"}}, \"xaxis9\": {\"anchor\": \"y9\", \"domain\": [0.7111111111111111, 1.0], \"showticklabels\": false, \"title\": {\"text\": \"international\"}}, \"yaxis\": {\"anchor\": \"x\", \"domain\": [0.7333333333333333, 1.0], \"title\": {\"text\": \"year\"}}, \"yaxis2\": {\"anchor\": \"x2\", \"domain\": [0.7333333333333333, 1.0]}, \"yaxis3\": {\"anchor\": \"x3\", \"domain\": [0.7333333333333333, 1.0]}, \"yaxis4\": {\"anchor\": \"x4\", \"domain\": [0.36666666666666664, 0.6333333333333333], \"title\": {\"text\": \"income\"}}, \"yaxis5\": {\"anchor\": \"x5\", \"domain\": [0.36666666666666664, 0.6333333333333333]}, \"yaxis6\": {\"anchor\": \"x6\", \"domain\": [0.36666666666666664, 0.6333333333333333]}, \"yaxis7\": {\"anchor\": \"x7\", \"domain\": [0.0, 0.26666666666666666], \"title\": {\"text\": \"international\"}}, \"yaxis8\": {\"anchor\": \"x8\", \"domain\": [0.0, 0.26666666666666666]}, \"yaxis9\": {\"anchor\": \"x9\", \"domain\": [0.0, 0.26666666666666666]}},\n",
       "                        {\"responsive\": true}\n",
       "                    ).then(function(){\n",
       "                            \n",
       "var gd = document.getElementById('33c56d4b-84cb-427a-bd6c-3d55496b17fe');\n",
       "var x = new MutationObserver(function (mutations, observer) {{\n",
       "        var display = window.getComputedStyle(gd).display;\n",
       "        if (!display || display === 'none') {{\n",
       "            console.log([gd, 'removed!']);\n",
       "            Plotly.purge(gd);\n",
       "            observer.disconnect();\n",
       "        }}\n",
       "}});\n",
       "\n",
       "// Listen for the removal of the full notebook cells\n",
       "var notebookContainer = gd.closest('#notebook-container');\n",
       "if (notebookContainer) {{\n",
       "    x.observe(notebookContainer, {childList: true});\n",
       "}}\n",
       "\n",
       "// Listen for the clearing of the current output cell\n",
       "var outputEl = gd.closest('.output');\n",
       "if (outputEl) {{\n",
       "    x.observe(outputEl, {childList: true});\n",
       "}}\n",
       "\n",
       "                        })\n",
       "                };\n",
       "                });\n",
       "            </script>\n",
       "        </div>"
      ]
     },
     "metadata": {},
     "output_type": "display_data"
    }
   ],
   "source": [
    "# import figure factory\n",
    "import plotly.figure_factory as ff\n",
    "\n",
    "# prepare data\n",
    "df2['index']= np.arange(1, len(df2)+1) # ajout d'une colonne index pour avoir la nuance des couleurs à droite du graphe \n",
    "# scatter matrix\n",
    "fig = ff.create_scatterplotmatrix(df2, diag='box',index = 'index',colormap='Portland',colormap_type='cat',height=700, width=700)\n",
    "iplot(fig)"
   ]
  },
  {
   "cell_type": "raw",
   "metadata": {},
   "source": [
    "On remarque qu'il n'y a pas de correlation entre le score international et le score income car les points sur le scatter plot sont dispersés"
   ]
  },
  {
   "cell_type": "code",
   "execution_count": 49,
   "metadata": {},
   "outputs": [
    {
     "data": {
      "application/vnd.plotly.v1+json": {
       "config": {
        "plotlyServerURL": "https://plot.ly"
       },
       "data": [
        {
         "hoverlabel": {
          "namelength": 0
         },
         "hovertemplate": "year=%{marker.color}<br>income=%{x}<br>international=%{y}",
         "legendgroup": "",
         "marker": {
          "color": [
           2011,
           2011,
           2011,
           2011,
           2011,
           2011,
           2011,
           2011,
           2011,
           2011,
           2011,
           2011,
           2011,
           2011,
           2011,
           2011,
           2011,
           2011,
           2011,
           2011,
           2011,
           2011,
           2011,
           2011
          ],
          "coloraxis": "coloraxis",
          "symbol": "circle"
         },
         "mode": "markers",
         "name": "",
         "showlegend": false,
         "type": "scatter",
         "x": [
          51.387499999999996,
          97.4,
          41.666666666666664,
          63.175,
          61.03333333333333,
          36,
          30.2,
          27.73333333333333,
          43.43333333333334,
          46.800000000000004,
          72.06666666666666,
          69.8375,
          61.1,
          41.5,
          31.6,
          40.25,
          100,
          35,
          69.75,
          40.075,
          55.525000000000006,
          43.9,
          41.68518518518518,
          58.00714285714286
         ],
         "xaxis": "x",
         "y": [
          82.47500000000001,
          27.15,
          72.26666666666667,
          38.025,
          47.73333333333333,
          19.3,
          24.2,
          37.733333333333334,
          52.111111111111114,
          82.03333333333333,
          21.666666666666668,
          43.949999999999996,
          94.3,
          66.6,
          84.2,
          97.05,
          34.650000000000006,
          33.2,
          71.05000000000001,
          93.725,
          35.625,
          27.2,
          73.97777777777777,
          40.76785714285715
         ],
         "yaxis": "y"
        },
        {
         "hoverlabel": {
          "namelength": 0
         },
         "hovertemplate": "year=%{marker.color}<br>income=%{x}<br>international=%{y}",
         "legendgroup": "",
         "marker": {
          "color": [
           2012,
           2012,
           2012,
           2012,
           2012,
           2012,
           2012,
           2012,
           2012,
           2012,
           2012,
           2012,
           2012,
           2012,
           2012,
           2012,
           2012,
           2012,
           2012,
           2012,
           2012,
           2012,
           2012,
           2012,
           2012,
           2012,
           2012,
           2012,
           2012,
           2012,
           2012,
           2012,
           2012,
           2012,
           2012,
           2012,
           2012,
           2012
          ],
          "coloraxis": "coloraxis",
          "symbol": "circle"
         },
         "mode": "markers",
         "name": "",
         "showlegend": false,
         "type": "scatter",
         "x": [
          47.73999999999999,
          66.92857142857143,
          38.25,
          50.931250000000006,
          70.3,
          24.5,
          60.8,
          34.5,
          26.3,
          41.67999999999999,
          34.31428571428571,
          43.095,
          33.2,
          49.739999999999995,
          75.4,
          24.2,
          93.1,
          29.03333333333333,
          41.971428571428575,
          46.37142857142857,
          63.699999999999996,
          36.26,
          41.53333333333334,
          25.8,
          34.025,
          31.575000000000003,
          53,
          52.55,
          99.03333333333335,
          99.8,
          36.599999999999994,
          55.15714285714286,
          41.94,
          55.949999999999996,
          29,
          59,
          36.97551020408162,
          46.82337662337662
         ],
         "xaxis": "x2",
         "y": [
          77.40800000000002,
          63.671428571428564,
          21,
          61.993750000000006,
          24.37142857142857,
          51.4,
          71.66,
          31.6,
          42,
          41.800000000000004,
          65.85714285714286,
          55.38500000000001,
          42.6,
          67.23999999999998,
          56.9,
          14.3,
          12.7,
          49.63333333333333,
          33.949999999999996,
          21.028571428571432,
          60.10833333333334,
          86.8,
          64.89999999999999,
          39.5,
          48.625,
          78.45,
          45.7,
          91.4,
          63.333333333333336,
          26.96666666666667,
          39.35,
          62.65714285714286,
          90.76000000000002,
          17.9375,
          45,
          26.2,
          76.46734693877549,
          35.66753246753247
         ],
         "yaxis": "y2"
        },
        {
         "hoverlabel": {
          "namelength": 0
         },
         "hovertemplate": "year=%{marker.color}<br>income=%{x}<br>international=%{y}",
         "legendgroup": "",
         "marker": {
          "color": [
           2013,
           2013,
           2013,
           2013,
           2013,
           2013,
           2013,
           2013,
           2013,
           2013,
           2013,
           2013,
           2013,
           2013,
           2013,
           2013,
           2013,
           2013,
           2013,
           2013,
           2013,
           2013,
           2013,
           2013,
           2013,
           2013,
           2013,
           2013,
           2013,
           2013,
           2013,
           2013,
           2013,
           2013,
           2013,
           2013,
           2013,
           2013,
           2013,
           2013
          ],
          "coloraxis": "coloraxis",
          "symbol": "circle"
         },
         "mode": "markers",
         "name": "",
         "showlegend": false,
         "type": "scatter",
         "x": [
          50.45416666666667,
          68.34285714285714,
          42.45,
          52.75625,
          66.96666666666665,
          28.4,
          28.1,
          64.52000000000001,
          30.1,
          52.4,
          47.112500000000004,
          46.71363636363637,
          34.1,
          46.480000000000004,
          74.4,
          65.16666666666667,
          93,
          37.2,
          42.05,
          49.9,
          36,
          73.73846153846155,
          50.13333333333333,
          38.46666666666667,
          28.7,
          36.1,
          35.875,
          64.85,
          40.2,
          88.45,
          77.69999999999999,
          99.56666666666666,
          35.07142857142858,
          56.24285714285714,
          45.339999999999996,
          66.05714285714285,
          60.2,
          56.225,
          40.81521739130436,
          47.311842105263146
         ],
         "xaxis": "x3",
         "y": [
          75.50833333333334,
          60.41428571428571,
          22.7,
          60.243750000000006,
          31.53333333333333,
          53,
          50.3,
          70.28,
          42.4,
          44.9,
          64.775,
          53.3909090909091,
          44.4,
          67.14000000000001,
          59.9,
          17.2,
          16.7,
          53.099999999999994,
          36.971428571428575,
          25.84545454545454,
          33.2,
          60.93846153846154,
          84.18333333333332,
          63.43333333333334,
          40.75,
          45.333333333333336,
          73.625,
          34.55,
          71,
          91.4,
          61.05,
          30.26666666666667,
          40.35714285714285,
          60.642857142857146,
          89.06,
          23.628571428571433,
          23.8,
          34.575,
          76.35652173913041,
          40.039473684210535
         ],
         "yaxis": "y3"
        },
        {
         "hoverlabel": {
          "namelength": 0
         },
         "hovertemplate": "year=%{marker.color}<br>income=%{x}<br>international=%{y}",
         "legendgroup": "",
         "marker": {
          "color": [
           2014,
           2014,
           2014,
           2014,
           2014,
           2014,
           2014,
           2014,
           2014,
           2014,
           2014,
           2014,
           2014,
           2014,
           2014,
           2014,
           2014,
           2014,
           2014,
           2014,
           2014,
           2014,
           2014,
           2014,
           2014,
           2014,
           2014,
           2014,
           2014,
           2014,
           2014,
           2014,
           2014,
           2014,
           2014,
           2014,
           2014,
           2014,
           2014
          ],
          "coloraxis": "coloraxis",
          "symbol": "circle"
         },
         "mode": "markers",
         "name": "",
         "showlegend": false,
         "type": "scatter",
         "x": [
          50.884000000000015,
          76.28333333333333,
          44.55,
          51.6,
          67.74285714285715,
          30.6,
          29,
          63.980000000000004,
          30.3,
          37.275,
          45.55555555555555,
          49.29090909090908,
          35,
          45.9,
          78.5,
          45.199999999999996,
          98.3,
          34.75,
          42.226666666666674,
          59.699999999999996,
          74.38461538461537,
          51.42,
          40.03333333333334,
          28.3,
          37.05,
          39.875,
          72.2,
          39.7,
          82.15,
          93.5,
          99.53333333333335,
          40.73333333333333,
          58.083333333333336,
          54.24285714285715,
          65.95,
          62.2,
          53.05,
          38.72765957446809,
          47.472500000000004
         ],
         "xaxis": "x4",
         "y": [
          77.75600000000003,
          59.01666666666667,
          21.95,
          62.775,
          31.35714285714286,
          55.7,
          53.2,
          71.56,
          43.7,
          47.300000000000004,
          64.63333333333334,
          53.88636363636365,
          47.1,
          67.03999999999999,
          59.9,
          20.733333333333334,
          20.7,
          56.3,
          39.89333333333333,
          27.788888888888888,
          63.600000000000016,
          85.22,
          58.9,
          42.8,
          45.4,
          73.2,
          55.7,
          74.3,
          92.65,
          64.03333333333335,
          33.93333333333333,
          40.48888888888889,
          63.699999999999996,
          90.17142857142858,
          25.162499999999998,
          24.4,
          43.625,
          77.09574468085107,
          42.81125
         ],
         "yaxis": "y4"
        },
        {
         "hoverlabel": {
          "namelength": 0
         },
         "hovertemplate": "year=%{marker.color}<br>income=%{x}<br>international=%{y}",
         "legendgroup": "",
         "marker": {
          "color": [
           2015,
           2015,
           2015,
           2015,
           2015,
           2015,
           2015,
           2015,
           2015,
           2015,
           2015,
           2015,
           2015,
           2015,
           2015,
           2015,
           2015,
           2015,
           2015,
           2015,
           2015,
           2015,
           2015,
           2015,
           2015,
           2015,
           2015,
           2015,
           2015,
           2015,
           2015,
           2015,
           2015,
           2015,
           2015,
           2015,
           2015,
           2015,
           2015,
           2015
          ],
          "coloraxis": "coloraxis",
          "symbol": "circle"
         },
         "mode": "markers",
         "name": "",
         "showlegend": false,
         "type": "scatter",
         "x": [
          49.772000000000006,
          71.02857142857142,
          42.3,
          49.79375,
          28.1,
          70.64285714285715,
          36.5,
          29.4,
          63.85999999999999,
          46.20000000000001,
          45.13333333333334,
          53.04,
          36,
          44.059999999999995,
          64,
          46.225,
          85.15,
          34,
          41.42941176470589,
          57.56,
          33.6,
          28.6,
          74.96153846153847,
          51.06,
          39.333333333333336,
          28.5,
          39.2,
          37,
          55.95,
          76.7,
          92.5,
          77.78,
          42.449999999999996,
          57.43333333333334,
          61.942857142857136,
          70.06666666666666,
          56.5,
          49.5,
          38.25714285714285,
          48.472619047619034
         ],
         "xaxis": "x5",
         "y": [
          78.92399999999999,
          62.15714285714286,
          23,
          66.19375000000002,
          48.7,
          33.714285714285715,
          54.6,
          53.9,
          70.14,
          50.699999999999996,
          67.75555555555555,
          54.11600000000001,
          47,
          69.88000000000001,
          59.1,
          20.875,
          19.7,
          56.95,
          42.670588235294126,
          31.940000000000005,
          73.3,
          45.1,
          65.54615384615386,
          84.3,
          60,
          41.6,
          48.25,
          77.25,
          52.099999999999994,
          93.7,
          63.6,
          35.4,
          49.349999999999994,
          61.35,
          90.77142857142857,
          26.766666666666666,
          22.5,
          44.9,
          79.10476190476192,
          45.029761904761905
         ],
         "yaxis": "y5"
        },
        {
         "hoverlabel": {
          "namelength": 0
         },
         "hovertemplate": "year=%{marker.color}<br>income=%{x}<br>international=%{y}",
         "legendgroup": "",
         "marker": {
          "color": [
           2016,
           2016,
           2016,
           2016,
           2016,
           2016,
           2016,
           2016,
           2016,
           2016,
           2016,
           2016,
           2016,
           2016,
           2016,
           2016,
           2016,
           2016,
           2016,
           2016,
           2016,
           2016,
           2016,
           2016,
           2016,
           2016,
           2016,
           2016,
           2016,
           2016,
           2016,
           2016,
           2016,
           2016,
           2016,
           2016,
           2016,
           2016,
           2016,
           2016,
           2016,
           2016,
           2016,
           2016,
           2016,
           2016,
           2016,
           2016,
           2016,
           2016,
           2016,
           2016,
           2016,
           2016,
           2016,
           2016,
           2016,
           2016,
           2016,
           2016,
           2016,
           2016,
           2016,
           2016,
           2016,
           2016
          ],
          "coloraxis": "coloraxis",
          "symbol": "circle"
         },
         "mode": "markers",
         "name": "",
         "showlegend": false,
         "type": "scatter",
         "x": [
          28.6,
          48.9945945945946,
          28,
          73.52857142857144,
          46.054545454545455,
          46.74347826086956,
          37.875,
          64.4076923076923,
          35.8,
          30,
          30.22857142857143,
          45.050000000000004,
          30,
          38.15,
          45.62222222222222,
          34.07727272727273,
          69.3264705882353,
          42.68333333333334,
          43.040000000000006,
          34.53333333333334,
          28,
          41.98000000000001,
          40,
          62.65714285714285,
          29.72,
          39.971875,
          47.52647058823529,
          30.1,
          28,
          28.3,
          41,
          38.1,
          34.9,
          31.28,
          69.75,
          29.2,
          73.02307692307693,
          43.17142857142857,
          29.2,
          41.6,
          37.6,
          31.3,
          32.916666666666664,
          40.1,
          55.2,
          37.6625,
          28.766666666666666,
          49.24999999999999,
          77.15,
          45.6,
          74.85,
          30.6,
          32.3,
          68.63333333333333,
          54.17058823529411,
          35.56,
          50.87500000000001,
          68.4,
          53.65217391304347,
          45.34285714285715,
          62.25,
          28,
          28.4,
          31.7,
          34.386486486486504,
          44.33923076923078
         ],
         "xaxis": "x6",
         "y": [
          28.1,
          77.9891891891892,
          48.2,
          68.64285714285714,
          21.2,
          66.14782608695653,
          43.85,
          23.446153846153848,
          46.85,
          74.7,
          36.442857142857136,
          79.41666666666667,
          32.35,
          42,
          53.599999999999994,
          61.14545454545455,
          53.267647058823535,
          36.93333333333333,
          83.24,
          53,
          61,
          14.419999999999998,
          37.2,
          12.57142857142857,
          50.9,
          37.60937499999999,
          22.76470588235294,
          57.95,
          45.5,
          31.5,
          40.8,
          99.8,
          98.4,
          38.1,
          47.75,
          42.7,
          70.39999999999999,
          89.04285714285716,
          26.1,
          65.33333333333333,
          71.5,
          31.3,
          26.016666666666666,
          45.12857142857143,
          99.9,
          78.98750000000001,
          34.53333333333333,
          29.941666666666666,
          88.75,
          30.5,
          95.4,
          38.75,
          34.5,
          55.28333333333334,
          28.39411764705882,
          40.908,
          62.050000000000004,
          93.6,
          23.286956521739135,
          32.67142857142857,
          27.009999999999998,
          58,
          38.3,
          95.3,
          78.22432432432433,
          42.436153846153864
         ],
         "yaxis": "y6"
        }
       ],
       "layout": {
        "annotations": [
         {
          "font": {},
          "showarrow": false,
          "text": "year=2011",
          "x": 0.07333333333333333,
          "xanchor": "center",
          "xref": "paper",
          "y": 1,
          "yanchor": "bottom",
          "yref": "paper"
         },
         {
          "font": {},
          "showarrow": false,
          "text": "year=2012",
          "x": 0.24,
          "xanchor": "center",
          "xref": "paper",
          "y": 1,
          "yanchor": "bottom",
          "yref": "paper"
         },
         {
          "font": {},
          "showarrow": false,
          "text": "year=2013",
          "x": 0.4066666666666666,
          "xanchor": "center",
          "xref": "paper",
          "y": 1,
          "yanchor": "bottom",
          "yref": "paper"
         },
         {
          "font": {},
          "showarrow": false,
          "text": "year=2014",
          "x": 0.5733333333333334,
          "xanchor": "center",
          "xref": "paper",
          "y": 1,
          "yanchor": "bottom",
          "yref": "paper"
         },
         {
          "font": {},
          "showarrow": false,
          "text": "year=2015",
          "x": 0.74,
          "xanchor": "center",
          "xref": "paper",
          "y": 1,
          "yanchor": "bottom",
          "yref": "paper"
         },
         {
          "font": {},
          "showarrow": false,
          "text": "year=2016",
          "x": 0.9066666666666667,
          "xanchor": "center",
          "xref": "paper",
          "y": 1,
          "yanchor": "bottom",
          "yref": "paper"
         }
        ],
        "coloraxis": {
         "colorbar": {
          "title": {
           "text": "year"
          }
         },
         "colorscale": [
          [
           0,
           "#440154"
          ],
          [
           0.1111111111111111,
           "#482878"
          ],
          [
           0.2222222222222222,
           "#3e4989"
          ],
          [
           0.3333333333333333,
           "#31688e"
          ],
          [
           0.4444444444444444,
           "#26828e"
          ],
          [
           0.5555555555555556,
           "#1f9e89"
          ],
          [
           0.6666666666666666,
           "#35b779"
          ],
          [
           0.7777777777777778,
           "#6ece58"
          ],
          [
           0.8888888888888888,
           "#b5de2b"
          ],
          [
           1,
           "#fde725"
          ]
         ]
        },
        "height": 600,
        "legend": {
         "tracegroupgap": 0
        },
        "margin": {
         "t": 60
        },
        "template": {
         "data": {
          "bar": [
           {
            "error_x": {
             "color": "#2a3f5f"
            },
            "error_y": {
             "color": "#2a3f5f"
            },
            "marker": {
             "line": {
              "color": "#E5ECF6",
              "width": 0.5
             }
            },
            "type": "bar"
           }
          ],
          "barpolar": [
           {
            "marker": {
             "line": {
              "color": "#E5ECF6",
              "width": 0.5
             }
            },
            "type": "barpolar"
           }
          ],
          "carpet": [
           {
            "aaxis": {
             "endlinecolor": "#2a3f5f",
             "gridcolor": "white",
             "linecolor": "white",
             "minorgridcolor": "white",
             "startlinecolor": "#2a3f5f"
            },
            "baxis": {
             "endlinecolor": "#2a3f5f",
             "gridcolor": "white",
             "linecolor": "white",
             "minorgridcolor": "white",
             "startlinecolor": "#2a3f5f"
            },
            "type": "carpet"
           }
          ],
          "choropleth": [
           {
            "colorbar": {
             "outlinewidth": 0,
             "ticks": ""
            },
            "type": "choropleth"
           }
          ],
          "contour": [
           {
            "colorbar": {
             "outlinewidth": 0,
             "ticks": ""
            },
            "colorscale": [
             [
              0,
              "#0d0887"
             ],
             [
              0.1111111111111111,
              "#46039f"
             ],
             [
              0.2222222222222222,
              "#7201a8"
             ],
             [
              0.3333333333333333,
              "#9c179e"
             ],
             [
              0.4444444444444444,
              "#bd3786"
             ],
             [
              0.5555555555555556,
              "#d8576b"
             ],
             [
              0.6666666666666666,
              "#ed7953"
             ],
             [
              0.7777777777777778,
              "#fb9f3a"
             ],
             [
              0.8888888888888888,
              "#fdca26"
             ],
             [
              1,
              "#f0f921"
             ]
            ],
            "type": "contour"
           }
          ],
          "contourcarpet": [
           {
            "colorbar": {
             "outlinewidth": 0,
             "ticks": ""
            },
            "type": "contourcarpet"
           }
          ],
          "heatmap": [
           {
            "colorbar": {
             "outlinewidth": 0,
             "ticks": ""
            },
            "colorscale": [
             [
              0,
              "#0d0887"
             ],
             [
              0.1111111111111111,
              "#46039f"
             ],
             [
              0.2222222222222222,
              "#7201a8"
             ],
             [
              0.3333333333333333,
              "#9c179e"
             ],
             [
              0.4444444444444444,
              "#bd3786"
             ],
             [
              0.5555555555555556,
              "#d8576b"
             ],
             [
              0.6666666666666666,
              "#ed7953"
             ],
             [
              0.7777777777777778,
              "#fb9f3a"
             ],
             [
              0.8888888888888888,
              "#fdca26"
             ],
             [
              1,
              "#f0f921"
             ]
            ],
            "type": "heatmap"
           }
          ],
          "heatmapgl": [
           {
            "colorbar": {
             "outlinewidth": 0,
             "ticks": ""
            },
            "colorscale": [
             [
              0,
              "#0d0887"
             ],
             [
              0.1111111111111111,
              "#46039f"
             ],
             [
              0.2222222222222222,
              "#7201a8"
             ],
             [
              0.3333333333333333,
              "#9c179e"
             ],
             [
              0.4444444444444444,
              "#bd3786"
             ],
             [
              0.5555555555555556,
              "#d8576b"
             ],
             [
              0.6666666666666666,
              "#ed7953"
             ],
             [
              0.7777777777777778,
              "#fb9f3a"
             ],
             [
              0.8888888888888888,
              "#fdca26"
             ],
             [
              1,
              "#f0f921"
             ]
            ],
            "type": "heatmapgl"
           }
          ],
          "histogram": [
           {
            "marker": {
             "colorbar": {
              "outlinewidth": 0,
              "ticks": ""
             }
            },
            "type": "histogram"
           }
          ],
          "histogram2d": [
           {
            "colorbar": {
             "outlinewidth": 0,
             "ticks": ""
            },
            "colorscale": [
             [
              0,
              "#0d0887"
             ],
             [
              0.1111111111111111,
              "#46039f"
             ],
             [
              0.2222222222222222,
              "#7201a8"
             ],
             [
              0.3333333333333333,
              "#9c179e"
             ],
             [
              0.4444444444444444,
              "#bd3786"
             ],
             [
              0.5555555555555556,
              "#d8576b"
             ],
             [
              0.6666666666666666,
              "#ed7953"
             ],
             [
              0.7777777777777778,
              "#fb9f3a"
             ],
             [
              0.8888888888888888,
              "#fdca26"
             ],
             [
              1,
              "#f0f921"
             ]
            ],
            "type": "histogram2d"
           }
          ],
          "histogram2dcontour": [
           {
            "colorbar": {
             "outlinewidth": 0,
             "ticks": ""
            },
            "colorscale": [
             [
              0,
              "#0d0887"
             ],
             [
              0.1111111111111111,
              "#46039f"
             ],
             [
              0.2222222222222222,
              "#7201a8"
             ],
             [
              0.3333333333333333,
              "#9c179e"
             ],
             [
              0.4444444444444444,
              "#bd3786"
             ],
             [
              0.5555555555555556,
              "#d8576b"
             ],
             [
              0.6666666666666666,
              "#ed7953"
             ],
             [
              0.7777777777777778,
              "#fb9f3a"
             ],
             [
              0.8888888888888888,
              "#fdca26"
             ],
             [
              1,
              "#f0f921"
             ]
            ],
            "type": "histogram2dcontour"
           }
          ],
          "mesh3d": [
           {
            "colorbar": {
             "outlinewidth": 0,
             "ticks": ""
            },
            "type": "mesh3d"
           }
          ],
          "parcoords": [
           {
            "line": {
             "colorbar": {
              "outlinewidth": 0,
              "ticks": ""
             }
            },
            "type": "parcoords"
           }
          ],
          "scatter": [
           {
            "marker": {
             "colorbar": {
              "outlinewidth": 0,
              "ticks": ""
             }
            },
            "type": "scatter"
           }
          ],
          "scatter3d": [
           {
            "line": {
             "colorbar": {
              "outlinewidth": 0,
              "ticks": ""
             }
            },
            "marker": {
             "colorbar": {
              "outlinewidth": 0,
              "ticks": ""
             }
            },
            "type": "scatter3d"
           }
          ],
          "scattercarpet": [
           {
            "marker": {
             "colorbar": {
              "outlinewidth": 0,
              "ticks": ""
             }
            },
            "type": "scattercarpet"
           }
          ],
          "scattergeo": [
           {
            "marker": {
             "colorbar": {
              "outlinewidth": 0,
              "ticks": ""
             }
            },
            "type": "scattergeo"
           }
          ],
          "scattergl": [
           {
            "marker": {
             "colorbar": {
              "outlinewidth": 0,
              "ticks": ""
             }
            },
            "type": "scattergl"
           }
          ],
          "scattermapbox": [
           {
            "marker": {
             "colorbar": {
              "outlinewidth": 0,
              "ticks": ""
             }
            },
            "type": "scattermapbox"
           }
          ],
          "scatterpolar": [
           {
            "marker": {
             "colorbar": {
              "outlinewidth": 0,
              "ticks": ""
             }
            },
            "type": "scatterpolar"
           }
          ],
          "scatterpolargl": [
           {
            "marker": {
             "colorbar": {
              "outlinewidth": 0,
              "ticks": ""
             }
            },
            "type": "scatterpolargl"
           }
          ],
          "scatterternary": [
           {
            "marker": {
             "colorbar": {
              "outlinewidth": 0,
              "ticks": ""
             }
            },
            "type": "scatterternary"
           }
          ],
          "surface": [
           {
            "colorbar": {
             "outlinewidth": 0,
             "ticks": ""
            },
            "colorscale": [
             [
              0,
              "#0d0887"
             ],
             [
              0.1111111111111111,
              "#46039f"
             ],
             [
              0.2222222222222222,
              "#7201a8"
             ],
             [
              0.3333333333333333,
              "#9c179e"
             ],
             [
              0.4444444444444444,
              "#bd3786"
             ],
             [
              0.5555555555555556,
              "#d8576b"
             ],
             [
              0.6666666666666666,
              "#ed7953"
             ],
             [
              0.7777777777777778,
              "#fb9f3a"
             ],
             [
              0.8888888888888888,
              "#fdca26"
             ],
             [
              1,
              "#f0f921"
             ]
            ],
            "type": "surface"
           }
          ],
          "table": [
           {
            "cells": {
             "fill": {
              "color": "#EBF0F8"
             },
             "line": {
              "color": "white"
             }
            },
            "header": {
             "fill": {
              "color": "#C8D4E3"
             },
             "line": {
              "color": "white"
             }
            },
            "type": "table"
           }
          ]
         },
         "layout": {
          "annotationdefaults": {
           "arrowcolor": "#2a3f5f",
           "arrowhead": 0,
           "arrowwidth": 1
          },
          "colorscale": {
           "diverging": [
            [
             0,
             "#8e0152"
            ],
            [
             0.1,
             "#c51b7d"
            ],
            [
             0.2,
             "#de77ae"
            ],
            [
             0.3,
             "#f1b6da"
            ],
            [
             0.4,
             "#fde0ef"
            ],
            [
             0.5,
             "#f7f7f7"
            ],
            [
             0.6,
             "#e6f5d0"
            ],
            [
             0.7,
             "#b8e186"
            ],
            [
             0.8,
             "#7fbc41"
            ],
            [
             0.9,
             "#4d9221"
            ],
            [
             1,
             "#276419"
            ]
           ],
           "sequential": [
            [
             0,
             "#0d0887"
            ],
            [
             0.1111111111111111,
             "#46039f"
            ],
            [
             0.2222222222222222,
             "#7201a8"
            ],
            [
             0.3333333333333333,
             "#9c179e"
            ],
            [
             0.4444444444444444,
             "#bd3786"
            ],
            [
             0.5555555555555556,
             "#d8576b"
            ],
            [
             0.6666666666666666,
             "#ed7953"
            ],
            [
             0.7777777777777778,
             "#fb9f3a"
            ],
            [
             0.8888888888888888,
             "#fdca26"
            ],
            [
             1,
             "#f0f921"
            ]
           ],
           "sequentialminus": [
            [
             0,
             "#0d0887"
            ],
            [
             0.1111111111111111,
             "#46039f"
            ],
            [
             0.2222222222222222,
             "#7201a8"
            ],
            [
             0.3333333333333333,
             "#9c179e"
            ],
            [
             0.4444444444444444,
             "#bd3786"
            ],
            [
             0.5555555555555556,
             "#d8576b"
            ],
            [
             0.6666666666666666,
             "#ed7953"
            ],
            [
             0.7777777777777778,
             "#fb9f3a"
            ],
            [
             0.8888888888888888,
             "#fdca26"
            ],
            [
             1,
             "#f0f921"
            ]
           ]
          },
          "colorway": [
           "#636efa",
           "#EF553B",
           "#00cc96",
           "#ab63fa",
           "#FFA15A",
           "#19d3f3",
           "#FF6692",
           "#B6E880",
           "#FF97FF",
           "#FECB52"
          ],
          "font": {
           "color": "#2a3f5f"
          },
          "geo": {
           "bgcolor": "white",
           "lakecolor": "white",
           "landcolor": "#E5ECF6",
           "showlakes": true,
           "showland": true,
           "subunitcolor": "white"
          },
          "hoverlabel": {
           "align": "left"
          },
          "hovermode": "closest",
          "mapbox": {
           "style": "light"
          },
          "paper_bgcolor": "white",
          "plot_bgcolor": "#E5ECF6",
          "polar": {
           "angularaxis": {
            "gridcolor": "white",
            "linecolor": "white",
            "ticks": ""
           },
           "bgcolor": "#E5ECF6",
           "radialaxis": {
            "gridcolor": "white",
            "linecolor": "white",
            "ticks": ""
           }
          },
          "scene": {
           "xaxis": {
            "backgroundcolor": "#E5ECF6",
            "gridcolor": "white",
            "gridwidth": 2,
            "linecolor": "white",
            "showbackground": true,
            "ticks": "",
            "zerolinecolor": "white"
           },
           "yaxis": {
            "backgroundcolor": "#E5ECF6",
            "gridcolor": "white",
            "gridwidth": 2,
            "linecolor": "white",
            "showbackground": true,
            "ticks": "",
            "zerolinecolor": "white"
           },
           "zaxis": {
            "backgroundcolor": "#E5ECF6",
            "gridcolor": "white",
            "gridwidth": 2,
            "linecolor": "white",
            "showbackground": true,
            "ticks": "",
            "zerolinecolor": "white"
           }
          },
          "shapedefaults": {
           "line": {
            "color": "#2a3f5f"
           }
          },
          "ternary": {
           "aaxis": {
            "gridcolor": "white",
            "linecolor": "white",
            "ticks": ""
           },
           "baxis": {
            "gridcolor": "white",
            "linecolor": "white",
            "ticks": ""
           },
           "bgcolor": "#E5ECF6",
           "caxis": {
            "gridcolor": "white",
            "linecolor": "white",
            "ticks": ""
           }
          },
          "title": {
           "x": 0.05
          },
          "xaxis": {
           "automargin": true,
           "gridcolor": "white",
           "linecolor": "white",
           "ticks": "",
           "zerolinecolor": "white",
           "zerolinewidth": 2
          },
          "yaxis": {
           "automargin": true,
           "gridcolor": "white",
           "linecolor": "white",
           "ticks": "",
           "zerolinecolor": "white",
           "zerolinewidth": 2
          }
         }
        },
        "xaxis": {
         "anchor": "y",
         "domain": [
          0,
          0.14666666666666667
         ],
         "title": {
          "text": "income"
         }
        },
        "xaxis2": {
         "anchor": "y2",
         "domain": [
          0.16666666666666666,
          0.31333333333333335
         ],
         "matches": "x",
         "title": {
          "text": "income"
         }
        },
        "xaxis3": {
         "anchor": "y3",
         "domain": [
          0.3333333333333333,
          0.48
         ],
         "matches": "x",
         "title": {
          "text": "income"
         }
        },
        "xaxis4": {
         "anchor": "y4",
         "domain": [
          0.5,
          0.6466666666666667
         ],
         "matches": "x",
         "title": {
          "text": "income"
         }
        },
        "xaxis5": {
         "anchor": "y5",
         "domain": [
          0.6666666666666666,
          0.8133333333333332
         ],
         "matches": "x",
         "title": {
          "text": "income"
         }
        },
        "xaxis6": {
         "anchor": "y6",
         "domain": [
          0.8333333333333334,
          0.98
         ],
         "matches": "x",
         "title": {
          "text": "income"
         }
        },
        "yaxis": {
         "anchor": "x",
         "domain": [
          0,
          1
         ],
         "title": {
          "text": "international"
         }
        },
        "yaxis2": {
         "anchor": "x2",
         "domain": [
          0,
          1
         ],
         "matches": "y",
         "showticklabels": false
        },
        "yaxis3": {
         "anchor": "x3",
         "domain": [
          0,
          1
         ],
         "matches": "y",
         "showticklabels": false
        },
        "yaxis4": {
         "anchor": "x4",
         "domain": [
          0,
          1
         ],
         "matches": "y",
         "showticklabels": false
        },
        "yaxis5": {
         "anchor": "x5",
         "domain": [
          0,
          1
         ],
         "matches": "y",
         "showticklabels": false
        },
        "yaxis6": {
         "anchor": "x6",
         "domain": [
          0,
          1
         ],
         "matches": "y",
         "showticklabels": false
        }
       }
      },
      "text/html": [
       "<div>\n",
       "        \n",
       "        \n",
       "            <div id=\"eb8b9909-ef68-4eac-b183-929113cb4f38\" class=\"plotly-graph-div\" style=\"height:600px; width:100%;\"></div>\n",
       "            <script type=\"text/javascript\">\n",
       "                require([\"plotly\"], function(Plotly) {\n",
       "                    window.PLOTLYENV=window.PLOTLYENV || {};\n",
       "                    \n",
       "                if (document.getElementById(\"eb8b9909-ef68-4eac-b183-929113cb4f38\")) {\n",
       "                    Plotly.newPlot(\n",
       "                        'eb8b9909-ef68-4eac-b183-929113cb4f38',\n",
       "                        [{\"hoverlabel\": {\"namelength\": 0}, \"hovertemplate\": \"year=%{marker.color}<br>income=%{x}<br>international=%{y}\", \"legendgroup\": \"\", \"marker\": {\"color\": [2011, 2011, 2011, 2011, 2011, 2011, 2011, 2011, 2011, 2011, 2011, 2011, 2011, 2011, 2011, 2011, 2011, 2011, 2011, 2011, 2011, 2011, 2011, 2011], \"coloraxis\": \"coloraxis\", \"symbol\": \"circle\"}, \"mode\": \"markers\", \"name\": \"\", \"showlegend\": false, \"type\": \"scatter\", \"x\": [51.387499999999996, 97.4, 41.666666666666664, 63.175, 61.03333333333333, 36.0, 30.2, 27.73333333333333, 43.43333333333334, 46.800000000000004, 72.06666666666666, 69.8375, 61.1, 41.5, 31.6, 40.25, 100.0, 35.0, 69.75, 40.075, 55.525000000000006, 43.9, 41.68518518518518, 58.00714285714286], \"xaxis\": \"x\", \"y\": [82.47500000000001, 27.15, 72.26666666666667, 38.025, 47.73333333333333, 19.3, 24.2, 37.733333333333334, 52.111111111111114, 82.03333333333333, 21.666666666666668, 43.949999999999996, 94.3, 66.6, 84.2, 97.05, 34.650000000000006, 33.2, 71.05000000000001, 93.725, 35.625, 27.2, 73.97777777777777, 40.76785714285715], \"yaxis\": \"y\"}, {\"hoverlabel\": {\"namelength\": 0}, \"hovertemplate\": \"year=%{marker.color}<br>income=%{x}<br>international=%{y}\", \"legendgroup\": \"\", \"marker\": {\"color\": [2012, 2012, 2012, 2012, 2012, 2012, 2012, 2012, 2012, 2012, 2012, 2012, 2012, 2012, 2012, 2012, 2012, 2012, 2012, 2012, 2012, 2012, 2012, 2012, 2012, 2012, 2012, 2012, 2012, 2012, 2012, 2012, 2012, 2012, 2012, 2012, 2012, 2012], \"coloraxis\": \"coloraxis\", \"symbol\": \"circle\"}, \"mode\": \"markers\", \"name\": \"\", \"showlegend\": false, \"type\": \"scatter\", \"x\": [47.73999999999999, 66.92857142857143, 38.25, 50.931250000000006, 70.3, 24.5, 60.8, 34.5, 26.3, 41.67999999999999, 34.31428571428571, 43.095, 33.2, 49.739999999999995, 75.4, 24.2, 93.1, 29.03333333333333, 41.971428571428575, 46.37142857142857, 63.699999999999996, 36.26, 41.53333333333334, 25.8, 34.025, 31.575000000000003, 53.0, 52.55, 99.03333333333335, 99.8, 36.599999999999994, 55.15714285714286, 41.94, 55.949999999999996, 29.0, 59.0, 36.97551020408162, 46.82337662337662], \"xaxis\": \"x2\", \"y\": [77.40800000000002, 63.671428571428564, 21.0, 61.993750000000006, 24.37142857142857, 51.4, 71.66, 31.6, 42.0, 41.800000000000004, 65.85714285714286, 55.38500000000001, 42.6, 67.23999999999998, 56.9, 14.3, 12.7, 49.63333333333333, 33.949999999999996, 21.028571428571432, 60.10833333333334, 86.8, 64.89999999999999, 39.5, 48.625, 78.45, 45.7, 91.4, 63.333333333333336, 26.96666666666667, 39.35, 62.65714285714286, 90.76000000000002, 17.9375, 45.0, 26.2, 76.46734693877549, 35.66753246753247], \"yaxis\": \"y2\"}, {\"hoverlabel\": {\"namelength\": 0}, \"hovertemplate\": \"year=%{marker.color}<br>income=%{x}<br>international=%{y}\", \"legendgroup\": \"\", \"marker\": {\"color\": [2013, 2013, 2013, 2013, 2013, 2013, 2013, 2013, 2013, 2013, 2013, 2013, 2013, 2013, 2013, 2013, 2013, 2013, 2013, 2013, 2013, 2013, 2013, 2013, 2013, 2013, 2013, 2013, 2013, 2013, 2013, 2013, 2013, 2013, 2013, 2013, 2013, 2013, 2013, 2013], \"coloraxis\": \"coloraxis\", \"symbol\": \"circle\"}, \"mode\": \"markers\", \"name\": \"\", \"showlegend\": false, \"type\": \"scatter\", \"x\": [50.45416666666667, 68.34285714285714, 42.45, 52.75625, 66.96666666666665, 28.4, 28.1, 64.52000000000001, 30.1, 52.4, 47.112500000000004, 46.71363636363637, 34.1, 46.480000000000004, 74.4, 65.16666666666667, 93.0, 37.2, 42.05, 49.9, 36.0, 73.73846153846155, 50.13333333333333, 38.46666666666667, 28.7, 36.1, 35.875, 64.85, 40.2, 88.45, 77.69999999999999, 99.56666666666666, 35.07142857142858, 56.24285714285714, 45.339999999999996, 66.05714285714285, 60.2, 56.225, 40.81521739130436, 47.311842105263146], \"xaxis\": \"x3\", \"y\": [75.50833333333334, 60.41428571428571, 22.7, 60.243750000000006, 31.53333333333333, 53.0, 50.3, 70.28, 42.4, 44.9, 64.775, 53.3909090909091, 44.4, 67.14000000000001, 59.9, 17.2, 16.7, 53.099999999999994, 36.971428571428575, 25.84545454545454, 33.2, 60.93846153846154, 84.18333333333332, 63.43333333333334, 40.75, 45.333333333333336, 73.625, 34.55, 71.0, 91.4, 61.05, 30.26666666666667, 40.35714285714285, 60.642857142857146, 89.06, 23.628571428571433, 23.8, 34.575, 76.35652173913041, 40.039473684210535], \"yaxis\": \"y3\"}, {\"hoverlabel\": {\"namelength\": 0}, \"hovertemplate\": \"year=%{marker.color}<br>income=%{x}<br>international=%{y}\", \"legendgroup\": \"\", \"marker\": {\"color\": [2014, 2014, 2014, 2014, 2014, 2014, 2014, 2014, 2014, 2014, 2014, 2014, 2014, 2014, 2014, 2014, 2014, 2014, 2014, 2014, 2014, 2014, 2014, 2014, 2014, 2014, 2014, 2014, 2014, 2014, 2014, 2014, 2014, 2014, 2014, 2014, 2014, 2014, 2014], \"coloraxis\": \"coloraxis\", \"symbol\": \"circle\"}, \"mode\": \"markers\", \"name\": \"\", \"showlegend\": false, \"type\": \"scatter\", \"x\": [50.884000000000015, 76.28333333333333, 44.55, 51.6, 67.74285714285715, 30.6, 29.0, 63.980000000000004, 30.3, 37.275, 45.55555555555555, 49.29090909090908, 35.0, 45.9, 78.5, 45.199999999999996, 98.3, 34.75, 42.226666666666674, 59.699999999999996, 74.38461538461537, 51.42, 40.03333333333334, 28.3, 37.05, 39.875, 72.2, 39.7, 82.15, 93.5, 99.53333333333335, 40.73333333333333, 58.083333333333336, 54.24285714285715, 65.95, 62.2, 53.05, 38.72765957446809, 47.472500000000004], \"xaxis\": \"x4\", \"y\": [77.75600000000003, 59.01666666666667, 21.95, 62.775, 31.35714285714286, 55.7, 53.2, 71.56, 43.7, 47.300000000000004, 64.63333333333334, 53.88636363636365, 47.1, 67.03999999999999, 59.9, 20.733333333333334, 20.7, 56.3, 39.89333333333333, 27.788888888888888, 63.600000000000016, 85.22, 58.9, 42.8, 45.4, 73.2, 55.7, 74.3, 92.65, 64.03333333333335, 33.93333333333333, 40.48888888888889, 63.699999999999996, 90.17142857142858, 25.162499999999998, 24.4, 43.625, 77.09574468085107, 42.81125], \"yaxis\": \"y4\"}, {\"hoverlabel\": {\"namelength\": 0}, \"hovertemplate\": \"year=%{marker.color}<br>income=%{x}<br>international=%{y}\", \"legendgroup\": \"\", \"marker\": {\"color\": [2015, 2015, 2015, 2015, 2015, 2015, 2015, 2015, 2015, 2015, 2015, 2015, 2015, 2015, 2015, 2015, 2015, 2015, 2015, 2015, 2015, 2015, 2015, 2015, 2015, 2015, 2015, 2015, 2015, 2015, 2015, 2015, 2015, 2015, 2015, 2015, 2015, 2015, 2015, 2015], \"coloraxis\": \"coloraxis\", \"symbol\": \"circle\"}, \"mode\": \"markers\", \"name\": \"\", \"showlegend\": false, \"type\": \"scatter\", \"x\": [49.772000000000006, 71.02857142857142, 42.3, 49.79375, 28.1, 70.64285714285715, 36.5, 29.4, 63.85999999999999, 46.20000000000001, 45.13333333333334, 53.04, 36.0, 44.059999999999995, 64.0, 46.225, 85.15, 34.0, 41.42941176470589, 57.56, 33.6, 28.6, 74.96153846153847, 51.06, 39.333333333333336, 28.5, 39.2, 37.0, 55.95, 76.7, 92.5, 77.78, 42.449999999999996, 57.43333333333334, 61.942857142857136, 70.06666666666666, 56.5, 49.5, 38.25714285714285, 48.472619047619034], \"xaxis\": \"x5\", \"y\": [78.92399999999999, 62.15714285714286, 23.0, 66.19375000000002, 48.7, 33.714285714285715, 54.6, 53.9, 70.14, 50.699999999999996, 67.75555555555555, 54.11600000000001, 47.0, 69.88000000000001, 59.1, 20.875, 19.7, 56.95, 42.670588235294126, 31.940000000000005, 73.3, 45.1, 65.54615384615386, 84.3, 60.0, 41.6, 48.25, 77.25, 52.099999999999994, 93.7, 63.6, 35.4, 49.349999999999994, 61.35, 90.77142857142857, 26.766666666666666, 22.5, 44.9, 79.10476190476192, 45.029761904761905], \"yaxis\": \"y5\"}, {\"hoverlabel\": {\"namelength\": 0}, \"hovertemplate\": \"year=%{marker.color}<br>income=%{x}<br>international=%{y}\", \"legendgroup\": \"\", \"marker\": {\"color\": [2016, 2016, 2016, 2016, 2016, 2016, 2016, 2016, 2016, 2016, 2016, 2016, 2016, 2016, 2016, 2016, 2016, 2016, 2016, 2016, 2016, 2016, 2016, 2016, 2016, 2016, 2016, 2016, 2016, 2016, 2016, 2016, 2016, 2016, 2016, 2016, 2016, 2016, 2016, 2016, 2016, 2016, 2016, 2016, 2016, 2016, 2016, 2016, 2016, 2016, 2016, 2016, 2016, 2016, 2016, 2016, 2016, 2016, 2016, 2016, 2016, 2016, 2016, 2016, 2016, 2016], \"coloraxis\": \"coloraxis\", \"symbol\": \"circle\"}, \"mode\": \"markers\", \"name\": \"\", \"showlegend\": false, \"type\": \"scatter\", \"x\": [28.6, 48.9945945945946, 28.0, 73.52857142857144, 46.054545454545455, 46.74347826086956, 37.875, 64.4076923076923, 35.8, 30.0, 30.22857142857143, 45.050000000000004, 30.0, 38.15, 45.62222222222222, 34.07727272727273, 69.3264705882353, 42.68333333333334, 43.040000000000006, 34.53333333333334, 28.0, 41.98000000000001, 40.0, 62.65714285714285, 29.72, 39.971875, 47.52647058823529, 30.1, 28.0, 28.3, 41.0, 38.1, 34.9, 31.28, 69.75, 29.2, 73.02307692307693, 43.17142857142857, 29.2, 41.6, 37.6, 31.3, 32.916666666666664, 40.1, 55.2, 37.6625, 28.766666666666666, 49.24999999999999, 77.15, 45.6, 74.85, 30.6, 32.3, 68.63333333333333, 54.17058823529411, 35.56, 50.87500000000001, 68.4, 53.65217391304347, 45.34285714285715, 62.25, 28.0, 28.4, 31.7, 34.386486486486504, 44.33923076923078], \"xaxis\": \"x6\", \"y\": [28.1, 77.9891891891892, 48.2, 68.64285714285714, 21.2, 66.14782608695653, 43.85, 23.446153846153848, 46.85, 74.7, 36.442857142857136, 79.41666666666667, 32.35, 42.0, 53.599999999999994, 61.14545454545455, 53.267647058823535, 36.93333333333333, 83.24, 53.0, 61.0, 14.419999999999998, 37.2, 12.57142857142857, 50.9, 37.60937499999999, 22.76470588235294, 57.95, 45.5, 31.5, 40.8, 99.8, 98.4, 38.1, 47.75, 42.7, 70.39999999999999, 89.04285714285716, 26.1, 65.33333333333333, 71.5, 31.3, 26.016666666666666, 45.12857142857143, 99.9, 78.98750000000001, 34.53333333333333, 29.941666666666666, 88.75, 30.5, 95.4, 38.75, 34.5, 55.28333333333334, 28.39411764705882, 40.908, 62.050000000000004, 93.6, 23.286956521739135, 32.67142857142857, 27.009999999999998, 58.0, 38.3, 95.3, 78.22432432432433, 42.436153846153864], \"yaxis\": \"y6\"}],\n",
       "                        {\"annotations\": [{\"font\": {}, \"showarrow\": false, \"text\": \"year=2011\", \"x\": 0.07333333333333333, \"xanchor\": \"center\", \"xref\": \"paper\", \"y\": 1.0, \"yanchor\": \"bottom\", \"yref\": \"paper\"}, {\"font\": {}, \"showarrow\": false, \"text\": \"year=2012\", \"x\": 0.24, \"xanchor\": \"center\", \"xref\": \"paper\", \"y\": 1.0, \"yanchor\": \"bottom\", \"yref\": \"paper\"}, {\"font\": {}, \"showarrow\": false, \"text\": \"year=2013\", \"x\": 0.4066666666666666, \"xanchor\": \"center\", \"xref\": \"paper\", \"y\": 1.0, \"yanchor\": \"bottom\", \"yref\": \"paper\"}, {\"font\": {}, \"showarrow\": false, \"text\": \"year=2014\", \"x\": 0.5733333333333334, \"xanchor\": \"center\", \"xref\": \"paper\", \"y\": 1.0, \"yanchor\": \"bottom\", \"yref\": \"paper\"}, {\"font\": {}, \"showarrow\": false, \"text\": \"year=2015\", \"x\": 0.74, \"xanchor\": \"center\", \"xref\": \"paper\", \"y\": 1.0, \"yanchor\": \"bottom\", \"yref\": \"paper\"}, {\"font\": {}, \"showarrow\": false, \"text\": \"year=2016\", \"x\": 0.9066666666666667, \"xanchor\": \"center\", \"xref\": \"paper\", \"y\": 1.0, \"yanchor\": \"bottom\", \"yref\": \"paper\"}], \"coloraxis\": {\"colorbar\": {\"title\": {\"text\": \"year\"}}, \"colorscale\": [[0.0, \"#440154\"], [0.1111111111111111, \"#482878\"], [0.2222222222222222, \"#3e4989\"], [0.3333333333333333, \"#31688e\"], [0.4444444444444444, \"#26828e\"], [0.5555555555555556, \"#1f9e89\"], [0.6666666666666666, \"#35b779\"], [0.7777777777777778, \"#6ece58\"], [0.8888888888888888, \"#b5de2b\"], [1.0, \"#fde725\"]]}, \"height\": 600, \"legend\": {\"tracegroupgap\": 0}, \"margin\": {\"t\": 60}, \"template\": {\"data\": {\"bar\": [{\"error_x\": {\"color\": \"#2a3f5f\"}, \"error_y\": {\"color\": \"#2a3f5f\"}, \"marker\": {\"line\": {\"color\": \"#E5ECF6\", \"width\": 0.5}}, \"type\": \"bar\"}], \"barpolar\": [{\"marker\": {\"line\": {\"color\": \"#E5ECF6\", \"width\": 0.5}}, \"type\": \"barpolar\"}], \"carpet\": [{\"aaxis\": {\"endlinecolor\": \"#2a3f5f\", \"gridcolor\": \"white\", \"linecolor\": \"white\", \"minorgridcolor\": \"white\", \"startlinecolor\": \"#2a3f5f\"}, \"baxis\": {\"endlinecolor\": \"#2a3f5f\", \"gridcolor\": \"white\", \"linecolor\": \"white\", \"minorgridcolor\": \"white\", \"startlinecolor\": \"#2a3f5f\"}, \"type\": \"carpet\"}], \"choropleth\": [{\"colorbar\": {\"outlinewidth\": 0, \"ticks\": \"\"}, \"type\": \"choropleth\"}], \"contour\": [{\"colorbar\": {\"outlinewidth\": 0, \"ticks\": \"\"}, \"colorscale\": [[0.0, \"#0d0887\"], [0.1111111111111111, \"#46039f\"], [0.2222222222222222, \"#7201a8\"], [0.3333333333333333, \"#9c179e\"], [0.4444444444444444, \"#bd3786\"], [0.5555555555555556, \"#d8576b\"], [0.6666666666666666, \"#ed7953\"], [0.7777777777777778, \"#fb9f3a\"], [0.8888888888888888, \"#fdca26\"], [1.0, \"#f0f921\"]], \"type\": \"contour\"}], \"contourcarpet\": [{\"colorbar\": {\"outlinewidth\": 0, \"ticks\": \"\"}, \"type\": \"contourcarpet\"}], \"heatmap\": [{\"colorbar\": {\"outlinewidth\": 0, \"ticks\": \"\"}, \"colorscale\": [[0.0, \"#0d0887\"], [0.1111111111111111, \"#46039f\"], [0.2222222222222222, \"#7201a8\"], [0.3333333333333333, \"#9c179e\"], [0.4444444444444444, \"#bd3786\"], [0.5555555555555556, \"#d8576b\"], [0.6666666666666666, \"#ed7953\"], [0.7777777777777778, \"#fb9f3a\"], [0.8888888888888888, \"#fdca26\"], [1.0, \"#f0f921\"]], \"type\": \"heatmap\"}], \"heatmapgl\": [{\"colorbar\": {\"outlinewidth\": 0, \"ticks\": \"\"}, \"colorscale\": [[0.0, \"#0d0887\"], [0.1111111111111111, \"#46039f\"], [0.2222222222222222, \"#7201a8\"], [0.3333333333333333, \"#9c179e\"], [0.4444444444444444, \"#bd3786\"], [0.5555555555555556, \"#d8576b\"], [0.6666666666666666, \"#ed7953\"], [0.7777777777777778, \"#fb9f3a\"], [0.8888888888888888, \"#fdca26\"], [1.0, \"#f0f921\"]], \"type\": \"heatmapgl\"}], \"histogram\": [{\"marker\": {\"colorbar\": {\"outlinewidth\": 0, \"ticks\": \"\"}}, \"type\": \"histogram\"}], \"histogram2d\": [{\"colorbar\": {\"outlinewidth\": 0, \"ticks\": \"\"}, \"colorscale\": [[0.0, \"#0d0887\"], [0.1111111111111111, \"#46039f\"], [0.2222222222222222, \"#7201a8\"], [0.3333333333333333, \"#9c179e\"], [0.4444444444444444, \"#bd3786\"], [0.5555555555555556, \"#d8576b\"], [0.6666666666666666, \"#ed7953\"], [0.7777777777777778, \"#fb9f3a\"], [0.8888888888888888, \"#fdca26\"], [1.0, \"#f0f921\"]], \"type\": \"histogram2d\"}], \"histogram2dcontour\": [{\"colorbar\": {\"outlinewidth\": 0, \"ticks\": \"\"}, \"colorscale\": [[0.0, \"#0d0887\"], [0.1111111111111111, \"#46039f\"], [0.2222222222222222, \"#7201a8\"], [0.3333333333333333, \"#9c179e\"], [0.4444444444444444, \"#bd3786\"], [0.5555555555555556, \"#d8576b\"], [0.6666666666666666, \"#ed7953\"], [0.7777777777777778, \"#fb9f3a\"], [0.8888888888888888, \"#fdca26\"], [1.0, \"#f0f921\"]], \"type\": \"histogram2dcontour\"}], \"mesh3d\": [{\"colorbar\": {\"outlinewidth\": 0, \"ticks\": \"\"}, \"type\": \"mesh3d\"}], \"parcoords\": [{\"line\": {\"colorbar\": {\"outlinewidth\": 0, \"ticks\": \"\"}}, \"type\": \"parcoords\"}], \"scatter\": [{\"marker\": {\"colorbar\": {\"outlinewidth\": 0, \"ticks\": \"\"}}, \"type\": \"scatter\"}], \"scatter3d\": [{\"line\": {\"colorbar\": {\"outlinewidth\": 0, \"ticks\": \"\"}}, \"marker\": {\"colorbar\": {\"outlinewidth\": 0, \"ticks\": \"\"}}, \"type\": \"scatter3d\"}], \"scattercarpet\": [{\"marker\": {\"colorbar\": {\"outlinewidth\": 0, \"ticks\": \"\"}}, \"type\": \"scattercarpet\"}], \"scattergeo\": [{\"marker\": {\"colorbar\": {\"outlinewidth\": 0, \"ticks\": \"\"}}, \"type\": \"scattergeo\"}], \"scattergl\": [{\"marker\": {\"colorbar\": {\"outlinewidth\": 0, \"ticks\": \"\"}}, \"type\": \"scattergl\"}], \"scattermapbox\": [{\"marker\": {\"colorbar\": {\"outlinewidth\": 0, \"ticks\": \"\"}}, \"type\": \"scattermapbox\"}], \"scatterpolar\": [{\"marker\": {\"colorbar\": {\"outlinewidth\": 0, \"ticks\": \"\"}}, \"type\": \"scatterpolar\"}], \"scatterpolargl\": [{\"marker\": {\"colorbar\": {\"outlinewidth\": 0, \"ticks\": \"\"}}, \"type\": \"scatterpolargl\"}], \"scatterternary\": [{\"marker\": {\"colorbar\": {\"outlinewidth\": 0, \"ticks\": \"\"}}, \"type\": \"scatterternary\"}], \"surface\": [{\"colorbar\": {\"outlinewidth\": 0, \"ticks\": \"\"}, \"colorscale\": [[0.0, \"#0d0887\"], [0.1111111111111111, \"#46039f\"], [0.2222222222222222, \"#7201a8\"], [0.3333333333333333, \"#9c179e\"], [0.4444444444444444, \"#bd3786\"], [0.5555555555555556, \"#d8576b\"], [0.6666666666666666, \"#ed7953\"], [0.7777777777777778, \"#fb9f3a\"], [0.8888888888888888, \"#fdca26\"], [1.0, \"#f0f921\"]], \"type\": \"surface\"}], \"table\": [{\"cells\": {\"fill\": {\"color\": \"#EBF0F8\"}, \"line\": {\"color\": \"white\"}}, \"header\": {\"fill\": {\"color\": \"#C8D4E3\"}, \"line\": {\"color\": \"white\"}}, \"type\": \"table\"}]}, \"layout\": {\"annotationdefaults\": {\"arrowcolor\": \"#2a3f5f\", \"arrowhead\": 0, \"arrowwidth\": 1}, \"colorscale\": {\"diverging\": [[0, \"#8e0152\"], [0.1, \"#c51b7d\"], [0.2, \"#de77ae\"], [0.3, \"#f1b6da\"], [0.4, \"#fde0ef\"], [0.5, \"#f7f7f7\"], [0.6, \"#e6f5d0\"], [0.7, \"#b8e186\"], [0.8, \"#7fbc41\"], [0.9, \"#4d9221\"], [1, \"#276419\"]], \"sequential\": [[0.0, \"#0d0887\"], [0.1111111111111111, \"#46039f\"], [0.2222222222222222, \"#7201a8\"], [0.3333333333333333, \"#9c179e\"], [0.4444444444444444, \"#bd3786\"], [0.5555555555555556, \"#d8576b\"], [0.6666666666666666, \"#ed7953\"], [0.7777777777777778, \"#fb9f3a\"], [0.8888888888888888, \"#fdca26\"], [1.0, \"#f0f921\"]], \"sequentialminus\": [[0.0, \"#0d0887\"], [0.1111111111111111, \"#46039f\"], [0.2222222222222222, \"#7201a8\"], [0.3333333333333333, \"#9c179e\"], [0.4444444444444444, \"#bd3786\"], [0.5555555555555556, \"#d8576b\"], [0.6666666666666666, \"#ed7953\"], [0.7777777777777778, \"#fb9f3a\"], [0.8888888888888888, \"#fdca26\"], [1.0, \"#f0f921\"]]}, \"colorway\": [\"#636efa\", \"#EF553B\", \"#00cc96\", \"#ab63fa\", \"#FFA15A\", \"#19d3f3\", \"#FF6692\", \"#B6E880\", \"#FF97FF\", \"#FECB52\"], \"font\": {\"color\": \"#2a3f5f\"}, \"geo\": {\"bgcolor\": \"white\", \"lakecolor\": \"white\", \"landcolor\": \"#E5ECF6\", \"showlakes\": true, \"showland\": true, \"subunitcolor\": \"white\"}, \"hoverlabel\": {\"align\": \"left\"}, \"hovermode\": \"closest\", \"mapbox\": {\"style\": \"light\"}, \"paper_bgcolor\": \"white\", \"plot_bgcolor\": \"#E5ECF6\", \"polar\": {\"angularaxis\": {\"gridcolor\": \"white\", \"linecolor\": \"white\", \"ticks\": \"\"}, \"bgcolor\": \"#E5ECF6\", \"radialaxis\": {\"gridcolor\": \"white\", \"linecolor\": \"white\", \"ticks\": \"\"}}, \"scene\": {\"xaxis\": {\"backgroundcolor\": \"#E5ECF6\", \"gridcolor\": \"white\", \"gridwidth\": 2, \"linecolor\": \"white\", \"showbackground\": true, \"ticks\": \"\", \"zerolinecolor\": \"white\"}, \"yaxis\": {\"backgroundcolor\": \"#E5ECF6\", \"gridcolor\": \"white\", \"gridwidth\": 2, \"linecolor\": \"white\", \"showbackground\": true, \"ticks\": \"\", \"zerolinecolor\": \"white\"}, \"zaxis\": {\"backgroundcolor\": \"#E5ECF6\", \"gridcolor\": \"white\", \"gridwidth\": 2, \"linecolor\": \"white\", \"showbackground\": true, \"ticks\": \"\", \"zerolinecolor\": \"white\"}}, \"shapedefaults\": {\"line\": {\"color\": \"#2a3f5f\"}}, \"ternary\": {\"aaxis\": {\"gridcolor\": \"white\", \"linecolor\": \"white\", \"ticks\": \"\"}, \"baxis\": {\"gridcolor\": \"white\", \"linecolor\": \"white\", \"ticks\": \"\"}, \"bgcolor\": \"#E5ECF6\", \"caxis\": {\"gridcolor\": \"white\", \"linecolor\": \"white\", \"ticks\": \"\"}}, \"title\": {\"x\": 0.05}, \"xaxis\": {\"automargin\": true, \"gridcolor\": \"white\", \"linecolor\": \"white\", \"ticks\": \"\", \"zerolinecolor\": \"white\", \"zerolinewidth\": 2}, \"yaxis\": {\"automargin\": true, \"gridcolor\": \"white\", \"linecolor\": \"white\", \"ticks\": \"\", \"zerolinecolor\": \"white\", \"zerolinewidth\": 2}}}, \"xaxis\": {\"anchor\": \"y\", \"domain\": [0.0, 0.14666666666666667], \"title\": {\"text\": \"income\"}}, \"xaxis2\": {\"anchor\": \"y2\", \"domain\": [0.16666666666666666, 0.31333333333333335], \"matches\": \"x\", \"title\": {\"text\": \"income\"}}, \"xaxis3\": {\"anchor\": \"y3\", \"domain\": [0.3333333333333333, 0.48], \"matches\": \"x\", \"title\": {\"text\": \"income\"}}, \"xaxis4\": {\"anchor\": \"y4\", \"domain\": [0.5, 0.6466666666666667], \"matches\": \"x\", \"title\": {\"text\": \"income\"}}, \"xaxis5\": {\"anchor\": \"y5\", \"domain\": [0.6666666666666666, 0.8133333333333332], \"matches\": \"x\", \"title\": {\"text\": \"income\"}}, \"xaxis6\": {\"anchor\": \"y6\", \"domain\": [0.8333333333333334, 0.98], \"matches\": \"x\", \"title\": {\"text\": \"income\"}}, \"yaxis\": {\"anchor\": \"x\", \"domain\": [0.0, 1.0], \"title\": {\"text\": \"international\"}}, \"yaxis2\": {\"anchor\": \"x2\", \"domain\": [0.0, 1.0], \"matches\": \"y\", \"showticklabels\": false}, \"yaxis3\": {\"anchor\": \"x3\", \"domain\": [0.0, 1.0], \"matches\": \"y\", \"showticklabels\": false}, \"yaxis4\": {\"anchor\": \"x4\", \"domain\": [0.0, 1.0], \"matches\": \"y\", \"showticklabels\": false}, \"yaxis5\": {\"anchor\": \"x5\", \"domain\": [0.0, 1.0], \"matches\": \"y\", \"showticklabels\": false}, \"yaxis6\": {\"anchor\": \"x6\", \"domain\": [0.0, 1.0], \"matches\": \"y\", \"showticklabels\": false}},\n",
       "                        {\"responsive\": true}\n",
       "                    ).then(function(){\n",
       "                            \n",
       "var gd = document.getElementById('eb8b9909-ef68-4eac-b183-929113cb4f38');\n",
       "var x = new MutationObserver(function (mutations, observer) {{\n",
       "        var display = window.getComputedStyle(gd).display;\n",
       "        if (!display || display === 'none') {{\n",
       "            console.log([gd, 'removed!']);\n",
       "            Plotly.purge(gd);\n",
       "            observer.disconnect();\n",
       "        }}\n",
       "}});\n",
       "\n",
       "// Listen for the removal of the full notebook cells\n",
       "var notebookContainer = gd.closest('#notebook-container');\n",
       "if (notebookContainer) {{\n",
       "    x.observe(notebookContainer, {childList: true});\n",
       "}}\n",
       "\n",
       "// Listen for the clearing of the current output cell\n",
       "var outputEl = gd.closest('.output');\n",
       "if (outputEl) {{\n",
       "    x.observe(outputEl, {childList: true});\n",
       "}}\n",
       "\n",
       "                        })\n",
       "                };\n",
       "                });\n",
       "            </script>\n",
       "        </div>"
      ]
     },
     "metadata": {},
     "output_type": "display_data"
    }
   ],
   "source": [
    "import plotly.express as px\n",
    "#df = px.data.tips()\n",
    "fig = px.scatter(df2, x=\"income\", y=\"international\", color=\"year\", facet_col=\"year\",\n",
    "           color_continuous_scale=px.colors.sequential.Viridis)#, render_mode=\"webgl\")\n",
    "fig.show()"
   ]
  },
  {
   "cell_type": "code",
   "execution_count": 28,
   "metadata": {},
   "outputs": [
    {
     "data": {
      "application/vnd.plotly.v1+json": {
       "config": {
        "plotlyServerURL": "https://plot.ly"
       },
       "data": [
        {
         "hoverlabel": {
          "namelength": 0
         },
         "hovertemplate": "income=%{x}<br>international=%{y}<br>year=%{marker.color}",
         "legendgroup": "",
         "marker": {
          "color": [
           2011,
           2011,
           2011,
           2011,
           2011,
           2011,
           2011,
           2011,
           2011,
           2011,
           2011,
           2011,
           2011,
           2011,
           2011,
           2011,
           2011,
           2011,
           2011,
           2011,
           2011,
           2011,
           2011,
           2011,
           2012,
           2012,
           2012,
           2012,
           2012,
           2012,
           2012,
           2012,
           2012,
           2012,
           2012,
           2012,
           2012,
           2012,
           2012,
           2012,
           2012,
           2012,
           2012,
           2012,
           2012,
           2012,
           2012,
           2012,
           2012,
           2012,
           2012,
           2012,
           2012,
           2012,
           2012,
           2012,
           2012,
           2012,
           2012,
           2012,
           2012,
           2012,
           2013,
           2013,
           2013,
           2013,
           2013,
           2013,
           2013,
           2013,
           2013,
           2013,
           2013,
           2013,
           2013,
           2013,
           2013,
           2013,
           2013,
           2013,
           2013,
           2013,
           2013,
           2013,
           2013,
           2013,
           2013,
           2013,
           2013,
           2013,
           2013,
           2013,
           2013,
           2013,
           2013,
           2013,
           2013,
           2013,
           2013,
           2013,
           2013,
           2013,
           2014,
           2014,
           2014,
           2014,
           2014,
           2014,
           2014,
           2014,
           2014,
           2014,
           2014,
           2014,
           2014,
           2014,
           2014,
           2014,
           2014,
           2014,
           2014,
           2014,
           2014,
           2014,
           2014,
           2014,
           2014,
           2014,
           2014,
           2014,
           2014,
           2014,
           2014,
           2014,
           2014,
           2014,
           2014,
           2014,
           2014,
           2014,
           2014,
           2015,
           2015,
           2015,
           2015,
           2015,
           2015,
           2015,
           2015,
           2015,
           2015,
           2015,
           2015,
           2015,
           2015,
           2015,
           2015,
           2015,
           2015,
           2015,
           2015,
           2015,
           2015,
           2015,
           2015,
           2015,
           2015,
           2015,
           2015,
           2015,
           2015,
           2015,
           2015,
           2015,
           2015,
           2015,
           2015,
           2015,
           2015,
           2015,
           2015,
           2016,
           2016,
           2016,
           2016,
           2016,
           2016,
           2016,
           2016,
           2016,
           2016,
           2016,
           2016,
           2016,
           2016,
           2016,
           2016,
           2016,
           2016,
           2016,
           2016,
           2016,
           2016,
           2016,
           2016,
           2016,
           2016,
           2016,
           2016,
           2016,
           2016,
           2016,
           2016,
           2016,
           2016,
           2016,
           2016,
           2016,
           2016,
           2016,
           2016,
           2016,
           2016,
           2016,
           2016,
           2016,
           2016,
           2016,
           2016,
           2016,
           2016,
           2016,
           2016,
           2016,
           2016,
           2016,
           2016,
           2016,
           2016,
           2016,
           2016,
           2016,
           2016,
           2016,
           2016,
           2016,
           2016
          ],
          "coloraxis": "coloraxis",
          "symbol": "circle"
         },
         "mode": "markers",
         "name": "",
         "showlegend": false,
         "type": "scatter",
         "x": [
          51.387499999999996,
          97.4,
          41.666666666666664,
          63.175,
          61.03333333333333,
          36,
          30.2,
          27.73333333333333,
          43.43333333333334,
          46.800000000000004,
          72.06666666666666,
          69.8375,
          61.1,
          41.5,
          31.6,
          40.25,
          100,
          35,
          69.75,
          40.075,
          55.525000000000006,
          43.9,
          41.68518518518518,
          58.00714285714286,
          47.73999999999999,
          66.92857142857143,
          38.25,
          50.931250000000006,
          70.3,
          24.5,
          60.8,
          34.5,
          26.3,
          41.67999999999999,
          34.31428571428571,
          43.095,
          33.2,
          49.739999999999995,
          75.4,
          24.2,
          93.1,
          29.03333333333333,
          41.971428571428575,
          46.37142857142857,
          63.699999999999996,
          36.26,
          41.53333333333334,
          25.8,
          34.025,
          31.575000000000003,
          53,
          52.55,
          99.03333333333335,
          99.8,
          36.599999999999994,
          55.15714285714286,
          41.94,
          55.949999999999996,
          29,
          59,
          36.97551020408162,
          46.82337662337662,
          50.45416666666667,
          68.34285714285714,
          42.45,
          52.75625,
          66.96666666666665,
          28.4,
          28.1,
          64.52000000000001,
          30.1,
          52.4,
          47.112500000000004,
          46.71363636363637,
          34.1,
          46.480000000000004,
          74.4,
          65.16666666666667,
          93,
          37.2,
          42.05,
          49.9,
          36,
          73.73846153846155,
          50.13333333333333,
          38.46666666666667,
          28.7,
          36.1,
          35.875,
          64.85,
          40.2,
          88.45,
          77.69999999999999,
          99.56666666666666,
          35.07142857142858,
          56.24285714285714,
          45.339999999999996,
          66.05714285714285,
          60.2,
          56.225,
          40.81521739130436,
          47.311842105263146,
          50.884000000000015,
          76.28333333333333,
          44.55,
          51.6,
          67.74285714285715,
          30.6,
          29,
          63.980000000000004,
          30.3,
          37.275,
          45.55555555555555,
          49.29090909090908,
          35,
          45.9,
          78.5,
          45.199999999999996,
          98.3,
          34.75,
          42.226666666666674,
          59.699999999999996,
          74.38461538461537,
          51.42,
          40.03333333333334,
          28.3,
          37.05,
          39.875,
          72.2,
          39.7,
          82.15,
          93.5,
          99.53333333333335,
          40.73333333333333,
          58.083333333333336,
          54.24285714285715,
          65.95,
          62.2,
          53.05,
          38.72765957446809,
          47.472500000000004,
          49.772000000000006,
          71.02857142857142,
          42.3,
          49.79375,
          28.1,
          70.64285714285715,
          36.5,
          29.4,
          63.85999999999999,
          46.20000000000001,
          45.13333333333334,
          53.04,
          36,
          44.059999999999995,
          64,
          46.225,
          85.15,
          34,
          41.42941176470589,
          57.56,
          33.6,
          28.6,
          74.96153846153847,
          51.06,
          39.333333333333336,
          28.5,
          39.2,
          37,
          55.95,
          76.7,
          92.5,
          77.78,
          42.449999999999996,
          57.43333333333334,
          61.942857142857136,
          70.06666666666666,
          56.5,
          49.5,
          38.25714285714285,
          48.472619047619034,
          28.6,
          48.9945945945946,
          28,
          73.52857142857144,
          46.054545454545455,
          46.74347826086956,
          37.875,
          64.4076923076923,
          35.8,
          30,
          30.22857142857143,
          45.050000000000004,
          30,
          38.15,
          45.62222222222222,
          34.07727272727273,
          69.3264705882353,
          42.68333333333334,
          43.040000000000006,
          34.53333333333334,
          28,
          41.98000000000001,
          40,
          62.65714285714285,
          29.72,
          39.971875,
          47.52647058823529,
          30.1,
          28,
          28.3,
          41,
          38.1,
          34.9,
          31.28,
          69.75,
          29.2,
          73.02307692307693,
          43.17142857142857,
          29.2,
          41.6,
          37.6,
          31.3,
          32.916666666666664,
          40.1,
          55.2,
          37.6625,
          28.766666666666666,
          49.24999999999999,
          77.15,
          45.6,
          74.85,
          30.6,
          32.3,
          68.63333333333333,
          54.17058823529411,
          35.56,
          50.87500000000001,
          68.4,
          53.65217391304347,
          45.34285714285715,
          62.25,
          28,
          28.4,
          31.7,
          34.386486486486504,
          44.33923076923078
         ],
         "xaxis": "x",
         "y": [
          82.47500000000001,
          27.15,
          72.26666666666667,
          38.025,
          47.73333333333333,
          19.3,
          24.2,
          37.733333333333334,
          52.111111111111114,
          82.03333333333333,
          21.666666666666668,
          43.949999999999996,
          94.3,
          66.6,
          84.2,
          97.05,
          34.650000000000006,
          33.2,
          71.05000000000001,
          93.725,
          35.625,
          27.2,
          73.97777777777777,
          40.76785714285715,
          77.40800000000002,
          63.671428571428564,
          21,
          61.993750000000006,
          24.37142857142857,
          51.4,
          71.66,
          31.6,
          42,
          41.800000000000004,
          65.85714285714286,
          55.38500000000001,
          42.6,
          67.23999999999998,
          56.9,
          14.3,
          12.7,
          49.63333333333333,
          33.949999999999996,
          21.028571428571432,
          60.10833333333334,
          86.8,
          64.89999999999999,
          39.5,
          48.625,
          78.45,
          45.7,
          91.4,
          63.333333333333336,
          26.96666666666667,
          39.35,
          62.65714285714286,
          90.76000000000002,
          17.9375,
          45,
          26.2,
          76.46734693877549,
          35.66753246753247,
          75.50833333333334,
          60.41428571428571,
          22.7,
          60.243750000000006,
          31.53333333333333,
          53,
          50.3,
          70.28,
          42.4,
          44.9,
          64.775,
          53.3909090909091,
          44.4,
          67.14000000000001,
          59.9,
          17.2,
          16.7,
          53.099999999999994,
          36.971428571428575,
          25.84545454545454,
          33.2,
          60.93846153846154,
          84.18333333333332,
          63.43333333333334,
          40.75,
          45.333333333333336,
          73.625,
          34.55,
          71,
          91.4,
          61.05,
          30.26666666666667,
          40.35714285714285,
          60.642857142857146,
          89.06,
          23.628571428571433,
          23.8,
          34.575,
          76.35652173913041,
          40.039473684210535,
          77.75600000000003,
          59.01666666666667,
          21.95,
          62.775,
          31.35714285714286,
          55.7,
          53.2,
          71.56,
          43.7,
          47.300000000000004,
          64.63333333333334,
          53.88636363636365,
          47.1,
          67.03999999999999,
          59.9,
          20.733333333333334,
          20.7,
          56.3,
          39.89333333333333,
          27.788888888888888,
          63.600000000000016,
          85.22,
          58.9,
          42.8,
          45.4,
          73.2,
          55.7,
          74.3,
          92.65,
          64.03333333333335,
          33.93333333333333,
          40.48888888888889,
          63.699999999999996,
          90.17142857142858,
          25.162499999999998,
          24.4,
          43.625,
          77.09574468085107,
          42.81125,
          78.92399999999999,
          62.15714285714286,
          23,
          66.19375000000002,
          48.7,
          33.714285714285715,
          54.6,
          53.9,
          70.14,
          50.699999999999996,
          67.75555555555555,
          54.11600000000001,
          47,
          69.88000000000001,
          59.1,
          20.875,
          19.7,
          56.95,
          42.670588235294126,
          31.940000000000005,
          73.3,
          45.1,
          65.54615384615386,
          84.3,
          60,
          41.6,
          48.25,
          77.25,
          52.099999999999994,
          93.7,
          63.6,
          35.4,
          49.349999999999994,
          61.35,
          90.77142857142857,
          26.766666666666666,
          22.5,
          44.9,
          79.10476190476192,
          45.029761904761905,
          28.1,
          77.9891891891892,
          48.2,
          68.64285714285714,
          21.2,
          66.14782608695653,
          43.85,
          23.446153846153848,
          46.85,
          74.7,
          36.442857142857136,
          79.41666666666667,
          32.35,
          42,
          53.599999999999994,
          61.14545454545455,
          53.267647058823535,
          36.93333333333333,
          83.24,
          53,
          61,
          14.419999999999998,
          37.2,
          12.57142857142857,
          50.9,
          37.60937499999999,
          22.76470588235294,
          57.95,
          45.5,
          31.5,
          40.8,
          99.8,
          98.4,
          38.1,
          47.75,
          42.7,
          70.39999999999999,
          89.04285714285716,
          26.1,
          65.33333333333333,
          71.5,
          31.3,
          26.016666666666666,
          45.12857142857143,
          99.9,
          78.98750000000001,
          34.53333333333333,
          29.941666666666666,
          88.75,
          30.5,
          95.4,
          38.75,
          34.5,
          55.28333333333334,
          28.39411764705882,
          40.908,
          62.050000000000004,
          93.6,
          23.286956521739135,
          32.67142857142857,
          27.009999999999998,
          58,
          38.3,
          95.3,
          78.22432432432433,
          42.436153846153864
         ],
         "yaxis": "y"
        }
       ],
       "layout": {
        "coloraxis": {
         "colorbar": {
          "title": {
           "text": "year"
          }
         },
         "colorscale": [
          [
           0,
           "#0d0887"
          ],
          [
           0.1111111111111111,
           "#46039f"
          ],
          [
           0.2222222222222222,
           "#7201a8"
          ],
          [
           0.3333333333333333,
           "#9c179e"
          ],
          [
           0.4444444444444444,
           "#bd3786"
          ],
          [
           0.5555555555555556,
           "#d8576b"
          ],
          [
           0.6666666666666666,
           "#ed7953"
          ],
          [
           0.7777777777777778,
           "#fb9f3a"
          ],
          [
           0.8888888888888888,
           "#fdca26"
          ],
          [
           1,
           "#f0f921"
          ]
         ]
        },
        "height": 600,
        "legend": {
         "tracegroupgap": 0
        },
        "margin": {
         "t": 60
        },
        "template": {
         "data": {
          "bar": [
           {
            "error_x": {
             "color": "#2a3f5f"
            },
            "error_y": {
             "color": "#2a3f5f"
            },
            "marker": {
             "line": {
              "color": "#E5ECF6",
              "width": 0.5
             }
            },
            "type": "bar"
           }
          ],
          "barpolar": [
           {
            "marker": {
             "line": {
              "color": "#E5ECF6",
              "width": 0.5
             }
            },
            "type": "barpolar"
           }
          ],
          "carpet": [
           {
            "aaxis": {
             "endlinecolor": "#2a3f5f",
             "gridcolor": "white",
             "linecolor": "white",
             "minorgridcolor": "white",
             "startlinecolor": "#2a3f5f"
            },
            "baxis": {
             "endlinecolor": "#2a3f5f",
             "gridcolor": "white",
             "linecolor": "white",
             "minorgridcolor": "white",
             "startlinecolor": "#2a3f5f"
            },
            "type": "carpet"
           }
          ],
          "choropleth": [
           {
            "colorbar": {
             "outlinewidth": 0,
             "ticks": ""
            },
            "type": "choropleth"
           }
          ],
          "contour": [
           {
            "colorbar": {
             "outlinewidth": 0,
             "ticks": ""
            },
            "colorscale": [
             [
              0,
              "#0d0887"
             ],
             [
              0.1111111111111111,
              "#46039f"
             ],
             [
              0.2222222222222222,
              "#7201a8"
             ],
             [
              0.3333333333333333,
              "#9c179e"
             ],
             [
              0.4444444444444444,
              "#bd3786"
             ],
             [
              0.5555555555555556,
              "#d8576b"
             ],
             [
              0.6666666666666666,
              "#ed7953"
             ],
             [
              0.7777777777777778,
              "#fb9f3a"
             ],
             [
              0.8888888888888888,
              "#fdca26"
             ],
             [
              1,
              "#f0f921"
             ]
            ],
            "type": "contour"
           }
          ],
          "contourcarpet": [
           {
            "colorbar": {
             "outlinewidth": 0,
             "ticks": ""
            },
            "type": "contourcarpet"
           }
          ],
          "heatmap": [
           {
            "colorbar": {
             "outlinewidth": 0,
             "ticks": ""
            },
            "colorscale": [
             [
              0,
              "#0d0887"
             ],
             [
              0.1111111111111111,
              "#46039f"
             ],
             [
              0.2222222222222222,
              "#7201a8"
             ],
             [
              0.3333333333333333,
              "#9c179e"
             ],
             [
              0.4444444444444444,
              "#bd3786"
             ],
             [
              0.5555555555555556,
              "#d8576b"
             ],
             [
              0.6666666666666666,
              "#ed7953"
             ],
             [
              0.7777777777777778,
              "#fb9f3a"
             ],
             [
              0.8888888888888888,
              "#fdca26"
             ],
             [
              1,
              "#f0f921"
             ]
            ],
            "type": "heatmap"
           }
          ],
          "heatmapgl": [
           {
            "colorbar": {
             "outlinewidth": 0,
             "ticks": ""
            },
            "colorscale": [
             [
              0,
              "#0d0887"
             ],
             [
              0.1111111111111111,
              "#46039f"
             ],
             [
              0.2222222222222222,
              "#7201a8"
             ],
             [
              0.3333333333333333,
              "#9c179e"
             ],
             [
              0.4444444444444444,
              "#bd3786"
             ],
             [
              0.5555555555555556,
              "#d8576b"
             ],
             [
              0.6666666666666666,
              "#ed7953"
             ],
             [
              0.7777777777777778,
              "#fb9f3a"
             ],
             [
              0.8888888888888888,
              "#fdca26"
             ],
             [
              1,
              "#f0f921"
             ]
            ],
            "type": "heatmapgl"
           }
          ],
          "histogram": [
           {
            "marker": {
             "colorbar": {
              "outlinewidth": 0,
              "ticks": ""
             }
            },
            "type": "histogram"
           }
          ],
          "histogram2d": [
           {
            "colorbar": {
             "outlinewidth": 0,
             "ticks": ""
            },
            "colorscale": [
             [
              0,
              "#0d0887"
             ],
             [
              0.1111111111111111,
              "#46039f"
             ],
             [
              0.2222222222222222,
              "#7201a8"
             ],
             [
              0.3333333333333333,
              "#9c179e"
             ],
             [
              0.4444444444444444,
              "#bd3786"
             ],
             [
              0.5555555555555556,
              "#d8576b"
             ],
             [
              0.6666666666666666,
              "#ed7953"
             ],
             [
              0.7777777777777778,
              "#fb9f3a"
             ],
             [
              0.8888888888888888,
              "#fdca26"
             ],
             [
              1,
              "#f0f921"
             ]
            ],
            "type": "histogram2d"
           }
          ],
          "histogram2dcontour": [
           {
            "colorbar": {
             "outlinewidth": 0,
             "ticks": ""
            },
            "colorscale": [
             [
              0,
              "#0d0887"
             ],
             [
              0.1111111111111111,
              "#46039f"
             ],
             [
              0.2222222222222222,
              "#7201a8"
             ],
             [
              0.3333333333333333,
              "#9c179e"
             ],
             [
              0.4444444444444444,
              "#bd3786"
             ],
             [
              0.5555555555555556,
              "#d8576b"
             ],
             [
              0.6666666666666666,
              "#ed7953"
             ],
             [
              0.7777777777777778,
              "#fb9f3a"
             ],
             [
              0.8888888888888888,
              "#fdca26"
             ],
             [
              1,
              "#f0f921"
             ]
            ],
            "type": "histogram2dcontour"
           }
          ],
          "mesh3d": [
           {
            "colorbar": {
             "outlinewidth": 0,
             "ticks": ""
            },
            "type": "mesh3d"
           }
          ],
          "parcoords": [
           {
            "line": {
             "colorbar": {
              "outlinewidth": 0,
              "ticks": ""
             }
            },
            "type": "parcoords"
           }
          ],
          "scatter": [
           {
            "marker": {
             "colorbar": {
              "outlinewidth": 0,
              "ticks": ""
             }
            },
            "type": "scatter"
           }
          ],
          "scatter3d": [
           {
            "line": {
             "colorbar": {
              "outlinewidth": 0,
              "ticks": ""
             }
            },
            "marker": {
             "colorbar": {
              "outlinewidth": 0,
              "ticks": ""
             }
            },
            "type": "scatter3d"
           }
          ],
          "scattercarpet": [
           {
            "marker": {
             "colorbar": {
              "outlinewidth": 0,
              "ticks": ""
             }
            },
            "type": "scattercarpet"
           }
          ],
          "scattergeo": [
           {
            "marker": {
             "colorbar": {
              "outlinewidth": 0,
              "ticks": ""
             }
            },
            "type": "scattergeo"
           }
          ],
          "scattergl": [
           {
            "marker": {
             "colorbar": {
              "outlinewidth": 0,
              "ticks": ""
             }
            },
            "type": "scattergl"
           }
          ],
          "scattermapbox": [
           {
            "marker": {
             "colorbar": {
              "outlinewidth": 0,
              "ticks": ""
             }
            },
            "type": "scattermapbox"
           }
          ],
          "scatterpolar": [
           {
            "marker": {
             "colorbar": {
              "outlinewidth": 0,
              "ticks": ""
             }
            },
            "type": "scatterpolar"
           }
          ],
          "scatterpolargl": [
           {
            "marker": {
             "colorbar": {
              "outlinewidth": 0,
              "ticks": ""
             }
            },
            "type": "scatterpolargl"
           }
          ],
          "scatterternary": [
           {
            "marker": {
             "colorbar": {
              "outlinewidth": 0,
              "ticks": ""
             }
            },
            "type": "scatterternary"
           }
          ],
          "surface": [
           {
            "colorbar": {
             "outlinewidth": 0,
             "ticks": ""
            },
            "colorscale": [
             [
              0,
              "#0d0887"
             ],
             [
              0.1111111111111111,
              "#46039f"
             ],
             [
              0.2222222222222222,
              "#7201a8"
             ],
             [
              0.3333333333333333,
              "#9c179e"
             ],
             [
              0.4444444444444444,
              "#bd3786"
             ],
             [
              0.5555555555555556,
              "#d8576b"
             ],
             [
              0.6666666666666666,
              "#ed7953"
             ],
             [
              0.7777777777777778,
              "#fb9f3a"
             ],
             [
              0.8888888888888888,
              "#fdca26"
             ],
             [
              1,
              "#f0f921"
             ]
            ],
            "type": "surface"
           }
          ],
          "table": [
           {
            "cells": {
             "fill": {
              "color": "#EBF0F8"
             },
             "line": {
              "color": "white"
             }
            },
            "header": {
             "fill": {
              "color": "#C8D4E3"
             },
             "line": {
              "color": "white"
             }
            },
            "type": "table"
           }
          ]
         },
         "layout": {
          "annotationdefaults": {
           "arrowcolor": "#2a3f5f",
           "arrowhead": 0,
           "arrowwidth": 1
          },
          "colorscale": {
           "diverging": [
            [
             0,
             "#8e0152"
            ],
            [
             0.1,
             "#c51b7d"
            ],
            [
             0.2,
             "#de77ae"
            ],
            [
             0.3,
             "#f1b6da"
            ],
            [
             0.4,
             "#fde0ef"
            ],
            [
             0.5,
             "#f7f7f7"
            ],
            [
             0.6,
             "#e6f5d0"
            ],
            [
             0.7,
             "#b8e186"
            ],
            [
             0.8,
             "#7fbc41"
            ],
            [
             0.9,
             "#4d9221"
            ],
            [
             1,
             "#276419"
            ]
           ],
           "sequential": [
            [
             0,
             "#0d0887"
            ],
            [
             0.1111111111111111,
             "#46039f"
            ],
            [
             0.2222222222222222,
             "#7201a8"
            ],
            [
             0.3333333333333333,
             "#9c179e"
            ],
            [
             0.4444444444444444,
             "#bd3786"
            ],
            [
             0.5555555555555556,
             "#d8576b"
            ],
            [
             0.6666666666666666,
             "#ed7953"
            ],
            [
             0.7777777777777778,
             "#fb9f3a"
            ],
            [
             0.8888888888888888,
             "#fdca26"
            ],
            [
             1,
             "#f0f921"
            ]
           ],
           "sequentialminus": [
            [
             0,
             "#0d0887"
            ],
            [
             0.1111111111111111,
             "#46039f"
            ],
            [
             0.2222222222222222,
             "#7201a8"
            ],
            [
             0.3333333333333333,
             "#9c179e"
            ],
            [
             0.4444444444444444,
             "#bd3786"
            ],
            [
             0.5555555555555556,
             "#d8576b"
            ],
            [
             0.6666666666666666,
             "#ed7953"
            ],
            [
             0.7777777777777778,
             "#fb9f3a"
            ],
            [
             0.8888888888888888,
             "#fdca26"
            ],
            [
             1,
             "#f0f921"
            ]
           ]
          },
          "colorway": [
           "#636efa",
           "#EF553B",
           "#00cc96",
           "#ab63fa",
           "#FFA15A",
           "#19d3f3",
           "#FF6692",
           "#B6E880",
           "#FF97FF",
           "#FECB52"
          ],
          "font": {
           "color": "#2a3f5f"
          },
          "geo": {
           "bgcolor": "white",
           "lakecolor": "white",
           "landcolor": "#E5ECF6",
           "showlakes": true,
           "showland": true,
           "subunitcolor": "white"
          },
          "hoverlabel": {
           "align": "left"
          },
          "hovermode": "closest",
          "mapbox": {
           "style": "light"
          },
          "paper_bgcolor": "white",
          "plot_bgcolor": "#E5ECF6",
          "polar": {
           "angularaxis": {
            "gridcolor": "white",
            "linecolor": "white",
            "ticks": ""
           },
           "bgcolor": "#E5ECF6",
           "radialaxis": {
            "gridcolor": "white",
            "linecolor": "white",
            "ticks": ""
           }
          },
          "scene": {
           "xaxis": {
            "backgroundcolor": "#E5ECF6",
            "gridcolor": "white",
            "gridwidth": 2,
            "linecolor": "white",
            "showbackground": true,
            "ticks": "",
            "zerolinecolor": "white"
           },
           "yaxis": {
            "backgroundcolor": "#E5ECF6",
            "gridcolor": "white",
            "gridwidth": 2,
            "linecolor": "white",
            "showbackground": true,
            "ticks": "",
            "zerolinecolor": "white"
           },
           "zaxis": {
            "backgroundcolor": "#E5ECF6",
            "gridcolor": "white",
            "gridwidth": 2,
            "linecolor": "white",
            "showbackground": true,
            "ticks": "",
            "zerolinecolor": "white"
           }
          },
          "shapedefaults": {
           "line": {
            "color": "#2a3f5f"
           }
          },
          "ternary": {
           "aaxis": {
            "gridcolor": "white",
            "linecolor": "white",
            "ticks": ""
           },
           "baxis": {
            "gridcolor": "white",
            "linecolor": "white",
            "ticks": ""
           },
           "bgcolor": "#E5ECF6",
           "caxis": {
            "gridcolor": "white",
            "linecolor": "white",
            "ticks": ""
           }
          },
          "title": {
           "x": 0.05
          },
          "xaxis": {
           "automargin": true,
           "gridcolor": "white",
           "linecolor": "white",
           "ticks": "",
           "zerolinecolor": "white",
           "zerolinewidth": 2
          },
          "yaxis": {
           "automargin": true,
           "gridcolor": "white",
           "linecolor": "white",
           "ticks": "",
           "zerolinecolor": "white",
           "zerolinewidth": 2
          }
         }
        },
        "xaxis": {
         "anchor": "y",
         "domain": [
          0,
          0.98
         ],
         "title": {
          "text": "income"
         }
        },
        "yaxis": {
         "anchor": "x",
         "domain": [
          0,
          1
         ],
         "title": {
          "text": "international"
         }
        }
       }
      },
      "text/html": [
       "<div>\n",
       "        \n",
       "        \n",
       "            <div id=\"83c93f1a-acf2-4629-a06d-10df408b2a24\" class=\"plotly-graph-div\" style=\"height:600px; width:100%;\"></div>\n",
       "            <script type=\"text/javascript\">\n",
       "                require([\"plotly\"], function(Plotly) {\n",
       "                    window.PLOTLYENV=window.PLOTLYENV || {};\n",
       "                    \n",
       "                if (document.getElementById(\"83c93f1a-acf2-4629-a06d-10df408b2a24\")) {\n",
       "                    Plotly.newPlot(\n",
       "                        '83c93f1a-acf2-4629-a06d-10df408b2a24',\n",
       "                        [{\"hoverlabel\": {\"namelength\": 0}, \"hovertemplate\": \"income=%{x}<br>international=%{y}<br>year=%{marker.color}\", \"legendgroup\": \"\", \"marker\": {\"color\": [2011, 2011, 2011, 2011, 2011, 2011, 2011, 2011, 2011, 2011, 2011, 2011, 2011, 2011, 2011, 2011, 2011, 2011, 2011, 2011, 2011, 2011, 2011, 2011, 2012, 2012, 2012, 2012, 2012, 2012, 2012, 2012, 2012, 2012, 2012, 2012, 2012, 2012, 2012, 2012, 2012, 2012, 2012, 2012, 2012, 2012, 2012, 2012, 2012, 2012, 2012, 2012, 2012, 2012, 2012, 2012, 2012, 2012, 2012, 2012, 2012, 2012, 2013, 2013, 2013, 2013, 2013, 2013, 2013, 2013, 2013, 2013, 2013, 2013, 2013, 2013, 2013, 2013, 2013, 2013, 2013, 2013, 2013, 2013, 2013, 2013, 2013, 2013, 2013, 2013, 2013, 2013, 2013, 2013, 2013, 2013, 2013, 2013, 2013, 2013, 2013, 2013, 2014, 2014, 2014, 2014, 2014, 2014, 2014, 2014, 2014, 2014, 2014, 2014, 2014, 2014, 2014, 2014, 2014, 2014, 2014, 2014, 2014, 2014, 2014, 2014, 2014, 2014, 2014, 2014, 2014, 2014, 2014, 2014, 2014, 2014, 2014, 2014, 2014, 2014, 2014, 2015, 2015, 2015, 2015, 2015, 2015, 2015, 2015, 2015, 2015, 2015, 2015, 2015, 2015, 2015, 2015, 2015, 2015, 2015, 2015, 2015, 2015, 2015, 2015, 2015, 2015, 2015, 2015, 2015, 2015, 2015, 2015, 2015, 2015, 2015, 2015, 2015, 2015, 2015, 2015, 2016, 2016, 2016, 2016, 2016, 2016, 2016, 2016, 2016, 2016, 2016, 2016, 2016, 2016, 2016, 2016, 2016, 2016, 2016, 2016, 2016, 2016, 2016, 2016, 2016, 2016, 2016, 2016, 2016, 2016, 2016, 2016, 2016, 2016, 2016, 2016, 2016, 2016, 2016, 2016, 2016, 2016, 2016, 2016, 2016, 2016, 2016, 2016, 2016, 2016, 2016, 2016, 2016, 2016, 2016, 2016, 2016, 2016, 2016, 2016, 2016, 2016, 2016, 2016, 2016, 2016], \"coloraxis\": \"coloraxis\", \"symbol\": \"circle\"}, \"mode\": \"markers\", \"name\": \"\", \"showlegend\": false, \"type\": \"scatter\", \"x\": [51.387499999999996, 97.4, 41.666666666666664, 63.175, 61.03333333333333, 36.0, 30.2, 27.73333333333333, 43.43333333333334, 46.800000000000004, 72.06666666666666, 69.8375, 61.1, 41.5, 31.6, 40.25, 100.0, 35.0, 69.75, 40.075, 55.525000000000006, 43.9, 41.68518518518518, 58.00714285714286, 47.73999999999999, 66.92857142857143, 38.25, 50.931250000000006, 70.3, 24.5, 60.8, 34.5, 26.3, 41.67999999999999, 34.31428571428571, 43.095, 33.2, 49.739999999999995, 75.4, 24.2, 93.1, 29.03333333333333, 41.971428571428575, 46.37142857142857, 63.699999999999996, 36.26, 41.53333333333334, 25.8, 34.025, 31.575000000000003, 53.0, 52.55, 99.03333333333335, 99.8, 36.599999999999994, 55.15714285714286, 41.94, 55.949999999999996, 29.0, 59.0, 36.97551020408162, 46.82337662337662, 50.45416666666667, 68.34285714285714, 42.45, 52.75625, 66.96666666666665, 28.4, 28.1, 64.52000000000001, 30.1, 52.4, 47.112500000000004, 46.71363636363637, 34.1, 46.480000000000004, 74.4, 65.16666666666667, 93.0, 37.2, 42.05, 49.9, 36.0, 73.73846153846155, 50.13333333333333, 38.46666666666667, 28.7, 36.1, 35.875, 64.85, 40.2, 88.45, 77.69999999999999, 99.56666666666666, 35.07142857142858, 56.24285714285714, 45.339999999999996, 66.05714285714285, 60.2, 56.225, 40.81521739130436, 47.311842105263146, 50.884000000000015, 76.28333333333333, 44.55, 51.6, 67.74285714285715, 30.6, 29.0, 63.980000000000004, 30.3, 37.275, 45.55555555555555, 49.29090909090908, 35.0, 45.9, 78.5, 45.199999999999996, 98.3, 34.75, 42.226666666666674, 59.699999999999996, 74.38461538461537, 51.42, 40.03333333333334, 28.3, 37.05, 39.875, 72.2, 39.7, 82.15, 93.5, 99.53333333333335, 40.73333333333333, 58.083333333333336, 54.24285714285715, 65.95, 62.2, 53.05, 38.72765957446809, 47.472500000000004, 49.772000000000006, 71.02857142857142, 42.3, 49.79375, 28.1, 70.64285714285715, 36.5, 29.4, 63.85999999999999, 46.20000000000001, 45.13333333333334, 53.04, 36.0, 44.059999999999995, 64.0, 46.225, 85.15, 34.0, 41.42941176470589, 57.56, 33.6, 28.6, 74.96153846153847, 51.06, 39.333333333333336, 28.5, 39.2, 37.0, 55.95, 76.7, 92.5, 77.78, 42.449999999999996, 57.43333333333334, 61.942857142857136, 70.06666666666666, 56.5, 49.5, 38.25714285714285, 48.472619047619034, 28.6, 48.9945945945946, 28.0, 73.52857142857144, 46.054545454545455, 46.74347826086956, 37.875, 64.4076923076923, 35.8, 30.0, 30.22857142857143, 45.050000000000004, 30.0, 38.15, 45.62222222222222, 34.07727272727273, 69.3264705882353, 42.68333333333334, 43.040000000000006, 34.53333333333334, 28.0, 41.98000000000001, 40.0, 62.65714285714285, 29.72, 39.971875, 47.52647058823529, 30.1, 28.0, 28.3, 41.0, 38.1, 34.9, 31.28, 69.75, 29.2, 73.02307692307693, 43.17142857142857, 29.2, 41.6, 37.6, 31.3, 32.916666666666664, 40.1, 55.2, 37.6625, 28.766666666666666, 49.24999999999999, 77.15, 45.6, 74.85, 30.6, 32.3, 68.63333333333333, 54.17058823529411, 35.56, 50.87500000000001, 68.4, 53.65217391304347, 45.34285714285715, 62.25, 28.0, 28.4, 31.7, 34.386486486486504, 44.33923076923078], \"xaxis\": \"x\", \"y\": [82.47500000000001, 27.15, 72.26666666666667, 38.025, 47.73333333333333, 19.3, 24.2, 37.733333333333334, 52.111111111111114, 82.03333333333333, 21.666666666666668, 43.949999999999996, 94.3, 66.6, 84.2, 97.05, 34.650000000000006, 33.2, 71.05000000000001, 93.725, 35.625, 27.2, 73.97777777777777, 40.76785714285715, 77.40800000000002, 63.671428571428564, 21.0, 61.993750000000006, 24.37142857142857, 51.4, 71.66, 31.6, 42.0, 41.800000000000004, 65.85714285714286, 55.38500000000001, 42.6, 67.23999999999998, 56.9, 14.3, 12.7, 49.63333333333333, 33.949999999999996, 21.028571428571432, 60.10833333333334, 86.8, 64.89999999999999, 39.5, 48.625, 78.45, 45.7, 91.4, 63.333333333333336, 26.96666666666667, 39.35, 62.65714285714286, 90.76000000000002, 17.9375, 45.0, 26.2, 76.46734693877549, 35.66753246753247, 75.50833333333334, 60.41428571428571, 22.7, 60.243750000000006, 31.53333333333333, 53.0, 50.3, 70.28, 42.4, 44.9, 64.775, 53.3909090909091, 44.4, 67.14000000000001, 59.9, 17.2, 16.7, 53.099999999999994, 36.971428571428575, 25.84545454545454, 33.2, 60.93846153846154, 84.18333333333332, 63.43333333333334, 40.75, 45.333333333333336, 73.625, 34.55, 71.0, 91.4, 61.05, 30.26666666666667, 40.35714285714285, 60.642857142857146, 89.06, 23.628571428571433, 23.8, 34.575, 76.35652173913041, 40.039473684210535, 77.75600000000003, 59.01666666666667, 21.95, 62.775, 31.35714285714286, 55.7, 53.2, 71.56, 43.7, 47.300000000000004, 64.63333333333334, 53.88636363636365, 47.1, 67.03999999999999, 59.9, 20.733333333333334, 20.7, 56.3, 39.89333333333333, 27.788888888888888, 63.600000000000016, 85.22, 58.9, 42.8, 45.4, 73.2, 55.7, 74.3, 92.65, 64.03333333333335, 33.93333333333333, 40.48888888888889, 63.699999999999996, 90.17142857142858, 25.162499999999998, 24.4, 43.625, 77.09574468085107, 42.81125, 78.92399999999999, 62.15714285714286, 23.0, 66.19375000000002, 48.7, 33.714285714285715, 54.6, 53.9, 70.14, 50.699999999999996, 67.75555555555555, 54.11600000000001, 47.0, 69.88000000000001, 59.1, 20.875, 19.7, 56.95, 42.670588235294126, 31.940000000000005, 73.3, 45.1, 65.54615384615386, 84.3, 60.0, 41.6, 48.25, 77.25, 52.099999999999994, 93.7, 63.6, 35.4, 49.349999999999994, 61.35, 90.77142857142857, 26.766666666666666, 22.5, 44.9, 79.10476190476192, 45.029761904761905, 28.1, 77.9891891891892, 48.2, 68.64285714285714, 21.2, 66.14782608695653, 43.85, 23.446153846153848, 46.85, 74.7, 36.442857142857136, 79.41666666666667, 32.35, 42.0, 53.599999999999994, 61.14545454545455, 53.267647058823535, 36.93333333333333, 83.24, 53.0, 61.0, 14.419999999999998, 37.2, 12.57142857142857, 50.9, 37.60937499999999, 22.76470588235294, 57.95, 45.5, 31.5, 40.8, 99.8, 98.4, 38.1, 47.75, 42.7, 70.39999999999999, 89.04285714285716, 26.1, 65.33333333333333, 71.5, 31.3, 26.016666666666666, 45.12857142857143, 99.9, 78.98750000000001, 34.53333333333333, 29.941666666666666, 88.75, 30.5, 95.4, 38.75, 34.5, 55.28333333333334, 28.39411764705882, 40.908, 62.050000000000004, 93.6, 23.286956521739135, 32.67142857142857, 27.009999999999998, 58.0, 38.3, 95.3, 78.22432432432433, 42.436153846153864], \"yaxis\": \"y\"}],\n",
       "                        {\"coloraxis\": {\"colorbar\": {\"title\": {\"text\": \"year\"}}, \"colorscale\": [[0.0, \"#0d0887\"], [0.1111111111111111, \"#46039f\"], [0.2222222222222222, \"#7201a8\"], [0.3333333333333333, \"#9c179e\"], [0.4444444444444444, \"#bd3786\"], [0.5555555555555556, \"#d8576b\"], [0.6666666666666666, \"#ed7953\"], [0.7777777777777778, \"#fb9f3a\"], [0.8888888888888888, \"#fdca26\"], [1.0, \"#f0f921\"]]}, \"height\": 600, \"legend\": {\"tracegroupgap\": 0}, \"margin\": {\"t\": 60}, \"template\": {\"data\": {\"bar\": [{\"error_x\": {\"color\": \"#2a3f5f\"}, \"error_y\": {\"color\": \"#2a3f5f\"}, \"marker\": {\"line\": {\"color\": \"#E5ECF6\", \"width\": 0.5}}, \"type\": \"bar\"}], \"barpolar\": [{\"marker\": {\"line\": {\"color\": \"#E5ECF6\", \"width\": 0.5}}, \"type\": \"barpolar\"}], \"carpet\": [{\"aaxis\": {\"endlinecolor\": \"#2a3f5f\", \"gridcolor\": \"white\", \"linecolor\": \"white\", \"minorgridcolor\": \"white\", \"startlinecolor\": \"#2a3f5f\"}, \"baxis\": {\"endlinecolor\": \"#2a3f5f\", \"gridcolor\": \"white\", \"linecolor\": \"white\", \"minorgridcolor\": \"white\", \"startlinecolor\": \"#2a3f5f\"}, \"type\": \"carpet\"}], \"choropleth\": [{\"colorbar\": {\"outlinewidth\": 0, \"ticks\": \"\"}, \"type\": \"choropleth\"}], \"contour\": [{\"colorbar\": {\"outlinewidth\": 0, \"ticks\": \"\"}, \"colorscale\": [[0.0, \"#0d0887\"], [0.1111111111111111, \"#46039f\"], [0.2222222222222222, \"#7201a8\"], [0.3333333333333333, \"#9c179e\"], [0.4444444444444444, \"#bd3786\"], [0.5555555555555556, \"#d8576b\"], [0.6666666666666666, \"#ed7953\"], [0.7777777777777778, \"#fb9f3a\"], [0.8888888888888888, \"#fdca26\"], [1.0, \"#f0f921\"]], \"type\": \"contour\"}], \"contourcarpet\": [{\"colorbar\": {\"outlinewidth\": 0, \"ticks\": \"\"}, \"type\": \"contourcarpet\"}], \"heatmap\": [{\"colorbar\": {\"outlinewidth\": 0, \"ticks\": \"\"}, \"colorscale\": [[0.0, \"#0d0887\"], [0.1111111111111111, \"#46039f\"], [0.2222222222222222, \"#7201a8\"], [0.3333333333333333, \"#9c179e\"], [0.4444444444444444, \"#bd3786\"], [0.5555555555555556, \"#d8576b\"], [0.6666666666666666, \"#ed7953\"], [0.7777777777777778, \"#fb9f3a\"], [0.8888888888888888, \"#fdca26\"], [1.0, \"#f0f921\"]], \"type\": \"heatmap\"}], \"heatmapgl\": [{\"colorbar\": {\"outlinewidth\": 0, \"ticks\": \"\"}, \"colorscale\": [[0.0, \"#0d0887\"], [0.1111111111111111, \"#46039f\"], [0.2222222222222222, \"#7201a8\"], [0.3333333333333333, \"#9c179e\"], [0.4444444444444444, \"#bd3786\"], [0.5555555555555556, \"#d8576b\"], [0.6666666666666666, \"#ed7953\"], [0.7777777777777778, \"#fb9f3a\"], [0.8888888888888888, \"#fdca26\"], [1.0, \"#f0f921\"]], \"type\": \"heatmapgl\"}], \"histogram\": [{\"marker\": {\"colorbar\": {\"outlinewidth\": 0, \"ticks\": \"\"}}, \"type\": \"histogram\"}], \"histogram2d\": [{\"colorbar\": {\"outlinewidth\": 0, \"ticks\": \"\"}, \"colorscale\": [[0.0, \"#0d0887\"], [0.1111111111111111, \"#46039f\"], [0.2222222222222222, \"#7201a8\"], [0.3333333333333333, \"#9c179e\"], [0.4444444444444444, \"#bd3786\"], [0.5555555555555556, \"#d8576b\"], [0.6666666666666666, \"#ed7953\"], [0.7777777777777778, \"#fb9f3a\"], [0.8888888888888888, \"#fdca26\"], [1.0, \"#f0f921\"]], \"type\": \"histogram2d\"}], \"histogram2dcontour\": [{\"colorbar\": {\"outlinewidth\": 0, \"ticks\": \"\"}, \"colorscale\": [[0.0, \"#0d0887\"], [0.1111111111111111, \"#46039f\"], [0.2222222222222222, \"#7201a8\"], [0.3333333333333333, \"#9c179e\"], [0.4444444444444444, \"#bd3786\"], [0.5555555555555556, \"#d8576b\"], [0.6666666666666666, \"#ed7953\"], [0.7777777777777778, \"#fb9f3a\"], [0.8888888888888888, \"#fdca26\"], [1.0, \"#f0f921\"]], \"type\": \"histogram2dcontour\"}], \"mesh3d\": [{\"colorbar\": {\"outlinewidth\": 0, \"ticks\": \"\"}, \"type\": \"mesh3d\"}], \"parcoords\": [{\"line\": {\"colorbar\": {\"outlinewidth\": 0, \"ticks\": \"\"}}, \"type\": \"parcoords\"}], \"scatter\": [{\"marker\": {\"colorbar\": {\"outlinewidth\": 0, \"ticks\": \"\"}}, \"type\": \"scatter\"}], \"scatter3d\": [{\"line\": {\"colorbar\": {\"outlinewidth\": 0, \"ticks\": \"\"}}, \"marker\": {\"colorbar\": {\"outlinewidth\": 0, \"ticks\": \"\"}}, \"type\": \"scatter3d\"}], \"scattercarpet\": [{\"marker\": {\"colorbar\": {\"outlinewidth\": 0, \"ticks\": \"\"}}, \"type\": \"scattercarpet\"}], \"scattergeo\": [{\"marker\": {\"colorbar\": {\"outlinewidth\": 0, \"ticks\": \"\"}}, \"type\": \"scattergeo\"}], \"scattergl\": [{\"marker\": {\"colorbar\": {\"outlinewidth\": 0, \"ticks\": \"\"}}, \"type\": \"scattergl\"}], \"scattermapbox\": [{\"marker\": {\"colorbar\": {\"outlinewidth\": 0, \"ticks\": \"\"}}, \"type\": \"scattermapbox\"}], \"scatterpolar\": [{\"marker\": {\"colorbar\": {\"outlinewidth\": 0, \"ticks\": \"\"}}, \"type\": \"scatterpolar\"}], \"scatterpolargl\": [{\"marker\": {\"colorbar\": {\"outlinewidth\": 0, \"ticks\": \"\"}}, \"type\": \"scatterpolargl\"}], \"scatterternary\": [{\"marker\": {\"colorbar\": {\"outlinewidth\": 0, \"ticks\": \"\"}}, \"type\": \"scatterternary\"}], \"surface\": [{\"colorbar\": {\"outlinewidth\": 0, \"ticks\": \"\"}, \"colorscale\": [[0.0, \"#0d0887\"], [0.1111111111111111, \"#46039f\"], [0.2222222222222222, \"#7201a8\"], [0.3333333333333333, \"#9c179e\"], [0.4444444444444444, \"#bd3786\"], [0.5555555555555556, \"#d8576b\"], [0.6666666666666666, \"#ed7953\"], [0.7777777777777778, \"#fb9f3a\"], [0.8888888888888888, \"#fdca26\"], [1.0, \"#f0f921\"]], \"type\": \"surface\"}], \"table\": [{\"cells\": {\"fill\": {\"color\": \"#EBF0F8\"}, \"line\": {\"color\": \"white\"}}, \"header\": {\"fill\": {\"color\": \"#C8D4E3\"}, \"line\": {\"color\": \"white\"}}, \"type\": \"table\"}]}, \"layout\": {\"annotationdefaults\": {\"arrowcolor\": \"#2a3f5f\", \"arrowhead\": 0, \"arrowwidth\": 1}, \"colorscale\": {\"diverging\": [[0, \"#8e0152\"], [0.1, \"#c51b7d\"], [0.2, \"#de77ae\"], [0.3, \"#f1b6da\"], [0.4, \"#fde0ef\"], [0.5, \"#f7f7f7\"], [0.6, \"#e6f5d0\"], [0.7, \"#b8e186\"], [0.8, \"#7fbc41\"], [0.9, \"#4d9221\"], [1, \"#276419\"]], \"sequential\": [[0.0, \"#0d0887\"], [0.1111111111111111, \"#46039f\"], [0.2222222222222222, \"#7201a8\"], [0.3333333333333333, \"#9c179e\"], [0.4444444444444444, \"#bd3786\"], [0.5555555555555556, \"#d8576b\"], [0.6666666666666666, \"#ed7953\"], [0.7777777777777778, \"#fb9f3a\"], [0.8888888888888888, \"#fdca26\"], [1.0, \"#f0f921\"]], \"sequentialminus\": [[0.0, \"#0d0887\"], [0.1111111111111111, \"#46039f\"], [0.2222222222222222, \"#7201a8\"], [0.3333333333333333, \"#9c179e\"], [0.4444444444444444, \"#bd3786\"], [0.5555555555555556, \"#d8576b\"], [0.6666666666666666, \"#ed7953\"], [0.7777777777777778, \"#fb9f3a\"], [0.8888888888888888, \"#fdca26\"], [1.0, \"#f0f921\"]]}, \"colorway\": [\"#636efa\", \"#EF553B\", \"#00cc96\", \"#ab63fa\", \"#FFA15A\", \"#19d3f3\", \"#FF6692\", \"#B6E880\", \"#FF97FF\", \"#FECB52\"], \"font\": {\"color\": \"#2a3f5f\"}, \"geo\": {\"bgcolor\": \"white\", \"lakecolor\": \"white\", \"landcolor\": \"#E5ECF6\", \"showlakes\": true, \"showland\": true, \"subunitcolor\": \"white\"}, \"hoverlabel\": {\"align\": \"left\"}, \"hovermode\": \"closest\", \"mapbox\": {\"style\": \"light\"}, \"paper_bgcolor\": \"white\", \"plot_bgcolor\": \"#E5ECF6\", \"polar\": {\"angularaxis\": {\"gridcolor\": \"white\", \"linecolor\": \"white\", \"ticks\": \"\"}, \"bgcolor\": \"#E5ECF6\", \"radialaxis\": {\"gridcolor\": \"white\", \"linecolor\": \"white\", \"ticks\": \"\"}}, \"scene\": {\"xaxis\": {\"backgroundcolor\": \"#E5ECF6\", \"gridcolor\": \"white\", \"gridwidth\": 2, \"linecolor\": \"white\", \"showbackground\": true, \"ticks\": \"\", \"zerolinecolor\": \"white\"}, \"yaxis\": {\"backgroundcolor\": \"#E5ECF6\", \"gridcolor\": \"white\", \"gridwidth\": 2, \"linecolor\": \"white\", \"showbackground\": true, \"ticks\": \"\", \"zerolinecolor\": \"white\"}, \"zaxis\": {\"backgroundcolor\": \"#E5ECF6\", \"gridcolor\": \"white\", \"gridwidth\": 2, \"linecolor\": \"white\", \"showbackground\": true, \"ticks\": \"\", \"zerolinecolor\": \"white\"}}, \"shapedefaults\": {\"line\": {\"color\": \"#2a3f5f\"}}, \"ternary\": {\"aaxis\": {\"gridcolor\": \"white\", \"linecolor\": \"white\", \"ticks\": \"\"}, \"baxis\": {\"gridcolor\": \"white\", \"linecolor\": \"white\", \"ticks\": \"\"}, \"bgcolor\": \"#E5ECF6\", \"caxis\": {\"gridcolor\": \"white\", \"linecolor\": \"white\", \"ticks\": \"\"}}, \"title\": {\"x\": 0.05}, \"xaxis\": {\"automargin\": true, \"gridcolor\": \"white\", \"linecolor\": \"white\", \"ticks\": \"\", \"zerolinecolor\": \"white\", \"zerolinewidth\": 2}, \"yaxis\": {\"automargin\": true, \"gridcolor\": \"white\", \"linecolor\": \"white\", \"ticks\": \"\", \"zerolinecolor\": \"white\", \"zerolinewidth\": 2}}}, \"xaxis\": {\"anchor\": \"y\", \"domain\": [0.0, 0.98], \"title\": {\"text\": \"income\"}}, \"yaxis\": {\"anchor\": \"x\", \"domain\": [0.0, 1.0], \"title\": {\"text\": \"international\"}}},\n",
       "                        {\"responsive\": true}\n",
       "                    ).then(function(){\n",
       "                            \n",
       "var gd = document.getElementById('83c93f1a-acf2-4629-a06d-10df408b2a24');\n",
       "var x = new MutationObserver(function (mutations, observer) {{\n",
       "        var display = window.getComputedStyle(gd).display;\n",
       "        if (!display || display === 'none') {{\n",
       "            console.log([gd, 'removed!']);\n",
       "            Plotly.purge(gd);\n",
       "            observer.disconnect();\n",
       "        }}\n",
       "}});\n",
       "\n",
       "// Listen for the removal of the full notebook cells\n",
       "var notebookContainer = gd.closest('#notebook-container');\n",
       "if (notebookContainer) {{\n",
       "    x.observe(notebookContainer, {childList: true});\n",
       "}}\n",
       "\n",
       "// Listen for the clearing of the current output cell\n",
       "var outputEl = gd.closest('.output');\n",
       "if (outputEl) {{\n",
       "    x.observe(outputEl, {childList: true});\n",
       "}}\n",
       "\n",
       "                        })\n",
       "                };\n",
       "                });\n",
       "            </script>\n",
       "        </div>"
      ]
     },
     "metadata": {},
     "output_type": "display_data"
    }
   ],
   "source": [
    "import plotly.express as px\n",
    "#df = px.data.iris()\n",
    "fig = px.scatter(df2, x=\"income\", y=\"international\", color=\"year\")\n",
    "fig.show()"
   ]
  },
  {
   "cell_type": "code",
   "execution_count": 50,
   "metadata": {},
   "outputs": [
    {
     "data": {
      "application/vnd.plotly.v1+json": {
       "config": {
        "linkText": "Export to plot.ly",
        "plotlyServerURL": "https://plot.ly",
        "showLink": false
       },
       "data": [
        {
         "name": "score income",
         "type": "bar",
         "x": [
          2011,
          2011,
          2011,
          2011,
          2011,
          2011,
          2011,
          2011,
          2011,
          2011,
          2011,
          2011,
          2011,
          2011,
          2011,
          2011,
          2011,
          2011,
          2011,
          2011,
          2011,
          2011,
          2011,
          2011,
          2012,
          2012,
          2012,
          2012,
          2012,
          2012,
          2012,
          2012,
          2012,
          2012,
          2012,
          2012,
          2012,
          2012,
          2012,
          2012,
          2012,
          2012,
          2012,
          2012,
          2012,
          2012,
          2012,
          2012,
          2012,
          2012,
          2012,
          2012,
          2012,
          2012,
          2012,
          2012,
          2012,
          2012,
          2012,
          2012,
          2012,
          2012,
          2013,
          2013,
          2013,
          2013,
          2013,
          2013,
          2013,
          2013,
          2013,
          2013,
          2013,
          2013,
          2013,
          2013,
          2013,
          2013,
          2013,
          2013,
          2013,
          2013,
          2013,
          2013,
          2013,
          2013,
          2013,
          2013,
          2013,
          2013,
          2013,
          2013,
          2013,
          2013,
          2013,
          2013,
          2013,
          2013,
          2013,
          2013,
          2013,
          2013,
          2014,
          2014,
          2014,
          2014,
          2014,
          2014,
          2014,
          2014,
          2014,
          2014,
          2014,
          2014,
          2014,
          2014,
          2014,
          2014,
          2014,
          2014,
          2014,
          2014,
          2014,
          2014,
          2014,
          2014,
          2014,
          2014,
          2014,
          2014,
          2014,
          2014,
          2014,
          2014,
          2014,
          2014,
          2014,
          2014,
          2014,
          2014,
          2014,
          2015,
          2015,
          2015,
          2015,
          2015,
          2015,
          2015,
          2015,
          2015,
          2015,
          2015,
          2015,
          2015,
          2015,
          2015,
          2015,
          2015,
          2015,
          2015,
          2015,
          2015,
          2015,
          2015,
          2015,
          2015,
          2015,
          2015,
          2015,
          2015,
          2015,
          2015,
          2015,
          2015,
          2015,
          2015,
          2015,
          2015,
          2015,
          2015,
          2015,
          2016,
          2016,
          2016,
          2016,
          2016,
          2016,
          2016,
          2016,
          2016,
          2016,
          2016,
          2016,
          2016,
          2016,
          2016,
          2016,
          2016,
          2016,
          2016,
          2016,
          2016,
          2016,
          2016,
          2016,
          2016,
          2016,
          2016,
          2016,
          2016,
          2016,
          2016,
          2016,
          2016,
          2016,
          2016,
          2016,
          2016,
          2016,
          2016,
          2016,
          2016,
          2016,
          2016,
          2016,
          2016,
          2016,
          2016,
          2016,
          2016,
          2016,
          2016,
          2016,
          2016,
          2016,
          2016,
          2016,
          2016,
          2016,
          2016,
          2016,
          2016,
          2016,
          2016,
          2016,
          2016,
          2016
         ],
         "y": [
          51.387499999999996,
          97.4,
          41.666666666666664,
          63.175,
          61.03333333333333,
          36,
          30.2,
          27.73333333333333,
          43.43333333333334,
          46.800000000000004,
          72.06666666666666,
          69.8375,
          61.1,
          41.5,
          31.6,
          40.25,
          100,
          35,
          69.75,
          40.075,
          55.525000000000006,
          43.9,
          41.68518518518518,
          58.00714285714286,
          47.73999999999999,
          66.92857142857143,
          38.25,
          50.931250000000006,
          70.3,
          24.5,
          60.8,
          34.5,
          26.3,
          41.67999999999999,
          34.31428571428571,
          43.095,
          33.2,
          49.739999999999995,
          75.4,
          24.2,
          93.1,
          29.03333333333333,
          41.971428571428575,
          46.37142857142857,
          63.699999999999996,
          36.26,
          41.53333333333334,
          25.8,
          34.025,
          31.575000000000003,
          53,
          52.55,
          99.03333333333335,
          99.8,
          36.599999999999994,
          55.15714285714286,
          41.94,
          55.949999999999996,
          29,
          59,
          36.97551020408162,
          46.82337662337662,
          50.45416666666667,
          68.34285714285714,
          42.45,
          52.75625,
          66.96666666666665,
          28.4,
          28.1,
          64.52000000000001,
          30.1,
          52.4,
          47.112500000000004,
          46.71363636363637,
          34.1,
          46.480000000000004,
          74.4,
          65.16666666666667,
          93,
          37.2,
          42.05,
          49.9,
          36,
          73.73846153846155,
          50.13333333333333,
          38.46666666666667,
          28.7,
          36.1,
          35.875,
          64.85,
          40.2,
          88.45,
          77.69999999999999,
          99.56666666666666,
          35.07142857142858,
          56.24285714285714,
          45.339999999999996,
          66.05714285714285,
          60.2,
          56.225,
          40.81521739130436,
          47.311842105263146,
          50.884000000000015,
          76.28333333333333,
          44.55,
          51.6,
          67.74285714285715,
          30.6,
          29,
          63.980000000000004,
          30.3,
          37.275,
          45.55555555555555,
          49.29090909090908,
          35,
          45.9,
          78.5,
          45.199999999999996,
          98.3,
          34.75,
          42.226666666666674,
          59.699999999999996,
          74.38461538461537,
          51.42,
          40.03333333333334,
          28.3,
          37.05,
          39.875,
          72.2,
          39.7,
          82.15,
          93.5,
          99.53333333333335,
          40.73333333333333,
          58.083333333333336,
          54.24285714285715,
          65.95,
          62.2,
          53.05,
          38.72765957446809,
          47.472500000000004,
          49.772000000000006,
          71.02857142857142,
          42.3,
          49.79375,
          28.1,
          70.64285714285715,
          36.5,
          29.4,
          63.85999999999999,
          46.20000000000001,
          45.13333333333334,
          53.04,
          36,
          44.059999999999995,
          64,
          46.225,
          85.15,
          34,
          41.42941176470589,
          57.56,
          33.6,
          28.6,
          74.96153846153847,
          51.06,
          39.333333333333336,
          28.5,
          39.2,
          37,
          55.95,
          76.7,
          92.5,
          77.78,
          42.449999999999996,
          57.43333333333334,
          61.942857142857136,
          70.06666666666666,
          56.5,
          49.5,
          38.25714285714285,
          48.472619047619034,
          28.6,
          48.9945945945946,
          28,
          73.52857142857144,
          46.054545454545455,
          46.74347826086956,
          37.875,
          64.4076923076923,
          35.8,
          30,
          30.22857142857143,
          45.050000000000004,
          30,
          38.15,
          45.62222222222222,
          34.07727272727273,
          69.3264705882353,
          42.68333333333334,
          43.040000000000006,
          34.53333333333334,
          28,
          41.98000000000001,
          40,
          62.65714285714285,
          29.72,
          39.971875,
          47.52647058823529,
          30.1,
          28,
          28.3,
          41,
          38.1,
          34.9,
          31.28,
          69.75,
          29.2,
          73.02307692307693,
          43.17142857142857,
          29.2,
          41.6,
          37.6,
          31.3,
          32.916666666666664,
          40.1,
          55.2,
          37.6625,
          28.766666666666666,
          49.24999999999999,
          77.15,
          45.6,
          74.85,
          30.6,
          32.3,
          68.63333333333333,
          54.17058823529411,
          35.56,
          50.87500000000001,
          68.4,
          53.65217391304347,
          45.34285714285715,
          62.25,
          28,
          28.4,
          31.7,
          34.386486486486504,
          44.33923076923078
         ]
        },
        {
         "name": "score international",
         "type": "bar",
         "x": [
          2011,
          2011,
          2011,
          2011,
          2011,
          2011,
          2011,
          2011,
          2011,
          2011,
          2011,
          2011,
          2011,
          2011,
          2011,
          2011,
          2011,
          2011,
          2011,
          2011,
          2011,
          2011,
          2011,
          2011,
          2012,
          2012,
          2012,
          2012,
          2012,
          2012,
          2012,
          2012,
          2012,
          2012,
          2012,
          2012,
          2012,
          2012,
          2012,
          2012,
          2012,
          2012,
          2012,
          2012,
          2012,
          2012,
          2012,
          2012,
          2012,
          2012,
          2012,
          2012,
          2012,
          2012,
          2012,
          2012,
          2012,
          2012,
          2012,
          2012,
          2012,
          2012,
          2013,
          2013,
          2013,
          2013,
          2013,
          2013,
          2013,
          2013,
          2013,
          2013,
          2013,
          2013,
          2013,
          2013,
          2013,
          2013,
          2013,
          2013,
          2013,
          2013,
          2013,
          2013,
          2013,
          2013,
          2013,
          2013,
          2013,
          2013,
          2013,
          2013,
          2013,
          2013,
          2013,
          2013,
          2013,
          2013,
          2013,
          2013,
          2013,
          2013,
          2014,
          2014,
          2014,
          2014,
          2014,
          2014,
          2014,
          2014,
          2014,
          2014,
          2014,
          2014,
          2014,
          2014,
          2014,
          2014,
          2014,
          2014,
          2014,
          2014,
          2014,
          2014,
          2014,
          2014,
          2014,
          2014,
          2014,
          2014,
          2014,
          2014,
          2014,
          2014,
          2014,
          2014,
          2014,
          2014,
          2014,
          2014,
          2014,
          2015,
          2015,
          2015,
          2015,
          2015,
          2015,
          2015,
          2015,
          2015,
          2015,
          2015,
          2015,
          2015,
          2015,
          2015,
          2015,
          2015,
          2015,
          2015,
          2015,
          2015,
          2015,
          2015,
          2015,
          2015,
          2015,
          2015,
          2015,
          2015,
          2015,
          2015,
          2015,
          2015,
          2015,
          2015,
          2015,
          2015,
          2015,
          2015,
          2015,
          2016,
          2016,
          2016,
          2016,
          2016,
          2016,
          2016,
          2016,
          2016,
          2016,
          2016,
          2016,
          2016,
          2016,
          2016,
          2016,
          2016,
          2016,
          2016,
          2016,
          2016,
          2016,
          2016,
          2016,
          2016,
          2016,
          2016,
          2016,
          2016,
          2016,
          2016,
          2016,
          2016,
          2016,
          2016,
          2016,
          2016,
          2016,
          2016,
          2016,
          2016,
          2016,
          2016,
          2016,
          2016,
          2016,
          2016,
          2016,
          2016,
          2016,
          2016,
          2016,
          2016,
          2016,
          2016,
          2016,
          2016,
          2016,
          2016,
          2016,
          2016,
          2016,
          2016,
          2016,
          2016,
          2016
         ],
         "y": [
          82.47500000000001,
          27.15,
          72.26666666666667,
          38.025,
          47.73333333333333,
          19.3,
          24.2,
          37.733333333333334,
          52.111111111111114,
          82.03333333333333,
          21.666666666666668,
          43.949999999999996,
          94.3,
          66.6,
          84.2,
          97.05,
          34.650000000000006,
          33.2,
          71.05000000000001,
          93.725,
          35.625,
          27.2,
          73.97777777777777,
          40.76785714285715,
          77.40800000000002,
          63.671428571428564,
          21,
          61.993750000000006,
          24.37142857142857,
          51.4,
          71.66,
          31.6,
          42,
          41.800000000000004,
          65.85714285714286,
          55.38500000000001,
          42.6,
          67.23999999999998,
          56.9,
          14.3,
          12.7,
          49.63333333333333,
          33.949999999999996,
          21.028571428571432,
          60.10833333333334,
          86.8,
          64.89999999999999,
          39.5,
          48.625,
          78.45,
          45.7,
          91.4,
          63.333333333333336,
          26.96666666666667,
          39.35,
          62.65714285714286,
          90.76000000000002,
          17.9375,
          45,
          26.2,
          76.46734693877549,
          35.66753246753247,
          75.50833333333334,
          60.41428571428571,
          22.7,
          60.243750000000006,
          31.53333333333333,
          53,
          50.3,
          70.28,
          42.4,
          44.9,
          64.775,
          53.3909090909091,
          44.4,
          67.14000000000001,
          59.9,
          17.2,
          16.7,
          53.099999999999994,
          36.971428571428575,
          25.84545454545454,
          33.2,
          60.93846153846154,
          84.18333333333332,
          63.43333333333334,
          40.75,
          45.333333333333336,
          73.625,
          34.55,
          71,
          91.4,
          61.05,
          30.26666666666667,
          40.35714285714285,
          60.642857142857146,
          89.06,
          23.628571428571433,
          23.8,
          34.575,
          76.35652173913041,
          40.039473684210535,
          77.75600000000003,
          59.01666666666667,
          21.95,
          62.775,
          31.35714285714286,
          55.7,
          53.2,
          71.56,
          43.7,
          47.300000000000004,
          64.63333333333334,
          53.88636363636365,
          47.1,
          67.03999999999999,
          59.9,
          20.733333333333334,
          20.7,
          56.3,
          39.89333333333333,
          27.788888888888888,
          63.600000000000016,
          85.22,
          58.9,
          42.8,
          45.4,
          73.2,
          55.7,
          74.3,
          92.65,
          64.03333333333335,
          33.93333333333333,
          40.48888888888889,
          63.699999999999996,
          90.17142857142858,
          25.162499999999998,
          24.4,
          43.625,
          77.09574468085107,
          42.81125,
          78.92399999999999,
          62.15714285714286,
          23,
          66.19375000000002,
          48.7,
          33.714285714285715,
          54.6,
          53.9,
          70.14,
          50.699999999999996,
          67.75555555555555,
          54.11600000000001,
          47,
          69.88000000000001,
          59.1,
          20.875,
          19.7,
          56.95,
          42.670588235294126,
          31.940000000000005,
          73.3,
          45.1,
          65.54615384615386,
          84.3,
          60,
          41.6,
          48.25,
          77.25,
          52.099999999999994,
          93.7,
          63.6,
          35.4,
          49.349999999999994,
          61.35,
          90.77142857142857,
          26.766666666666666,
          22.5,
          44.9,
          79.10476190476192,
          45.029761904761905,
          28.1,
          77.9891891891892,
          48.2,
          68.64285714285714,
          21.2,
          66.14782608695653,
          43.85,
          23.446153846153848,
          46.85,
          74.7,
          36.442857142857136,
          79.41666666666667,
          32.35,
          42,
          53.599999999999994,
          61.14545454545455,
          53.267647058823535,
          36.93333333333333,
          83.24,
          53,
          61,
          14.419999999999998,
          37.2,
          12.57142857142857,
          50.9,
          37.60937499999999,
          22.76470588235294,
          57.95,
          45.5,
          31.5,
          40.8,
          99.8,
          98.4,
          38.1,
          47.75,
          42.7,
          70.39999999999999,
          89.04285714285716,
          26.1,
          65.33333333333333,
          71.5,
          31.3,
          26.016666666666666,
          45.12857142857143,
          99.9,
          78.98750000000001,
          34.53333333333333,
          29.941666666666666,
          88.75,
          30.5,
          95.4,
          38.75,
          34.5,
          55.28333333333334,
          28.39411764705882,
          40.908,
          62.050000000000004,
          93.6,
          23.286956521739135,
          32.67142857142857,
          27.009999999999998,
          58,
          38.3,
          95.3,
          78.22432432432433,
          42.436153846153864
         ]
        }
       ],
       "layout": {
        "barmode": "relative",
        "template": {
         "data": {
          "bar": [
           {
            "error_x": {
             "color": "#2a3f5f"
            },
            "error_y": {
             "color": "#2a3f5f"
            },
            "marker": {
             "line": {
              "color": "#E5ECF6",
              "width": 0.5
             }
            },
            "type": "bar"
           }
          ],
          "barpolar": [
           {
            "marker": {
             "line": {
              "color": "#E5ECF6",
              "width": 0.5
             }
            },
            "type": "barpolar"
           }
          ],
          "carpet": [
           {
            "aaxis": {
             "endlinecolor": "#2a3f5f",
             "gridcolor": "white",
             "linecolor": "white",
             "minorgridcolor": "white",
             "startlinecolor": "#2a3f5f"
            },
            "baxis": {
             "endlinecolor": "#2a3f5f",
             "gridcolor": "white",
             "linecolor": "white",
             "minorgridcolor": "white",
             "startlinecolor": "#2a3f5f"
            },
            "type": "carpet"
           }
          ],
          "choropleth": [
           {
            "colorbar": {
             "outlinewidth": 0,
             "ticks": ""
            },
            "type": "choropleth"
           }
          ],
          "contour": [
           {
            "colorbar": {
             "outlinewidth": 0,
             "ticks": ""
            },
            "colorscale": [
             [
              0,
              "#0d0887"
             ],
             [
              0.1111111111111111,
              "#46039f"
             ],
             [
              0.2222222222222222,
              "#7201a8"
             ],
             [
              0.3333333333333333,
              "#9c179e"
             ],
             [
              0.4444444444444444,
              "#bd3786"
             ],
             [
              0.5555555555555556,
              "#d8576b"
             ],
             [
              0.6666666666666666,
              "#ed7953"
             ],
             [
              0.7777777777777778,
              "#fb9f3a"
             ],
             [
              0.8888888888888888,
              "#fdca26"
             ],
             [
              1,
              "#f0f921"
             ]
            ],
            "type": "contour"
           }
          ],
          "contourcarpet": [
           {
            "colorbar": {
             "outlinewidth": 0,
             "ticks": ""
            },
            "type": "contourcarpet"
           }
          ],
          "heatmap": [
           {
            "colorbar": {
             "outlinewidth": 0,
             "ticks": ""
            },
            "colorscale": [
             [
              0,
              "#0d0887"
             ],
             [
              0.1111111111111111,
              "#46039f"
             ],
             [
              0.2222222222222222,
              "#7201a8"
             ],
             [
              0.3333333333333333,
              "#9c179e"
             ],
             [
              0.4444444444444444,
              "#bd3786"
             ],
             [
              0.5555555555555556,
              "#d8576b"
             ],
             [
              0.6666666666666666,
              "#ed7953"
             ],
             [
              0.7777777777777778,
              "#fb9f3a"
             ],
             [
              0.8888888888888888,
              "#fdca26"
             ],
             [
              1,
              "#f0f921"
             ]
            ],
            "type": "heatmap"
           }
          ],
          "heatmapgl": [
           {
            "colorbar": {
             "outlinewidth": 0,
             "ticks": ""
            },
            "colorscale": [
             [
              0,
              "#0d0887"
             ],
             [
              0.1111111111111111,
              "#46039f"
             ],
             [
              0.2222222222222222,
              "#7201a8"
             ],
             [
              0.3333333333333333,
              "#9c179e"
             ],
             [
              0.4444444444444444,
              "#bd3786"
             ],
             [
              0.5555555555555556,
              "#d8576b"
             ],
             [
              0.6666666666666666,
              "#ed7953"
             ],
             [
              0.7777777777777778,
              "#fb9f3a"
             ],
             [
              0.8888888888888888,
              "#fdca26"
             ],
             [
              1,
              "#f0f921"
             ]
            ],
            "type": "heatmapgl"
           }
          ],
          "histogram": [
           {
            "marker": {
             "colorbar": {
              "outlinewidth": 0,
              "ticks": ""
             }
            },
            "type": "histogram"
           }
          ],
          "histogram2d": [
           {
            "colorbar": {
             "outlinewidth": 0,
             "ticks": ""
            },
            "colorscale": [
             [
              0,
              "#0d0887"
             ],
             [
              0.1111111111111111,
              "#46039f"
             ],
             [
              0.2222222222222222,
              "#7201a8"
             ],
             [
              0.3333333333333333,
              "#9c179e"
             ],
             [
              0.4444444444444444,
              "#bd3786"
             ],
             [
              0.5555555555555556,
              "#d8576b"
             ],
             [
              0.6666666666666666,
              "#ed7953"
             ],
             [
              0.7777777777777778,
              "#fb9f3a"
             ],
             [
              0.8888888888888888,
              "#fdca26"
             ],
             [
              1,
              "#f0f921"
             ]
            ],
            "type": "histogram2d"
           }
          ],
          "histogram2dcontour": [
           {
            "colorbar": {
             "outlinewidth": 0,
             "ticks": ""
            },
            "colorscale": [
             [
              0,
              "#0d0887"
             ],
             [
              0.1111111111111111,
              "#46039f"
             ],
             [
              0.2222222222222222,
              "#7201a8"
             ],
             [
              0.3333333333333333,
              "#9c179e"
             ],
             [
              0.4444444444444444,
              "#bd3786"
             ],
             [
              0.5555555555555556,
              "#d8576b"
             ],
             [
              0.6666666666666666,
              "#ed7953"
             ],
             [
              0.7777777777777778,
              "#fb9f3a"
             ],
             [
              0.8888888888888888,
              "#fdca26"
             ],
             [
              1,
              "#f0f921"
             ]
            ],
            "type": "histogram2dcontour"
           }
          ],
          "mesh3d": [
           {
            "colorbar": {
             "outlinewidth": 0,
             "ticks": ""
            },
            "type": "mesh3d"
           }
          ],
          "parcoords": [
           {
            "line": {
             "colorbar": {
              "outlinewidth": 0,
              "ticks": ""
             }
            },
            "type": "parcoords"
           }
          ],
          "scatter": [
           {
            "marker": {
             "colorbar": {
              "outlinewidth": 0,
              "ticks": ""
             }
            },
            "type": "scatter"
           }
          ],
          "scatter3d": [
           {
            "line": {
             "colorbar": {
              "outlinewidth": 0,
              "ticks": ""
             }
            },
            "marker": {
             "colorbar": {
              "outlinewidth": 0,
              "ticks": ""
             }
            },
            "type": "scatter3d"
           }
          ],
          "scattercarpet": [
           {
            "marker": {
             "colorbar": {
              "outlinewidth": 0,
              "ticks": ""
             }
            },
            "type": "scattercarpet"
           }
          ],
          "scattergeo": [
           {
            "marker": {
             "colorbar": {
              "outlinewidth": 0,
              "ticks": ""
             }
            },
            "type": "scattergeo"
           }
          ],
          "scattergl": [
           {
            "marker": {
             "colorbar": {
              "outlinewidth": 0,
              "ticks": ""
             }
            },
            "type": "scattergl"
           }
          ],
          "scattermapbox": [
           {
            "marker": {
             "colorbar": {
              "outlinewidth": 0,
              "ticks": ""
             }
            },
            "type": "scattermapbox"
           }
          ],
          "scatterpolar": [
           {
            "marker": {
             "colorbar": {
              "outlinewidth": 0,
              "ticks": ""
             }
            },
            "type": "scatterpolar"
           }
          ],
          "scatterpolargl": [
           {
            "marker": {
             "colorbar": {
              "outlinewidth": 0,
              "ticks": ""
             }
            },
            "type": "scatterpolargl"
           }
          ],
          "scatterternary": [
           {
            "marker": {
             "colorbar": {
              "outlinewidth": 0,
              "ticks": ""
             }
            },
            "type": "scatterternary"
           }
          ],
          "surface": [
           {
            "colorbar": {
             "outlinewidth": 0,
             "ticks": ""
            },
            "colorscale": [
             [
              0,
              "#0d0887"
             ],
             [
              0.1111111111111111,
              "#46039f"
             ],
             [
              0.2222222222222222,
              "#7201a8"
             ],
             [
              0.3333333333333333,
              "#9c179e"
             ],
             [
              0.4444444444444444,
              "#bd3786"
             ],
             [
              0.5555555555555556,
              "#d8576b"
             ],
             [
              0.6666666666666666,
              "#ed7953"
             ],
             [
              0.7777777777777778,
              "#fb9f3a"
             ],
             [
              0.8888888888888888,
              "#fdca26"
             ],
             [
              1,
              "#f0f921"
             ]
            ],
            "type": "surface"
           }
          ],
          "table": [
           {
            "cells": {
             "fill": {
              "color": "#EBF0F8"
             },
             "line": {
              "color": "white"
             }
            },
            "header": {
             "fill": {
              "color": "#C8D4E3"
             },
             "line": {
              "color": "white"
             }
            },
            "type": "table"
           }
          ]
         },
         "layout": {
          "annotationdefaults": {
           "arrowcolor": "#2a3f5f",
           "arrowhead": 0,
           "arrowwidth": 1
          },
          "colorscale": {
           "diverging": [
            [
             0,
             "#8e0152"
            ],
            [
             0.1,
             "#c51b7d"
            ],
            [
             0.2,
             "#de77ae"
            ],
            [
             0.3,
             "#f1b6da"
            ],
            [
             0.4,
             "#fde0ef"
            ],
            [
             0.5,
             "#f7f7f7"
            ],
            [
             0.6,
             "#e6f5d0"
            ],
            [
             0.7,
             "#b8e186"
            ],
            [
             0.8,
             "#7fbc41"
            ],
            [
             0.9,
             "#4d9221"
            ],
            [
             1,
             "#276419"
            ]
           ],
           "sequential": [
            [
             0,
             "#0d0887"
            ],
            [
             0.1111111111111111,
             "#46039f"
            ],
            [
             0.2222222222222222,
             "#7201a8"
            ],
            [
             0.3333333333333333,
             "#9c179e"
            ],
            [
             0.4444444444444444,
             "#bd3786"
            ],
            [
             0.5555555555555556,
             "#d8576b"
            ],
            [
             0.6666666666666666,
             "#ed7953"
            ],
            [
             0.7777777777777778,
             "#fb9f3a"
            ],
            [
             0.8888888888888888,
             "#fdca26"
            ],
            [
             1,
             "#f0f921"
            ]
           ],
           "sequentialminus": [
            [
             0,
             "#0d0887"
            ],
            [
             0.1111111111111111,
             "#46039f"
            ],
            [
             0.2222222222222222,
             "#7201a8"
            ],
            [
             0.3333333333333333,
             "#9c179e"
            ],
            [
             0.4444444444444444,
             "#bd3786"
            ],
            [
             0.5555555555555556,
             "#d8576b"
            ],
            [
             0.6666666666666666,
             "#ed7953"
            ],
            [
             0.7777777777777778,
             "#fb9f3a"
            ],
            [
             0.8888888888888888,
             "#fdca26"
            ],
            [
             1,
             "#f0f921"
            ]
           ]
          },
          "colorway": [
           "#636efa",
           "#EF553B",
           "#00cc96",
           "#ab63fa",
           "#FFA15A",
           "#19d3f3",
           "#FF6692",
           "#B6E880",
           "#FF97FF",
           "#FECB52"
          ],
          "font": {
           "color": "#2a3f5f"
          },
          "geo": {
           "bgcolor": "white",
           "lakecolor": "white",
           "landcolor": "#E5ECF6",
           "showlakes": true,
           "showland": true,
           "subunitcolor": "white"
          },
          "hoverlabel": {
           "align": "left"
          },
          "hovermode": "closest",
          "mapbox": {
           "style": "light"
          },
          "paper_bgcolor": "white",
          "plot_bgcolor": "#E5ECF6",
          "polar": {
           "angularaxis": {
            "gridcolor": "white",
            "linecolor": "white",
            "ticks": ""
           },
           "bgcolor": "#E5ECF6",
           "radialaxis": {
            "gridcolor": "white",
            "linecolor": "white",
            "ticks": ""
           }
          },
          "scene": {
           "xaxis": {
            "backgroundcolor": "#E5ECF6",
            "gridcolor": "white",
            "gridwidth": 2,
            "linecolor": "white",
            "showbackground": true,
            "ticks": "",
            "zerolinecolor": "white"
           },
           "yaxis": {
            "backgroundcolor": "#E5ECF6",
            "gridcolor": "white",
            "gridwidth": 2,
            "linecolor": "white",
            "showbackground": true,
            "ticks": "",
            "zerolinecolor": "white"
           },
           "zaxis": {
            "backgroundcolor": "#E5ECF6",
            "gridcolor": "white",
            "gridwidth": 2,
            "linecolor": "white",
            "showbackground": true,
            "ticks": "",
            "zerolinecolor": "white"
           }
          },
          "shapedefaults": {
           "line": {
            "color": "#2a3f5f"
           }
          },
          "ternary": {
           "aaxis": {
            "gridcolor": "white",
            "linecolor": "white",
            "ticks": ""
           },
           "baxis": {
            "gridcolor": "white",
            "linecolor": "white",
            "ticks": ""
           },
           "bgcolor": "#E5ECF6",
           "caxis": {
            "gridcolor": "white",
            "linecolor": "white",
            "ticks": ""
           }
          },
          "title": {
           "x": 0.05
          },
          "xaxis": {
           "automargin": true,
           "gridcolor": "white",
           "linecolor": "white",
           "ticks": "",
           "zerolinecolor": "white",
           "zerolinewidth": 2
          },
          "yaxis": {
           "automargin": true,
           "gridcolor": "white",
           "linecolor": "white",
           "ticks": "",
           "zerolinecolor": "white",
           "zerolinewidth": 2
          }
         }
        },
        "title": {
         "text": "Citations et enseignement des 3 meilleures universités en 2014"
        },
        "xaxis": {
         "title": {
          "text": "Top des 3 meilleurs universités"
         }
        }
       }
      },
      "text/html": [
       "<div>\n",
       "        \n",
       "        \n",
       "            <div id=\"aaadf387-b902-472a-bec3-ec2ec0c0511a\" class=\"plotly-graph-div\" style=\"height:525px; width:100%;\"></div>\n",
       "            <script type=\"text/javascript\">\n",
       "                require([\"plotly\"], function(Plotly) {\n",
       "                    window.PLOTLYENV=window.PLOTLYENV || {};\n",
       "                    \n",
       "                if (document.getElementById(\"aaadf387-b902-472a-bec3-ec2ec0c0511a\")) {\n",
       "                    Plotly.newPlot(\n",
       "                        'aaadf387-b902-472a-bec3-ec2ec0c0511a',\n",
       "                        [{\"name\": \"score income\", \"type\": \"bar\", \"x\": [2011, 2011, 2011, 2011, 2011, 2011, 2011, 2011, 2011, 2011, 2011, 2011, 2011, 2011, 2011, 2011, 2011, 2011, 2011, 2011, 2011, 2011, 2011, 2011, 2012, 2012, 2012, 2012, 2012, 2012, 2012, 2012, 2012, 2012, 2012, 2012, 2012, 2012, 2012, 2012, 2012, 2012, 2012, 2012, 2012, 2012, 2012, 2012, 2012, 2012, 2012, 2012, 2012, 2012, 2012, 2012, 2012, 2012, 2012, 2012, 2012, 2012, 2013, 2013, 2013, 2013, 2013, 2013, 2013, 2013, 2013, 2013, 2013, 2013, 2013, 2013, 2013, 2013, 2013, 2013, 2013, 2013, 2013, 2013, 2013, 2013, 2013, 2013, 2013, 2013, 2013, 2013, 2013, 2013, 2013, 2013, 2013, 2013, 2013, 2013, 2013, 2013, 2014, 2014, 2014, 2014, 2014, 2014, 2014, 2014, 2014, 2014, 2014, 2014, 2014, 2014, 2014, 2014, 2014, 2014, 2014, 2014, 2014, 2014, 2014, 2014, 2014, 2014, 2014, 2014, 2014, 2014, 2014, 2014, 2014, 2014, 2014, 2014, 2014, 2014, 2014, 2015, 2015, 2015, 2015, 2015, 2015, 2015, 2015, 2015, 2015, 2015, 2015, 2015, 2015, 2015, 2015, 2015, 2015, 2015, 2015, 2015, 2015, 2015, 2015, 2015, 2015, 2015, 2015, 2015, 2015, 2015, 2015, 2015, 2015, 2015, 2015, 2015, 2015, 2015, 2015, 2016, 2016, 2016, 2016, 2016, 2016, 2016, 2016, 2016, 2016, 2016, 2016, 2016, 2016, 2016, 2016, 2016, 2016, 2016, 2016, 2016, 2016, 2016, 2016, 2016, 2016, 2016, 2016, 2016, 2016, 2016, 2016, 2016, 2016, 2016, 2016, 2016, 2016, 2016, 2016, 2016, 2016, 2016, 2016, 2016, 2016, 2016, 2016, 2016, 2016, 2016, 2016, 2016, 2016, 2016, 2016, 2016, 2016, 2016, 2016, 2016, 2016, 2016, 2016, 2016, 2016], \"y\": [51.387499999999996, 97.4, 41.666666666666664, 63.175, 61.03333333333333, 36.0, 30.2, 27.73333333333333, 43.43333333333334, 46.800000000000004, 72.06666666666666, 69.8375, 61.1, 41.5, 31.6, 40.25, 100.0, 35.0, 69.75, 40.075, 55.525000000000006, 43.9, 41.68518518518518, 58.00714285714286, 47.73999999999999, 66.92857142857143, 38.25, 50.931250000000006, 70.3, 24.5, 60.8, 34.5, 26.3, 41.67999999999999, 34.31428571428571, 43.095, 33.2, 49.739999999999995, 75.4, 24.2, 93.1, 29.03333333333333, 41.971428571428575, 46.37142857142857, 63.699999999999996, 36.26, 41.53333333333334, 25.8, 34.025, 31.575000000000003, 53.0, 52.55, 99.03333333333335, 99.8, 36.599999999999994, 55.15714285714286, 41.94, 55.949999999999996, 29.0, 59.0, 36.97551020408162, 46.82337662337662, 50.45416666666667, 68.34285714285714, 42.45, 52.75625, 66.96666666666665, 28.4, 28.1, 64.52000000000001, 30.1, 52.4, 47.112500000000004, 46.71363636363637, 34.1, 46.480000000000004, 74.4, 65.16666666666667, 93.0, 37.2, 42.05, 49.9, 36.0, 73.73846153846155, 50.13333333333333, 38.46666666666667, 28.7, 36.1, 35.875, 64.85, 40.2, 88.45, 77.69999999999999, 99.56666666666666, 35.07142857142858, 56.24285714285714, 45.339999999999996, 66.05714285714285, 60.2, 56.225, 40.81521739130436, 47.311842105263146, 50.884000000000015, 76.28333333333333, 44.55, 51.6, 67.74285714285715, 30.6, 29.0, 63.980000000000004, 30.3, 37.275, 45.55555555555555, 49.29090909090908, 35.0, 45.9, 78.5, 45.199999999999996, 98.3, 34.75, 42.226666666666674, 59.699999999999996, 74.38461538461537, 51.42, 40.03333333333334, 28.3, 37.05, 39.875, 72.2, 39.7, 82.15, 93.5, 99.53333333333335, 40.73333333333333, 58.083333333333336, 54.24285714285715, 65.95, 62.2, 53.05, 38.72765957446809, 47.472500000000004, 49.772000000000006, 71.02857142857142, 42.3, 49.79375, 28.1, 70.64285714285715, 36.5, 29.4, 63.85999999999999, 46.20000000000001, 45.13333333333334, 53.04, 36.0, 44.059999999999995, 64.0, 46.225, 85.15, 34.0, 41.42941176470589, 57.56, 33.6, 28.6, 74.96153846153847, 51.06, 39.333333333333336, 28.5, 39.2, 37.0, 55.95, 76.7, 92.5, 77.78, 42.449999999999996, 57.43333333333334, 61.942857142857136, 70.06666666666666, 56.5, 49.5, 38.25714285714285, 48.472619047619034, 28.6, 48.9945945945946, 28.0, 73.52857142857144, 46.054545454545455, 46.74347826086956, 37.875, 64.4076923076923, 35.8, 30.0, 30.22857142857143, 45.050000000000004, 30.0, 38.15, 45.62222222222222, 34.07727272727273, 69.3264705882353, 42.68333333333334, 43.040000000000006, 34.53333333333334, 28.0, 41.98000000000001, 40.0, 62.65714285714285, 29.72, 39.971875, 47.52647058823529, 30.1, 28.0, 28.3, 41.0, 38.1, 34.9, 31.28, 69.75, 29.2, 73.02307692307693, 43.17142857142857, 29.2, 41.6, 37.6, 31.3, 32.916666666666664, 40.1, 55.2, 37.6625, 28.766666666666666, 49.24999999999999, 77.15, 45.6, 74.85, 30.6, 32.3, 68.63333333333333, 54.17058823529411, 35.56, 50.87500000000001, 68.4, 53.65217391304347, 45.34285714285715, 62.25, 28.0, 28.4, 31.7, 34.386486486486504, 44.33923076923078]}, {\"name\": \"score international\", \"type\": \"bar\", \"x\": [2011, 2011, 2011, 2011, 2011, 2011, 2011, 2011, 2011, 2011, 2011, 2011, 2011, 2011, 2011, 2011, 2011, 2011, 2011, 2011, 2011, 2011, 2011, 2011, 2012, 2012, 2012, 2012, 2012, 2012, 2012, 2012, 2012, 2012, 2012, 2012, 2012, 2012, 2012, 2012, 2012, 2012, 2012, 2012, 2012, 2012, 2012, 2012, 2012, 2012, 2012, 2012, 2012, 2012, 2012, 2012, 2012, 2012, 2012, 2012, 2012, 2012, 2013, 2013, 2013, 2013, 2013, 2013, 2013, 2013, 2013, 2013, 2013, 2013, 2013, 2013, 2013, 2013, 2013, 2013, 2013, 2013, 2013, 2013, 2013, 2013, 2013, 2013, 2013, 2013, 2013, 2013, 2013, 2013, 2013, 2013, 2013, 2013, 2013, 2013, 2013, 2013, 2014, 2014, 2014, 2014, 2014, 2014, 2014, 2014, 2014, 2014, 2014, 2014, 2014, 2014, 2014, 2014, 2014, 2014, 2014, 2014, 2014, 2014, 2014, 2014, 2014, 2014, 2014, 2014, 2014, 2014, 2014, 2014, 2014, 2014, 2014, 2014, 2014, 2014, 2014, 2015, 2015, 2015, 2015, 2015, 2015, 2015, 2015, 2015, 2015, 2015, 2015, 2015, 2015, 2015, 2015, 2015, 2015, 2015, 2015, 2015, 2015, 2015, 2015, 2015, 2015, 2015, 2015, 2015, 2015, 2015, 2015, 2015, 2015, 2015, 2015, 2015, 2015, 2015, 2015, 2016, 2016, 2016, 2016, 2016, 2016, 2016, 2016, 2016, 2016, 2016, 2016, 2016, 2016, 2016, 2016, 2016, 2016, 2016, 2016, 2016, 2016, 2016, 2016, 2016, 2016, 2016, 2016, 2016, 2016, 2016, 2016, 2016, 2016, 2016, 2016, 2016, 2016, 2016, 2016, 2016, 2016, 2016, 2016, 2016, 2016, 2016, 2016, 2016, 2016, 2016, 2016, 2016, 2016, 2016, 2016, 2016, 2016, 2016, 2016, 2016, 2016, 2016, 2016, 2016, 2016], \"y\": [82.47500000000001, 27.15, 72.26666666666667, 38.025, 47.73333333333333, 19.3, 24.2, 37.733333333333334, 52.111111111111114, 82.03333333333333, 21.666666666666668, 43.949999999999996, 94.3, 66.6, 84.2, 97.05, 34.650000000000006, 33.2, 71.05000000000001, 93.725, 35.625, 27.2, 73.97777777777777, 40.76785714285715, 77.40800000000002, 63.671428571428564, 21.0, 61.993750000000006, 24.37142857142857, 51.4, 71.66, 31.6, 42.0, 41.800000000000004, 65.85714285714286, 55.38500000000001, 42.6, 67.23999999999998, 56.9, 14.3, 12.7, 49.63333333333333, 33.949999999999996, 21.028571428571432, 60.10833333333334, 86.8, 64.89999999999999, 39.5, 48.625, 78.45, 45.7, 91.4, 63.333333333333336, 26.96666666666667, 39.35, 62.65714285714286, 90.76000000000002, 17.9375, 45.0, 26.2, 76.46734693877549, 35.66753246753247, 75.50833333333334, 60.41428571428571, 22.7, 60.243750000000006, 31.53333333333333, 53.0, 50.3, 70.28, 42.4, 44.9, 64.775, 53.3909090909091, 44.4, 67.14000000000001, 59.9, 17.2, 16.7, 53.099999999999994, 36.971428571428575, 25.84545454545454, 33.2, 60.93846153846154, 84.18333333333332, 63.43333333333334, 40.75, 45.333333333333336, 73.625, 34.55, 71.0, 91.4, 61.05, 30.26666666666667, 40.35714285714285, 60.642857142857146, 89.06, 23.628571428571433, 23.8, 34.575, 76.35652173913041, 40.039473684210535, 77.75600000000003, 59.01666666666667, 21.95, 62.775, 31.35714285714286, 55.7, 53.2, 71.56, 43.7, 47.300000000000004, 64.63333333333334, 53.88636363636365, 47.1, 67.03999999999999, 59.9, 20.733333333333334, 20.7, 56.3, 39.89333333333333, 27.788888888888888, 63.600000000000016, 85.22, 58.9, 42.8, 45.4, 73.2, 55.7, 74.3, 92.65, 64.03333333333335, 33.93333333333333, 40.48888888888889, 63.699999999999996, 90.17142857142858, 25.162499999999998, 24.4, 43.625, 77.09574468085107, 42.81125, 78.92399999999999, 62.15714285714286, 23.0, 66.19375000000002, 48.7, 33.714285714285715, 54.6, 53.9, 70.14, 50.699999999999996, 67.75555555555555, 54.11600000000001, 47.0, 69.88000000000001, 59.1, 20.875, 19.7, 56.95, 42.670588235294126, 31.940000000000005, 73.3, 45.1, 65.54615384615386, 84.3, 60.0, 41.6, 48.25, 77.25, 52.099999999999994, 93.7, 63.6, 35.4, 49.349999999999994, 61.35, 90.77142857142857, 26.766666666666666, 22.5, 44.9, 79.10476190476192, 45.029761904761905, 28.1, 77.9891891891892, 48.2, 68.64285714285714, 21.2, 66.14782608695653, 43.85, 23.446153846153848, 46.85, 74.7, 36.442857142857136, 79.41666666666667, 32.35, 42.0, 53.599999999999994, 61.14545454545455, 53.267647058823535, 36.93333333333333, 83.24, 53.0, 61.0, 14.419999999999998, 37.2, 12.57142857142857, 50.9, 37.60937499999999, 22.76470588235294, 57.95, 45.5, 31.5, 40.8, 99.8, 98.4, 38.1, 47.75, 42.7, 70.39999999999999, 89.04285714285716, 26.1, 65.33333333333333, 71.5, 31.3, 26.016666666666666, 45.12857142857143, 99.9, 78.98750000000001, 34.53333333333333, 29.941666666666666, 88.75, 30.5, 95.4, 38.75, 34.5, 55.28333333333334, 28.39411764705882, 40.908, 62.050000000000004, 93.6, 23.286956521739135, 32.67142857142857, 27.009999999999998, 58.0, 38.3, 95.3, 78.22432432432433, 42.436153846153864]}],\n",
       "                        {\"barmode\": \"relative\", \"template\": {\"data\": {\"bar\": [{\"error_x\": {\"color\": \"#2a3f5f\"}, \"error_y\": {\"color\": \"#2a3f5f\"}, \"marker\": {\"line\": {\"color\": \"#E5ECF6\", \"width\": 0.5}}, \"type\": \"bar\"}], \"barpolar\": [{\"marker\": {\"line\": {\"color\": \"#E5ECF6\", \"width\": 0.5}}, \"type\": \"barpolar\"}], \"carpet\": [{\"aaxis\": {\"endlinecolor\": \"#2a3f5f\", \"gridcolor\": \"white\", \"linecolor\": \"white\", \"minorgridcolor\": \"white\", \"startlinecolor\": \"#2a3f5f\"}, \"baxis\": {\"endlinecolor\": \"#2a3f5f\", \"gridcolor\": \"white\", \"linecolor\": \"white\", \"minorgridcolor\": \"white\", \"startlinecolor\": \"#2a3f5f\"}, \"type\": \"carpet\"}], \"choropleth\": [{\"colorbar\": {\"outlinewidth\": 0, \"ticks\": \"\"}, \"type\": \"choropleth\"}], \"contour\": [{\"colorbar\": {\"outlinewidth\": 0, \"ticks\": \"\"}, \"colorscale\": [[0.0, \"#0d0887\"], [0.1111111111111111, \"#46039f\"], [0.2222222222222222, \"#7201a8\"], [0.3333333333333333, \"#9c179e\"], [0.4444444444444444, \"#bd3786\"], [0.5555555555555556, \"#d8576b\"], [0.6666666666666666, \"#ed7953\"], [0.7777777777777778, \"#fb9f3a\"], [0.8888888888888888, \"#fdca26\"], [1.0, \"#f0f921\"]], \"type\": \"contour\"}], \"contourcarpet\": [{\"colorbar\": {\"outlinewidth\": 0, \"ticks\": \"\"}, \"type\": \"contourcarpet\"}], \"heatmap\": [{\"colorbar\": {\"outlinewidth\": 0, \"ticks\": \"\"}, \"colorscale\": [[0.0, \"#0d0887\"], [0.1111111111111111, \"#46039f\"], [0.2222222222222222, \"#7201a8\"], [0.3333333333333333, \"#9c179e\"], [0.4444444444444444, \"#bd3786\"], [0.5555555555555556, \"#d8576b\"], [0.6666666666666666, \"#ed7953\"], [0.7777777777777778, \"#fb9f3a\"], [0.8888888888888888, \"#fdca26\"], [1.0, \"#f0f921\"]], \"type\": \"heatmap\"}], \"heatmapgl\": [{\"colorbar\": {\"outlinewidth\": 0, \"ticks\": \"\"}, \"colorscale\": [[0.0, \"#0d0887\"], [0.1111111111111111, \"#46039f\"], [0.2222222222222222, \"#7201a8\"], [0.3333333333333333, \"#9c179e\"], [0.4444444444444444, \"#bd3786\"], [0.5555555555555556, \"#d8576b\"], [0.6666666666666666, \"#ed7953\"], [0.7777777777777778, \"#fb9f3a\"], [0.8888888888888888, \"#fdca26\"], [1.0, \"#f0f921\"]], \"type\": \"heatmapgl\"}], \"histogram\": [{\"marker\": {\"colorbar\": {\"outlinewidth\": 0, \"ticks\": \"\"}}, \"type\": \"histogram\"}], \"histogram2d\": [{\"colorbar\": {\"outlinewidth\": 0, \"ticks\": \"\"}, \"colorscale\": [[0.0, \"#0d0887\"], [0.1111111111111111, \"#46039f\"], [0.2222222222222222, \"#7201a8\"], [0.3333333333333333, \"#9c179e\"], [0.4444444444444444, \"#bd3786\"], [0.5555555555555556, \"#d8576b\"], [0.6666666666666666, \"#ed7953\"], [0.7777777777777778, \"#fb9f3a\"], [0.8888888888888888, \"#fdca26\"], [1.0, \"#f0f921\"]], \"type\": \"histogram2d\"}], \"histogram2dcontour\": [{\"colorbar\": {\"outlinewidth\": 0, \"ticks\": \"\"}, \"colorscale\": [[0.0, \"#0d0887\"], [0.1111111111111111, \"#46039f\"], [0.2222222222222222, \"#7201a8\"], [0.3333333333333333, \"#9c179e\"], [0.4444444444444444, \"#bd3786\"], [0.5555555555555556, \"#d8576b\"], [0.6666666666666666, \"#ed7953\"], [0.7777777777777778, \"#fb9f3a\"], [0.8888888888888888, \"#fdca26\"], [1.0, \"#f0f921\"]], \"type\": \"histogram2dcontour\"}], \"mesh3d\": [{\"colorbar\": {\"outlinewidth\": 0, \"ticks\": \"\"}, \"type\": \"mesh3d\"}], \"parcoords\": [{\"line\": {\"colorbar\": {\"outlinewidth\": 0, \"ticks\": \"\"}}, \"type\": \"parcoords\"}], \"scatter\": [{\"marker\": {\"colorbar\": {\"outlinewidth\": 0, \"ticks\": \"\"}}, \"type\": \"scatter\"}], \"scatter3d\": [{\"line\": {\"colorbar\": {\"outlinewidth\": 0, \"ticks\": \"\"}}, \"marker\": {\"colorbar\": {\"outlinewidth\": 0, \"ticks\": \"\"}}, \"type\": \"scatter3d\"}], \"scattercarpet\": [{\"marker\": {\"colorbar\": {\"outlinewidth\": 0, \"ticks\": \"\"}}, \"type\": \"scattercarpet\"}], \"scattergeo\": [{\"marker\": {\"colorbar\": {\"outlinewidth\": 0, \"ticks\": \"\"}}, \"type\": \"scattergeo\"}], \"scattergl\": [{\"marker\": {\"colorbar\": {\"outlinewidth\": 0, \"ticks\": \"\"}}, \"type\": \"scattergl\"}], \"scattermapbox\": [{\"marker\": {\"colorbar\": {\"outlinewidth\": 0, \"ticks\": \"\"}}, \"type\": \"scattermapbox\"}], \"scatterpolar\": [{\"marker\": {\"colorbar\": {\"outlinewidth\": 0, \"ticks\": \"\"}}, \"type\": \"scatterpolar\"}], \"scatterpolargl\": [{\"marker\": {\"colorbar\": {\"outlinewidth\": 0, \"ticks\": \"\"}}, \"type\": \"scatterpolargl\"}], \"scatterternary\": [{\"marker\": {\"colorbar\": {\"outlinewidth\": 0, \"ticks\": \"\"}}, \"type\": \"scatterternary\"}], \"surface\": [{\"colorbar\": {\"outlinewidth\": 0, \"ticks\": \"\"}, \"colorscale\": [[0.0, \"#0d0887\"], [0.1111111111111111, \"#46039f\"], [0.2222222222222222, \"#7201a8\"], [0.3333333333333333, \"#9c179e\"], [0.4444444444444444, \"#bd3786\"], [0.5555555555555556, \"#d8576b\"], [0.6666666666666666, \"#ed7953\"], [0.7777777777777778, \"#fb9f3a\"], [0.8888888888888888, \"#fdca26\"], [1.0, \"#f0f921\"]], \"type\": \"surface\"}], \"table\": [{\"cells\": {\"fill\": {\"color\": \"#EBF0F8\"}, \"line\": {\"color\": \"white\"}}, \"header\": {\"fill\": {\"color\": \"#C8D4E3\"}, \"line\": {\"color\": \"white\"}}, \"type\": \"table\"}]}, \"layout\": {\"annotationdefaults\": {\"arrowcolor\": \"#2a3f5f\", \"arrowhead\": 0, \"arrowwidth\": 1}, \"colorscale\": {\"diverging\": [[0, \"#8e0152\"], [0.1, \"#c51b7d\"], [0.2, \"#de77ae\"], [0.3, \"#f1b6da\"], [0.4, \"#fde0ef\"], [0.5, \"#f7f7f7\"], [0.6, \"#e6f5d0\"], [0.7, \"#b8e186\"], [0.8, \"#7fbc41\"], [0.9, \"#4d9221\"], [1, \"#276419\"]], \"sequential\": [[0.0, \"#0d0887\"], [0.1111111111111111, \"#46039f\"], [0.2222222222222222, \"#7201a8\"], [0.3333333333333333, \"#9c179e\"], [0.4444444444444444, \"#bd3786\"], [0.5555555555555556, \"#d8576b\"], [0.6666666666666666, \"#ed7953\"], [0.7777777777777778, \"#fb9f3a\"], [0.8888888888888888, \"#fdca26\"], [1.0, \"#f0f921\"]], \"sequentialminus\": [[0.0, \"#0d0887\"], [0.1111111111111111, \"#46039f\"], [0.2222222222222222, \"#7201a8\"], [0.3333333333333333, \"#9c179e\"], [0.4444444444444444, \"#bd3786\"], [0.5555555555555556, \"#d8576b\"], [0.6666666666666666, \"#ed7953\"], [0.7777777777777778, \"#fb9f3a\"], [0.8888888888888888, \"#fdca26\"], [1.0, \"#f0f921\"]]}, \"colorway\": [\"#636efa\", \"#EF553B\", \"#00cc96\", \"#ab63fa\", \"#FFA15A\", \"#19d3f3\", \"#FF6692\", \"#B6E880\", \"#FF97FF\", \"#FECB52\"], \"font\": {\"color\": \"#2a3f5f\"}, \"geo\": {\"bgcolor\": \"white\", \"lakecolor\": \"white\", \"landcolor\": \"#E5ECF6\", \"showlakes\": true, \"showland\": true, \"subunitcolor\": \"white\"}, \"hoverlabel\": {\"align\": \"left\"}, \"hovermode\": \"closest\", \"mapbox\": {\"style\": \"light\"}, \"paper_bgcolor\": \"white\", \"plot_bgcolor\": \"#E5ECF6\", \"polar\": {\"angularaxis\": {\"gridcolor\": \"white\", \"linecolor\": \"white\", \"ticks\": \"\"}, \"bgcolor\": \"#E5ECF6\", \"radialaxis\": {\"gridcolor\": \"white\", \"linecolor\": \"white\", \"ticks\": \"\"}}, \"scene\": {\"xaxis\": {\"backgroundcolor\": \"#E5ECF6\", \"gridcolor\": \"white\", \"gridwidth\": 2, \"linecolor\": \"white\", \"showbackground\": true, \"ticks\": \"\", \"zerolinecolor\": \"white\"}, \"yaxis\": {\"backgroundcolor\": \"#E5ECF6\", \"gridcolor\": \"white\", \"gridwidth\": 2, \"linecolor\": \"white\", \"showbackground\": true, \"ticks\": \"\", \"zerolinecolor\": \"white\"}, \"zaxis\": {\"backgroundcolor\": \"#E5ECF6\", \"gridcolor\": \"white\", \"gridwidth\": 2, \"linecolor\": \"white\", \"showbackground\": true, \"ticks\": \"\", \"zerolinecolor\": \"white\"}}, \"shapedefaults\": {\"line\": {\"color\": \"#2a3f5f\"}}, \"ternary\": {\"aaxis\": {\"gridcolor\": \"white\", \"linecolor\": \"white\", \"ticks\": \"\"}, \"baxis\": {\"gridcolor\": \"white\", \"linecolor\": \"white\", \"ticks\": \"\"}, \"bgcolor\": \"#E5ECF6\", \"caxis\": {\"gridcolor\": \"white\", \"linecolor\": \"white\", \"ticks\": \"\"}}, \"title\": {\"x\": 0.05}, \"xaxis\": {\"automargin\": true, \"gridcolor\": \"white\", \"linecolor\": \"white\", \"ticks\": \"\", \"zerolinecolor\": \"white\", \"zerolinewidth\": 2}, \"yaxis\": {\"automargin\": true, \"gridcolor\": \"white\", \"linecolor\": \"white\", \"ticks\": \"\", \"zerolinecolor\": \"white\", \"zerolinewidth\": 2}}}, \"title\": {\"text\": \"Citations et enseignement des 3 meilleures universit\\u00e9s en 2014\"}, \"xaxis\": {\"title\": {\"text\": \"Top des 3 meilleurs universit\\u00e9s\"}}},\n",
       "                        {\"responsive\": true}\n",
       "                    ).then(function(){\n",
       "                            \n",
       "var gd = document.getElementById('aaadf387-b902-472a-bec3-ec2ec0c0511a');\n",
       "var x = new MutationObserver(function (mutations, observer) {{\n",
       "        var display = window.getComputedStyle(gd).display;\n",
       "        if (!display || display === 'none') {{\n",
       "            console.log([gd, 'removed!']);\n",
       "            Plotly.purge(gd);\n",
       "            observer.disconnect();\n",
       "        }}\n",
       "}});\n",
       "\n",
       "// Listen for the removal of the full notebook cells\n",
       "var notebookContainer = gd.closest('#notebook-container');\n",
       "if (notebookContainer) {{\n",
       "    x.observe(notebookContainer, {childList: true});\n",
       "}}\n",
       "\n",
       "// Listen for the clearing of the current output cell\n",
       "var outputEl = gd.closest('.output');\n",
       "if (outputEl) {{\n",
       "    x.observe(outputEl, {childList: true});\n",
       "}}\n",
       "\n",
       "                        })\n",
       "                };\n",
       "                });\n",
       "            </script>\n",
       "        </div>"
      ]
     },
     "metadata": {},
     "output_type": "display_data"
    }
   ],
   "source": [
    "import plotly.graph_objs as go\n",
    "\n",
    "x = df2.year\n",
    "\n",
    "trace1 = {\n",
    "  'x': x,\n",
    "  'y': df2.income,\n",
    "  'name': 'score income',\n",
    "  'type': 'bar'\n",
    "};\n",
    "trace2 = {\n",
    "  'x': x,\n",
    "  'y': df2.international,\n",
    "  'name': 'score international',\n",
    "  'type': 'bar'\n",
    "};\n",
    "data = [trace1, trace2];\n",
    "layout = {\n",
    "  'xaxis': {'title': 'Top des 3 meilleurs universités'},\n",
    "  'barmode': 'relative',\n",
    "  'title': 'Citations et enseignement des 3 meilleures universités en 2014'\n",
    "};\n",
    "fig = go.Figure(data = data, layout = layout)\n",
    "iplot(fig)"
   ]
  },
  {
   "cell_type": "code",
   "execution_count": 43,
   "metadata": {},
   "outputs": [
    {
     "data": {
      "text/plain": [
       "Index(['Australia', 'Belgium', 'Canada', 'China', 'Denmark', 'Egypt',\n",
       "       'Finland', 'France', 'Germany', 'Hong Kong',\n",
       "       ...\n",
       "       'Sweden', 'Switzerland', 'Taiwan', 'Thailand', 'Turkey', 'Uganda',\n",
       "       'Ukraine', 'United Arab Emirates', 'United Kingdom',\n",
       "       'United States of America'],\n",
       "      dtype='object', name='country', length=247)"
      ]
     },
     "execution_count": 43,
     "metadata": {},
     "output_type": "execute_result"
    }
   ],
   "source": [
    "df2.index"
   ]
  },
  {
   "cell_type": "code",
   "execution_count": 41,
   "metadata": {},
   "outputs": [
    {
     "data": {
      "application/vnd.plotly.v1+json": {
       "config": {
        "linkText": "Export to plot.ly",
        "plotlyServerURL": "https://plot.ly",
        "showLink": false
       },
       "data": [
        {
         "marker": {
          "color": "rgba(255, 174, 255, 0.5)",
          "line": {
           "color": "rgb(0,0,0)",
           "width": 1.5
          }
         },
         "name": "income",
         "text": [
          51.387499999999996,
          97.4,
          41.666666666666664,
          63.175,
          61.03333333333333,
          36,
          30.2,
          27.73333333333333,
          43.43333333333334,
          46.800000000000004,
          72.06666666666666,
          69.8375,
          61.1,
          41.5,
          31.6,
          40.25,
          100,
          35,
          69.75,
          40.075,
          55.525000000000006,
          43.9,
          41.68518518518518,
          58.00714285714286,
          47.73999999999999,
          66.92857142857143,
          38.25,
          50.931250000000006,
          70.3,
          24.5,
          60.8,
          34.5,
          26.3,
          41.67999999999999,
          34.31428571428571,
          43.095,
          33.2,
          49.739999999999995,
          75.4,
          24.2,
          93.1,
          29.03333333333333,
          41.971428571428575,
          46.37142857142857,
          63.699999999999996,
          36.26,
          41.53333333333334,
          25.8,
          34.025,
          31.575000000000003,
          53,
          52.55,
          99.03333333333335,
          99.8,
          36.599999999999994,
          55.15714285714286,
          41.94,
          55.949999999999996,
          29,
          59,
          36.97551020408162,
          46.82337662337662,
          50.45416666666667,
          68.34285714285714,
          42.45,
          52.75625,
          66.96666666666665,
          28.4,
          28.1,
          64.52000000000001,
          30.1,
          52.4,
          47.112500000000004,
          46.71363636363637,
          34.1,
          46.480000000000004,
          74.4,
          65.16666666666667,
          93,
          37.2,
          42.05,
          49.9,
          36,
          73.73846153846155,
          50.13333333333333,
          38.46666666666667,
          28.7,
          36.1,
          35.875,
          64.85,
          40.2,
          88.45,
          77.69999999999999,
          99.56666666666666,
          35.07142857142858,
          56.24285714285714,
          45.339999999999996,
          66.05714285714285,
          60.2,
          56.225,
          40.81521739130436,
          47.311842105263146,
          50.884000000000015,
          76.28333333333333,
          44.55,
          51.6,
          67.74285714285715,
          30.6,
          29,
          63.980000000000004,
          30.3,
          37.275,
          45.55555555555555,
          49.29090909090908,
          35,
          45.9,
          78.5,
          45.199999999999996,
          98.3,
          34.75,
          42.226666666666674,
          59.699999999999996,
          74.38461538461537,
          51.42,
          40.03333333333334,
          28.3,
          37.05,
          39.875,
          72.2,
          39.7,
          82.15,
          93.5,
          99.53333333333335,
          40.73333333333333,
          58.083333333333336,
          54.24285714285715,
          65.95,
          62.2,
          53.05,
          38.72765957446809,
          47.472500000000004,
          49.772000000000006,
          71.02857142857142,
          42.3,
          49.79375,
          28.1,
          70.64285714285715,
          36.5,
          29.4,
          63.85999999999999,
          46.20000000000001,
          45.13333333333334,
          53.04,
          36,
          44.059999999999995,
          64,
          46.225,
          85.15,
          34,
          41.42941176470589,
          57.56,
          33.6,
          28.6,
          74.96153846153847,
          51.06,
          39.333333333333336,
          28.5,
          39.2,
          37,
          55.95,
          76.7,
          92.5,
          77.78,
          42.449999999999996,
          57.43333333333334,
          61.942857142857136,
          70.06666666666666,
          56.5,
          49.5,
          38.25714285714285,
          48.472619047619034,
          28.6,
          48.9945945945946,
          28,
          73.52857142857144,
          46.054545454545455,
          46.74347826086956,
          37.875,
          64.4076923076923,
          35.8,
          30,
          30.22857142857143,
          45.050000000000004,
          30,
          38.15,
          45.62222222222222,
          34.07727272727273,
          69.3264705882353,
          42.68333333333334,
          43.040000000000006,
          34.53333333333334,
          28,
          41.98000000000001,
          40,
          62.65714285714285,
          29.72,
          39.971875,
          47.52647058823529,
          30.1,
          28,
          28.3,
          41,
          38.1,
          34.9,
          31.28,
          69.75,
          29.2,
          73.02307692307693,
          43.17142857142857,
          29.2,
          41.6,
          37.6,
          31.3,
          32.916666666666664,
          40.1,
          55.2,
          37.6625,
          28.766666666666666,
          49.24999999999999,
          77.15,
          45.6,
          74.85,
          30.6,
          32.3,
          68.63333333333333,
          54.17058823529411,
          35.56,
          50.87500000000001,
          68.4,
          53.65217391304347,
          45.34285714285715,
          62.25,
          28,
          28.4,
          31.7,
          34.386486486486504,
          44.33923076923078
         ],
         "type": "bar",
         "x": [
          "Australia",
          "Belgium",
          "Canada",
          "China",
          "Denmark",
          "Egypt",
          "Finland",
          "France",
          "Germany",
          "Hong Kong",
          "Japan",
          "Netherlands",
          "New Zealand",
          "Norway",
          "Republic of Ireland",
          "Singapore",
          "South Korea",
          "Spain",
          "Sweden",
          "Switzerland",
          "Taiwan",
          "Turkey",
          "United Kingdom",
          "United States of America",
          "Australia",
          "Belgium",
          "Brazil",
          "Canada",
          "China",
          "Czech Republic",
          "Denmark",
          "Egypt",
          "Estonia",
          "Finland",
          "France",
          "Germany",
          "Greece",
          "Hong Kong",
          "Iceland",
          "India",
          "Iran",
          "Israel",
          "Italy",
          "Japan",
          "Netherlands",
          "New Zealand",
          "Norway",
          "Poland",
          "Portugal",
          "Republic of Ireland",
          "Russian Federation",
          "Singapore",
          "South Africa",
          "South Korea",
          "Spain",
          "Sweden",
          "Switzerland",
          "Taiwan",
          "Thailand",
          "Turkey",
          "United Kingdom",
          "United States of America",
          "Australia",
          "Belgium",
          "Brazil",
          "Canada",
          "China",
          "Colombia",
          "Czech Republic",
          "Denmark",
          "Estonia",
          "Finland",
          "France",
          "Germany",
          "Greece",
          "Hong Kong",
          "Iceland",
          "India",
          "Iran",
          "Israel",
          "Italy",
          "Japan",
          "Mexico",
          "Netherlands",
          "New Zealand",
          "Norway",
          "Poland",
          "Portugal",
          "Republic of Ireland",
          "Russian Federation",
          "Saudi Arabia",
          "Singapore",
          "South Africa",
          "South Korea",
          "Spain",
          "Sweden",
          "Switzerland",
          "Taiwan",
          "Thailand",
          "Turkey",
          "United Kingdom",
          "United States of America",
          "Australia",
          "Belgium",
          "Brazil",
          "Canada",
          "China",
          "Colombia",
          "Czech Republic",
          "Denmark",
          "Estonia",
          "Finland",
          "France",
          "Germany",
          "Greece",
          "Hong Kong",
          "Iceland",
          "India",
          "Iran",
          "Israel",
          "Italy",
          "Japan",
          "Netherlands",
          "New Zealand",
          "Norway",
          "Poland",
          "Portugal",
          "Republic of Ireland",
          "Russian Federation",
          "Saudi Arabia",
          "Singapore",
          "South Africa",
          "South Korea",
          "Spain",
          "Sweden",
          "Switzerland",
          "Taiwan",
          "Thailand",
          "Turkey",
          "United Kingdom",
          "United States of America",
          "Australia",
          "Belgium",
          "Brazil",
          "Canada",
          "Chile",
          "China",
          "Colombia",
          "Czech Republic",
          "Denmark",
          "Finland",
          "France",
          "Germany",
          "Greece",
          "Hong Kong",
          "Iceland",
          "India",
          "Iran",
          "Israel",
          "Italy",
          "Japan",
          "Macau",
          "Morocco",
          "Netherlands",
          "New Zealand",
          "Norway",
          "Poland",
          "Portugal",
          "Republic of Ireland",
          "Russian Federation",
          "Singapore",
          "South Africa",
          "South Korea",
          "Spain",
          "Sweden",
          "Switzerland",
          "Taiwan",
          "Thailand",
          "Turkey",
          "United Kingdom",
          "United States of America",
          "Argentina",
          "Australia",
          "Belarus",
          "Belgium",
          "Brazil",
          "Canada",
          "Chile",
          "China",
          "Colombia",
          "Cyprus",
          "Czech Republic",
          "Denmark",
          "Egypt",
          "Estonia",
          "Finland",
          "France",
          "Germany",
          "Greece",
          "Hong Kong",
          "Hungary",
          "Iceland",
          "India",
          "Indonesia",
          "Iran",
          "Israel",
          "Italy",
          "Japan",
          "Jordan",
          "Kenya",
          "Latvia",
          "Lithuania",
          "Luxembourg",
          "Macau",
          "Malaysia",
          "Mexico",
          "Morocco",
          "Netherlands",
          "New Zealand",
          "Nigeria",
          "Norway",
          "Oman",
          "Pakistan",
          "Poland",
          "Portugal",
          "Qatar",
          "Republic of Ireland",
          "Romania",
          "Russian Federation",
          "Saudi Arabia",
          "Serbia",
          "Singapore",
          "Slovakia",
          "Slovenia",
          "South Africa",
          "South Korea",
          "Spain",
          "Sweden",
          "Switzerland",
          "Taiwan",
          "Thailand",
          "Turkey",
          "Uganda",
          "Ukraine",
          "United Arab Emirates",
          "United Kingdom",
          "United States of America"
         ],
         "y": [
          51.387499999999996,
          97.4,
          41.666666666666664,
          63.175,
          61.03333333333333,
          36,
          30.2,
          27.73333333333333,
          43.43333333333334,
          46.800000000000004,
          72.06666666666666,
          69.8375,
          61.1,
          41.5,
          31.6,
          40.25,
          100,
          35,
          69.75,
          40.075,
          55.525000000000006,
          43.9,
          41.68518518518518,
          58.00714285714286,
          47.73999999999999,
          66.92857142857143,
          38.25,
          50.931250000000006,
          70.3,
          24.5,
          60.8,
          34.5,
          26.3,
          41.67999999999999,
          34.31428571428571,
          43.095,
          33.2,
          49.739999999999995,
          75.4,
          24.2,
          93.1,
          29.03333333333333,
          41.971428571428575,
          46.37142857142857,
          63.699999999999996,
          36.26,
          41.53333333333334,
          25.8,
          34.025,
          31.575000000000003,
          53,
          52.55,
          99.03333333333335,
          99.8,
          36.599999999999994,
          55.15714285714286,
          41.94,
          55.949999999999996,
          29,
          59,
          36.97551020408162,
          46.82337662337662,
          50.45416666666667,
          68.34285714285714,
          42.45,
          52.75625,
          66.96666666666665,
          28.4,
          28.1,
          64.52000000000001,
          30.1,
          52.4,
          47.112500000000004,
          46.71363636363637,
          34.1,
          46.480000000000004,
          74.4,
          65.16666666666667,
          93,
          37.2,
          42.05,
          49.9,
          36,
          73.73846153846155,
          50.13333333333333,
          38.46666666666667,
          28.7,
          36.1,
          35.875,
          64.85,
          40.2,
          88.45,
          77.69999999999999,
          99.56666666666666,
          35.07142857142858,
          56.24285714285714,
          45.339999999999996,
          66.05714285714285,
          60.2,
          56.225,
          40.81521739130436,
          47.311842105263146,
          50.884000000000015,
          76.28333333333333,
          44.55,
          51.6,
          67.74285714285715,
          30.6,
          29,
          63.980000000000004,
          30.3,
          37.275,
          45.55555555555555,
          49.29090909090908,
          35,
          45.9,
          78.5,
          45.199999999999996,
          98.3,
          34.75,
          42.226666666666674,
          59.699999999999996,
          74.38461538461537,
          51.42,
          40.03333333333334,
          28.3,
          37.05,
          39.875,
          72.2,
          39.7,
          82.15,
          93.5,
          99.53333333333335,
          40.73333333333333,
          58.083333333333336,
          54.24285714285715,
          65.95,
          62.2,
          53.05,
          38.72765957446809,
          47.472500000000004,
          49.772000000000006,
          71.02857142857142,
          42.3,
          49.79375,
          28.1,
          70.64285714285715,
          36.5,
          29.4,
          63.85999999999999,
          46.20000000000001,
          45.13333333333334,
          53.04,
          36,
          44.059999999999995,
          64,
          46.225,
          85.15,
          34,
          41.42941176470589,
          57.56,
          33.6,
          28.6,
          74.96153846153847,
          51.06,
          39.333333333333336,
          28.5,
          39.2,
          37,
          55.95,
          76.7,
          92.5,
          77.78,
          42.449999999999996,
          57.43333333333334,
          61.942857142857136,
          70.06666666666666,
          56.5,
          49.5,
          38.25714285714285,
          48.472619047619034,
          28.6,
          48.9945945945946,
          28,
          73.52857142857144,
          46.054545454545455,
          46.74347826086956,
          37.875,
          64.4076923076923,
          35.8,
          30,
          30.22857142857143,
          45.050000000000004,
          30,
          38.15,
          45.62222222222222,
          34.07727272727273,
          69.3264705882353,
          42.68333333333334,
          43.040000000000006,
          34.53333333333334,
          28,
          41.98000000000001,
          40,
          62.65714285714285,
          29.72,
          39.971875,
          47.52647058823529,
          30.1,
          28,
          28.3,
          41,
          38.1,
          34.9,
          31.28,
          69.75,
          29.2,
          73.02307692307693,
          43.17142857142857,
          29.2,
          41.6,
          37.6,
          31.3,
          32.916666666666664,
          40.1,
          55.2,
          37.6625,
          28.766666666666666,
          49.24999999999999,
          77.15,
          45.6,
          74.85,
          30.6,
          32.3,
          68.63333333333333,
          54.17058823529411,
          35.56,
          50.87500000000001,
          68.4,
          53.65217391304347,
          45.34285714285715,
          62.25,
          28,
          28.4,
          31.7,
          34.386486486486504,
          44.33923076923078
         ]
        },
        {
         "marker": {
          "color": "rgba(255, 255, 128, 0.5)",
          "line": {
           "color": "rgb(0,0,0)",
           "width": 1.5
          }
         },
         "name": "international",
         "text": [
          82.47500000000001,
          27.15,
          72.26666666666667,
          38.025,
          47.73333333333333,
          19.3,
          24.2,
          37.733333333333334,
          52.111111111111114,
          82.03333333333333,
          21.666666666666668,
          43.949999999999996,
          94.3,
          66.6,
          84.2,
          97.05,
          34.650000000000006,
          33.2,
          71.05000000000001,
          93.725,
          35.625,
          27.2,
          73.97777777777777,
          40.76785714285715,
          77.40800000000002,
          63.671428571428564,
          21,
          61.993750000000006,
          24.37142857142857,
          51.4,
          71.66,
          31.6,
          42,
          41.800000000000004,
          65.85714285714286,
          55.38500000000001,
          42.6,
          67.23999999999998,
          56.9,
          14.3,
          12.7,
          49.63333333333333,
          33.949999999999996,
          21.028571428571432,
          60.10833333333334,
          86.8,
          64.89999999999999,
          39.5,
          48.625,
          78.45,
          45.7,
          91.4,
          63.333333333333336,
          26.96666666666667,
          39.35,
          62.65714285714286,
          90.76000000000002,
          17.9375,
          45,
          26.2,
          76.46734693877549,
          35.66753246753247,
          75.50833333333334,
          60.41428571428571,
          22.7,
          60.243750000000006,
          31.53333333333333,
          53,
          50.3,
          70.28,
          42.4,
          44.9,
          64.775,
          53.3909090909091,
          44.4,
          67.14000000000001,
          59.9,
          17.2,
          16.7,
          53.099999999999994,
          36.971428571428575,
          25.84545454545454,
          33.2,
          60.93846153846154,
          84.18333333333332,
          63.43333333333334,
          40.75,
          45.333333333333336,
          73.625,
          34.55,
          71,
          91.4,
          61.05,
          30.26666666666667,
          40.35714285714285,
          60.642857142857146,
          89.06,
          23.628571428571433,
          23.8,
          34.575,
          76.35652173913041,
          40.039473684210535,
          77.75600000000003,
          59.01666666666667,
          21.95,
          62.775,
          31.35714285714286,
          55.7,
          53.2,
          71.56,
          43.7,
          47.300000000000004,
          64.63333333333334,
          53.88636363636365,
          47.1,
          67.03999999999999,
          59.9,
          20.733333333333334,
          20.7,
          56.3,
          39.89333333333333,
          27.788888888888888,
          63.600000000000016,
          85.22,
          58.9,
          42.8,
          45.4,
          73.2,
          55.7,
          74.3,
          92.65,
          64.03333333333335,
          33.93333333333333,
          40.48888888888889,
          63.699999999999996,
          90.17142857142858,
          25.162499999999998,
          24.4,
          43.625,
          77.09574468085107,
          42.81125,
          78.92399999999999,
          62.15714285714286,
          23,
          66.19375000000002,
          48.7,
          33.714285714285715,
          54.6,
          53.9,
          70.14,
          50.699999999999996,
          67.75555555555555,
          54.11600000000001,
          47,
          69.88000000000001,
          59.1,
          20.875,
          19.7,
          56.95,
          42.670588235294126,
          31.940000000000005,
          73.3,
          45.1,
          65.54615384615386,
          84.3,
          60,
          41.6,
          48.25,
          77.25,
          52.099999999999994,
          93.7,
          63.6,
          35.4,
          49.349999999999994,
          61.35,
          90.77142857142857,
          26.766666666666666,
          22.5,
          44.9,
          79.10476190476192,
          45.029761904761905,
          28.1,
          77.9891891891892,
          48.2,
          68.64285714285714,
          21.2,
          66.14782608695653,
          43.85,
          23.446153846153848,
          46.85,
          74.7,
          36.442857142857136,
          79.41666666666667,
          32.35,
          42,
          53.599999999999994,
          61.14545454545455,
          53.267647058823535,
          36.93333333333333,
          83.24,
          53,
          61,
          14.419999999999998,
          37.2,
          12.57142857142857,
          50.9,
          37.60937499999999,
          22.76470588235294,
          57.95,
          45.5,
          31.5,
          40.8,
          99.8,
          98.4,
          38.1,
          47.75,
          42.7,
          70.39999999999999,
          89.04285714285716,
          26.1,
          65.33333333333333,
          71.5,
          31.3,
          26.016666666666666,
          45.12857142857143,
          99.9,
          78.98750000000001,
          34.53333333333333,
          29.941666666666666,
          88.75,
          30.5,
          95.4,
          38.75,
          34.5,
          55.28333333333334,
          28.39411764705882,
          40.908,
          62.050000000000004,
          93.6,
          23.286956521739135,
          32.67142857142857,
          27.009999999999998,
          58,
          38.3,
          95.3,
          78.22432432432433,
          42.436153846153864
         ],
         "type": "bar",
         "x": [
          "Australia",
          "Belgium",
          "Canada",
          "China",
          "Denmark",
          "Egypt",
          "Finland",
          "France",
          "Germany",
          "Hong Kong",
          "Japan",
          "Netherlands",
          "New Zealand",
          "Norway",
          "Republic of Ireland",
          "Singapore",
          "South Korea",
          "Spain",
          "Sweden",
          "Switzerland",
          "Taiwan",
          "Turkey",
          "United Kingdom",
          "United States of America",
          "Australia",
          "Belgium",
          "Brazil",
          "Canada",
          "China",
          "Czech Republic",
          "Denmark",
          "Egypt",
          "Estonia",
          "Finland",
          "France",
          "Germany",
          "Greece",
          "Hong Kong",
          "Iceland",
          "India",
          "Iran",
          "Israel",
          "Italy",
          "Japan",
          "Netherlands",
          "New Zealand",
          "Norway",
          "Poland",
          "Portugal",
          "Republic of Ireland",
          "Russian Federation",
          "Singapore",
          "South Africa",
          "South Korea",
          "Spain",
          "Sweden",
          "Switzerland",
          "Taiwan",
          "Thailand",
          "Turkey",
          "United Kingdom",
          "United States of America",
          "Australia",
          "Belgium",
          "Brazil",
          "Canada",
          "China",
          "Colombia",
          "Czech Republic",
          "Denmark",
          "Estonia",
          "Finland",
          "France",
          "Germany",
          "Greece",
          "Hong Kong",
          "Iceland",
          "India",
          "Iran",
          "Israel",
          "Italy",
          "Japan",
          "Mexico",
          "Netherlands",
          "New Zealand",
          "Norway",
          "Poland",
          "Portugal",
          "Republic of Ireland",
          "Russian Federation",
          "Saudi Arabia",
          "Singapore",
          "South Africa",
          "South Korea",
          "Spain",
          "Sweden",
          "Switzerland",
          "Taiwan",
          "Thailand",
          "Turkey",
          "United Kingdom",
          "United States of America",
          "Australia",
          "Belgium",
          "Brazil",
          "Canada",
          "China",
          "Colombia",
          "Czech Republic",
          "Denmark",
          "Estonia",
          "Finland",
          "France",
          "Germany",
          "Greece",
          "Hong Kong",
          "Iceland",
          "India",
          "Iran",
          "Israel",
          "Italy",
          "Japan",
          "Netherlands",
          "New Zealand",
          "Norway",
          "Poland",
          "Portugal",
          "Republic of Ireland",
          "Russian Federation",
          "Saudi Arabia",
          "Singapore",
          "South Africa",
          "South Korea",
          "Spain",
          "Sweden",
          "Switzerland",
          "Taiwan",
          "Thailand",
          "Turkey",
          "United Kingdom",
          "United States of America",
          "Australia",
          "Belgium",
          "Brazil",
          "Canada",
          "Chile",
          "China",
          "Colombia",
          "Czech Republic",
          "Denmark",
          "Finland",
          "France",
          "Germany",
          "Greece",
          "Hong Kong",
          "Iceland",
          "India",
          "Iran",
          "Israel",
          "Italy",
          "Japan",
          "Macau",
          "Morocco",
          "Netherlands",
          "New Zealand",
          "Norway",
          "Poland",
          "Portugal",
          "Republic of Ireland",
          "Russian Federation",
          "Singapore",
          "South Africa",
          "South Korea",
          "Spain",
          "Sweden",
          "Switzerland",
          "Taiwan",
          "Thailand",
          "Turkey",
          "United Kingdom",
          "United States of America",
          "Argentina",
          "Australia",
          "Belarus",
          "Belgium",
          "Brazil",
          "Canada",
          "Chile",
          "China",
          "Colombia",
          "Cyprus",
          "Czech Republic",
          "Denmark",
          "Egypt",
          "Estonia",
          "Finland",
          "France",
          "Germany",
          "Greece",
          "Hong Kong",
          "Hungary",
          "Iceland",
          "India",
          "Indonesia",
          "Iran",
          "Israel",
          "Italy",
          "Japan",
          "Jordan",
          "Kenya",
          "Latvia",
          "Lithuania",
          "Luxembourg",
          "Macau",
          "Malaysia",
          "Mexico",
          "Morocco",
          "Netherlands",
          "New Zealand",
          "Nigeria",
          "Norway",
          "Oman",
          "Pakistan",
          "Poland",
          "Portugal",
          "Qatar",
          "Republic of Ireland",
          "Romania",
          "Russian Federation",
          "Saudi Arabia",
          "Serbia",
          "Singapore",
          "Slovakia",
          "Slovenia",
          "South Africa",
          "South Korea",
          "Spain",
          "Sweden",
          "Switzerland",
          "Taiwan",
          "Thailand",
          "Turkey",
          "Uganda",
          "Ukraine",
          "United Arab Emirates",
          "United Kingdom",
          "United States of America"
         ],
         "y": [
          82.47500000000001,
          27.15,
          72.26666666666667,
          38.025,
          47.73333333333333,
          19.3,
          24.2,
          37.733333333333334,
          52.111111111111114,
          82.03333333333333,
          21.666666666666668,
          43.949999999999996,
          94.3,
          66.6,
          84.2,
          97.05,
          34.650000000000006,
          33.2,
          71.05000000000001,
          93.725,
          35.625,
          27.2,
          73.97777777777777,
          40.76785714285715,
          77.40800000000002,
          63.671428571428564,
          21,
          61.993750000000006,
          24.37142857142857,
          51.4,
          71.66,
          31.6,
          42,
          41.800000000000004,
          65.85714285714286,
          55.38500000000001,
          42.6,
          67.23999999999998,
          56.9,
          14.3,
          12.7,
          49.63333333333333,
          33.949999999999996,
          21.028571428571432,
          60.10833333333334,
          86.8,
          64.89999999999999,
          39.5,
          48.625,
          78.45,
          45.7,
          91.4,
          63.333333333333336,
          26.96666666666667,
          39.35,
          62.65714285714286,
          90.76000000000002,
          17.9375,
          45,
          26.2,
          76.46734693877549,
          35.66753246753247,
          75.50833333333334,
          60.41428571428571,
          22.7,
          60.243750000000006,
          31.53333333333333,
          53,
          50.3,
          70.28,
          42.4,
          44.9,
          64.775,
          53.3909090909091,
          44.4,
          67.14000000000001,
          59.9,
          17.2,
          16.7,
          53.099999999999994,
          36.971428571428575,
          25.84545454545454,
          33.2,
          60.93846153846154,
          84.18333333333332,
          63.43333333333334,
          40.75,
          45.333333333333336,
          73.625,
          34.55,
          71,
          91.4,
          61.05,
          30.26666666666667,
          40.35714285714285,
          60.642857142857146,
          89.06,
          23.628571428571433,
          23.8,
          34.575,
          76.35652173913041,
          40.039473684210535,
          77.75600000000003,
          59.01666666666667,
          21.95,
          62.775,
          31.35714285714286,
          55.7,
          53.2,
          71.56,
          43.7,
          47.300000000000004,
          64.63333333333334,
          53.88636363636365,
          47.1,
          67.03999999999999,
          59.9,
          20.733333333333334,
          20.7,
          56.3,
          39.89333333333333,
          27.788888888888888,
          63.600000000000016,
          85.22,
          58.9,
          42.8,
          45.4,
          73.2,
          55.7,
          74.3,
          92.65,
          64.03333333333335,
          33.93333333333333,
          40.48888888888889,
          63.699999999999996,
          90.17142857142858,
          25.162499999999998,
          24.4,
          43.625,
          77.09574468085107,
          42.81125,
          78.92399999999999,
          62.15714285714286,
          23,
          66.19375000000002,
          48.7,
          33.714285714285715,
          54.6,
          53.9,
          70.14,
          50.699999999999996,
          67.75555555555555,
          54.11600000000001,
          47,
          69.88000000000001,
          59.1,
          20.875,
          19.7,
          56.95,
          42.670588235294126,
          31.940000000000005,
          73.3,
          45.1,
          65.54615384615386,
          84.3,
          60,
          41.6,
          48.25,
          77.25,
          52.099999999999994,
          93.7,
          63.6,
          35.4,
          49.349999999999994,
          61.35,
          90.77142857142857,
          26.766666666666666,
          22.5,
          44.9,
          79.10476190476192,
          45.029761904761905,
          28.1,
          77.9891891891892,
          48.2,
          68.64285714285714,
          21.2,
          66.14782608695653,
          43.85,
          23.446153846153848,
          46.85,
          74.7,
          36.442857142857136,
          79.41666666666667,
          32.35,
          42,
          53.599999999999994,
          61.14545454545455,
          53.267647058823535,
          36.93333333333333,
          83.24,
          53,
          61,
          14.419999999999998,
          37.2,
          12.57142857142857,
          50.9,
          37.60937499999999,
          22.76470588235294,
          57.95,
          45.5,
          31.5,
          40.8,
          99.8,
          98.4,
          38.1,
          47.75,
          42.7,
          70.39999999999999,
          89.04285714285716,
          26.1,
          65.33333333333333,
          71.5,
          31.3,
          26.016666666666666,
          45.12857142857143,
          99.9,
          78.98750000000001,
          34.53333333333333,
          29.941666666666666,
          88.75,
          30.5,
          95.4,
          38.75,
          34.5,
          55.28333333333334,
          28.39411764705882,
          40.908,
          62.050000000000004,
          93.6,
          23.286956521739135,
          32.67142857142857,
          27.009999999999998,
          58,
          38.3,
          95.3,
          78.22432432432433,
          42.436153846153864
         ]
        }
       ],
       "layout": {
        "barmode": "relative",
        "template": {
         "data": {
          "bar": [
           {
            "error_x": {
             "color": "#2a3f5f"
            },
            "error_y": {
             "color": "#2a3f5f"
            },
            "marker": {
             "line": {
              "color": "#E5ECF6",
              "width": 0.5
             }
            },
            "type": "bar"
           }
          ],
          "barpolar": [
           {
            "marker": {
             "line": {
              "color": "#E5ECF6",
              "width": 0.5
             }
            },
            "type": "barpolar"
           }
          ],
          "carpet": [
           {
            "aaxis": {
             "endlinecolor": "#2a3f5f",
             "gridcolor": "white",
             "linecolor": "white",
             "minorgridcolor": "white",
             "startlinecolor": "#2a3f5f"
            },
            "baxis": {
             "endlinecolor": "#2a3f5f",
             "gridcolor": "white",
             "linecolor": "white",
             "minorgridcolor": "white",
             "startlinecolor": "#2a3f5f"
            },
            "type": "carpet"
           }
          ],
          "choropleth": [
           {
            "colorbar": {
             "outlinewidth": 0,
             "ticks": ""
            },
            "type": "choropleth"
           }
          ],
          "contour": [
           {
            "colorbar": {
             "outlinewidth": 0,
             "ticks": ""
            },
            "colorscale": [
             [
              0,
              "#0d0887"
             ],
             [
              0.1111111111111111,
              "#46039f"
             ],
             [
              0.2222222222222222,
              "#7201a8"
             ],
             [
              0.3333333333333333,
              "#9c179e"
             ],
             [
              0.4444444444444444,
              "#bd3786"
             ],
             [
              0.5555555555555556,
              "#d8576b"
             ],
             [
              0.6666666666666666,
              "#ed7953"
             ],
             [
              0.7777777777777778,
              "#fb9f3a"
             ],
             [
              0.8888888888888888,
              "#fdca26"
             ],
             [
              1,
              "#f0f921"
             ]
            ],
            "type": "contour"
           }
          ],
          "contourcarpet": [
           {
            "colorbar": {
             "outlinewidth": 0,
             "ticks": ""
            },
            "type": "contourcarpet"
           }
          ],
          "heatmap": [
           {
            "colorbar": {
             "outlinewidth": 0,
             "ticks": ""
            },
            "colorscale": [
             [
              0,
              "#0d0887"
             ],
             [
              0.1111111111111111,
              "#46039f"
             ],
             [
              0.2222222222222222,
              "#7201a8"
             ],
             [
              0.3333333333333333,
              "#9c179e"
             ],
             [
              0.4444444444444444,
              "#bd3786"
             ],
             [
              0.5555555555555556,
              "#d8576b"
             ],
             [
              0.6666666666666666,
              "#ed7953"
             ],
             [
              0.7777777777777778,
              "#fb9f3a"
             ],
             [
              0.8888888888888888,
              "#fdca26"
             ],
             [
              1,
              "#f0f921"
             ]
            ],
            "type": "heatmap"
           }
          ],
          "heatmapgl": [
           {
            "colorbar": {
             "outlinewidth": 0,
             "ticks": ""
            },
            "colorscale": [
             [
              0,
              "#0d0887"
             ],
             [
              0.1111111111111111,
              "#46039f"
             ],
             [
              0.2222222222222222,
              "#7201a8"
             ],
             [
              0.3333333333333333,
              "#9c179e"
             ],
             [
              0.4444444444444444,
              "#bd3786"
             ],
             [
              0.5555555555555556,
              "#d8576b"
             ],
             [
              0.6666666666666666,
              "#ed7953"
             ],
             [
              0.7777777777777778,
              "#fb9f3a"
             ],
             [
              0.8888888888888888,
              "#fdca26"
             ],
             [
              1,
              "#f0f921"
             ]
            ],
            "type": "heatmapgl"
           }
          ],
          "histogram": [
           {
            "marker": {
             "colorbar": {
              "outlinewidth": 0,
              "ticks": ""
             }
            },
            "type": "histogram"
           }
          ],
          "histogram2d": [
           {
            "colorbar": {
             "outlinewidth": 0,
             "ticks": ""
            },
            "colorscale": [
             [
              0,
              "#0d0887"
             ],
             [
              0.1111111111111111,
              "#46039f"
             ],
             [
              0.2222222222222222,
              "#7201a8"
             ],
             [
              0.3333333333333333,
              "#9c179e"
             ],
             [
              0.4444444444444444,
              "#bd3786"
             ],
             [
              0.5555555555555556,
              "#d8576b"
             ],
             [
              0.6666666666666666,
              "#ed7953"
             ],
             [
              0.7777777777777778,
              "#fb9f3a"
             ],
             [
              0.8888888888888888,
              "#fdca26"
             ],
             [
              1,
              "#f0f921"
             ]
            ],
            "type": "histogram2d"
           }
          ],
          "histogram2dcontour": [
           {
            "colorbar": {
             "outlinewidth": 0,
             "ticks": ""
            },
            "colorscale": [
             [
              0,
              "#0d0887"
             ],
             [
              0.1111111111111111,
              "#46039f"
             ],
             [
              0.2222222222222222,
              "#7201a8"
             ],
             [
              0.3333333333333333,
              "#9c179e"
             ],
             [
              0.4444444444444444,
              "#bd3786"
             ],
             [
              0.5555555555555556,
              "#d8576b"
             ],
             [
              0.6666666666666666,
              "#ed7953"
             ],
             [
              0.7777777777777778,
              "#fb9f3a"
             ],
             [
              0.8888888888888888,
              "#fdca26"
             ],
             [
              1,
              "#f0f921"
             ]
            ],
            "type": "histogram2dcontour"
           }
          ],
          "mesh3d": [
           {
            "colorbar": {
             "outlinewidth": 0,
             "ticks": ""
            },
            "type": "mesh3d"
           }
          ],
          "parcoords": [
           {
            "line": {
             "colorbar": {
              "outlinewidth": 0,
              "ticks": ""
             }
            },
            "type": "parcoords"
           }
          ],
          "scatter": [
           {
            "marker": {
             "colorbar": {
              "outlinewidth": 0,
              "ticks": ""
             }
            },
            "type": "scatter"
           }
          ],
          "scatter3d": [
           {
            "line": {
             "colorbar": {
              "outlinewidth": 0,
              "ticks": ""
             }
            },
            "marker": {
             "colorbar": {
              "outlinewidth": 0,
              "ticks": ""
             }
            },
            "type": "scatter3d"
           }
          ],
          "scattercarpet": [
           {
            "marker": {
             "colorbar": {
              "outlinewidth": 0,
              "ticks": ""
             }
            },
            "type": "scattercarpet"
           }
          ],
          "scattergeo": [
           {
            "marker": {
             "colorbar": {
              "outlinewidth": 0,
              "ticks": ""
             }
            },
            "type": "scattergeo"
           }
          ],
          "scattergl": [
           {
            "marker": {
             "colorbar": {
              "outlinewidth": 0,
              "ticks": ""
             }
            },
            "type": "scattergl"
           }
          ],
          "scattermapbox": [
           {
            "marker": {
             "colorbar": {
              "outlinewidth": 0,
              "ticks": ""
             }
            },
            "type": "scattermapbox"
           }
          ],
          "scatterpolar": [
           {
            "marker": {
             "colorbar": {
              "outlinewidth": 0,
              "ticks": ""
             }
            },
            "type": "scatterpolar"
           }
          ],
          "scatterpolargl": [
           {
            "marker": {
             "colorbar": {
              "outlinewidth": 0,
              "ticks": ""
             }
            },
            "type": "scatterpolargl"
           }
          ],
          "scatterternary": [
           {
            "marker": {
             "colorbar": {
              "outlinewidth": 0,
              "ticks": ""
             }
            },
            "type": "scatterternary"
           }
          ],
          "surface": [
           {
            "colorbar": {
             "outlinewidth": 0,
             "ticks": ""
            },
            "colorscale": [
             [
              0,
              "#0d0887"
             ],
             [
              0.1111111111111111,
              "#46039f"
             ],
             [
              0.2222222222222222,
              "#7201a8"
             ],
             [
              0.3333333333333333,
              "#9c179e"
             ],
             [
              0.4444444444444444,
              "#bd3786"
             ],
             [
              0.5555555555555556,
              "#d8576b"
             ],
             [
              0.6666666666666666,
              "#ed7953"
             ],
             [
              0.7777777777777778,
              "#fb9f3a"
             ],
             [
              0.8888888888888888,
              "#fdca26"
             ],
             [
              1,
              "#f0f921"
             ]
            ],
            "type": "surface"
           }
          ],
          "table": [
           {
            "cells": {
             "fill": {
              "color": "#EBF0F8"
             },
             "line": {
              "color": "white"
             }
            },
            "header": {
             "fill": {
              "color": "#C8D4E3"
             },
             "line": {
              "color": "white"
             }
            },
            "type": "table"
           }
          ]
         },
         "layout": {
          "annotationdefaults": {
           "arrowcolor": "#2a3f5f",
           "arrowhead": 0,
           "arrowwidth": 1
          },
          "colorscale": {
           "diverging": [
            [
             0,
             "#8e0152"
            ],
            [
             0.1,
             "#c51b7d"
            ],
            [
             0.2,
             "#de77ae"
            ],
            [
             0.3,
             "#f1b6da"
            ],
            [
             0.4,
             "#fde0ef"
            ],
            [
             0.5,
             "#f7f7f7"
            ],
            [
             0.6,
             "#e6f5d0"
            ],
            [
             0.7,
             "#b8e186"
            ],
            [
             0.8,
             "#7fbc41"
            ],
            [
             0.9,
             "#4d9221"
            ],
            [
             1,
             "#276419"
            ]
           ],
           "sequential": [
            [
             0,
             "#0d0887"
            ],
            [
             0.1111111111111111,
             "#46039f"
            ],
            [
             0.2222222222222222,
             "#7201a8"
            ],
            [
             0.3333333333333333,
             "#9c179e"
            ],
            [
             0.4444444444444444,
             "#bd3786"
            ],
            [
             0.5555555555555556,
             "#d8576b"
            ],
            [
             0.6666666666666666,
             "#ed7953"
            ],
            [
             0.7777777777777778,
             "#fb9f3a"
            ],
            [
             0.8888888888888888,
             "#fdca26"
            ],
            [
             1,
             "#f0f921"
            ]
           ],
           "sequentialminus": [
            [
             0,
             "#0d0887"
            ],
            [
             0.1111111111111111,
             "#46039f"
            ],
            [
             0.2222222222222222,
             "#7201a8"
            ],
            [
             0.3333333333333333,
             "#9c179e"
            ],
            [
             0.4444444444444444,
             "#bd3786"
            ],
            [
             0.5555555555555556,
             "#d8576b"
            ],
            [
             0.6666666666666666,
             "#ed7953"
            ],
            [
             0.7777777777777778,
             "#fb9f3a"
            ],
            [
             0.8888888888888888,
             "#fdca26"
            ],
            [
             1,
             "#f0f921"
            ]
           ]
          },
          "colorway": [
           "#636efa",
           "#EF553B",
           "#00cc96",
           "#ab63fa",
           "#FFA15A",
           "#19d3f3",
           "#FF6692",
           "#B6E880",
           "#FF97FF",
           "#FECB52"
          ],
          "font": {
           "color": "#2a3f5f"
          },
          "geo": {
           "bgcolor": "white",
           "lakecolor": "white",
           "landcolor": "#E5ECF6",
           "showlakes": true,
           "showland": true,
           "subunitcolor": "white"
          },
          "hoverlabel": {
           "align": "left"
          },
          "hovermode": "closest",
          "mapbox": {
           "style": "light"
          },
          "paper_bgcolor": "white",
          "plot_bgcolor": "#E5ECF6",
          "polar": {
           "angularaxis": {
            "gridcolor": "white",
            "linecolor": "white",
            "ticks": ""
           },
           "bgcolor": "#E5ECF6",
           "radialaxis": {
            "gridcolor": "white",
            "linecolor": "white",
            "ticks": ""
           }
          },
          "scene": {
           "xaxis": {
            "backgroundcolor": "#E5ECF6",
            "gridcolor": "white",
            "gridwidth": 2,
            "linecolor": "white",
            "showbackground": true,
            "ticks": "",
            "zerolinecolor": "white"
           },
           "yaxis": {
            "backgroundcolor": "#E5ECF6",
            "gridcolor": "white",
            "gridwidth": 2,
            "linecolor": "white",
            "showbackground": true,
            "ticks": "",
            "zerolinecolor": "white"
           },
           "zaxis": {
            "backgroundcolor": "#E5ECF6",
            "gridcolor": "white",
            "gridwidth": 2,
            "linecolor": "white",
            "showbackground": true,
            "ticks": "",
            "zerolinecolor": "white"
           }
          },
          "shapedefaults": {
           "line": {
            "color": "#2a3f5f"
           }
          },
          "ternary": {
           "aaxis": {
            "gridcolor": "white",
            "linecolor": "white",
            "ticks": ""
           },
           "baxis": {
            "gridcolor": "white",
            "linecolor": "white",
            "ticks": ""
           },
           "bgcolor": "#E5ECF6",
           "caxis": {
            "gridcolor": "white",
            "linecolor": "white",
            "ticks": ""
           }
          },
          "title": {
           "x": 0.05
          },
          "xaxis": {
           "automargin": true,
           "gridcolor": "white",
           "linecolor": "white",
           "ticks": "",
           "zerolinecolor": "white",
           "zerolinewidth": 2
          },
          "yaxis": {
           "automargin": true,
           "gridcolor": "white",
           "linecolor": "white",
           "ticks": "",
           "zerolinecolor": "white",
           "zerolinewidth": 2
          }
         }
        }
       }
      },
      "text/html": [
       "<div>\n",
       "        \n",
       "        \n",
       "            <div id=\"a4e3f34b-58af-43db-ab37-3097f461ac56\" class=\"plotly-graph-div\" style=\"height:525px; width:100%;\"></div>\n",
       "            <script type=\"text/javascript\">\n",
       "                require([\"plotly\"], function(Plotly) {\n",
       "                    window.PLOTLYENV=window.PLOTLYENV || {};\n",
       "                    \n",
       "                if (document.getElementById(\"a4e3f34b-58af-43db-ab37-3097f461ac56\")) {\n",
       "                    Plotly.newPlot(\n",
       "                        'a4e3f34b-58af-43db-ab37-3097f461ac56',\n",
       "                        [{\"marker\": {\"color\": \"rgba(255, 174, 255, 0.5)\", \"line\": {\"color\": \"rgb(0,0,0)\", \"width\": 1.5}}, \"name\": \"income\", \"text\": [51.387499999999996, 97.4, 41.666666666666664, 63.175, 61.03333333333333, 36.0, 30.2, 27.73333333333333, 43.43333333333334, 46.800000000000004, 72.06666666666666, 69.8375, 61.1, 41.5, 31.6, 40.25, 100.0, 35.0, 69.75, 40.075, 55.525000000000006, 43.9, 41.68518518518518, 58.00714285714286, 47.73999999999999, 66.92857142857143, 38.25, 50.931250000000006, 70.3, 24.5, 60.8, 34.5, 26.3, 41.67999999999999, 34.31428571428571, 43.095, 33.2, 49.739999999999995, 75.4, 24.2, 93.1, 29.03333333333333, 41.971428571428575, 46.37142857142857, 63.699999999999996, 36.26, 41.53333333333334, 25.8, 34.025, 31.575000000000003, 53.0, 52.55, 99.03333333333335, 99.8, 36.599999999999994, 55.15714285714286, 41.94, 55.949999999999996, 29.0, 59.0, 36.97551020408162, 46.82337662337662, 50.45416666666667, 68.34285714285714, 42.45, 52.75625, 66.96666666666665, 28.4, 28.1, 64.52000000000001, 30.1, 52.4, 47.112500000000004, 46.71363636363637, 34.1, 46.480000000000004, 74.4, 65.16666666666667, 93.0, 37.2, 42.05, 49.9, 36.0, 73.73846153846155, 50.13333333333333, 38.46666666666667, 28.7, 36.1, 35.875, 64.85, 40.2, 88.45, 77.69999999999999, 99.56666666666666, 35.07142857142858, 56.24285714285714, 45.339999999999996, 66.05714285714285, 60.2, 56.225, 40.81521739130436, 47.311842105263146, 50.884000000000015, 76.28333333333333, 44.55, 51.6, 67.74285714285715, 30.6, 29.0, 63.980000000000004, 30.3, 37.275, 45.55555555555555, 49.29090909090908, 35.0, 45.9, 78.5, 45.199999999999996, 98.3, 34.75, 42.226666666666674, 59.699999999999996, 74.38461538461537, 51.42, 40.03333333333334, 28.3, 37.05, 39.875, 72.2, 39.7, 82.15, 93.5, 99.53333333333335, 40.73333333333333, 58.083333333333336, 54.24285714285715, 65.95, 62.2, 53.05, 38.72765957446809, 47.472500000000004, 49.772000000000006, 71.02857142857142, 42.3, 49.79375, 28.1, 70.64285714285715, 36.5, 29.4, 63.85999999999999, 46.20000000000001, 45.13333333333334, 53.04, 36.0, 44.059999999999995, 64.0, 46.225, 85.15, 34.0, 41.42941176470589, 57.56, 33.6, 28.6, 74.96153846153847, 51.06, 39.333333333333336, 28.5, 39.2, 37.0, 55.95, 76.7, 92.5, 77.78, 42.449999999999996, 57.43333333333334, 61.942857142857136, 70.06666666666666, 56.5, 49.5, 38.25714285714285, 48.472619047619034, 28.6, 48.9945945945946, 28.0, 73.52857142857144, 46.054545454545455, 46.74347826086956, 37.875, 64.4076923076923, 35.8, 30.0, 30.22857142857143, 45.050000000000004, 30.0, 38.15, 45.62222222222222, 34.07727272727273, 69.3264705882353, 42.68333333333334, 43.040000000000006, 34.53333333333334, 28.0, 41.98000000000001, 40.0, 62.65714285714285, 29.72, 39.971875, 47.52647058823529, 30.1, 28.0, 28.3, 41.0, 38.1, 34.9, 31.28, 69.75, 29.2, 73.02307692307693, 43.17142857142857, 29.2, 41.6, 37.6, 31.3, 32.916666666666664, 40.1, 55.2, 37.6625, 28.766666666666666, 49.24999999999999, 77.15, 45.6, 74.85, 30.6, 32.3, 68.63333333333333, 54.17058823529411, 35.56, 50.87500000000001, 68.4, 53.65217391304347, 45.34285714285715, 62.25, 28.0, 28.4, 31.7, 34.386486486486504, 44.33923076923078], \"type\": \"bar\", \"x\": [\"Australia\", \"Belgium\", \"Canada\", \"China\", \"Denmark\", \"Egypt\", \"Finland\", \"France\", \"Germany\", \"Hong Kong\", \"Japan\", \"Netherlands\", \"New Zealand\", \"Norway\", \"Republic of Ireland\", \"Singapore\", \"South Korea\", \"Spain\", \"Sweden\", \"Switzerland\", \"Taiwan\", \"Turkey\", \"United Kingdom\", \"United States of America\", \"Australia\", \"Belgium\", \"Brazil\", \"Canada\", \"China\", \"Czech Republic\", \"Denmark\", \"Egypt\", \"Estonia\", \"Finland\", \"France\", \"Germany\", \"Greece\", \"Hong Kong\", \"Iceland\", \"India\", \"Iran\", \"Israel\", \"Italy\", \"Japan\", \"Netherlands\", \"New Zealand\", \"Norway\", \"Poland\", \"Portugal\", \"Republic of Ireland\", \"Russian Federation\", \"Singapore\", \"South Africa\", \"South Korea\", \"Spain\", \"Sweden\", \"Switzerland\", \"Taiwan\", \"Thailand\", \"Turkey\", \"United Kingdom\", \"United States of America\", \"Australia\", \"Belgium\", \"Brazil\", \"Canada\", \"China\", \"Colombia\", \"Czech Republic\", \"Denmark\", \"Estonia\", \"Finland\", \"France\", \"Germany\", \"Greece\", \"Hong Kong\", \"Iceland\", \"India\", \"Iran\", \"Israel\", \"Italy\", \"Japan\", \"Mexico\", \"Netherlands\", \"New Zealand\", \"Norway\", \"Poland\", \"Portugal\", \"Republic of Ireland\", \"Russian Federation\", \"Saudi Arabia\", \"Singapore\", \"South Africa\", \"South Korea\", \"Spain\", \"Sweden\", \"Switzerland\", \"Taiwan\", \"Thailand\", \"Turkey\", \"United Kingdom\", \"United States of America\", \"Australia\", \"Belgium\", \"Brazil\", \"Canada\", \"China\", \"Colombia\", \"Czech Republic\", \"Denmark\", \"Estonia\", \"Finland\", \"France\", \"Germany\", \"Greece\", \"Hong Kong\", \"Iceland\", \"India\", \"Iran\", \"Israel\", \"Italy\", \"Japan\", \"Netherlands\", \"New Zealand\", \"Norway\", \"Poland\", \"Portugal\", \"Republic of Ireland\", \"Russian Federation\", \"Saudi Arabia\", \"Singapore\", \"South Africa\", \"South Korea\", \"Spain\", \"Sweden\", \"Switzerland\", \"Taiwan\", \"Thailand\", \"Turkey\", \"United Kingdom\", \"United States of America\", \"Australia\", \"Belgium\", \"Brazil\", \"Canada\", \"Chile\", \"China\", \"Colombia\", \"Czech Republic\", \"Denmark\", \"Finland\", \"France\", \"Germany\", \"Greece\", \"Hong Kong\", \"Iceland\", \"India\", \"Iran\", \"Israel\", \"Italy\", \"Japan\", \"Macau\", \"Morocco\", \"Netherlands\", \"New Zealand\", \"Norway\", \"Poland\", \"Portugal\", \"Republic of Ireland\", \"Russian Federation\", \"Singapore\", \"South Africa\", \"South Korea\", \"Spain\", \"Sweden\", \"Switzerland\", \"Taiwan\", \"Thailand\", \"Turkey\", \"United Kingdom\", \"United States of America\", \"Argentina\", \"Australia\", \"Belarus\", \"Belgium\", \"Brazil\", \"Canada\", \"Chile\", \"China\", \"Colombia\", \"Cyprus\", \"Czech Republic\", \"Denmark\", \"Egypt\", \"Estonia\", \"Finland\", \"France\", \"Germany\", \"Greece\", \"Hong Kong\", \"Hungary\", \"Iceland\", \"India\", \"Indonesia\", \"Iran\", \"Israel\", \"Italy\", \"Japan\", \"Jordan\", \"Kenya\", \"Latvia\", \"Lithuania\", \"Luxembourg\", \"Macau\", \"Malaysia\", \"Mexico\", \"Morocco\", \"Netherlands\", \"New Zealand\", \"Nigeria\", \"Norway\", \"Oman\", \"Pakistan\", \"Poland\", \"Portugal\", \"Qatar\", \"Republic of Ireland\", \"Romania\", \"Russian Federation\", \"Saudi Arabia\", \"Serbia\", \"Singapore\", \"Slovakia\", \"Slovenia\", \"South Africa\", \"South Korea\", \"Spain\", \"Sweden\", \"Switzerland\", \"Taiwan\", \"Thailand\", \"Turkey\", \"Uganda\", \"Ukraine\", \"United Arab Emirates\", \"United Kingdom\", \"United States of America\"], \"y\": [51.387499999999996, 97.4, 41.666666666666664, 63.175, 61.03333333333333, 36.0, 30.2, 27.73333333333333, 43.43333333333334, 46.800000000000004, 72.06666666666666, 69.8375, 61.1, 41.5, 31.6, 40.25, 100.0, 35.0, 69.75, 40.075, 55.525000000000006, 43.9, 41.68518518518518, 58.00714285714286, 47.73999999999999, 66.92857142857143, 38.25, 50.931250000000006, 70.3, 24.5, 60.8, 34.5, 26.3, 41.67999999999999, 34.31428571428571, 43.095, 33.2, 49.739999999999995, 75.4, 24.2, 93.1, 29.03333333333333, 41.971428571428575, 46.37142857142857, 63.699999999999996, 36.26, 41.53333333333334, 25.8, 34.025, 31.575000000000003, 53.0, 52.55, 99.03333333333335, 99.8, 36.599999999999994, 55.15714285714286, 41.94, 55.949999999999996, 29.0, 59.0, 36.97551020408162, 46.82337662337662, 50.45416666666667, 68.34285714285714, 42.45, 52.75625, 66.96666666666665, 28.4, 28.1, 64.52000000000001, 30.1, 52.4, 47.112500000000004, 46.71363636363637, 34.1, 46.480000000000004, 74.4, 65.16666666666667, 93.0, 37.2, 42.05, 49.9, 36.0, 73.73846153846155, 50.13333333333333, 38.46666666666667, 28.7, 36.1, 35.875, 64.85, 40.2, 88.45, 77.69999999999999, 99.56666666666666, 35.07142857142858, 56.24285714285714, 45.339999999999996, 66.05714285714285, 60.2, 56.225, 40.81521739130436, 47.311842105263146, 50.884000000000015, 76.28333333333333, 44.55, 51.6, 67.74285714285715, 30.6, 29.0, 63.980000000000004, 30.3, 37.275, 45.55555555555555, 49.29090909090908, 35.0, 45.9, 78.5, 45.199999999999996, 98.3, 34.75, 42.226666666666674, 59.699999999999996, 74.38461538461537, 51.42, 40.03333333333334, 28.3, 37.05, 39.875, 72.2, 39.7, 82.15, 93.5, 99.53333333333335, 40.73333333333333, 58.083333333333336, 54.24285714285715, 65.95, 62.2, 53.05, 38.72765957446809, 47.472500000000004, 49.772000000000006, 71.02857142857142, 42.3, 49.79375, 28.1, 70.64285714285715, 36.5, 29.4, 63.85999999999999, 46.20000000000001, 45.13333333333334, 53.04, 36.0, 44.059999999999995, 64.0, 46.225, 85.15, 34.0, 41.42941176470589, 57.56, 33.6, 28.6, 74.96153846153847, 51.06, 39.333333333333336, 28.5, 39.2, 37.0, 55.95, 76.7, 92.5, 77.78, 42.449999999999996, 57.43333333333334, 61.942857142857136, 70.06666666666666, 56.5, 49.5, 38.25714285714285, 48.472619047619034, 28.6, 48.9945945945946, 28.0, 73.52857142857144, 46.054545454545455, 46.74347826086956, 37.875, 64.4076923076923, 35.8, 30.0, 30.22857142857143, 45.050000000000004, 30.0, 38.15, 45.62222222222222, 34.07727272727273, 69.3264705882353, 42.68333333333334, 43.040000000000006, 34.53333333333334, 28.0, 41.98000000000001, 40.0, 62.65714285714285, 29.72, 39.971875, 47.52647058823529, 30.1, 28.0, 28.3, 41.0, 38.1, 34.9, 31.28, 69.75, 29.2, 73.02307692307693, 43.17142857142857, 29.2, 41.6, 37.6, 31.3, 32.916666666666664, 40.1, 55.2, 37.6625, 28.766666666666666, 49.24999999999999, 77.15, 45.6, 74.85, 30.6, 32.3, 68.63333333333333, 54.17058823529411, 35.56, 50.87500000000001, 68.4, 53.65217391304347, 45.34285714285715, 62.25, 28.0, 28.4, 31.7, 34.386486486486504, 44.33923076923078]}, {\"marker\": {\"color\": \"rgba(255, 255, 128, 0.5)\", \"line\": {\"color\": \"rgb(0,0,0)\", \"width\": 1.5}}, \"name\": \"international\", \"text\": [82.47500000000001, 27.15, 72.26666666666667, 38.025, 47.73333333333333, 19.3, 24.2, 37.733333333333334, 52.111111111111114, 82.03333333333333, 21.666666666666668, 43.949999999999996, 94.3, 66.6, 84.2, 97.05, 34.650000000000006, 33.2, 71.05000000000001, 93.725, 35.625, 27.2, 73.97777777777777, 40.76785714285715, 77.40800000000002, 63.671428571428564, 21.0, 61.993750000000006, 24.37142857142857, 51.4, 71.66, 31.6, 42.0, 41.800000000000004, 65.85714285714286, 55.38500000000001, 42.6, 67.23999999999998, 56.9, 14.3, 12.7, 49.63333333333333, 33.949999999999996, 21.028571428571432, 60.10833333333334, 86.8, 64.89999999999999, 39.5, 48.625, 78.45, 45.7, 91.4, 63.333333333333336, 26.96666666666667, 39.35, 62.65714285714286, 90.76000000000002, 17.9375, 45.0, 26.2, 76.46734693877549, 35.66753246753247, 75.50833333333334, 60.41428571428571, 22.7, 60.243750000000006, 31.53333333333333, 53.0, 50.3, 70.28, 42.4, 44.9, 64.775, 53.3909090909091, 44.4, 67.14000000000001, 59.9, 17.2, 16.7, 53.099999999999994, 36.971428571428575, 25.84545454545454, 33.2, 60.93846153846154, 84.18333333333332, 63.43333333333334, 40.75, 45.333333333333336, 73.625, 34.55, 71.0, 91.4, 61.05, 30.26666666666667, 40.35714285714285, 60.642857142857146, 89.06, 23.628571428571433, 23.8, 34.575, 76.35652173913041, 40.039473684210535, 77.75600000000003, 59.01666666666667, 21.95, 62.775, 31.35714285714286, 55.7, 53.2, 71.56, 43.7, 47.300000000000004, 64.63333333333334, 53.88636363636365, 47.1, 67.03999999999999, 59.9, 20.733333333333334, 20.7, 56.3, 39.89333333333333, 27.788888888888888, 63.600000000000016, 85.22, 58.9, 42.8, 45.4, 73.2, 55.7, 74.3, 92.65, 64.03333333333335, 33.93333333333333, 40.48888888888889, 63.699999999999996, 90.17142857142858, 25.162499999999998, 24.4, 43.625, 77.09574468085107, 42.81125, 78.92399999999999, 62.15714285714286, 23.0, 66.19375000000002, 48.7, 33.714285714285715, 54.6, 53.9, 70.14, 50.699999999999996, 67.75555555555555, 54.11600000000001, 47.0, 69.88000000000001, 59.1, 20.875, 19.7, 56.95, 42.670588235294126, 31.940000000000005, 73.3, 45.1, 65.54615384615386, 84.3, 60.0, 41.6, 48.25, 77.25, 52.099999999999994, 93.7, 63.6, 35.4, 49.349999999999994, 61.35, 90.77142857142857, 26.766666666666666, 22.5, 44.9, 79.10476190476192, 45.029761904761905, 28.1, 77.9891891891892, 48.2, 68.64285714285714, 21.2, 66.14782608695653, 43.85, 23.446153846153848, 46.85, 74.7, 36.442857142857136, 79.41666666666667, 32.35, 42.0, 53.599999999999994, 61.14545454545455, 53.267647058823535, 36.93333333333333, 83.24, 53.0, 61.0, 14.419999999999998, 37.2, 12.57142857142857, 50.9, 37.60937499999999, 22.76470588235294, 57.95, 45.5, 31.5, 40.8, 99.8, 98.4, 38.1, 47.75, 42.7, 70.39999999999999, 89.04285714285716, 26.1, 65.33333333333333, 71.5, 31.3, 26.016666666666666, 45.12857142857143, 99.9, 78.98750000000001, 34.53333333333333, 29.941666666666666, 88.75, 30.5, 95.4, 38.75, 34.5, 55.28333333333334, 28.39411764705882, 40.908, 62.050000000000004, 93.6, 23.286956521739135, 32.67142857142857, 27.009999999999998, 58.0, 38.3, 95.3, 78.22432432432433, 42.436153846153864], \"type\": \"bar\", \"x\": [\"Australia\", \"Belgium\", \"Canada\", \"China\", \"Denmark\", \"Egypt\", \"Finland\", \"France\", \"Germany\", \"Hong Kong\", \"Japan\", \"Netherlands\", \"New Zealand\", \"Norway\", \"Republic of Ireland\", \"Singapore\", \"South Korea\", \"Spain\", \"Sweden\", \"Switzerland\", \"Taiwan\", \"Turkey\", \"United Kingdom\", \"United States of America\", \"Australia\", \"Belgium\", \"Brazil\", \"Canada\", \"China\", \"Czech Republic\", \"Denmark\", \"Egypt\", \"Estonia\", \"Finland\", \"France\", \"Germany\", \"Greece\", \"Hong Kong\", \"Iceland\", \"India\", \"Iran\", \"Israel\", \"Italy\", \"Japan\", \"Netherlands\", \"New Zealand\", \"Norway\", \"Poland\", \"Portugal\", \"Republic of Ireland\", \"Russian Federation\", \"Singapore\", \"South Africa\", \"South Korea\", \"Spain\", \"Sweden\", \"Switzerland\", \"Taiwan\", \"Thailand\", \"Turkey\", \"United Kingdom\", \"United States of America\", \"Australia\", \"Belgium\", \"Brazil\", \"Canada\", \"China\", \"Colombia\", \"Czech Republic\", \"Denmark\", \"Estonia\", \"Finland\", \"France\", \"Germany\", \"Greece\", \"Hong Kong\", \"Iceland\", \"India\", \"Iran\", \"Israel\", \"Italy\", \"Japan\", \"Mexico\", \"Netherlands\", \"New Zealand\", \"Norway\", \"Poland\", \"Portugal\", \"Republic of Ireland\", \"Russian Federation\", \"Saudi Arabia\", \"Singapore\", \"South Africa\", \"South Korea\", \"Spain\", \"Sweden\", \"Switzerland\", \"Taiwan\", \"Thailand\", \"Turkey\", \"United Kingdom\", \"United States of America\", \"Australia\", \"Belgium\", \"Brazil\", \"Canada\", \"China\", \"Colombia\", \"Czech Republic\", \"Denmark\", \"Estonia\", \"Finland\", \"France\", \"Germany\", \"Greece\", \"Hong Kong\", \"Iceland\", \"India\", \"Iran\", \"Israel\", \"Italy\", \"Japan\", \"Netherlands\", \"New Zealand\", \"Norway\", \"Poland\", \"Portugal\", \"Republic of Ireland\", \"Russian Federation\", \"Saudi Arabia\", \"Singapore\", \"South Africa\", \"South Korea\", \"Spain\", \"Sweden\", \"Switzerland\", \"Taiwan\", \"Thailand\", \"Turkey\", \"United Kingdom\", \"United States of America\", \"Australia\", \"Belgium\", \"Brazil\", \"Canada\", \"Chile\", \"China\", \"Colombia\", \"Czech Republic\", \"Denmark\", \"Finland\", \"France\", \"Germany\", \"Greece\", \"Hong Kong\", \"Iceland\", \"India\", \"Iran\", \"Israel\", \"Italy\", \"Japan\", \"Macau\", \"Morocco\", \"Netherlands\", \"New Zealand\", \"Norway\", \"Poland\", \"Portugal\", \"Republic of Ireland\", \"Russian Federation\", \"Singapore\", \"South Africa\", \"South Korea\", \"Spain\", \"Sweden\", \"Switzerland\", \"Taiwan\", \"Thailand\", \"Turkey\", \"United Kingdom\", \"United States of America\", \"Argentina\", \"Australia\", \"Belarus\", \"Belgium\", \"Brazil\", \"Canada\", \"Chile\", \"China\", \"Colombia\", \"Cyprus\", \"Czech Republic\", \"Denmark\", \"Egypt\", \"Estonia\", \"Finland\", \"France\", \"Germany\", \"Greece\", \"Hong Kong\", \"Hungary\", \"Iceland\", \"India\", \"Indonesia\", \"Iran\", \"Israel\", \"Italy\", \"Japan\", \"Jordan\", \"Kenya\", \"Latvia\", \"Lithuania\", \"Luxembourg\", \"Macau\", \"Malaysia\", \"Mexico\", \"Morocco\", \"Netherlands\", \"New Zealand\", \"Nigeria\", \"Norway\", \"Oman\", \"Pakistan\", \"Poland\", \"Portugal\", \"Qatar\", \"Republic of Ireland\", \"Romania\", \"Russian Federation\", \"Saudi Arabia\", \"Serbia\", \"Singapore\", \"Slovakia\", \"Slovenia\", \"South Africa\", \"South Korea\", \"Spain\", \"Sweden\", \"Switzerland\", \"Taiwan\", \"Thailand\", \"Turkey\", \"Uganda\", \"Ukraine\", \"United Arab Emirates\", \"United Kingdom\", \"United States of America\"], \"y\": [82.47500000000001, 27.15, 72.26666666666667, 38.025, 47.73333333333333, 19.3, 24.2, 37.733333333333334, 52.111111111111114, 82.03333333333333, 21.666666666666668, 43.949999999999996, 94.3, 66.6, 84.2, 97.05, 34.650000000000006, 33.2, 71.05000000000001, 93.725, 35.625, 27.2, 73.97777777777777, 40.76785714285715, 77.40800000000002, 63.671428571428564, 21.0, 61.993750000000006, 24.37142857142857, 51.4, 71.66, 31.6, 42.0, 41.800000000000004, 65.85714285714286, 55.38500000000001, 42.6, 67.23999999999998, 56.9, 14.3, 12.7, 49.63333333333333, 33.949999999999996, 21.028571428571432, 60.10833333333334, 86.8, 64.89999999999999, 39.5, 48.625, 78.45, 45.7, 91.4, 63.333333333333336, 26.96666666666667, 39.35, 62.65714285714286, 90.76000000000002, 17.9375, 45.0, 26.2, 76.46734693877549, 35.66753246753247, 75.50833333333334, 60.41428571428571, 22.7, 60.243750000000006, 31.53333333333333, 53.0, 50.3, 70.28, 42.4, 44.9, 64.775, 53.3909090909091, 44.4, 67.14000000000001, 59.9, 17.2, 16.7, 53.099999999999994, 36.971428571428575, 25.84545454545454, 33.2, 60.93846153846154, 84.18333333333332, 63.43333333333334, 40.75, 45.333333333333336, 73.625, 34.55, 71.0, 91.4, 61.05, 30.26666666666667, 40.35714285714285, 60.642857142857146, 89.06, 23.628571428571433, 23.8, 34.575, 76.35652173913041, 40.039473684210535, 77.75600000000003, 59.01666666666667, 21.95, 62.775, 31.35714285714286, 55.7, 53.2, 71.56, 43.7, 47.300000000000004, 64.63333333333334, 53.88636363636365, 47.1, 67.03999999999999, 59.9, 20.733333333333334, 20.7, 56.3, 39.89333333333333, 27.788888888888888, 63.600000000000016, 85.22, 58.9, 42.8, 45.4, 73.2, 55.7, 74.3, 92.65, 64.03333333333335, 33.93333333333333, 40.48888888888889, 63.699999999999996, 90.17142857142858, 25.162499999999998, 24.4, 43.625, 77.09574468085107, 42.81125, 78.92399999999999, 62.15714285714286, 23.0, 66.19375000000002, 48.7, 33.714285714285715, 54.6, 53.9, 70.14, 50.699999999999996, 67.75555555555555, 54.11600000000001, 47.0, 69.88000000000001, 59.1, 20.875, 19.7, 56.95, 42.670588235294126, 31.940000000000005, 73.3, 45.1, 65.54615384615386, 84.3, 60.0, 41.6, 48.25, 77.25, 52.099999999999994, 93.7, 63.6, 35.4, 49.349999999999994, 61.35, 90.77142857142857, 26.766666666666666, 22.5, 44.9, 79.10476190476192, 45.029761904761905, 28.1, 77.9891891891892, 48.2, 68.64285714285714, 21.2, 66.14782608695653, 43.85, 23.446153846153848, 46.85, 74.7, 36.442857142857136, 79.41666666666667, 32.35, 42.0, 53.599999999999994, 61.14545454545455, 53.267647058823535, 36.93333333333333, 83.24, 53.0, 61.0, 14.419999999999998, 37.2, 12.57142857142857, 50.9, 37.60937499999999, 22.76470588235294, 57.95, 45.5, 31.5, 40.8, 99.8, 98.4, 38.1, 47.75, 42.7, 70.39999999999999, 89.04285714285716, 26.1, 65.33333333333333, 71.5, 31.3, 26.016666666666666, 45.12857142857143, 99.9, 78.98750000000001, 34.53333333333333, 29.941666666666666, 88.75, 30.5, 95.4, 38.75, 34.5, 55.28333333333334, 28.39411764705882, 40.908, 62.050000000000004, 93.6, 23.286956521739135, 32.67142857142857, 27.009999999999998, 58.0, 38.3, 95.3, 78.22432432432433, 42.436153846153864]}],\n",
       "                        {\"barmode\": \"relative\", \"template\": {\"data\": {\"bar\": [{\"error_x\": {\"color\": \"#2a3f5f\"}, \"error_y\": {\"color\": \"#2a3f5f\"}, \"marker\": {\"line\": {\"color\": \"#E5ECF6\", \"width\": 0.5}}, \"type\": \"bar\"}], \"barpolar\": [{\"marker\": {\"line\": {\"color\": \"#E5ECF6\", \"width\": 0.5}}, \"type\": \"barpolar\"}], \"carpet\": [{\"aaxis\": {\"endlinecolor\": \"#2a3f5f\", \"gridcolor\": \"white\", \"linecolor\": \"white\", \"minorgridcolor\": \"white\", \"startlinecolor\": \"#2a3f5f\"}, \"baxis\": {\"endlinecolor\": \"#2a3f5f\", \"gridcolor\": \"white\", \"linecolor\": \"white\", \"minorgridcolor\": \"white\", \"startlinecolor\": \"#2a3f5f\"}, \"type\": \"carpet\"}], \"choropleth\": [{\"colorbar\": {\"outlinewidth\": 0, \"ticks\": \"\"}, \"type\": \"choropleth\"}], \"contour\": [{\"colorbar\": {\"outlinewidth\": 0, \"ticks\": \"\"}, \"colorscale\": [[0.0, \"#0d0887\"], [0.1111111111111111, \"#46039f\"], [0.2222222222222222, \"#7201a8\"], [0.3333333333333333, \"#9c179e\"], [0.4444444444444444, \"#bd3786\"], [0.5555555555555556, \"#d8576b\"], [0.6666666666666666, \"#ed7953\"], [0.7777777777777778, \"#fb9f3a\"], [0.8888888888888888, \"#fdca26\"], [1.0, \"#f0f921\"]], \"type\": \"contour\"}], \"contourcarpet\": [{\"colorbar\": {\"outlinewidth\": 0, \"ticks\": \"\"}, \"type\": \"contourcarpet\"}], \"heatmap\": [{\"colorbar\": {\"outlinewidth\": 0, \"ticks\": \"\"}, \"colorscale\": [[0.0, \"#0d0887\"], [0.1111111111111111, \"#46039f\"], [0.2222222222222222, \"#7201a8\"], [0.3333333333333333, \"#9c179e\"], [0.4444444444444444, \"#bd3786\"], [0.5555555555555556, \"#d8576b\"], [0.6666666666666666, \"#ed7953\"], [0.7777777777777778, \"#fb9f3a\"], [0.8888888888888888, \"#fdca26\"], [1.0, \"#f0f921\"]], \"type\": \"heatmap\"}], \"heatmapgl\": [{\"colorbar\": {\"outlinewidth\": 0, \"ticks\": \"\"}, \"colorscale\": [[0.0, \"#0d0887\"], [0.1111111111111111, \"#46039f\"], [0.2222222222222222, \"#7201a8\"], [0.3333333333333333, \"#9c179e\"], [0.4444444444444444, \"#bd3786\"], [0.5555555555555556, \"#d8576b\"], [0.6666666666666666, \"#ed7953\"], [0.7777777777777778, \"#fb9f3a\"], [0.8888888888888888, \"#fdca26\"], [1.0, \"#f0f921\"]], \"type\": \"heatmapgl\"}], \"histogram\": [{\"marker\": {\"colorbar\": {\"outlinewidth\": 0, \"ticks\": \"\"}}, \"type\": \"histogram\"}], \"histogram2d\": [{\"colorbar\": {\"outlinewidth\": 0, \"ticks\": \"\"}, \"colorscale\": [[0.0, \"#0d0887\"], [0.1111111111111111, \"#46039f\"], [0.2222222222222222, \"#7201a8\"], [0.3333333333333333, \"#9c179e\"], [0.4444444444444444, \"#bd3786\"], [0.5555555555555556, \"#d8576b\"], [0.6666666666666666, \"#ed7953\"], [0.7777777777777778, \"#fb9f3a\"], [0.8888888888888888, \"#fdca26\"], [1.0, \"#f0f921\"]], \"type\": \"histogram2d\"}], \"histogram2dcontour\": [{\"colorbar\": {\"outlinewidth\": 0, \"ticks\": \"\"}, \"colorscale\": [[0.0, \"#0d0887\"], [0.1111111111111111, \"#46039f\"], [0.2222222222222222, \"#7201a8\"], [0.3333333333333333, \"#9c179e\"], [0.4444444444444444, \"#bd3786\"], [0.5555555555555556, \"#d8576b\"], [0.6666666666666666, \"#ed7953\"], [0.7777777777777778, \"#fb9f3a\"], [0.8888888888888888, \"#fdca26\"], [1.0, \"#f0f921\"]], \"type\": \"histogram2dcontour\"}], \"mesh3d\": [{\"colorbar\": {\"outlinewidth\": 0, \"ticks\": \"\"}, \"type\": \"mesh3d\"}], \"parcoords\": [{\"line\": {\"colorbar\": {\"outlinewidth\": 0, \"ticks\": \"\"}}, \"type\": \"parcoords\"}], \"scatter\": [{\"marker\": {\"colorbar\": {\"outlinewidth\": 0, \"ticks\": \"\"}}, \"type\": \"scatter\"}], \"scatter3d\": [{\"line\": {\"colorbar\": {\"outlinewidth\": 0, \"ticks\": \"\"}}, \"marker\": {\"colorbar\": {\"outlinewidth\": 0, \"ticks\": \"\"}}, \"type\": \"scatter3d\"}], \"scattercarpet\": [{\"marker\": {\"colorbar\": {\"outlinewidth\": 0, \"ticks\": \"\"}}, \"type\": \"scattercarpet\"}], \"scattergeo\": [{\"marker\": {\"colorbar\": {\"outlinewidth\": 0, \"ticks\": \"\"}}, \"type\": \"scattergeo\"}], \"scattergl\": [{\"marker\": {\"colorbar\": {\"outlinewidth\": 0, \"ticks\": \"\"}}, \"type\": \"scattergl\"}], \"scattermapbox\": [{\"marker\": {\"colorbar\": {\"outlinewidth\": 0, \"ticks\": \"\"}}, \"type\": \"scattermapbox\"}], \"scatterpolar\": [{\"marker\": {\"colorbar\": {\"outlinewidth\": 0, \"ticks\": \"\"}}, \"type\": \"scatterpolar\"}], \"scatterpolargl\": [{\"marker\": {\"colorbar\": {\"outlinewidth\": 0, \"ticks\": \"\"}}, \"type\": \"scatterpolargl\"}], \"scatterternary\": [{\"marker\": {\"colorbar\": {\"outlinewidth\": 0, \"ticks\": \"\"}}, \"type\": \"scatterternary\"}], \"surface\": [{\"colorbar\": {\"outlinewidth\": 0, \"ticks\": \"\"}, \"colorscale\": [[0.0, \"#0d0887\"], [0.1111111111111111, \"#46039f\"], [0.2222222222222222, \"#7201a8\"], [0.3333333333333333, \"#9c179e\"], [0.4444444444444444, \"#bd3786\"], [0.5555555555555556, \"#d8576b\"], [0.6666666666666666, \"#ed7953\"], [0.7777777777777778, \"#fb9f3a\"], [0.8888888888888888, \"#fdca26\"], [1.0, \"#f0f921\"]], \"type\": \"surface\"}], \"table\": [{\"cells\": {\"fill\": {\"color\": \"#EBF0F8\"}, \"line\": {\"color\": \"white\"}}, \"header\": {\"fill\": {\"color\": \"#C8D4E3\"}, \"line\": {\"color\": \"white\"}}, \"type\": \"table\"}]}, \"layout\": {\"annotationdefaults\": {\"arrowcolor\": \"#2a3f5f\", \"arrowhead\": 0, \"arrowwidth\": 1}, \"colorscale\": {\"diverging\": [[0, \"#8e0152\"], [0.1, \"#c51b7d\"], [0.2, \"#de77ae\"], [0.3, \"#f1b6da\"], [0.4, \"#fde0ef\"], [0.5, \"#f7f7f7\"], [0.6, \"#e6f5d0\"], [0.7, \"#b8e186\"], [0.8, \"#7fbc41\"], [0.9, \"#4d9221\"], [1, \"#276419\"]], \"sequential\": [[0.0, \"#0d0887\"], [0.1111111111111111, \"#46039f\"], [0.2222222222222222, \"#7201a8\"], [0.3333333333333333, \"#9c179e\"], [0.4444444444444444, \"#bd3786\"], [0.5555555555555556, \"#d8576b\"], [0.6666666666666666, \"#ed7953\"], [0.7777777777777778, \"#fb9f3a\"], [0.8888888888888888, \"#fdca26\"], [1.0, \"#f0f921\"]], \"sequentialminus\": [[0.0, \"#0d0887\"], [0.1111111111111111, \"#46039f\"], [0.2222222222222222, \"#7201a8\"], [0.3333333333333333, \"#9c179e\"], [0.4444444444444444, \"#bd3786\"], [0.5555555555555556, \"#d8576b\"], [0.6666666666666666, \"#ed7953\"], [0.7777777777777778, \"#fb9f3a\"], [0.8888888888888888, \"#fdca26\"], [1.0, \"#f0f921\"]]}, \"colorway\": [\"#636efa\", \"#EF553B\", \"#00cc96\", \"#ab63fa\", \"#FFA15A\", \"#19d3f3\", \"#FF6692\", \"#B6E880\", \"#FF97FF\", \"#FECB52\"], \"font\": {\"color\": \"#2a3f5f\"}, \"geo\": {\"bgcolor\": \"white\", \"lakecolor\": \"white\", \"landcolor\": \"#E5ECF6\", \"showlakes\": true, \"showland\": true, \"subunitcolor\": \"white\"}, \"hoverlabel\": {\"align\": \"left\"}, \"hovermode\": \"closest\", \"mapbox\": {\"style\": \"light\"}, \"paper_bgcolor\": \"white\", \"plot_bgcolor\": \"#E5ECF6\", \"polar\": {\"angularaxis\": {\"gridcolor\": \"white\", \"linecolor\": \"white\", \"ticks\": \"\"}, \"bgcolor\": \"#E5ECF6\", \"radialaxis\": {\"gridcolor\": \"white\", \"linecolor\": \"white\", \"ticks\": \"\"}}, \"scene\": {\"xaxis\": {\"backgroundcolor\": \"#E5ECF6\", \"gridcolor\": \"white\", \"gridwidth\": 2, \"linecolor\": \"white\", \"showbackground\": true, \"ticks\": \"\", \"zerolinecolor\": \"white\"}, \"yaxis\": {\"backgroundcolor\": \"#E5ECF6\", \"gridcolor\": \"white\", \"gridwidth\": 2, \"linecolor\": \"white\", \"showbackground\": true, \"ticks\": \"\", \"zerolinecolor\": \"white\"}, \"zaxis\": {\"backgroundcolor\": \"#E5ECF6\", \"gridcolor\": \"white\", \"gridwidth\": 2, \"linecolor\": \"white\", \"showbackground\": true, \"ticks\": \"\", \"zerolinecolor\": \"white\"}}, \"shapedefaults\": {\"line\": {\"color\": \"#2a3f5f\"}}, \"ternary\": {\"aaxis\": {\"gridcolor\": \"white\", \"linecolor\": \"white\", \"ticks\": \"\"}, \"baxis\": {\"gridcolor\": \"white\", \"linecolor\": \"white\", \"ticks\": \"\"}, \"bgcolor\": \"#E5ECF6\", \"caxis\": {\"gridcolor\": \"white\", \"linecolor\": \"white\", \"ticks\": \"\"}}, \"title\": {\"x\": 0.05}, \"xaxis\": {\"automargin\": true, \"gridcolor\": \"white\", \"linecolor\": \"white\", \"ticks\": \"\", \"zerolinecolor\": \"white\", \"zerolinewidth\": 2}, \"yaxis\": {\"automargin\": true, \"gridcolor\": \"white\", \"linecolor\": \"white\", \"ticks\": \"\", \"zerolinecolor\": \"white\", \"zerolinewidth\": 2}}}},\n",
       "                        {\"responsive\": true}\n",
       "                    ).then(function(){\n",
       "                            \n",
       "var gd = document.getElementById('a4e3f34b-58af-43db-ab37-3097f461ac56');\n",
       "var x = new MutationObserver(function (mutations, observer) {{\n",
       "        var display = window.getComputedStyle(gd).display;\n",
       "        if (!display || display === 'none') {{\n",
       "            console.log([gd, 'removed!']);\n",
       "            Plotly.purge(gd);\n",
       "            observer.disconnect();\n",
       "        }}\n",
       "}});\n",
       "\n",
       "// Listen for the removal of the full notebook cells\n",
       "var notebookContainer = gd.closest('#notebook-container');\n",
       "if (notebookContainer) {{\n",
       "    x.observe(notebookContainer, {childList: true});\n",
       "}}\n",
       "\n",
       "// Listen for the clearing of the current output cell\n",
       "var outputEl = gd.closest('.output');\n",
       "if (outputEl) {{\n",
       "    x.observe(outputEl, {childList: true});\n",
       "}}\n",
       "\n",
       "                        })\n",
       "                };\n",
       "                });\n",
       "            </script>\n",
       "        </div>"
      ]
     },
     "metadata": {},
     "output_type": "display_data"
    }
   ],
   "source": [
    "# import graph objects as \"go\"\n",
    "import plotly.graph_objs as go\n",
    "\n",
    "# Création de la première trace \n",
    "trace1 = go.Bar(\n",
    "                x = df2.index,\n",
    "                y = df2.income,\n",
    "                name = \"income\",\n",
    "                marker = dict(color = 'rgba(255, 174, 255, 0.5)',\n",
    "                             line = dict(color ='rgb(0,0,0)',width =1.5)),\n",
    "                text = df2.income)\n",
    "\n",
    "# Création de la deuxième trace \n",
    "trace2 = go.Bar(\n",
    "                x = df2.index,\n",
    "                y = df2.international,\n",
    "                name = \"international\",\n",
    "                marker = dict(color = 'rgba(255, 255, 128, 0.5)',\n",
    "                              line = dict(color = 'rgb(0,0,0)',width = 1.5)),\n",
    "                text = df2.international)\n",
    "data = [trace1, trace2]\n",
    "layout = go.Layout(barmode = \"relative\")\n",
    "fig = go.Figure(data = data, layout = layout)\n",
    "iplot(fig)"
   ]
  }
 ],
 "metadata": {
  "kernelspec": {
   "display_name": "Python 3",
   "language": "python",
   "name": "python3"
  },
  "language_info": {
   "codemirror_mode": {
    "name": "ipython",
    "version": 3
   },
   "file_extension": ".py",
   "mimetype": "text/x-python",
   "name": "python",
   "nbconvert_exporter": "python",
   "pygments_lexer": "ipython3",
   "version": "3.8.5"
  }
 },
 "nbformat": 4,
 "nbformat_minor": 4
}
